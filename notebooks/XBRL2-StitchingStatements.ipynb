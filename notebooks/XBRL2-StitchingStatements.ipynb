{
 "cells": [
  {
   "metadata": {},
   "cell_type": "markdown",
   "source": [
    "# Stitching Statements\n",
    "\n",
    "[![Open In Colab](https://colab.research.google.com/assets/colab-badge.svg)](http://colab.research.google.com/github/dgunning/edgartools/blob/main/notebooks/XBRL2-StitchingStatements.ipynb)"
   ],
   "id": "f489bd28c4cb21fe"
  },
  {
   "metadata": {},
   "cell_type": "code",
   "outputs": [],
   "execution_count": null,
   "source": "!pip install edgartools",
   "id": "42562996c4a195d0"
  },
  {
   "metadata": {
    "ExecuteTime": {
     "end_time": "2025-03-21T21:54:03.841923Z",
     "start_time": "2025-03-21T21:54:03.825626Z"
    }
   },
   "cell_type": "code",
   "outputs": [
    {
     "data": {
      "text/plain": [
       "'AMD'"
      ]
     },
     "execution_count": 1,
     "metadata": {},
     "output_type": "execute_result"
    }
   ],
   "execution_count": 1,
   "source": [
    "from edgar import *\n",
    "from edgar.xbrl2 import *\n",
    "from edgar.reference.tickers import popular_us_stocks\n",
    "\n",
    "set_identity(\"philfoden@england.co.uk\")\n",
    "\n",
    "stocks = popular_us_stocks()\n",
    "tickers = stocks.Ticker.to_list()\n",
    "\n",
    "tickers[7]\n"
   ],
   "id": "f0fc4ed5b0e56d35"
  },
  {
   "metadata": {
    "ExecuteTime": {
     "end_time": "2025-03-21T22:20:56.782610Z",
     "start_time": "2025-03-21T22:20:49.561190Z"
    }
   },
   "cell_type": "code",
   "outputs": [
    {
     "data": {
      "text/plain": [],
      "text/html": [
       "<pre style=\"white-space:pre;overflow-x:auto;line-height:normal;font-family:Menlo,'DejaVu Sans Mono',consolas,'Courier New',monospace\"></pre>\n"
      ]
     },
     "metadata": {},
     "output_type": "display_data"
    },
    {
     "data": {
      "text/plain": [
       "\u001B[38;5;244m╭─\u001B[0m\u001B[38;5;244m──────────────────────────────────────\u001B[0m\u001B[38;5;244m 🏢 \u001B[0m\u001B[1;32mJOHNSON & JOHNSON\u001B[0m\u001B[38;5;244m \u001B[0m\u001B[2;38;5;244m[200406] \u001B[0m\u001B[1;33mJNJ\u001B[0m\u001B[38;5;244m \u001B[0m\u001B[38;5;244m──────────────────────────────────────\u001B[0m\u001B[38;5;244m─╮\u001B[0m\n",
       "\u001B[38;5;244m│\u001B[0m                                                                                                                 \u001B[38;5;244m│\u001B[0m\n",
       "\u001B[38;5;244m│\u001B[0m                                                                                                                 \u001B[38;5;244m│\u001B[0m\n",
       "\u001B[38;5;244m│\u001B[0m \u001B[38;5;244m╭─\u001B[0m\u001B[38;5;244m────────────────────────────────────────────────\u001B[0m\u001B[38;5;244m 📋 Entity \u001B[0m\u001B[38;5;244m────────────────────────────────────────────────\u001B[0m\u001B[38;5;244m─╮\u001B[0m \u001B[38;5;244m│\u001B[0m\n",
       "\u001B[38;5;244m│\u001B[0m \u001B[38;5;244m│\u001B[0m                                                                                                             \u001B[38;5;244m│\u001B[0m \u001B[38;5;244m│\u001B[0m\n",
       "\u001B[38;5;244m│\u001B[0m \u001B[38;5;244m│\u001B[0m   CIK   \u001B[1;38;5;32m200406\u001B[0m   Type   \u001B[1;33mOperating\u001B[0m   \u001B[1;33m○\u001B[0m                                                                       \u001B[38;5;244m│\u001B[0m \u001B[38;5;244m│\u001B[0m\n",
       "\u001B[38;5;244m│\u001B[0m \u001B[38;5;244m│\u001B[0m                                                                                                             \u001B[38;5;244m│\u001B[0m \u001B[38;5;244m│\u001B[0m\n",
       "\u001B[38;5;244m│\u001B[0m \u001B[38;5;244m│\u001B[0m                                                                                                             \u001B[38;5;244m│\u001B[0m \u001B[38;5;244m│\u001B[0m\n",
       "\u001B[38;5;244m│\u001B[0m \u001B[38;5;244m│\u001B[0m  \u001B[1m \u001B[0m\u001B[1mCategory               \u001B[0m\u001B[1m \u001B[0m \u001B[1m \u001B[0m\u001B[1mIndustry                         \u001B[0m\u001B[1m \u001B[0m \u001B[1m \u001B[0m\u001B[1mFiscal Year End\u001B[0m\u001B[1m \u001B[0m                            \u001B[38;5;244m│\u001B[0m \u001B[38;5;244m│\u001B[0m\n",
       "\u001B[38;5;244m│\u001B[0m \u001B[38;5;244m│\u001B[0m  ───────────────────────────────────────────────────────────────────────────────                            \u001B[38;5;244m│\u001B[0m \u001B[38;5;244m│\u001B[0m\n",
       "\u001B[38;5;244m│\u001B[0m \u001B[38;5;244m│\u001B[0m   Large accelerated filer   2834: Pharmaceutical Preparations   Dec 29                                      \u001B[38;5;244m│\u001B[0m \u001B[38;5;244m│\u001B[0m\n",
       "\u001B[38;5;244m│\u001B[0m \u001B[38;5;244m│\u001B[0m                                                                                                             \u001B[38;5;244m│\u001B[0m \u001B[38;5;244m│\u001B[0m\n",
       "\u001B[38;5;244m│\u001B[0m \u001B[38;5;244m╰─────────────────────────────────────────────────────────────────────────────────────────────────────────────╯\u001B[0m \u001B[38;5;244m│\u001B[0m\n",
       "\u001B[38;5;244m│\u001B[0m \u001B[38;5;244m╭─\u001B[0m\u001B[38;5;244m──────────────────────────────────────────────\u001B[0m\u001B[38;5;244m 📈 Exchanges \u001B[0m\u001B[38;5;244m───────────────────────────────────────────────\u001B[0m\u001B[38;5;244m─╮\u001B[0m \u001B[38;5;244m│\u001B[0m\n",
       "\u001B[38;5;244m│\u001B[0m \u001B[38;5;244m│\u001B[0m                                                                                                             \u001B[38;5;244m│\u001B[0m \u001B[38;5;244m│\u001B[0m\n",
       "\u001B[38;5;244m│\u001B[0m \u001B[38;5;244m│\u001B[0m  \u001B[1m \u001B[0m\u001B[1mExchange\u001B[0m\u001B[1m \u001B[0m \u001B[1m \u001B[0m\u001B[1mSymbol\u001B[0m\u001B[1m \u001B[0m                                                                                        \u001B[38;5;244m│\u001B[0m \u001B[38;5;244m│\u001B[0m\n",
       "\u001B[38;5;244m│\u001B[0m \u001B[38;5;244m│\u001B[0m  ───────────────────                                                                                        \u001B[38;5;244m│\u001B[0m \u001B[38;5;244m│\u001B[0m\n",
       "\u001B[38;5;244m│\u001B[0m \u001B[38;5;244m│\u001B[0m   NYSE      \u001B[1;33m \u001B[0m\u001B[1;33mJNJ   \u001B[0m\u001B[1;33m \u001B[0m                                                                                        \u001B[38;5;244m│\u001B[0m \u001B[38;5;244m│\u001B[0m\n",
       "\u001B[38;5;244m│\u001B[0m \u001B[38;5;244m│\u001B[0m                                                                                                             \u001B[38;5;244m│\u001B[0m \u001B[38;5;244m│\u001B[0m\n",
       "\u001B[38;5;244m│\u001B[0m \u001B[38;5;244m╰─────────────────────────────────────────────────────────────────────────────────────────────────────────────╯\u001B[0m \u001B[38;5;244m│\u001B[0m\n",
       "\u001B[38;5;244m│\u001B[0m \u001B[38;5;244m╭─\u001B[0m\u001B[38;5;244m──\u001B[0m\u001B[38;5;244m 🏢 Business Address \u001B[0m\u001B[38;5;244m──\u001B[0m\u001B[38;5;244m─╮\u001B[0m         \u001B[38;5;244m╭─\u001B[0m\u001B[38;5;244m──\u001B[0m\u001B[38;5;244m 📫 Mailing Address \u001B[0m\u001B[38;5;244m───\u001B[0m\u001B[38;5;244m─╮\u001B[0m         \u001B[38;5;244m╭─\u001B[0m\u001B[38;5;244m 📞 Contact Information \u001B[0m\u001B[38;5;244m─\u001B[0m\u001B[38;5;244m─╮\u001B[0m       \u001B[38;5;244m│\u001B[0m\n",
       "\u001B[38;5;244m│\u001B[0m \u001B[38;5;244m│\u001B[0m ONE JOHNSON & JOHNSON PLZ \u001B[38;5;244m│\u001B[0m         \u001B[38;5;244m│\u001B[0m ONE JOHNSON & JOHNSON PLZ \u001B[38;5;244m│\u001B[0m         \u001B[38;5;244m│\u001B[0m                           \u001B[38;5;244m│\u001B[0m       \u001B[38;5;244m│\u001B[0m\n",
       "\u001B[38;5;244m│\u001B[0m \u001B[38;5;244m│\u001B[0m NEW BRUNSWICK, NJ 08933   \u001B[38;5;244m│\u001B[0m         \u001B[38;5;244m│\u001B[0m NEW BRUNSWICK, NJ 08933   \u001B[38;5;244m│\u001B[0m         \u001B[38;5;244m│\u001B[0m  \u001B[1;38;5;249m \u001B[0m\u001B[1;38;5;249mPhone\u001B[0m\u001B[1;38;5;249m \u001B[0m  732-524-2455    \u001B[38;5;244m│\u001B[0m       \u001B[38;5;244m│\u001B[0m\n",
       "\u001B[38;5;244m│\u001B[0m \u001B[38;5;244m╰───────────────────────────╯\u001B[0m         \u001B[38;5;244m╰───────────────────────────╯\u001B[0m         \u001B[38;5;244m│\u001B[0m                           \u001B[38;5;244m│\u001B[0m       \u001B[38;5;244m│\u001B[0m\n",
       "\u001B[38;5;244m│\u001B[0m                                                                             \u001B[38;5;244m╰───────────────────────────╯\u001B[0m       \u001B[38;5;244m│\u001B[0m\n",
       "\u001B[38;5;244m│\u001B[0m \u001B[38;5;244m╭─\u001B[0m\u001B[38;5;244m─────────────────────────────────────────────\u001B[0m\u001B[38;5;244m 📜 Former Names \u001B[0m\u001B[38;5;244m─────────────────────────────────────────────\u001B[0m\u001B[38;5;244m─╮\u001B[0m \u001B[38;5;244m│\u001B[0m\n",
       "\u001B[38;5;244m│\u001B[0m \u001B[38;5;244m│\u001B[0m                                                                                                             \u001B[38;5;244m│\u001B[0m \u001B[38;5;244m│\u001B[0m\n",
       "\u001B[38;5;244m│\u001B[0m \u001B[38;5;244m│\u001B[0m   \u001B[3mJOHNSON & JOHNSON ET AL\u001B[0m   October 1995 to January 1996                                                    \u001B[38;5;244m│\u001B[0m \u001B[38;5;244m│\u001B[0m\n",
       "\u001B[38;5;244m│\u001B[0m \u001B[38;5;244m│\u001B[0m                                                                                                             \u001B[38;5;244m│\u001B[0m \u001B[38;5;244m│\u001B[0m\n",
       "\u001B[38;5;244m│\u001B[0m \u001B[38;5;244m╰─────────────────────────────────────────────────────────────────────────────────────────────────────────────╯\u001B[0m \u001B[38;5;244m│\u001B[0m\n",
       "\u001B[38;5;244m╰─\u001B[0m\u001B[38;5;244m───────────────────────────────────────────────\u001B[0m\u001B[38;5;244m SEC Entity Data \u001B[0m\u001B[38;5;244m───────────────────────────────────────────────\u001B[0m\u001B[38;5;244m─╯\u001B[0m"
      ]
     },
     "execution_count": 25,
     "metadata": {},
     "output_type": "execute_result"
    }
   ],
   "execution_count": 25,
   "source": [
    "c = Company(tickers[11])\n",
    "filings = c.get_filings(form=\"10-K\").head(5)\n",
    "xbrls = XBRLS.from_filings(filings)\n",
    "c"
   ],
   "id": "a48ff3c6b072b667"
  },
  {
   "metadata": {
    "ExecuteTime": {
     "end_time": "2025-03-21T22:20:57.042784Z",
     "start_time": "2025-03-21T22:20:57.010316Z"
    }
   },
   "cell_type": "code",
   "outputs": [
    {
     "data": {
      "text/plain": [],
      "text/html": [
       "<pre style=\"white-space:pre;overflow-x:auto;line-height:normal;font-family:Menlo,'DejaVu Sans Mono',consolas,'Courier New',monospace\"></pre>\n"
      ]
     },
     "metadata": {},
     "output_type": "display_data"
    },
    {
     "data": {
      "text/plain": [
       "\u001B[3m                             CONSOLIDATED BALANCE SHEET (5-Period View) (Standardized)                             \u001B[0m\n",
       "\u001B[3m                            \u001B[0m\u001B[1;3mFiscal Year Ended\u001B[0m\u001B[3m \u001B[0m\u001B[3m(In millions, except shares in thousands)\u001B[0m\u001B[3m                            \u001B[0m\n",
       "                                                                                                                   \n",
       " \u001B[1m \u001B[0m\u001B[1mLine Item                              \u001B[0m\u001B[1m \u001B[0m \u001B[1m \u001B[0m\u001B[1mDec 29, 2024\u001B[0m\u001B[1m \u001B[0m \u001B[1m \u001B[0m\u001B[1mDec 31, 2023\u001B[0m\u001B[1m \u001B[0m \u001B[1m \u001B[0m\u001B[1mJan 1, 2023\u001B[0m\u001B[1m \u001B[0m \u001B[1m \u001B[0m\u001B[1mJan 2, 2022\u001B[0m\u001B[1m \u001B[0m \u001B[1m \u001B[0m\u001B[1mJan 3, 2021\u001B[0m\u001B[1m \u001B[0m \n",
       " ───────────────────────────────────────────────────────────────────────────────────────────────────────────────── \n",
       "    Common Stock Shares Issued                                                                          3,119,843  \n",
       "    Common Stock, Par or Stated Value Per                                                                      $0  \n",
       "  Share                                                                                                            \n",
       "    Common Stock, Shares Authorized                                                                        $4,320  \n",
       "    Preferred stock, shares authorized                                                                         $2  \n",
       "  (in shares)                                                                                                      \n",
       "      Commitments and Contingencies                                                                                \n",
       "      Commitments and Contingencies (Note                                                                          \n",
       "  19)                                                                                                              \n",
       "      Deferred Tax Assets                        $10,461         $9,279        $9,123       $10,223        $8,534  \n",
       "      Deferred taxes on income                    $2,448         $3,193                                            \n",
       "      Deferred taxes on income (Note 8)                                        $6,374        $7,487        $7,214  \n",
       "      Employee related obligations              $(7,255)       $(7,149)                                            \n",
       "      Employee related obligations (Notes                                    $(6,767)      $(8,898)     $(10,771)  \n",
       "  9 and 10)                                                                                                        \n",
       "      Goodwill                                   $44,200        $36,558       $45,231       $35,246       $36,393  \n",
       "      Intangible Assets                          $37,618        $34,175       $48,325       $46,392       $53,402  \n",
       "      Long-Term Debt                             $30,651        $25,881       $26,888       $29,985       $32,635  \n",
       "      Long-term taxes payable                       $390         $2,881                                            \n",
       "      Long-term taxes payable (Note 1)                                         $4,306        $5,713        $6,559  \n",
       "      Noncurrent assets of discontinued                                \u0014                                            \n",
       "  operations                                                                                                       \n",
       "      Noncurrent liabilities of                                        \u0014                                            \n",
       "  discontinued operations                                                                                          \n",
       "      Other Assets                               $11,414        $14,153        $9,602       $10,216        $6,562  \n",
       "      Other Liabilities                          $17,549        $13,398       $10,437       $10,686       $11,944  \n",
       "      Property, Plant and Equipment              $20,518        $19,898       $19,803       $18,962       $18,766  \n",
       "      Total Assets                              $180,104       $167,558      $187,378      $182,018      $174,894  \n",
       "      Total Liabilities                         $108,614        $98,784      $110,574      $107,995      $111,616  \n",
       "      Total Liabilities and Stockholders'       $180,104       $167,558      $187,378      $182,018      $174,894  \n",
       "  Equity                                                                                                           \n",
       "        Accounts Payable                         $10,311         $9,632       $11,703       $11,055        $9,505  \n",
       "        Accounts Receivable                      $14,842        $14,873       $16,160       $15,283       $13,576  \n",
       "        Accrued Liabilities                       $4,126         $3,993        $3,328        $3,586        $3,484  \n",
       "        Accrued rebates, returns and             $17,580        $16,001       $14,417       $12,095       $11,513  \n",
       "  promotions                                                                                                       \n",
       "        Accrued taxes on income                   $3,772         $2,993                                            \n",
       "        Accrued taxes on income (Note 8)                                       $2,127        $1,112        $1,392  \n",
       "        Accumulated Other Comprehensive        $(11,741)      $(12,527)     $(12,967)     $(13,058)     $(15,242)  \n",
       "  Income/Loss                                                                                                      \n",
       "        Assets held for sale (Note 18)                                                                           \u0014  \n",
       "        Cash and Cash Equivalents                $24,105        $21,859       $14,127       $14,487       $13,985  \n",
       "        Common Stock                              $3,120         $3,120        $3,120        $3,120        $3,120  \n",
       "        Current liabilities of                                         \u0014                                            \n",
       "  discontinued operations                                                                                          \n",
       "        Inventory                                $12,444        $11,181       $12,483       $10,387        $9,344  \n",
       "        Marketable Securities                       $417         $1,068        $9,392       $17,121                \n",
       "        Marketable securities (Notes 1                                                                    $11,200  \n",
       "  and 2)                                                                                                           \n",
       "        Preferred Stock                                 \u0014               \u0014              \u0014              \u0014              \u0014  \n",
       "        Prepaid Expenses                          $4,085         $4,514        $3,132        $3,701        $3,132  \n",
       "        Retained Earnings                       $155,791       $153,843      $128,345      $123,060      $113,890  \n",
       "        Short-Term Debt                           $5,983         $3,451       $12,771        $3,766        $2,631  \n",
       "        Stockholders' Equity before                                          $118,498      $113,122      $101,768  \n",
       "  Treasury Stock                                                                                                   \n",
       "        Total Current Assets                     $55,893        $53,495       $55,294       $60,979       $51,237  \n",
       "        Total Current Liabilities                $50,321        $46,282       $55,802       $45,226       $42,493  \n",
       "        Total Stockholders' Equity               $71,490        $68,774       $76,804       $74,023       $63,278  \n",
       "        Total current assets of                                        \u0014                                            \n",
       "  discontinued operations                                                                                          \n",
       "        Treasury Stock Common Value            $(75,680)      $(75,662)     $(41,694)     $(39,099)     $(38,490)  \n",
       "                                                                                                                   "
      ]
     },
     "execution_count": 27,
     "metadata": {},
     "output_type": "execute_result"
    }
   ],
   "execution_count": 27,
   "source": [
    "balance_sheet = xbrls.statements.balance_sheet()\n",
    "balance_sheet"
   ],
   "id": "74d3c8ce26ee4be4"
  },
  {
   "metadata": {
    "ExecuteTime": {
     "end_time": "2025-03-21T22:07:54.869516Z",
     "start_time": "2025-03-21T22:07:52.681578Z"
    }
   },
   "cell_type": "code",
   "outputs": [
    {
     "data": {
      "text/plain": [
       "                                             concept  \\\n",
       "0     us-gaap:PreferredStockParOrStatedValuePerShare   \n",
       "1     us-gaap:PreferredStockParOrStatedValuePerShare   \n",
       "2             us-gaap:PreferredStockSharesAuthorized   \n",
       "3             us-gaap:PreferredStockSharesAuthorized   \n",
       "4                 us-gaap:PreferredStockSharesIssued   \n",
       "5                 us-gaap:PreferredStockSharesIssued   \n",
       "6            us-gaap:PreferredStockSharesOutstanding   \n",
       "7            us-gaap:PreferredStockSharesOutstanding   \n",
       "8  us-gaap:ConvertiblePreferredStockNonredeemable...   \n",
       "9  us-gaap:ConvertiblePreferredStockNonredeemable...   \n",
       "\n",
       "                                               label      value  \\\n",
       "0     Preferred Stock, Par or Stated Value Per Share      0.001   \n",
       "1     Preferred Stock, Par or Stated Value Per Share      0.001   \n",
       "2     Preferred stock, shares authorized (in shares)  100000000   \n",
       "3     Preferred stock, shares authorized (in shares)  100000000   \n",
       "4         Preferred stock, shares issued (in shares)          0   \n",
       "5         Preferred stock, shares issued (in shares)          0   \n",
       "6    Preferred stock, shares outstanding (in shares)          0   \n",
       "7    Preferred stock, shares outstanding (in shares)          0   \n",
       "8  Preferred stock, $0.001 par value per share, 1...          0   \n",
       "9  Preferred stock, $0.001 par value per share, 1...          0   \n",
       "\n",
       "           period_key  \n",
       "0  instant_2022-12-31  \n",
       "1  instant_2021-12-31  \n",
       "2  instant_2022-12-31  \n",
       "3  instant_2021-12-31  \n",
       "4  instant_2022-12-31  \n",
       "5  instant_2021-12-31  \n",
       "6  instant_2021-12-31  \n",
       "7  instant_2022-12-31  \n",
       "8  instant_2021-12-31  \n",
       "9  instant_2022-12-31  "
      ],
      "text/html": [
       "<div>\n",
       "<style scoped>\n",
       "    .dataframe tbody tr th:only-of-type {\n",
       "        vertical-align: middle;\n",
       "    }\n",
       "\n",
       "    .dataframe tbody tr th {\n",
       "        vertical-align: top;\n",
       "    }\n",
       "\n",
       "    .dataframe thead th {\n",
       "        text-align: right;\n",
       "    }\n",
       "</style>\n",
       "<table border=\"1\" class=\"dataframe\">\n",
       "  <thead>\n",
       "    <tr style=\"text-align: right;\">\n",
       "      <th></th>\n",
       "      <th>concept</th>\n",
       "      <th>label</th>\n",
       "      <th>value</th>\n",
       "      <th>period_key</th>\n",
       "    </tr>\n",
       "  </thead>\n",
       "  <tbody>\n",
       "    <tr>\n",
       "      <th>0</th>\n",
       "      <td>us-gaap:PreferredStockParOrStatedValuePerShare</td>\n",
       "      <td>Preferred Stock, Par or Stated Value Per Share</td>\n",
       "      <td>0.001</td>\n",
       "      <td>instant_2022-12-31</td>\n",
       "    </tr>\n",
       "    <tr>\n",
       "      <th>1</th>\n",
       "      <td>us-gaap:PreferredStockParOrStatedValuePerShare</td>\n",
       "      <td>Preferred Stock, Par or Stated Value Per Share</td>\n",
       "      <td>0.001</td>\n",
       "      <td>instant_2021-12-31</td>\n",
       "    </tr>\n",
       "    <tr>\n",
       "      <th>2</th>\n",
       "      <td>us-gaap:PreferredStockSharesAuthorized</td>\n",
       "      <td>Preferred stock, shares authorized (in shares)</td>\n",
       "      <td>100000000</td>\n",
       "      <td>instant_2022-12-31</td>\n",
       "    </tr>\n",
       "    <tr>\n",
       "      <th>3</th>\n",
       "      <td>us-gaap:PreferredStockSharesAuthorized</td>\n",
       "      <td>Preferred stock, shares authorized (in shares)</td>\n",
       "      <td>100000000</td>\n",
       "      <td>instant_2021-12-31</td>\n",
       "    </tr>\n",
       "    <tr>\n",
       "      <th>4</th>\n",
       "      <td>us-gaap:PreferredStockSharesIssued</td>\n",
       "      <td>Preferred stock, shares issued (in shares)</td>\n",
       "      <td>0</td>\n",
       "      <td>instant_2022-12-31</td>\n",
       "    </tr>\n",
       "    <tr>\n",
       "      <th>5</th>\n",
       "      <td>us-gaap:PreferredStockSharesIssued</td>\n",
       "      <td>Preferred stock, shares issued (in shares)</td>\n",
       "      <td>0</td>\n",
       "      <td>instant_2021-12-31</td>\n",
       "    </tr>\n",
       "    <tr>\n",
       "      <th>6</th>\n",
       "      <td>us-gaap:PreferredStockSharesOutstanding</td>\n",
       "      <td>Preferred stock, shares outstanding (in shares)</td>\n",
       "      <td>0</td>\n",
       "      <td>instant_2021-12-31</td>\n",
       "    </tr>\n",
       "    <tr>\n",
       "      <th>7</th>\n",
       "      <td>us-gaap:PreferredStockSharesOutstanding</td>\n",
       "      <td>Preferred stock, shares outstanding (in shares)</td>\n",
       "      <td>0</td>\n",
       "      <td>instant_2022-12-31</td>\n",
       "    </tr>\n",
       "    <tr>\n",
       "      <th>8</th>\n",
       "      <td>us-gaap:ConvertiblePreferredStockNonredeemable...</td>\n",
       "      <td>Preferred stock, $0.001 par value per share, 1...</td>\n",
       "      <td>0</td>\n",
       "      <td>instant_2021-12-31</td>\n",
       "    </tr>\n",
       "    <tr>\n",
       "      <th>9</th>\n",
       "      <td>us-gaap:ConvertiblePreferredStockNonredeemable...</td>\n",
       "      <td>Preferred stock, $0.001 par value per share, 1...</td>\n",
       "      <td>0</td>\n",
       "      <td>instant_2022-12-31</td>\n",
       "    </tr>\n",
       "  </tbody>\n",
       "</table>\n",
       "</div>"
      ]
     },
     "execution_count": 20,
     "metadata": {},
     "output_type": "execute_result"
    }
   ],
   "execution_count": 20,
   "source": [
    "\n",
    "def show_concept(filing):\n",
    "    xbrl = XBRL.from_filing(filing)\n",
    "    return (xbrl.facts_view.query()\n",
    "      .by_text(\"Preferred stock\")\n",
    "      #.by_concept(\"us-gaap:LongTermInvestments\")\n",
    "      #.by_value(300000000000)\n",
    "      .by_statement_type(\"BalanceSheet\")\n",
    "      .to_dataframe(\"concept\", \"label\", \"value\", \"period_key\")\n",
    "    )\n",
    "show_concept(filings[2])"
   ],
   "id": "c43883ad6b2cf3d9"
  },
  {
   "metadata": {},
   "cell_type": "markdown",
   "source": "## Quarterly Stitching",
   "id": "3721ac1f74676d49"
  },
  {
   "metadata": {
    "ExecuteTime": {
     "end_time": "2025-03-21T22:21:17.150827Z",
     "start_time": "2025-03-21T22:21:11.850727Z"
    }
   },
   "cell_type": "code",
   "outputs": [
    {
     "data": {
      "text/plain": [],
      "text/html": [
       "<pre style=\"white-space:pre;overflow-x:auto;line-height:normal;font-family:Menlo,'DejaVu Sans Mono',consolas,'Courier New',monospace\"></pre>\n"
      ]
     },
     "metadata": {},
     "output_type": "display_data"
    },
    {
     "data": {
      "text/plain": [
       "\u001B[3m                           CONSOLIDATED INCOME STATEMENT (5-Period View) (Standardized)                            \u001B[0m\n",
       "\u001B[3m                       \u001B[0m\u001B[1;3mThree Months Ended\u001B[0m\u001B[3m \u001B[0m\u001B[3m(In millions, except shares in scaled by 100,000)\u001B[0m\u001B[3m                        \u001B[0m\n",
       "                                                                                                                   \n",
       " \u001B[1m \u001B[0m\u001B[1mLine Item                             \u001B[0m\u001B[1m \u001B[0m \u001B[1m \u001B[0m\u001B[1mSep 29, 2024\u001B[0m\u001B[1m \u001B[0m \u001B[1m \u001B[0m\u001B[1mJun 30, 2024\u001B[0m\u001B[1m \u001B[0m \u001B[1m \u001B[0m\u001B[1mMar 31, 2024\u001B[0m\u001B[1m \u001B[0m \u001B[1m \u001B[0m\u001B[1mOct 1, 2023\u001B[0m\u001B[1m \u001B[0m \u001B[1m \u001B[0m\u001B[1mJul 2, 2023\u001B[0m\u001B[1m \u001B[0m \n",
       " ───────────────────────────────────────────────────────────────────────────────────────────────────────────────── \n",
       "    Cost of Revenue                            $(6,963)       $(6,869)       $(6,511)      $(6,606)      $(8,212)  \n",
       "    Cost of products sold percent to              $0.00          $0.00          $0.00         $0.00         $0.00  \n",
       "  sales                                                                                                            \n",
       "    Earnings before provision for taxes           $0.00          $0.00          $0.00         $0.00         $0.00  \n",
       "  on income percent to sales                                                                                       \n",
       "    Gross Profit                                $15,508        $15,578        $14,872       $14,745       $17,318  \n",
       "    Gross Profit Percent To Sales                 $0.00          $0.00          $0.00         $0.00         $0.00  \n",
       "    In-process research and development                \u0014           $194               \u0014          $206                \n",
       "  impairments                                                                                                      \n",
       "    In-process research and development                \u0014          $0.00               \u0014         $0.00                \n",
       "  percent to sales                                                                                                 \n",
       "    Income Before Tax                            $3,338         $5,748         $3,714        $5,217        $6,762  \n",
       "    Income Tax Expense                           $(644)       $(1,062)         $(459)        $(908)      $(1,618)  \n",
       "    Interest Expense                                                           $(155)        $(192)        $(346)  \n",
       "    Interest expense, net of portion             $(193)         $(270)                                             \n",
       "  capitalized                                                                                                      \n",
       "    Interest expense, net of portion              $0.00          $0.00          $0.00         $0.00         $0.00  \n",
       "  capitalized percent to sales                                                                                     \n",
       "    Interest income                                $292           $395           $364          $374          $369  \n",
       "    Interest income percent to sales            $(0.00)        $(0.00)        $(0.00)       $(0.00)       $(0.00)  \n",
       "    Net Income                                   $2,694         $4,686         $3,255       $26,028        $5,144  \n",
       "    Net earnings (loss) from continuing                                        $3,255                              \n",
       "  operations                                                                                                       \n",
       "    Net earnings (loss) from                                          \u0014                                             \n",
       "  discontinued operations, net of tax                                                                              \n",
       "  (Note 13)                                                                                                        \n",
       "    Net earnings from continuing                 $2,694         $4,686                       $4,309                \n",
       "  operations                                                                                                       \n",
       "    Net earnings from continuing                  $0.00          $0.00          $0.00         $0.00                \n",
       "  operations percent of sales                                                                                      \n",
       "    Net earnings from discontinued                                                   \u0014                              \n",
       "  operations, net of tax                                                                                           \n",
       "    Net earnings from discontinued                                                          $21,719                \n",
       "  operations, net of tax (Note 12)                                                                                 \n",
       "    Net earnings from discontinued                     \u0014                                                            \n",
       "  operations, net of tax (Note 13)                                                                                 \n",
       "    Net earnings percent to sales                                                                           $0.00  \n",
       "    Other (income) expense, net                $(1,798)         $(653)       $(2,404)        $(499)                \n",
       "    Other (income) expense, net percent           $0.00          $0.00          $0.00         $0.00       $(0.00)  \n",
       "  to sales                                                                                                         \n",
       "    Other (income) expense, net*                                                                              $60  \n",
       "    Provision for taxes on income                 $0.00          $0.00          $0.00         $0.00         $0.00  \n",
       "  percent to sales                                                                                                 \n",
       "    Research and Development Expense           $(4,952)       $(3,440)       $(3,542)      $(3,447)      $(3,829)  \n",
       "    Research and development expense              $0.00          $0.00          $0.00         $0.00         $0.00  \n",
       "  percent to sales                                                                                                 \n",
       "    Restructuring                                                                            $(158)        $(145)  \n",
       "    Restructuring (Note 12)                       $(41)            $13         $(164)                              \n",
       "    Restructuring charge percent to               $0.00               \u0014          $0.00         $0.00         $0.00  \n",
       "  sales                                                                                                            \n",
       "    Revenue                                     $22,471        $22,447        $21,383       $21,351       $25,530  \n",
       "    Sales to customers percent to sales           $0.00          $0.00          $0.00         $0.00         $0.00  \n",
       "    Selling marketing and administrative          $0.00          $0.00          $0.00         $0.00         $0.00  \n",
       "  expenses percent to sales                                                                                        \n",
       "    Selling, General and Administrative        $(5,478)       $(5,681)       $(5,257)      $(5,400)      $(6,665)  \n",
       "  Expense                                                                                                          \n",
       "      Continuing operations - basic (in           $0.00          $0.00          $0.00         $0.00                \n",
       "  dollars per share)                                                                                               \n",
       "      Continuing operations - diluted             $0.00          $0.00          $0.00         $0.00                \n",
       "  (in dollars per share)                                                                                           \n",
       "      Discontinued operations - basic                  \u0014               \u0014               \u0014         $0.00                \n",
       "  (in dollars per share)                                                                                           \n",
       "      Discontinued operations - diluted                \u0014               \u0014               \u0014         $0.00                \n",
       "  (in dollars per share)                                                                                           \n",
       "      Earnings Per Share                           0.00           0.00           0.00          0.00          0.00  \n",
       "      Earnings Per Share (Diluted)                 0.00           0.00           0.00          0.00          0.00  \n",
       "      Shares Outstanding                         24,072         24,068         24,082        25,229        25,984  \n",
       "      Shares Outstanding (Diluted)               24,279         24,220         24,301        25,497        26,257  \n",
       "                                                                                                                   "
      ]
     },
     "execution_count": 28,
     "metadata": {},
     "output_type": "execute_result"
    }
   ],
   "execution_count": 28,
   "source": [
    "filings = c.get_filings(form=\"10-Q\").head(5)\n",
    "xbrls = XBRLS.from_filings(filings)\n",
    "xbrls.statements.income_statement()"
   ],
   "id": "5138f51030f6fe44"
  }
 ],
 "metadata": {
  "kernelspec": {
   "display_name": "Python 3",
   "language": "python",
   "name": "python3"
  },
  "language_info": {
   "codemirror_mode": {
    "name": "ipython",
    "version": 2
   },
   "file_extension": ".py",
   "mimetype": "text/x-python",
   "name": "python",
   "nbconvert_exporter": "python",
   "pygments_lexer": "ipython2",
   "version": "2.7.6"
  }
 },
 "nbformat": 4,
 "nbformat_minor": 5
}
