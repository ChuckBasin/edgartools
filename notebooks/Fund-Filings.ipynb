{
 "cells": [
  {
   "metadata": {},
   "cell_type": "markdown",
   "source": [
    "# Getting Funds\n",
    "\n",
    "This notebook shows how to get funds and fund filings from the SEC using edgartools\n",
    "\n",
    "**[Open this notebook in Google Colab](http://colab.research.google.com/github/dgunning/edgartools/blob/main/notebooks/Fund-Filings.ipynb)**"
   ],
   "id": "771de14dae02bf45"
  },
  {
   "metadata": {},
   "cell_type": "markdown",
   "source": "## Install edgartools",
   "id": "bdf5bb6c78997b25"
  },
  {
   "metadata": {
    "ExecuteTime": {
     "end_time": "2025-03-13T12:15:37.037247Z",
     "start_time": "2025-03-13T12:15:36.488809Z"
    }
   },
   "cell_type": "code",
   "source": "!pip install edgartools",
   "id": "ea2b775b84cc4aad",
   "outputs": [
    {
     "name": "stdout",
     "output_type": "stream",
     "text": [
      "Requirement already satisfied: edgartools in /Users/dwight/Library/Application Support/hatch/env/virtual/edgartools/jY6urB4z/edgartools/lib/python3.11/site-packages (3.13.1)\r\n",
      "Requirement already satisfied: beautifulsoup4>=4.10.0 in /Users/dwight/Library/Application Support/hatch/env/virtual/edgartools/jY6urB4z/edgartools/lib/python3.11/site-packages (from edgartools) (4.12.3)\r\n",
      "Requirement already satisfied: fastcore>=1.5.29 in /Users/dwight/Library/Application Support/hatch/env/virtual/edgartools/jY6urB4z/edgartools/lib/python3.11/site-packages (from edgartools) (1.5.38)\r\n",
      "Requirement already satisfied: httpx>=0.25.0 in /Users/dwight/Library/Application Support/hatch/env/virtual/edgartools/jY6urB4z/edgartools/lib/python3.11/site-packages (from edgartools) (0.27.0)\r\n",
      "Requirement already satisfied: humanize>=4.0.0 in /Users/dwight/Library/Application Support/hatch/env/virtual/edgartools/jY6urB4z/edgartools/lib/python3.11/site-packages (from edgartools) (4.9.0)\r\n",
      "Requirement already satisfied: lxml>=4.4 in /Users/dwight/Library/Application Support/hatch/env/virtual/edgartools/jY6urB4z/edgartools/lib/python3.11/site-packages (from edgartools) (5.2.2)\r\n",
      "Requirement already satisfied: nest-asyncio>=1.5.1 in /Users/dwight/Library/Application Support/hatch/env/virtual/edgartools/jY6urB4z/edgartools/lib/python3.11/site-packages (from edgartools) (1.6.0)\r\n",
      "Requirement already satisfied: orjson>=3.6.0 in /Users/dwight/Library/Application Support/hatch/env/virtual/edgartools/jY6urB4z/edgartools/lib/python3.11/site-packages (from edgartools) (3.10.3)\r\n",
      "Requirement already satisfied: pandas>=2.0.0 in /Users/dwight/Library/Application Support/hatch/env/virtual/edgartools/jY6urB4z/edgartools/lib/python3.11/site-packages (from edgartools) (2.2.2)\r\n",
      "Requirement already satisfied: pyarrow>=14.0.0 in /Users/dwight/Library/Application Support/hatch/env/virtual/edgartools/jY6urB4z/edgartools/lib/python3.11/site-packages (from edgartools) (19.0.0)\r\n",
      "Requirement already satisfied: pydantic>=2.0.0 in /Users/dwight/Library/Application Support/hatch/env/virtual/edgartools/jY6urB4z/edgartools/lib/python3.11/site-packages (from edgartools) (2.7.1)\r\n",
      "Requirement already satisfied: rank-bm25>=0.2.1 in /Users/dwight/Library/Application Support/hatch/env/virtual/edgartools/jY6urB4z/edgartools/lib/python3.11/site-packages (from edgartools) (0.2.1)\r\n",
      "Requirement already satisfied: rapidfuzz>=3.5.0 in /Users/dwight/Library/Application Support/hatch/env/virtual/edgartools/jY6urB4z/edgartools/lib/python3.11/site-packages (from edgartools) (3.9.4)\r\n",
      "Requirement already satisfied: rich>=13.0.0 in /Users/dwight/Library/Application Support/hatch/env/virtual/edgartools/jY6urB4z/edgartools/lib/python3.11/site-packages (from edgartools) (13.7.1)\r\n",
      "Requirement already satisfied: stamina>=24.2.0 in /Users/dwight/Library/Application Support/hatch/env/virtual/edgartools/jY6urB4z/edgartools/lib/python3.11/site-packages (from edgartools) (24.3.0)\r\n",
      "Requirement already satisfied: tabulate>=0.9.0 in /Users/dwight/Library/Application Support/hatch/env/virtual/edgartools/jY6urB4z/edgartools/lib/python3.11/site-packages (from edgartools) (0.9.0)\r\n",
      "Requirement already satisfied: textdistance>=4.5.0 in /Users/dwight/Library/Application Support/hatch/env/virtual/edgartools/jY6urB4z/edgartools/lib/python3.11/site-packages (from edgartools) (4.6.2)\r\n",
      "Requirement already satisfied: tqdm>=4.62.0 in /Users/dwight/Library/Application Support/hatch/env/virtual/edgartools/jY6urB4z/edgartools/lib/python3.11/site-packages (from edgartools) (4.62.0)\r\n",
      "Requirement already satisfied: unidecode>=1.2.0 in /Users/dwight/Library/Application Support/hatch/env/virtual/edgartools/jY6urB4z/edgartools/lib/python3.11/site-packages (from edgartools) (1.3.8)\r\n",
      "Requirement already satisfied: soupsieve>1.2 in /Users/dwight/Library/Application Support/hatch/env/virtual/edgartools/jY6urB4z/edgartools/lib/python3.11/site-packages (from beautifulsoup4>=4.10.0->edgartools) (2.5)\r\n",
      "Requirement already satisfied: packaging in /Users/dwight/Library/Application Support/hatch/env/virtual/edgartools/jY6urB4z/edgartools/lib/python3.11/site-packages (from fastcore>=1.5.29->edgartools) (24.2)\r\n",
      "Requirement already satisfied: anyio in /Users/dwight/Library/Application Support/hatch/env/virtual/edgartools/jY6urB4z/edgartools/lib/python3.11/site-packages (from httpx>=0.25.0->edgartools) (4.4.0)\r\n",
      "Requirement already satisfied: certifi in /Users/dwight/Library/Application Support/hatch/env/virtual/edgartools/jY6urB4z/edgartools/lib/python3.11/site-packages (from httpx>=0.25.0->edgartools) (2024.2.2)\r\n",
      "Requirement already satisfied: httpcore==1.* in /Users/dwight/Library/Application Support/hatch/env/virtual/edgartools/jY6urB4z/edgartools/lib/python3.11/site-packages (from httpx>=0.25.0->edgartools) (1.0.5)\r\n",
      "Requirement already satisfied: idna in /Users/dwight/Library/Application Support/hatch/env/virtual/edgartools/jY6urB4z/edgartools/lib/python3.11/site-packages (from httpx>=0.25.0->edgartools) (3.7)\r\n",
      "Requirement already satisfied: sniffio in /Users/dwight/Library/Application Support/hatch/env/virtual/edgartools/jY6urB4z/edgartools/lib/python3.11/site-packages (from httpx>=0.25.0->edgartools) (1.3.1)\r\n",
      "Requirement already satisfied: h11<0.15,>=0.13 in /Users/dwight/Library/Application Support/hatch/env/virtual/edgartools/jY6urB4z/edgartools/lib/python3.11/site-packages (from httpcore==1.*->httpx>=0.25.0->edgartools) (0.14.0)\r\n",
      "Requirement already satisfied: numpy>=1.23.2 in /Users/dwight/Library/Application Support/hatch/env/virtual/edgartools/jY6urB4z/edgartools/lib/python3.11/site-packages (from pandas>=2.0.0->edgartools) (1.26.4)\r\n",
      "Requirement already satisfied: python-dateutil>=2.8.2 in /Users/dwight/Library/Application Support/hatch/env/virtual/edgartools/jY6urB4z/edgartools/lib/python3.11/site-packages (from pandas>=2.0.0->edgartools) (2.9.0.post0)\r\n",
      "Requirement already satisfied: pytz>=2020.1 in /Users/dwight/Library/Application Support/hatch/env/virtual/edgartools/jY6urB4z/edgartools/lib/python3.11/site-packages (from pandas>=2.0.0->edgartools) (2024.1)\r\n",
      "Requirement already satisfied: tzdata>=2022.7 in /Users/dwight/Library/Application Support/hatch/env/virtual/edgartools/jY6urB4z/edgartools/lib/python3.11/site-packages (from pandas>=2.0.0->edgartools) (2024.1)\r\n",
      "Requirement already satisfied: annotated-types>=0.4.0 in /Users/dwight/Library/Application Support/hatch/env/virtual/edgartools/jY6urB4z/edgartools/lib/python3.11/site-packages (from pydantic>=2.0.0->edgartools) (0.7.0)\r\n",
      "Requirement already satisfied: pydantic-core==2.18.2 in /Users/dwight/Library/Application Support/hatch/env/virtual/edgartools/jY6urB4z/edgartools/lib/python3.11/site-packages (from pydantic>=2.0.0->edgartools) (2.18.2)\r\n",
      "Requirement already satisfied: typing-extensions>=4.6.1 in /Users/dwight/Library/Application Support/hatch/env/virtual/edgartools/jY6urB4z/edgartools/lib/python3.11/site-packages (from pydantic>=2.0.0->edgartools) (4.12.0)\r\n",
      "Requirement already satisfied: markdown-it-py>=2.2.0 in /Users/dwight/Library/Application Support/hatch/env/virtual/edgartools/jY6urB4z/edgartools/lib/python3.11/site-packages (from rich>=13.0.0->edgartools) (3.0.0)\r\n",
      "Requirement already satisfied: pygments<3.0.0,>=2.13.0 in /Users/dwight/Library/Application Support/hatch/env/virtual/edgartools/jY6urB4z/edgartools/lib/python3.11/site-packages (from rich>=13.0.0->edgartools) (2.18.0)\r\n",
      "Requirement already satisfied: tenacity in /Users/dwight/Library/Application Support/hatch/env/virtual/edgartools/jY6urB4z/edgartools/lib/python3.11/site-packages (from stamina>=24.2.0->edgartools) (9.0.0)\r\n",
      "Requirement already satisfied: mdurl~=0.1 in /Users/dwight/Library/Application Support/hatch/env/virtual/edgartools/jY6urB4z/edgartools/lib/python3.11/site-packages (from markdown-it-py>=2.2.0->rich>=13.0.0->edgartools) (0.1.2)\r\n",
      "Requirement already satisfied: six>=1.5 in /Users/dwight/Library/Application Support/hatch/env/virtual/edgartools/jY6urB4z/edgartools/lib/python3.11/site-packages (from python-dateutil>=2.8.2->pandas>=2.0.0->edgartools) (1.16.0)\r\n"
     ]
    }
   ],
   "execution_count": 5
  },
  {
   "metadata": {},
   "cell_type": "markdown",
   "source": "## Import edgar and set your identity",
   "id": "774b2989c5880487"
  },
  {
   "metadata": {
    "ExecuteTime": {
     "end_time": "2025-03-13T12:15:34.127822Z",
     "start_time": "2025-03-13T12:15:34.124850Z"
    }
   },
   "cell_type": "code",
   "source": [
    "from edgar import *\n",
    "set_identity(\"demo@funds.com\")"
   ],
   "id": "6bbbb0298c2f8eee",
   "outputs": [],
   "execution_count": 4
  },
  {
   "metadata": {},
   "cell_type": "markdown",
   "source": "## Get a fund by its ticker",
   "id": "ae2ae4eab97ee653"
  },
  {
   "metadata": {
    "ExecuteTime": {
     "end_time": "2025-03-13T12:16:43.100519Z",
     "start_time": "2025-03-13T12:16:43.094596Z"
    }
   },
   "cell_type": "code",
   "source": [
    "fund = get_fund(\"CAAPX\")\n",
    "fund"
   ],
   "id": "1e7a4b335e72eea4",
   "outputs": [
    {
     "data": {
      "text/plain": [],
      "text/html": [
       "<pre style=\"white-space:pre;overflow-x:auto;line-height:normal;font-family:Menlo,'DejaVu Sans Mono',consolas,'Courier New',monospace\"></pre>\n"
      ]
     },
     "metadata": {},
     "output_type": "display_data"
    },
    {
     "data": {
      "text/plain": [
       "╭─────────────────────────┬───────────────────────────┬────────────┬────────╮\n",
       "│\u001B[1m \u001B[0m\u001B[1mFund                   \u001B[0m\u001B[1m \u001B[0m│\u001B[1m \u001B[0m\u001B[1mClass                    \u001B[0m\u001B[1m \u001B[0m│\u001B[1m \u001B[0m\u001B[1mSeries Id \u001B[0m\u001B[1m \u001B[0m│\u001B[1m \u001B[0m\u001B[1mTicker\u001B[0m\u001B[1m \u001B[0m│\n",
       "├─────────────────────────┼───────────────────────────┼────────────┼────────┤\n",
       "│\u001B[1m \u001B[0m\u001B[1mAriel Appreciation Fund\u001B[0m\u001B[1m \u001B[0m│\u001B[1m \u001B[0m\u001B[1mInvestor Class C000013707\u001B[0m\u001B[1m \u001B[0m│\u001B[1m \u001B[0m\u001B[1mS000005025\u001B[0m\u001B[1m \u001B[0m│\u001B[1m \u001B[0m\u001B[1mCAAPX \u001B[0m\u001B[1m \u001B[0m│\n",
       "╰─────────────────────────┴───────────────────────────┴────────────┴────────╯"
      ]
     },
     "execution_count": 7,
     "metadata": {},
     "output_type": "execute_result"
    }
   ],
   "execution_count": 7
  },
  {
   "metadata": {},
   "cell_type": "markdown",
   "source": "## Get the fund's filings",
   "id": "ca8e384493b0a021"
  },
  {
   "metadata": {
    "ExecuteTime": {
     "end_time": "2025-03-13T12:17:10.737013Z",
     "start_time": "2025-03-13T12:17:08.348904Z"
    }
   },
   "cell_type": "code",
   "source": "fund.filings",
   "id": "c59efc0a5e48cffa",
   "outputs": [
    {
     "data": {
      "text/plain": [],
      "text/html": [
       "<pre style=\"white-space:pre;overflow-x:auto;line-height:normal;font-family:Menlo,'DejaVu Sans Mono',consolas,'Courier New',monospace\"></pre>\n"
      ]
     },
     "metadata": {},
     "output_type": "display_data"
    },
    {
     "data": {
      "text/plain": [
       "\u001B[1;38;5;245m╭─\u001B[0m\u001B[1;38;5;245m─────────────────────────────────────────────────\u001B[0m\u001B[1;38;5;245m SEC Filings \u001B[0m\u001B[1;38;5;245m─────────────────────────────────────────────────\u001B[0m\u001B[1;38;5;245m─╮\u001B[0m\n",
       "\u001B[1;38;5;245m│\u001B[0m                                                                                                                 \u001B[1;38;5;245m│\u001B[0m\n",
       "\u001B[1;38;5;245m│\u001B[0m   \u001B[1m \u001B[0m\u001B[1mForm   \u001B[0m\u001B[1m \u001B[0m \u001B[1m \u001B[0m\u001B[1m       CIK\u001B[0m\u001B[1m \u001B[0m \u001B[1m \u001B[0m\u001B[1mTicker\u001B[0m\u001B[1m \u001B[0m \u001B[1m \u001B[0m\u001B[1mCompany                               \u001B[0m\u001B[1m \u001B[0m \u001B[1m \u001B[0m\u001B[1mFiling Date\u001B[0m\u001B[1m \u001B[0m \u001B[1m \u001B[0m\u001B[1mAccession Number   \u001B[0m\u001B[1m \u001B[0m  \u001B[1;38;5;245m│\u001B[0m\n",
       "\u001B[1;38;5;245m│\u001B[0m  ─────────────────────────────────────────────────────────────────────────────────────────────────────────────  \u001B[1;38;5;245m│\u001B[0m\n",
       "\u001B[1;38;5;245m│\u001B[0m    NPORT-P  \u001B[2m \u001B[0m\u001B[2m    798365\u001B[0m\u001B[2m \u001B[0m \u001B[33m \u001B[0m\u001B[33m      \u001B[0m\u001B[33m \u001B[0m \u001B[1;32m \u001B[0m\u001B[1;32mARIEL INVESTMENT TRUST                \u001B[0m\u001B[1;32m \u001B[0m  2025-02-20   \u001B[2m \u001B[0m\u001B[2m0001145549-25-0076…\u001B[0m\u001B[2m \u001B[0m  \u001B[1;38;5;245m│\u001B[0m\n",
       "\u001B[1;38;5;245m│\u001B[0m   \u001B[1m \u001B[0m\u001B[1m497J   \u001B[0m\u001B[1m \u001B[0m \u001B[1;2m \u001B[0m\u001B[1;2m    798365\u001B[0m\u001B[1;2m \u001B[0m \u001B[1;33m \u001B[0m\u001B[1;33m      \u001B[0m\u001B[1;33m \u001B[0m \u001B[1;32m \u001B[0m\u001B[1;32mARIEL INVESTMENT TRUST                \u001B[0m\u001B[1;32m \u001B[0m \u001B[1m \u001B[0m\u001B[1m2025-02-03 \u001B[0m\u001B[1m \u001B[0m \u001B[1;2m \u001B[0m\u001B[1;2m0001193125-25-0191…\u001B[0m\u001B[1;2m \u001B[0m  \u001B[1;38;5;245m│\u001B[0m\n",
       "\u001B[1;38;5;245m│\u001B[0m    497K     \u001B[2m \u001B[0m\u001B[2m    798365\u001B[0m\u001B[2m \u001B[0m \u001B[33m \u001B[0m\u001B[33m      \u001B[0m\u001B[33m \u001B[0m \u001B[1;32m \u001B[0m\u001B[1;32mARIEL INVESTMENT TRUST                \u001B[0m\u001B[1;32m \u001B[0m  2025-01-31   \u001B[2m \u001B[0m\u001B[2m0001193125-25-0174…\u001B[0m\u001B[2m \u001B[0m  \u001B[1;38;5;245m│\u001B[0m\n",
       "\u001B[1;38;5;245m│\u001B[0m   \u001B[1m \u001B[0m\u001B[1m485BPOS\u001B[0m\u001B[1m \u001B[0m \u001B[1;2m \u001B[0m\u001B[1;2m    798365\u001B[0m\u001B[1;2m \u001B[0m \u001B[1;33m \u001B[0m\u001B[1;33m      \u001B[0m\u001B[1;33m \u001B[0m \u001B[1;32m \u001B[0m\u001B[1;32mARIEL INVESTMENT TRUST                \u001B[0m\u001B[1;32m \u001B[0m \u001B[1m \u001B[0m\u001B[1m2025-01-28 \u001B[0m\u001B[1m \u001B[0m \u001B[1;2m \u001B[0m\u001B[1;2m0001193125-25-0144…\u001B[0m\u001B[1;2m \u001B[0m  \u001B[1;38;5;245m│\u001B[0m\n",
       "\u001B[1;38;5;245m│\u001B[0m    24F-2NT  \u001B[2m \u001B[0m\u001B[2m    798365\u001B[0m\u001B[2m \u001B[0m \u001B[33m \u001B[0m\u001B[33m      \u001B[0m\u001B[33m \u001B[0m \u001B[1;32m \u001B[0m\u001B[1;32mARIEL INVESTMENT TRUST                \u001B[0m\u001B[1;32m \u001B[0m  2024-12-16   \u001B[2m \u001B[0m\u001B[2m0001683863-24-0091…\u001B[0m\u001B[2m \u001B[0m  \u001B[1;38;5;245m│\u001B[0m\n",
       "\u001B[1;38;5;245m│\u001B[0m   \u001B[1m \u001B[0m\u001B[1mN-CEN  \u001B[0m\u001B[1m \u001B[0m \u001B[1;2m \u001B[0m\u001B[1;2m    798365\u001B[0m\u001B[1;2m \u001B[0m \u001B[1;33m \u001B[0m\u001B[1;33m      \u001B[0m\u001B[1;33m \u001B[0m \u001B[1;32m \u001B[0m\u001B[1;32mARIEL INVESTMENT TRUST                \u001B[0m\u001B[1;32m \u001B[0m \u001B[1m \u001B[0m\u001B[1m2024-12-12 \u001B[0m\u001B[1m \u001B[0m \u001B[1;2m \u001B[0m\u001B[1;2m0001145549-24-0786…\u001B[0m\u001B[1;2m \u001B[0m  \u001B[1;38;5;245m│\u001B[0m\n",
       "\u001B[1;38;5;245m│\u001B[0m    N-CSR    \u001B[2m \u001B[0m\u001B[2m    798365\u001B[0m\u001B[2m \u001B[0m \u001B[33m \u001B[0m\u001B[33m      \u001B[0m\u001B[33m \u001B[0m \u001B[1;32m \u001B[0m\u001B[1;32mARIEL INVESTMENT TRUST                \u001B[0m\u001B[1;32m \u001B[0m  2024-11-20   \u001B[2m \u001B[0m\u001B[2m0000898430-24-0011…\u001B[0m\u001B[2m \u001B[0m  \u001B[1;38;5;245m│\u001B[0m\n",
       "\u001B[1;38;5;245m│\u001B[0m   \u001B[1m \u001B[0m\u001B[1mNPORT-P\u001B[0m\u001B[1m \u001B[0m \u001B[1;2m \u001B[0m\u001B[1;2m    798365\u001B[0m\u001B[1;2m \u001B[0m \u001B[1;33m \u001B[0m\u001B[1;33m      \u001B[0m\u001B[1;33m \u001B[0m \u001B[1;32m \u001B[0m\u001B[1;32mARIEL INVESTMENT TRUST                \u001B[0m\u001B[1;32m \u001B[0m \u001B[1m \u001B[0m\u001B[1m2024-11-18 \u001B[0m\u001B[1m \u001B[0m \u001B[1;2m \u001B[0m\u001B[1;2m0001145549-24-0693…\u001B[0m\u001B[1;2m \u001B[0m  \u001B[1;38;5;245m│\u001B[0m\n",
       "\u001B[1;38;5;245m│\u001B[0m    497      \u001B[2m \u001B[0m\u001B[2m    798365\u001B[0m\u001B[2m \u001B[0m \u001B[33m \u001B[0m\u001B[33m      \u001B[0m\u001B[33m \u001B[0m \u001B[1;32m \u001B[0m\u001B[1;32mARIEL INVESTMENT TRUST                \u001B[0m\u001B[1;32m \u001B[0m  2024-10-01   \u001B[2m \u001B[0m\u001B[2m0001193125-24-2303…\u001B[0m\u001B[2m \u001B[0m  \u001B[1;38;5;245m│\u001B[0m\n",
       "\u001B[1;38;5;245m│\u001B[0m   \u001B[1m \u001B[0m\u001B[1mNPORT-P\u001B[0m\u001B[1m \u001B[0m \u001B[1;2m \u001B[0m\u001B[1;2m    798365\u001B[0m\u001B[1;2m \u001B[0m \u001B[1;33m \u001B[0m\u001B[1;33m      \u001B[0m\u001B[1;33m \u001B[0m \u001B[1;32m \u001B[0m\u001B[1;32mARIEL INVESTMENT TRUST                \u001B[0m\u001B[1;32m \u001B[0m \u001B[1m \u001B[0m\u001B[1m2024-08-26 \u001B[0m\u001B[1m \u001B[0m \u001B[1;2m \u001B[0m\u001B[1;2m0001145549-24-0498…\u001B[0m\u001B[1;2m \u001B[0m  \u001B[1;38;5;245m│\u001B[0m\n",
       "\u001B[1;38;5;245m│\u001B[0m    N-PX     \u001B[2m \u001B[0m\u001B[2m    798365\u001B[0m\u001B[2m \u001B[0m \u001B[33m \u001B[0m\u001B[33m      \u001B[0m\u001B[33m \u001B[0m \u001B[1;32m \u001B[0m\u001B[1;32mARIEL INVESTMENT TRUST                \u001B[0m\u001B[1;32m \u001B[0m  2024-08-21   \u001B[2m \u001B[0m\u001B[2m0001021408-24-0027…\u001B[0m\u001B[2m \u001B[0m  \u001B[1;38;5;245m│\u001B[0m\n",
       "\u001B[1;38;5;245m│\u001B[0m   \u001B[1m \u001B[0m\u001B[1mN-30B-2\u001B[0m\u001B[1m \u001B[0m \u001B[1;2m \u001B[0m\u001B[1;2m    798365\u001B[0m\u001B[1;2m \u001B[0m \u001B[1;33m \u001B[0m\u001B[1;33m      \u001B[0m\u001B[1;33m \u001B[0m \u001B[1;32m \u001B[0m\u001B[1;32mARIEL INVESTMENT TRUST                \u001B[0m\u001B[1;32m \u001B[0m \u001B[1m \u001B[0m\u001B[1m2024-08-09 \u001B[0m\u001B[1m \u001B[0m \u001B[1;2m \u001B[0m\u001B[1;2m0001193125-24-1977…\u001B[0m\u001B[1;2m \u001B[0m  \u001B[1;38;5;245m│\u001B[0m\n",
       "\u001B[1;38;5;245m│\u001B[0m    NPORT-P  \u001B[2m \u001B[0m\u001B[2m    798365\u001B[0m\u001B[2m \u001B[0m \u001B[33m \u001B[0m\u001B[33m      \u001B[0m\u001B[33m \u001B[0m \u001B[1;32m \u001B[0m\u001B[1;32mARIEL INVESTMENT TRUST                \u001B[0m\u001B[1;32m \u001B[0m  2024-05-28   \u001B[2m \u001B[0m\u001B[2m0001145549-24-0318…\u001B[0m\u001B[2m \u001B[0m  \u001B[1;38;5;245m│\u001B[0m\n",
       "\u001B[1;38;5;245m│\u001B[0m   \u001B[1m \u001B[0m\u001B[1mN-CSRS \u001B[0m\u001B[1m \u001B[0m \u001B[1;2m \u001B[0m\u001B[1;2m    798365\u001B[0m\u001B[1;2m \u001B[0m \u001B[1;33m \u001B[0m\u001B[1;33m      \u001B[0m\u001B[1;33m \u001B[0m \u001B[1;32m \u001B[0m\u001B[1;32mARIEL INVESTMENT TRUST                \u001B[0m\u001B[1;32m \u001B[0m \u001B[1m \u001B[0m\u001B[1m2024-05-24 \u001B[0m\u001B[1m \u001B[0m \u001B[1;2m \u001B[0m\u001B[1;2m0001193125-24-1466…\u001B[0m\u001B[1;2m \u001B[0m  \u001B[1;38;5;245m│\u001B[0m\n",
       "\u001B[1;38;5;245m│\u001B[0m    NPORT-P  \u001B[2m \u001B[0m\u001B[2m    798365\u001B[0m\u001B[2m \u001B[0m \u001B[33m \u001B[0m\u001B[33m      \u001B[0m\u001B[33m \u001B[0m \u001B[1;32m \u001B[0m\u001B[1;32mARIEL INVESTMENT TRUST                \u001B[0m\u001B[1;32m \u001B[0m  2024-02-26   \u001B[2m \u001B[0m\u001B[2m0001145549-24-0084…\u001B[0m\u001B[2m \u001B[0m  \u001B[1;38;5;245m│\u001B[0m\n",
       "\u001B[1;38;5;245m│\u001B[0m   \u001B[1m \u001B[0m\u001B[1mN-30B-2\u001B[0m\u001B[1m \u001B[0m \u001B[1;2m \u001B[0m\u001B[1;2m    798365\u001B[0m\u001B[1;2m \u001B[0m \u001B[1;33m \u001B[0m\u001B[1;33m      \u001B[0m\u001B[1;33m \u001B[0m \u001B[1;32m \u001B[0m\u001B[1;32mARIEL INVESTMENT TRUST                \u001B[0m\u001B[1;32m \u001B[0m \u001B[1m \u001B[0m\u001B[1m2024-02-15 \u001B[0m\u001B[1m \u001B[0m \u001B[1;2m \u001B[0m\u001B[1;2m0001193125-24-0375…\u001B[0m\u001B[1;2m \u001B[0m  \u001B[1;38;5;245m│\u001B[0m\n",
       "\u001B[1;38;5;245m│\u001B[0m    497J     \u001B[2m \u001B[0m\u001B[2m    798365\u001B[0m\u001B[2m \u001B[0m \u001B[33m \u001B[0m\u001B[33m      \u001B[0m\u001B[33m \u001B[0m \u001B[1;32m \u001B[0m\u001B[1;32mARIEL INVESTMENT TRUST                \u001B[0m\u001B[1;32m \u001B[0m  2024-02-02   \u001B[2m \u001B[0m\u001B[2m0001193125-24-0229…\u001B[0m\u001B[2m \u001B[0m  \u001B[1;38;5;245m│\u001B[0m\n",
       "\u001B[1;38;5;245m│\u001B[0m   \u001B[1m \u001B[0m\u001B[1m497K   \u001B[0m\u001B[1m \u001B[0m \u001B[1;2m \u001B[0m\u001B[1;2m    798365\u001B[0m\u001B[1;2m \u001B[0m \u001B[1;33m \u001B[0m\u001B[1;33m      \u001B[0m\u001B[1;33m \u001B[0m \u001B[1;32m \u001B[0m\u001B[1;32mARIEL INVESTMENT TRUST                \u001B[0m\u001B[1;32m \u001B[0m \u001B[1m \u001B[0m\u001B[1m2024-01-31 \u001B[0m\u001B[1m \u001B[0m \u001B[1;2m \u001B[0m\u001B[1;2m0001193125-24-0210…\u001B[0m\u001B[1;2m \u001B[0m  \u001B[1;38;5;245m│\u001B[0m\n",
       "\u001B[1;38;5;245m│\u001B[0m    485BPOS  \u001B[2m \u001B[0m\u001B[2m    798365\u001B[0m\u001B[2m \u001B[0m \u001B[33m \u001B[0m\u001B[33m      \u001B[0m\u001B[33m \u001B[0m \u001B[1;32m \u001B[0m\u001B[1;32mARIEL INVESTMENT TRUST                \u001B[0m\u001B[1;32m \u001B[0m  2024-01-26   \u001B[2m \u001B[0m\u001B[2m0001193125-24-0168…\u001B[0m\u001B[2m \u001B[0m  \u001B[1;38;5;245m│\u001B[0m\n",
       "\u001B[1;38;5;245m│\u001B[0m   \u001B[1m \u001B[0m\u001B[1m24F-2NT\u001B[0m\u001B[1m \u001B[0m \u001B[1;2m \u001B[0m\u001B[1;2m    798365\u001B[0m\u001B[1;2m \u001B[0m \u001B[1;33m \u001B[0m\u001B[1;33m      \u001B[0m\u001B[1;33m \u001B[0m \u001B[1;32m \u001B[0m\u001B[1;32mARIEL INVESTMENT TRUST                \u001B[0m\u001B[1;32m \u001B[0m \u001B[1m \u001B[0m\u001B[1m2023-12-27 \u001B[0m\u001B[1m \u001B[0m \u001B[1;2m \u001B[0m\u001B[1;2m0001683863-23-0087…\u001B[0m\u001B[1;2m \u001B[0m  \u001B[1;38;5;245m│\u001B[0m\n",
       "\u001B[1;38;5;245m│\u001B[0m    N-CEN    \u001B[2m \u001B[0m\u001B[2m    798365\u001B[0m\u001B[2m \u001B[0m \u001B[33m \u001B[0m\u001B[33m      \u001B[0m\u001B[33m \u001B[0m \u001B[1;32m \u001B[0m\u001B[1;32mARIEL INVESTMENT TRUST                \u001B[0m\u001B[1;32m \u001B[0m  2023-12-14   \u001B[2m \u001B[0m\u001B[2m0001145549-23-0760…\u001B[0m\u001B[2m \u001B[0m  \u001B[1;38;5;245m│\u001B[0m\n",
       "\u001B[1;38;5;245m│\u001B[0m   \u001B[1m \u001B[0m\u001B[1mN-CSR  \u001B[0m\u001B[1m \u001B[0m \u001B[1;2m \u001B[0m\u001B[1;2m    798365\u001B[0m\u001B[1;2m \u001B[0m \u001B[1;33m \u001B[0m\u001B[1;33m      \u001B[0m\u001B[1;33m \u001B[0m \u001B[1;32m \u001B[0m\u001B[1;32mARIEL INVESTMENT TRUST                \u001B[0m\u001B[1;32m \u001B[0m \u001B[1m \u001B[0m\u001B[1m2023-12-01 \u001B[0m\u001B[1m \u001B[0m \u001B[1;2m \u001B[0m\u001B[1;2m0001193125-23-2875…\u001B[0m\u001B[1;2m \u001B[0m  \u001B[1;38;5;245m│\u001B[0m\n",
       "\u001B[1;38;5;245m│\u001B[0m    NPORT-P  \u001B[2m \u001B[0m\u001B[2m    798365\u001B[0m\u001B[2m \u001B[0m \u001B[33m \u001B[0m\u001B[33m      \u001B[0m\u001B[33m \u001B[0m \u001B[1;32m \u001B[0m\u001B[1;32mARIEL INVESTMENT TRUST                \u001B[0m\u001B[1;32m \u001B[0m  2023-11-27   \u001B[2m \u001B[0m\u001B[2m0001145549-23-0717…\u001B[0m\u001B[2m \u001B[0m  \u001B[1;38;5;245m│\u001B[0m\n",
       "\u001B[1;38;5;245m│\u001B[0m   \u001B[1m \u001B[0m\u001B[1mNPORT-P\u001B[0m\u001B[1m \u001B[0m \u001B[1;2m \u001B[0m\u001B[1;2m    798365\u001B[0m\u001B[1;2m \u001B[0m \u001B[1;33m \u001B[0m\u001B[1;33m      \u001B[0m\u001B[1;33m \u001B[0m \u001B[1;32m \u001B[0m\u001B[1;32mARIEL INVESTMENT TRUST                \u001B[0m\u001B[1;32m \u001B[0m \u001B[1m \u001B[0m\u001B[1m2023-08-24 \u001B[0m\u001B[1m \u001B[0m \u001B[1;2m \u001B[0m\u001B[1;2m0001145549-23-0494…\u001B[0m\u001B[1;2m \u001B[0m  \u001B[1;38;5;245m│\u001B[0m\n",
       "\u001B[1;38;5;245m│\u001B[0m    N-PX     \u001B[2m \u001B[0m\u001B[2m    798365\u001B[0m\u001B[2m \u001B[0m \u001B[33m \u001B[0m\u001B[33m      \u001B[0m\u001B[33m \u001B[0m \u001B[1;32m \u001B[0m\u001B[1;32mARIEL INVESTMENT TRUST                \u001B[0m\u001B[1;32m \u001B[0m  2023-08-23   \u001B[2m \u001B[0m\u001B[2m0001193125-23-2192…\u001B[0m\u001B[2m \u001B[0m  \u001B[1;38;5;245m│\u001B[0m\n",
       "\u001B[1;38;5;245m│\u001B[0m   \u001B[1m \u001B[0m\u001B[1mN-30B-2\u001B[0m\u001B[1m \u001B[0m \u001B[1;2m \u001B[0m\u001B[1;2m    798365\u001B[0m\u001B[1;2m \u001B[0m \u001B[1;33m \u001B[0m\u001B[1;33m      \u001B[0m\u001B[1;33m \u001B[0m \u001B[1;32m \u001B[0m\u001B[1;32mARIEL INVESTMENT TRUST                \u001B[0m\u001B[1;32m \u001B[0m \u001B[1m \u001B[0m\u001B[1m2023-08-10 \u001B[0m\u001B[1m \u001B[0m \u001B[1;2m \u001B[0m\u001B[1;2m0001193125-23-2084…\u001B[0m\u001B[1;2m \u001B[0m  \u001B[1;38;5;245m│\u001B[0m\n",
       "\u001B[1;38;5;245m│\u001B[0m    NPORT-P  \u001B[2m \u001B[0m\u001B[2m    798365\u001B[0m\u001B[2m \u001B[0m \u001B[33m \u001B[0m\u001B[33m      \u001B[0m\u001B[33m \u001B[0m \u001B[1;32m \u001B[0m\u001B[1;32mARIEL INVESTMENT TRUST                \u001B[0m\u001B[1;32m \u001B[0m  2023-05-26   \u001B[2m \u001B[0m\u001B[2m0001145549-23-0337…\u001B[0m\u001B[2m \u001B[0m  \u001B[1;38;5;245m│\u001B[0m\n",
       "\u001B[1;38;5;245m│\u001B[0m   \u001B[1m \u001B[0m\u001B[1mN-CSRS \u001B[0m\u001B[1m \u001B[0m \u001B[1;2m \u001B[0m\u001B[1;2m    798365\u001B[0m\u001B[1;2m \u001B[0m \u001B[1;33m \u001B[0m\u001B[1;33m      \u001B[0m\u001B[1;33m \u001B[0m \u001B[1;32m \u001B[0m\u001B[1;32mARIEL INVESTMENT TRUST                \u001B[0m\u001B[1;32m \u001B[0m \u001B[1m \u001B[0m\u001B[1m2023-05-24 \u001B[0m\u001B[1m \u001B[0m \u001B[1;2m \u001B[0m\u001B[1;2m0001193125-23-1527…\u001B[0m\u001B[1;2m \u001B[0m  \u001B[1;38;5;245m│\u001B[0m\n",
       "\u001B[1;38;5;245m│\u001B[0m    497K     \u001B[2m \u001B[0m\u001B[2m    798365\u001B[0m\u001B[2m \u001B[0m \u001B[33m \u001B[0m\u001B[33m      \u001B[0m\u001B[33m \u001B[0m \u001B[1;32m \u001B[0m\u001B[1;32mARIEL INVESTMENT TRUST                \u001B[0m\u001B[1;32m \u001B[0m  2023-05-22   \u001B[2m \u001B[0m\u001B[2m0001193125-23-1506…\u001B[0m\u001B[2m \u001B[0m  \u001B[1;38;5;245m│\u001B[0m\n",
       "\u001B[1;38;5;245m│\u001B[0m   \u001B[1m \u001B[0m\u001B[1m497    \u001B[0m\u001B[1m \u001B[0m \u001B[1;2m \u001B[0m\u001B[1;2m    798365\u001B[0m\u001B[1;2m \u001B[0m \u001B[1;33m \u001B[0m\u001B[1;33m      \u001B[0m\u001B[1;33m \u001B[0m \u001B[1;32m \u001B[0m\u001B[1;32mARIEL INVESTMENT TRUST                \u001B[0m\u001B[1;32m \u001B[0m \u001B[1m \u001B[0m\u001B[1m2023-05-22 \u001B[0m\u001B[1m \u001B[0m \u001B[1;2m \u001B[0m\u001B[1;2m0001193125-23-1505…\u001B[0m\u001B[1;2m \u001B[0m  \u001B[1;38;5;245m│\u001B[0m\n",
       "\u001B[1;38;5;245m│\u001B[0m    NPORT-P  \u001B[2m \u001B[0m\u001B[2m    798365\u001B[0m\u001B[2m \u001B[0m \u001B[33m \u001B[0m\u001B[33m      \u001B[0m\u001B[33m \u001B[0m \u001B[1;32m \u001B[0m\u001B[1;32mARIEL INVESTMENT TRUST                \u001B[0m\u001B[1;32m \u001B[0m  2023-02-27   \u001B[2m \u001B[0m\u001B[2m0001145549-23-0103…\u001B[0m\u001B[2m \u001B[0m  \u001B[1;38;5;245m│\u001B[0m\n",
       "\u001B[1;38;5;245m│\u001B[0m   \u001B[1m \u001B[0m\u001B[1mN-30B-2\u001B[0m\u001B[1m \u001B[0m \u001B[1;2m \u001B[0m\u001B[1;2m    798365\u001B[0m\u001B[1;2m \u001B[0m \u001B[1;33m \u001B[0m\u001B[1;33m      \u001B[0m\u001B[1;33m \u001B[0m \u001B[1;32m \u001B[0m\u001B[1;32mARIEL INVESTMENT TRUST                \u001B[0m\u001B[1;32m \u001B[0m \u001B[1m \u001B[0m\u001B[1m2023-02-27 \u001B[0m\u001B[1m \u001B[0m \u001B[1;2m \u001B[0m\u001B[1;2m0001193125-23-0506…\u001B[0m\u001B[1;2m \u001B[0m  \u001B[1;38;5;245m│\u001B[0m\n",
       "\u001B[1;38;5;245m│\u001B[0m    497J     \u001B[2m \u001B[0m\u001B[2m    798365\u001B[0m\u001B[2m \u001B[0m \u001B[33m \u001B[0m\u001B[33m      \u001B[0m\u001B[33m \u001B[0m \u001B[1;32m \u001B[0m\u001B[1;32mARIEL INVESTMENT TRUST                \u001B[0m\u001B[1;32m \u001B[0m  2023-02-03   \u001B[2m \u001B[0m\u001B[2m0001193125-23-0241…\u001B[0m\u001B[2m \u001B[0m  \u001B[1;38;5;245m│\u001B[0m\n",
       "\u001B[1;38;5;245m│\u001B[0m   \u001B[1m \u001B[0m\u001B[1m497K   \u001B[0m\u001B[1m \u001B[0m \u001B[1;2m \u001B[0m\u001B[1;2m    798365\u001B[0m\u001B[1;2m \u001B[0m \u001B[1;33m \u001B[0m\u001B[1;33m      \u001B[0m\u001B[1;33m \u001B[0m \u001B[1;32m \u001B[0m\u001B[1;32mARIEL INVESTMENT TRUST                \u001B[0m\u001B[1;32m \u001B[0m \u001B[1m \u001B[0m\u001B[1m2023-01-30 \u001B[0m\u001B[1m \u001B[0m \u001B[1;2m \u001B[0m\u001B[1;2m0001193125-23-0188…\u001B[0m\u001B[1;2m \u001B[0m  \u001B[1;38;5;245m│\u001B[0m\n",
       "\u001B[1;38;5;245m│\u001B[0m    485BPOS  \u001B[2m \u001B[0m\u001B[2m    798365\u001B[0m\u001B[2m \u001B[0m \u001B[33m \u001B[0m\u001B[33m      \u001B[0m\u001B[33m \u001B[0m \u001B[1;32m \u001B[0m\u001B[1;32mARIEL INVESTMENT TRUST                \u001B[0m\u001B[1;32m \u001B[0m  2023-01-26   \u001B[2m \u001B[0m\u001B[2m0001193125-23-0163…\u001B[0m\u001B[2m \u001B[0m  \u001B[1;38;5;245m│\u001B[0m\n",
       "\u001B[1;38;5;245m│\u001B[0m   \u001B[1m \u001B[0m\u001B[1m24F-2NT\u001B[0m\u001B[1m \u001B[0m \u001B[1;2m \u001B[0m\u001B[1;2m    798365\u001B[0m\u001B[1;2m \u001B[0m \u001B[1;33m \u001B[0m\u001B[1;33m      \u001B[0m\u001B[1;33m \u001B[0m \u001B[1;32m \u001B[0m\u001B[1;32mARIEL INVESTMENT TRUST                \u001B[0m\u001B[1;32m \u001B[0m \u001B[1m \u001B[0m\u001B[1m2022-12-28 \u001B[0m\u001B[1m \u001B[0m \u001B[1;2m \u001B[0m\u001B[1;2m0001683863-22-0080…\u001B[0m\u001B[1;2m \u001B[0m  \u001B[1;38;5;245m│\u001B[0m\n",
       "\u001B[1;38;5;245m│\u001B[0m    N-CEN    \u001B[2m \u001B[0m\u001B[2m    798365\u001B[0m\u001B[2m \u001B[0m \u001B[33m \u001B[0m\u001B[33m      \u001B[0m\u001B[33m \u001B[0m \u001B[1;32m \u001B[0m\u001B[1;32mARIEL INVESTMENT TRUST                \u001B[0m\u001B[1;32m \u001B[0m  2022-12-12   \u001B[2m \u001B[0m\u001B[2m0001145549-22-0759…\u001B[0m\u001B[2m \u001B[0m  \u001B[1;38;5;245m│\u001B[0m\n",
       "\u001B[1;38;5;245m│\u001B[0m   \u001B[1m \u001B[0m\u001B[1mN-CSR  \u001B[0m\u001B[1m \u001B[0m \u001B[1;2m \u001B[0m\u001B[1;2m    798365\u001B[0m\u001B[1;2m \u001B[0m \u001B[1;33m \u001B[0m\u001B[1;33m      \u001B[0m\u001B[1;33m \u001B[0m \u001B[1;32m \u001B[0m\u001B[1;32mARIEL INVESTMENT TRUST                \u001B[0m\u001B[1;32m \u001B[0m \u001B[1m \u001B[0m\u001B[1m2022-11-21 \u001B[0m\u001B[1m \u001B[0m \u001B[1;2m \u001B[0m\u001B[1;2m0001193125-22-2900…\u001B[0m\u001B[1;2m \u001B[0m  \u001B[1;38;5;245m│\u001B[0m\n",
       "\u001B[1;38;5;245m│\u001B[0m    NPORT-P  \u001B[2m \u001B[0m\u001B[2m    798365\u001B[0m\u001B[2m \u001B[0m \u001B[33m \u001B[0m\u001B[33m      \u001B[0m\u001B[33m \u001B[0m \u001B[1;32m \u001B[0m\u001B[1;32mARIEL INVESTMENT TRUST                \u001B[0m\u001B[1;32m \u001B[0m  2022-11-18   \u001B[2m \u001B[0m\u001B[2m0001145549-22-0673…\u001B[0m\u001B[2m \u001B[0m  \u001B[1;38;5;245m│\u001B[0m\n",
       "\u001B[1;38;5;245m│\u001B[0m   \u001B[1m \u001B[0m\u001B[1mN-30B-2\u001B[0m\u001B[1m \u001B[0m \u001B[1;2m \u001B[0m\u001B[1;2m    798365\u001B[0m\u001B[1;2m \u001B[0m \u001B[1;33m \u001B[0m\u001B[1;33m      \u001B[0m\u001B[1;33m \u001B[0m \u001B[1;32m \u001B[0m\u001B[1;32mARIEL INVESTMENT TRUST                \u001B[0m\u001B[1;32m \u001B[0m \u001B[1m \u001B[0m\u001B[1m2022-08-26 \u001B[0m\u001B[1m \u001B[0m \u001B[1;2m \u001B[0m\u001B[1;2m0001193125-22-2310…\u001B[0m\u001B[1;2m \u001B[0m  \u001B[1;38;5;245m│\u001B[0m\n",
       "\u001B[1;38;5;245m│\u001B[0m    NPORT-P  \u001B[2m \u001B[0m\u001B[2m    798365\u001B[0m\u001B[2m \u001B[0m \u001B[33m \u001B[0m\u001B[33m      \u001B[0m\u001B[33m \u001B[0m \u001B[1;32m \u001B[0m\u001B[1;32mARIEL INVESTMENT TRUST                \u001B[0m\u001B[1;32m \u001B[0m  2022-08-25   \u001B[2m \u001B[0m\u001B[2m0001145549-22-0505…\u001B[0m\u001B[2m \u001B[0m  \u001B[1;38;5;245m│\u001B[0m\n",
       "\u001B[1;38;5;245m│\u001B[0m   \u001B[1m \u001B[0m\u001B[1mN-PX   \u001B[0m\u001B[1m \u001B[0m \u001B[1;2m \u001B[0m\u001B[1;2m    798365\u001B[0m\u001B[1;2m \u001B[0m \u001B[1;33m \u001B[0m\u001B[1;33m      \u001B[0m\u001B[1;33m \u001B[0m \u001B[1;32m \u001B[0m\u001B[1;32mARIEL INVESTMENT TRUST                \u001B[0m\u001B[1;32m \u001B[0m \u001B[1m \u001B[0m\u001B[1m2022-08-18 \u001B[0m\u001B[1m \u001B[0m \u001B[1;2m \u001B[0m\u001B[1;2m0001193125-22-2240…\u001B[0m\u001B[1;2m \u001B[0m  \u001B[1;38;5;245m│\u001B[0m\n",
       "\u001B[1;38;5;245m│\u001B[0m    N-CSRS   \u001B[2m \u001B[0m\u001B[2m    798365\u001B[0m\u001B[2m \u001B[0m \u001B[33m \u001B[0m\u001B[33m      \u001B[0m\u001B[33m \u001B[0m \u001B[1;32m \u001B[0m\u001B[1;32mARIEL INVESTMENT TRUST                \u001B[0m\u001B[1;32m \u001B[0m  2022-05-24   \u001B[2m \u001B[0m\u001B[2m0001193125-22-1582…\u001B[0m\u001B[2m \u001B[0m  \u001B[1;38;5;245m│\u001B[0m\n",
       "\u001B[1;38;5;245m│\u001B[0m   \u001B[1m \u001B[0m\u001B[1mNPORT-P\u001B[0m\u001B[1m \u001B[0m \u001B[1;2m \u001B[0m\u001B[1;2m    798365\u001B[0m\u001B[1;2m \u001B[0m \u001B[1;33m \u001B[0m\u001B[1;33m      \u001B[0m\u001B[1;33m \u001B[0m \u001B[1;32m \u001B[0m\u001B[1;32mARIEL INVESTMENT TRUST                \u001B[0m\u001B[1;32m \u001B[0m \u001B[1m \u001B[0m\u001B[1m2022-05-23 \u001B[0m\u001B[1m \u001B[0m \u001B[1;2m \u001B[0m\u001B[1;2m0001145549-22-0285…\u001B[0m\u001B[1;2m \u001B[0m  \u001B[1;38;5;245m│\u001B[0m\n",
       "\u001B[1;38;5;245m│\u001B[0m    N-30B-2  \u001B[2m \u001B[0m\u001B[2m    798365\u001B[0m\u001B[2m \u001B[0m \u001B[33m \u001B[0m\u001B[33m      \u001B[0m\u001B[33m \u001B[0m \u001B[1;32m \u001B[0m\u001B[1;32mARIEL INVESTMENT TRUST                \u001B[0m\u001B[1;32m \u001B[0m  2022-02-24   \u001B[2m \u001B[0m\u001B[2m0001193125-22-0516…\u001B[0m\u001B[2m \u001B[0m  \u001B[1;38;5;245m│\u001B[0m\n",
       "\u001B[1;38;5;245m│\u001B[0m   \u001B[1m \u001B[0m\u001B[1mNPORT-P\u001B[0m\u001B[1m \u001B[0m \u001B[1;2m \u001B[0m\u001B[1;2m    798365\u001B[0m\u001B[1;2m \u001B[0m \u001B[1;33m \u001B[0m\u001B[1;33m      \u001B[0m\u001B[1;33m \u001B[0m \u001B[1;32m \u001B[0m\u001B[1;32mARIEL INVESTMENT TRUST                \u001B[0m\u001B[1;32m \u001B[0m \u001B[1m \u001B[0m\u001B[1m2022-02-16 \u001B[0m\u001B[1m \u001B[0m \u001B[1;2m \u001B[0m\u001B[1;2m0001145549-22-0067…\u001B[0m\u001B[1;2m \u001B[0m  \u001B[1;38;5;245m│\u001B[0m\n",
       "\u001B[1;38;5;245m│\u001B[0m    497      \u001B[2m \u001B[0m\u001B[2m    798365\u001B[0m\u001B[2m \u001B[0m \u001B[33m \u001B[0m\u001B[33m      \u001B[0m\u001B[33m \u001B[0m \u001B[1;32m \u001B[0m\u001B[1;32mARIEL INVESTMENT TRUST                \u001B[0m\u001B[1;32m \u001B[0m  2022-02-03   \u001B[2m \u001B[0m\u001B[2m0001193125-22-0267…\u001B[0m\u001B[2m \u001B[0m  \u001B[1;38;5;245m│\u001B[0m\n",
       "\u001B[1;38;5;245m│\u001B[0m   \u001B[1m \u001B[0m\u001B[1m497J   \u001B[0m\u001B[1m \u001B[0m \u001B[1;2m \u001B[0m\u001B[1;2m    798365\u001B[0m\u001B[1;2m \u001B[0m \u001B[1;33m \u001B[0m\u001B[1;33m      \u001B[0m\u001B[1;33m \u001B[0m \u001B[1;32m \u001B[0m\u001B[1;32mARIEL INVESTMENT TRUST                \u001B[0m\u001B[1;32m \u001B[0m \u001B[1m \u001B[0m\u001B[1m2022-02-03 \u001B[0m\u001B[1m \u001B[0m \u001B[1;2m \u001B[0m\u001B[1;2m0001193125-22-0267…\u001B[0m\u001B[1;2m \u001B[0m  \u001B[1;38;5;245m│\u001B[0m\n",
       "\u001B[1;38;5;245m│\u001B[0m    485BPOS  \u001B[2m \u001B[0m\u001B[2m    798365\u001B[0m\u001B[2m \u001B[0m \u001B[33m \u001B[0m\u001B[33m      \u001B[0m\u001B[33m \u001B[0m \u001B[1;32m \u001B[0m\u001B[1;32mARIEL INVESTMENT TRUST                \u001B[0m\u001B[1;32m \u001B[0m  2022-01-28   \u001B[2m \u001B[0m\u001B[2m0001193125-22-0213…\u001B[0m\u001B[2m \u001B[0m  \u001B[1;38;5;245m│\u001B[0m\n",
       "\u001B[1;38;5;245m│\u001B[0m   \u001B[1m \u001B[0m\u001B[1m497K   \u001B[0m\u001B[1m \u001B[0m \u001B[1;2m \u001B[0m\u001B[1;2m    798365\u001B[0m\u001B[1;2m \u001B[0m \u001B[1;33m \u001B[0m\u001B[1;33m      \u001B[0m\u001B[1;33m \u001B[0m \u001B[1;32m \u001B[0m\u001B[1;32mARIEL INVESTMENT TRUST                \u001B[0m\u001B[1;32m \u001B[0m \u001B[1m \u001B[0m\u001B[1m2022-01-28 \u001B[0m\u001B[1m \u001B[0m \u001B[1;2m \u001B[0m\u001B[1;2m0001193125-22-0213…\u001B[0m\u001B[1;2m \u001B[0m  \u001B[1;38;5;245m│\u001B[0m\n",
       "\u001B[1;38;5;245m│\u001B[0m                                                                                                                 \u001B[1;38;5;245m│\u001B[0m\n",
       "\u001B[1;38;5;245m│\u001B[0m                                                                                                                 \u001B[1;38;5;245m│\u001B[0m\n",
       "\u001B[1;38;5;245m│\u001B[0m                                                                                                                 \u001B[1;38;5;245m│\u001B[0m\n",
       "\u001B[1;38;5;245m│\u001B[0m \u001B[2mShowing \u001B[0m\u001B[1;31m1\u001B[0m\u001B[2m to \u001B[0m\u001B[1;31m50\u001B[0m\u001B[2m of \u001B[0m\u001B[1m304\u001B[0m\u001B[2m filings.\u001B[0m\u001B[2m Page using \u001B[0m\u001B[1;38;5;245m← prev()\u001B[0m\u001B[2m and \u001B[0m\u001B[1;38;5;245mnext() →\u001B[0m                                                \u001B[1;38;5;245m│\u001B[0m\n",
       "\u001B[1;38;5;245m╰─\u001B[0m\u001B[1;38;5;245m────────────────────────────────\u001B[0m\u001B[1;38;5;245m SEC Filings between 2006-02-06 and 2025-02-20 \u001B[0m\u001B[1;38;5;245m────────────────────────────────\u001B[0m\u001B[1;38;5;245m─╯\u001B[0m"
      ]
     },
     "execution_count": 8,
     "metadata": {},
     "output_type": "execute_result"
    }
   ],
   "execution_count": 8
  },
  {
   "metadata": {},
   "cell_type": "markdown",
   "source": "## Filtering Fund filings",
   "id": "c3419fb149303b54"
  },
  {
   "metadata": {
    "ExecuteTime": {
     "end_time": "2025-03-13T12:18:35.340395Z",
     "start_time": "2025-03-13T12:18:35.293790Z"
    }
   },
   "cell_type": "code",
   "source": [
    "npx_filings = fund.filings.filter(form=\"N-PX\")\n",
    "npx_filings"
   ],
   "id": "b7af5e300848ccf7",
   "outputs": [
    {
     "data": {
      "text/plain": [],
      "text/html": [
       "<pre style=\"white-space:pre;overflow-x:auto;line-height:normal;font-family:Menlo,'DejaVu Sans Mono',consolas,'Courier New',monospace\"></pre>\n"
      ]
     },
     "metadata": {},
     "output_type": "display_data"
    },
    {
     "data": {
      "text/plain": [
       "\u001B[1;38;5;245m╭─\u001B[0m\u001B[1;38;5;245m─────────────────────────────────────────────────\u001B[0m\u001B[1;38;5;245m SEC Filings \u001B[0m\u001B[1;38;5;245m─────────────────────────────────────────────────\u001B[0m\u001B[1;38;5;245m─╮\u001B[0m\n",
       "\u001B[1;38;5;245m│\u001B[0m                                                                                                                 \u001B[1;38;5;245m│\u001B[0m\n",
       "\u001B[1;38;5;245m│\u001B[0m   \u001B[1m \u001B[0m\u001B[1mForm   \u001B[0m\u001B[1m \u001B[0m \u001B[1m \u001B[0m\u001B[1m       CIK\u001B[0m\u001B[1m \u001B[0m \u001B[1m \u001B[0m\u001B[1mTicker\u001B[0m\u001B[1m \u001B[0m \u001B[1m \u001B[0m\u001B[1mCompany                               \u001B[0m\u001B[1m \u001B[0m \u001B[1m \u001B[0m\u001B[1mFiling Date\u001B[0m\u001B[1m \u001B[0m \u001B[1m \u001B[0m\u001B[1mAccession Number   \u001B[0m\u001B[1m \u001B[0m  \u001B[1;38;5;245m│\u001B[0m\n",
       "\u001B[1;38;5;245m│\u001B[0m  ─────────────────────────────────────────────────────────────────────────────────────────────────────────────  \u001B[1;38;5;245m│\u001B[0m\n",
       "\u001B[1;38;5;245m│\u001B[0m    N-PX     \u001B[2m \u001B[0m\u001B[2m    798365\u001B[0m\u001B[2m \u001B[0m \u001B[33m \u001B[0m\u001B[33m      \u001B[0m\u001B[33m \u001B[0m \u001B[1;32m \u001B[0m\u001B[1;32mARIEL INVESTMENT TRUST                \u001B[0m\u001B[1;32m \u001B[0m  2024-08-21   \u001B[2m \u001B[0m\u001B[2m0001021408-24-0027…\u001B[0m\u001B[2m \u001B[0m  \u001B[1;38;5;245m│\u001B[0m\n",
       "\u001B[1;38;5;245m│\u001B[0m   \u001B[1m \u001B[0m\u001B[1mN-PX   \u001B[0m\u001B[1m \u001B[0m \u001B[1;2m \u001B[0m\u001B[1;2m    798365\u001B[0m\u001B[1;2m \u001B[0m \u001B[1;33m \u001B[0m\u001B[1;33m      \u001B[0m\u001B[1;33m \u001B[0m \u001B[1;32m \u001B[0m\u001B[1;32mARIEL INVESTMENT TRUST                \u001B[0m\u001B[1;32m \u001B[0m \u001B[1m \u001B[0m\u001B[1m2023-08-23 \u001B[0m\u001B[1m \u001B[0m \u001B[1;2m \u001B[0m\u001B[1;2m0001193125-23-2192…\u001B[0m\u001B[1;2m \u001B[0m  \u001B[1;38;5;245m│\u001B[0m\n",
       "\u001B[1;38;5;245m│\u001B[0m    N-PX     \u001B[2m \u001B[0m\u001B[2m    798365\u001B[0m\u001B[2m \u001B[0m \u001B[33m \u001B[0m\u001B[33m      \u001B[0m\u001B[33m \u001B[0m \u001B[1;32m \u001B[0m\u001B[1;32mARIEL INVESTMENT TRUST                \u001B[0m\u001B[1;32m \u001B[0m  2022-08-18   \u001B[2m \u001B[0m\u001B[2m0001193125-22-2240…\u001B[0m\u001B[2m \u001B[0m  \u001B[1;38;5;245m│\u001B[0m\n",
       "\u001B[1;38;5;245m│\u001B[0m   \u001B[1m \u001B[0m\u001B[1mN-PX   \u001B[0m\u001B[1m \u001B[0m \u001B[1;2m \u001B[0m\u001B[1;2m    798365\u001B[0m\u001B[1;2m \u001B[0m \u001B[1;33m \u001B[0m\u001B[1;33m      \u001B[0m\u001B[1;33m \u001B[0m \u001B[1;32m \u001B[0m\u001B[1;32mARIEL INVESTMENT TRUST                \u001B[0m\u001B[1;32m \u001B[0m \u001B[1m \u001B[0m\u001B[1m2021-08-18 \u001B[0m\u001B[1m \u001B[0m \u001B[1;2m \u001B[0m\u001B[1;2m0001193125-21-2502…\u001B[0m\u001B[1;2m \u001B[0m  \u001B[1;38;5;245m│\u001B[0m\n",
       "\u001B[1;38;5;245m│\u001B[0m    N-PX     \u001B[2m \u001B[0m\u001B[2m    798365\u001B[0m\u001B[2m \u001B[0m \u001B[33m \u001B[0m\u001B[33m      \u001B[0m\u001B[33m \u001B[0m \u001B[1;32m \u001B[0m\u001B[1;32mARIEL INVESTMENT TRUST                \u001B[0m\u001B[1;32m \u001B[0m  2020-08-14   \u001B[2m \u001B[0m\u001B[2m0001193125-20-2197…\u001B[0m\u001B[2m \u001B[0m  \u001B[1;38;5;245m│\u001B[0m\n",
       "\u001B[1;38;5;245m│\u001B[0m   \u001B[1m \u001B[0m\u001B[1mN-PX   \u001B[0m\u001B[1m \u001B[0m \u001B[1;2m \u001B[0m\u001B[1;2m    798365\u001B[0m\u001B[1;2m \u001B[0m \u001B[1;33m \u001B[0m\u001B[1;33m      \u001B[0m\u001B[1;33m \u001B[0m \u001B[1;32m \u001B[0m\u001B[1;32mARIEL INVESTMENT TRUST                \u001B[0m\u001B[1;32m \u001B[0m \u001B[1m \u001B[0m\u001B[1m2019-08-14 \u001B[0m\u001B[1m \u001B[0m \u001B[1;2m \u001B[0m\u001B[1;2m0001193125-19-2207…\u001B[0m\u001B[1;2m \u001B[0m  \u001B[1;38;5;245m│\u001B[0m\n",
       "\u001B[1;38;5;245m│\u001B[0m    N-PX     \u001B[2m \u001B[0m\u001B[2m    798365\u001B[0m\u001B[2m \u001B[0m \u001B[33m \u001B[0m\u001B[33m      \u001B[0m\u001B[33m \u001B[0m \u001B[1;32m \u001B[0m\u001B[1;32mARIEL INVESTMENT TRUST                \u001B[0m\u001B[1;32m \u001B[0m  2018-08-10   \u001B[2m \u001B[0m\u001B[2m0001193125-18-2456…\u001B[0m\u001B[2m \u001B[0m  \u001B[1;38;5;245m│\u001B[0m\n",
       "\u001B[1;38;5;245m│\u001B[0m   \u001B[1m \u001B[0m\u001B[1mN-PX   \u001B[0m\u001B[1m \u001B[0m \u001B[1;2m \u001B[0m\u001B[1;2m    798365\u001B[0m\u001B[1;2m \u001B[0m \u001B[1;33m \u001B[0m\u001B[1;33m      \u001B[0m\u001B[1;33m \u001B[0m \u001B[1;32m \u001B[0m\u001B[1;32mARIEL INVESTMENT TRUST                \u001B[0m\u001B[1;32m \u001B[0m \u001B[1m \u001B[0m\u001B[1m2017-08-03 \u001B[0m\u001B[1m \u001B[0m \u001B[1;2m \u001B[0m\u001B[1;2m0001193125-17-2474…\u001B[0m\u001B[1;2m \u001B[0m  \u001B[1;38;5;245m│\u001B[0m\n",
       "\u001B[1;38;5;245m│\u001B[0m    N-PX     \u001B[2m \u001B[0m\u001B[2m    798365\u001B[0m\u001B[2m \u001B[0m \u001B[33m \u001B[0m\u001B[33m      \u001B[0m\u001B[33m \u001B[0m \u001B[1;32m \u001B[0m\u001B[1;32mARIEL INVESTMENT TRUST                \u001B[0m\u001B[1;32m \u001B[0m  2016-08-09   \u001B[2m \u001B[0m\u001B[2m0001193125-16-6769…\u001B[0m\u001B[2m \u001B[0m  \u001B[1;38;5;245m│\u001B[0m\n",
       "\u001B[1;38;5;245m│\u001B[0m   \u001B[1m \u001B[0m\u001B[1mN-PX   \u001B[0m\u001B[1m \u001B[0m \u001B[1;2m \u001B[0m\u001B[1;2m    798365\u001B[0m\u001B[1;2m \u001B[0m \u001B[1;33m \u001B[0m\u001B[1;33m      \u001B[0m\u001B[1;33m \u001B[0m \u001B[1;32m \u001B[0m\u001B[1;32mARIEL INVESTMENT TRUST                \u001B[0m\u001B[1;32m \u001B[0m \u001B[1m \u001B[0m\u001B[1m2015-08-05 \u001B[0m\u001B[1m \u001B[0m \u001B[1;2m \u001B[0m\u001B[1;2m0000894189-15-0037…\u001B[0m\u001B[1;2m \u001B[0m  \u001B[1;38;5;245m│\u001B[0m\n",
       "\u001B[1;38;5;245m│\u001B[0m    N-PX     \u001B[2m \u001B[0m\u001B[2m    798365\u001B[0m\u001B[2m \u001B[0m \u001B[33m \u001B[0m\u001B[33m      \u001B[0m\u001B[33m \u001B[0m \u001B[1;32m \u001B[0m\u001B[1;32mARIEL INVESTMENT TRUST                \u001B[0m\u001B[1;32m \u001B[0m  2014-08-01   \u001B[2m \u001B[0m\u001B[2m0000894189-14-0035…\u001B[0m\u001B[2m \u001B[0m  \u001B[1;38;5;245m│\u001B[0m\n",
       "\u001B[1;38;5;245m│\u001B[0m   \u001B[1m \u001B[0m\u001B[1mN-PX   \u001B[0m\u001B[1m \u001B[0m \u001B[1;2m \u001B[0m\u001B[1;2m    798365\u001B[0m\u001B[1;2m \u001B[0m \u001B[1;33m \u001B[0m\u001B[1;33m      \u001B[0m\u001B[1;33m \u001B[0m \u001B[1;32m \u001B[0m\u001B[1;32mARIEL INVESTMENT TRUST                \u001B[0m\u001B[1;32m \u001B[0m \u001B[1m \u001B[0m\u001B[1m2013-08-06 \u001B[0m\u001B[1m \u001B[0m \u001B[1;2m \u001B[0m\u001B[1;2m0000894189-13-0042…\u001B[0m\u001B[1;2m \u001B[0m  \u001B[1;38;5;245m│\u001B[0m\n",
       "\u001B[1;38;5;245m│\u001B[0m    N-PX     \u001B[2m \u001B[0m\u001B[2m    798365\u001B[0m\u001B[2m \u001B[0m \u001B[33m \u001B[0m\u001B[33m      \u001B[0m\u001B[33m \u001B[0m \u001B[1;32m \u001B[0m\u001B[1;32mARIEL INVESTMENT TRUST                \u001B[0m\u001B[1;32m \u001B[0m  2012-08-21   \u001B[2m \u001B[0m\u001B[2m0000894189-12-0046…\u001B[0m\u001B[2m \u001B[0m  \u001B[1;38;5;245m│\u001B[0m\n",
       "\u001B[1;38;5;245m│\u001B[0m   \u001B[1m \u001B[0m\u001B[1mN-PX   \u001B[0m\u001B[1m \u001B[0m \u001B[1;2m \u001B[0m\u001B[1;2m    798365\u001B[0m\u001B[1;2m \u001B[0m \u001B[1;33m \u001B[0m\u001B[1;33m      \u001B[0m\u001B[1;33m \u001B[0m \u001B[1;32m \u001B[0m\u001B[1;32mARIEL INVESTMENT TRUST                \u001B[0m\u001B[1;32m \u001B[0m \u001B[1m \u001B[0m\u001B[1m2011-08-09 \u001B[0m\u001B[1m \u001B[0m \u001B[1;2m \u001B[0m\u001B[1;2m0000894189-11-0033…\u001B[0m\u001B[1;2m \u001B[0m  \u001B[1;38;5;245m│\u001B[0m\n",
       "\u001B[1;38;5;245m│\u001B[0m    N-PX     \u001B[2m \u001B[0m\u001B[2m    798365\u001B[0m\u001B[2m \u001B[0m \u001B[33m \u001B[0m\u001B[33m      \u001B[0m\u001B[33m \u001B[0m \u001B[1;32m \u001B[0m\u001B[1;32mARIEL INVESTMENT TRUST                \u001B[0m\u001B[1;32m \u001B[0m  2010-08-17   \u001B[2m \u001B[0m\u001B[2m0000894189-10-0029…\u001B[0m\u001B[2m \u001B[0m  \u001B[1;38;5;245m│\u001B[0m\n",
       "\u001B[1;38;5;245m│\u001B[0m   \u001B[1m \u001B[0m\u001B[1mN-PX   \u001B[0m\u001B[1m \u001B[0m \u001B[1;2m \u001B[0m\u001B[1;2m    798365\u001B[0m\u001B[1;2m \u001B[0m \u001B[1;33m \u001B[0m\u001B[1;33m      \u001B[0m\u001B[1;33m \u001B[0m \u001B[1;32m \u001B[0m\u001B[1;32mARIEL INVESTMENT TRUST                \u001B[0m\u001B[1;32m \u001B[0m \u001B[1m \u001B[0m\u001B[1m2009-08-17 \u001B[0m\u001B[1m \u001B[0m \u001B[1;2m \u001B[0m\u001B[1;2m0001104659-09-0500…\u001B[0m\u001B[1;2m \u001B[0m  \u001B[1;38;5;245m│\u001B[0m\n",
       "\u001B[1;38;5;245m│\u001B[0m    N-PX     \u001B[2m \u001B[0m\u001B[2m    798365\u001B[0m\u001B[2m \u001B[0m \u001B[33m \u001B[0m\u001B[33m      \u001B[0m\u001B[33m \u001B[0m \u001B[1;32m \u001B[0m\u001B[1;32mARIEL INVESTMENT TRUST                \u001B[0m\u001B[1;32m \u001B[0m  2008-08-26   \u001B[2m \u001B[0m\u001B[2m0001104659-08-0551…\u001B[0m\u001B[2m \u001B[0m  \u001B[1;38;5;245m│\u001B[0m\n",
       "\u001B[1;38;5;245m│\u001B[0m   \u001B[1m \u001B[0m\u001B[1mN-PX   \u001B[0m\u001B[1m \u001B[0m \u001B[1;2m \u001B[0m\u001B[1;2m    798365\u001B[0m\u001B[1;2m \u001B[0m \u001B[1;33m \u001B[0m\u001B[1;33m      \u001B[0m\u001B[1;33m \u001B[0m \u001B[1;32m \u001B[0m\u001B[1;32mARIEL INVESTMENT TRUST                \u001B[0m\u001B[1;32m \u001B[0m \u001B[1m \u001B[0m\u001B[1m2007-08-27 \u001B[0m\u001B[1m \u001B[0m \u001B[1;2m \u001B[0m\u001B[1;2m0001104659-07-0650…\u001B[0m\u001B[1;2m \u001B[0m  \u001B[1;38;5;245m│\u001B[0m\n",
       "\u001B[1;38;5;245m│\u001B[0m    N-PX     \u001B[2m \u001B[0m\u001B[2m    798365\u001B[0m\u001B[2m \u001B[0m \u001B[33m \u001B[0m\u001B[33m      \u001B[0m\u001B[33m \u001B[0m \u001B[1;32m \u001B[0m\u001B[1;32mARIEL INVESTMENT TRUST                \u001B[0m\u001B[1;32m \u001B[0m  2006-08-24   \u001B[2m \u001B[0m\u001B[2m0001104659-06-0569…\u001B[0m\u001B[2m \u001B[0m  \u001B[1;38;5;245m│\u001B[0m\n",
       "\u001B[1;38;5;245m│\u001B[0m                                                                                                                 \u001B[1;38;5;245m│\u001B[0m\n",
       "\u001B[1;38;5;245m╰─\u001B[0m\u001B[1;38;5;245m────────────────────────────────\u001B[0m\u001B[1;38;5;245m SEC Filings between 2006-08-24 and 2024-08-21 \u001B[0m\u001B[1;38;5;245m────────────────────────────────\u001B[0m\u001B[1;38;5;245m─╯\u001B[0m"
      ]
     },
     "execution_count": 10,
     "metadata": {},
     "output_type": "execute_result"
    }
   ],
   "execution_count": 10
  },
  {
   "metadata": {
    "ExecuteTime": {
     "end_time": "2025-03-13T12:18:43.122029Z",
     "start_time": "2025-03-13T12:18:43.118502Z"
    }
   },
   "cell_type": "code",
   "source": "len(npx_filings)",
   "id": "2aee9b5cb80c6d5d",
   "outputs": [
    {
     "data": {
      "text/plain": [
       "19"
      ]
     },
     "execution_count": 11,
     "metadata": {},
     "output_type": "execute_result"
    }
   ],
   "execution_count": 11
  }
 ],
 "metadata": {
  "kernelspec": {
   "display_name": "Python 3",
   "language": "python",
   "name": "python3"
  },
  "language_info": {
   "codemirror_mode": {
    "name": "ipython",
    "version": 2
   },
   "file_extension": ".py",
   "mimetype": "text/x-python",
   "name": "python",
   "nbconvert_exporter": "python",
   "pygments_lexer": "ipython2",
   "version": "2.7.6"
  }
 },
 "nbformat": 4,
 "nbformat_minor": 5
}
