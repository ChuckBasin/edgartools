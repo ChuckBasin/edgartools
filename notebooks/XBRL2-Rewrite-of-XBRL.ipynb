{
 "cells": [
  {
   "cell_type": "markdown",
   "id": "196860f0-9768-498f-bc70-42afc3253385",
   "metadata": {},
   "source": [
    " # XBRL2 - Rewrite of XBRL Functionality\n",
    "\n",
    "[![Open In Colab](https://colab.research.google.com/assets/colab-badge.svg)](http://colab.research.google.com/github/dgunning/edgartools/blob/main/notebooks/XBRL2-Rewrite-of-XBRL.ipynb)"
   ]
  },
  {
   "metadata": {},
   "cell_type": "markdown",
   "source": "## Setup Edgartools",
   "id": "79c7eb224ae2de22"
  },
  {
   "cell_type": "code",
   "id": "10a5a043-4204-44b1-9b50-b00885cd6328",
   "metadata": {},
   "source": "!pip install -U edgartools",
   "outputs": [],
   "execution_count": null
  },
  {
   "metadata": {
    "ExecuteTime": {
     "end_time": "2025-03-25T18:24:19.338841Z",
     "start_time": "2025-03-25T18:24:19.335431Z"
    }
   },
   "cell_type": "code",
   "source": [
    "from edgar import *\n",
    "from rich import print\n",
    "\n",
    "set_identity('Florian@mcmaster.ca')"
   ],
   "id": "18a0c5bf92f1ef8c",
   "outputs": [],
   "execution_count": 1
  },
  {
   "metadata": {},
   "cell_type": "markdown",
   "source": [
    "## Import XBRL2\n",
    "\n",
    "The new functionality is available in the `edgar.xbrl2` module."
   ],
   "id": "2790cb7f4112a970"
  },
  {
   "metadata": {
    "ExecuteTime": {
     "end_time": "2025-03-25T18:24:20.511741Z",
     "start_time": "2025-03-25T18:24:20.490958Z"
    }
   },
   "cell_type": "code",
   "source": "from edgar.xbrl2 import *",
   "id": "53e4fd712fedbfa7",
   "outputs": [],
   "execution_count": 2
  },
  {
   "metadata": {
    "ExecuteTime": {
     "end_time": "2025-03-25T18:24:23.946307Z",
     "start_time": "2025-03-25T18:24:22.541507Z"
    }
   },
   "cell_type": "code",
   "source": "c = Company(\"AAPL\")",
   "id": "de22e82b916bbb1a",
   "outputs": [],
   "execution_count": 3
  },
  {
   "metadata": {},
   "cell_type": "markdown",
   "source": [
    "# XBRL for a Single Filing\n",
    "\n",
    "<hr/>"
   ],
   "id": "c476377e22de1c66"
  },
  {
   "metadata": {},
   "cell_type": "markdown",
   "source": "## Get the latest filing for a company",
   "id": "5376c4bf795fd662"
  },
  {
   "metadata": {
    "ExecuteTime": {
     "end_time": "2025-03-25T18:24:23.956991Z",
     "start_time": "2025-03-25T18:24:23.953298Z"
    }
   },
   "cell_type": "code",
   "source": "filing = c.latest(\"10-K\")",
   "id": "8fa1b2657e5d3cfa",
   "outputs": [],
   "execution_count": 4
  },
  {
   "metadata": {
    "ExecuteTime": {
     "end_time": "2025-03-14T18:43:09.129262Z",
     "start_time": "2025-03-14T18:43:09.127470Z"
    }
   },
   "cell_type": "markdown",
   "source": "### Create an xbrl object from the filing",
   "id": "983ed818-d957-4af8-a561-5d0254e17a89"
  },
  {
   "metadata": {
    "ExecuteTime": {
     "end_time": "2025-03-25T18:24:25.751900Z",
     "start_time": "2025-03-25T18:24:25.480295Z"
    }
   },
   "cell_type": "code",
   "source": "xbrl = XBRL.from_filing(filing)",
   "id": "6ac5014c-4989-4943-822e-1582082b2251",
   "outputs": [],
   "execution_count": 5
  },
  {
   "metadata": {},
   "cell_type": "markdown",
   "source": [
    "# The Statements API\n",
    "\n",
    "<hr/>\n",
    "\n"
   ],
   "id": "919013bfb99c9066"
  },
  {
   "metadata": {
    "ExecuteTime": {
     "end_time": "2025-03-25T18:24:27.544826Z",
     "start_time": "2025-03-25T18:24:27.527073Z"
    }
   },
   "cell_type": "code",
   "source": [
    "statements = xbrl.statements\n",
    "statements"
   ],
   "id": "7001b4afac14272a",
   "outputs": [
    {
     "data": {
      "text/plain": [],
      "text/html": [
       "<pre style=\"white-space:pre;overflow-x:auto;line-height:normal;font-family:Menlo,'DejaVu Sans Mono',consolas,'Courier New',monospace\"></pre>\n"
      ]
     },
     "metadata": {},
     "output_type": "display_data"
    },
    {
     "data": {
      "text/plain": [
       "\u001B[3m                                               Available Statements                                                \u001B[0m\n",
       "                                                                                                                   \n",
       " \u001B[1m \u001B[0m\u001B[1m# \u001B[0m\u001B[1m \u001B[0m \u001B[1m \u001B[0m\u001B[1mStatement                                                                \u001B[0m\u001B[1m \u001B[0m \u001B[1m \u001B[0m\u001B[1mType               \u001B[0m\u001B[1m \u001B[0m \u001B[1m \u001B[0m\u001B[1mElements\u001B[0m\u001B[1m \u001B[0m \n",
       " ───────────────────────────────────────────────────────────────────────────────────────────────────────────────── \n",
       "  0    CoverPage                                                                   CoverPage             50        \n",
       "  1    AuditorInformation                                                                                4         \n",
       "  2    CONSOLIDATEDSTATEMENTSOFOPERATIONS                                          IncomeStatement       25        \n",
       "  3    CONSOLIDATEDSTATEMENTSOFCOMPREHENSIVEINCOME                                 ComprehensiveIncome   14        \n",
       "  4    CONSOLIDATEDBALANCESHEETS                                                   BalanceSheet          38        \n",
       "  5    CONSOLIDATEDBALANCESHEETSParenthetical                                      BalanceSheet          5         \n",
       "  6    CONSOLIDATEDSTATEMENTSOFSHAREHOLDERSEQUITY                                  StatementOfEquity     18        \n",
       "  7    CONSOLIDATEDSTATEMENTSOFCASHFLOWS                                           CashFlowStatement     35        \n",
       "  8    SummaryofSignificantAccountingPolicies                                                            2         \n",
       "  9    Revenue                                                                                           2         \n",
       "  10   EarningsPerShare                                                                                  2         \n",
       "  11   FinancialInstruments                                                                              2         \n",
       "  12   PropertyPlantandEquipment                                                                         2         \n",
       "  13   ConsolidatedFinancialStatementDetails                                                             2         \n",
       "  14   IncomeTaxes                                                                                       2         \n",
       "  15   Leases                                                                                            3         \n",
       "  16   Debt                                                                                              2         \n",
       "  17   ShareholdersEquity                                                                                2         \n",
       "  18   ShareBasedCompensation                                                                            2         \n",
       "  19   CommitmentsContingenciesandSupplyConcentrations                                                   2         \n",
       "  20   SegmentInformationandGeographicData                                                               2         \n",
       "  21   SummaryofSignificantAccountingPoliciesPolicies                                                    14        \n",
       "  22   RevenueTables                                                                                     2         \n",
       "  23   EarningsPerShareTables                                                                            2         \n",
       "  24   FinancialInstrumentsTables                                                                        4         \n",
       "  25   PropertyPlantandEquipmentTables                                                                   2         \n",
       "  26   ConsolidatedFinancialStatementDetailsTables                                                       4         \n",
       "  27   IncomeTaxesTables                                                                                 5         \n",
       "  28   LeasesTables                                                                                      4         \n",
       "  29   DebtTables                                                                                        4         \n",
       "  30   ShareholdersEquityTables                                                                          2         \n",
       "  31   ShareBasedCompensationTables                                                                      3         \n",
       "  32   CommitmentsContingenciesandSupplyConcentrationsTables                                             2         \n",
       "  33   SegmentInformationandGeographicDataTables                                                         4         \n",
       "  34   RevenueAdditionalInformationDetails                                                               3         \n",
       "  35   RevenueNetSalesDisaggregatedbySignificantProductsandServicesDetails                               11        \n",
       "  36   RevenueDeferredRevenueExpectedTimingofRealizationDetails                                          6         \n",
       "  37   EarningsPerShareComputationofBasicandDilutedEarningsPerShareDetails                               9         \n",
       "  38   EarningsPerShareAdditionalInformationDetails                                                      7         \n",
       "  39   FinancialInstrumentsCashCashEquivalentsandMarketableSecuritiesDetails                             42        \n",
       "  40   FinancialInstrumentsAdditionalInformationDetails                                                  30        \n",
       "  41   FinancialInstrumentsNotionalAmountsAssociatedwithDerivativeInstrumentsDe…                         12        \n",
       "  42   FinancialInstrumentsDerivativeInstrumentsDesignatedasFairValueHedgesandR…                         5         \n",
       "  43   PropertyPlantandEquipmentGrossPropertyPlantandEquipmentbyMajorAssetClass…                         11        \n",
       "  44   PropertyPlantandEquipmentAdditionalInformationDetails                                             2         \n",
       "  45   ConsolidatedFinancialStatementDetailsOtherNonCurrentAssetsDetails                                 4         \n",
       "  46   ConsolidatedFinancialStatementDetailsOtherCurrentLiabilitiesDetails                               4         \n",
       "  47   ConsolidatedFinancialStatementDetailsOtherNonCurrentLiabilitiesDetails                            4         \n",
       "  48   IncomeTaxesAdditionalInformationDetails                                                           28        \n",
       "  49   IncomeTaxesProvisionforIncomeTaxesDetails                                                         14        \n",
       "  50   IncomeTaxesReconciliationofProvisionforIncomeTaxestoAmountComputedbyAppl…                         10        \n",
       "  51   IncomeTaxesSignificantComponentsofDeferredTaxAssetsandLiabilitiesDetails                          20        \n",
       "  52   IncomeTaxesAggregateChangesinGrossUnrecognizedTaxBenefitsDetails                                  8         \n",
       "  53   LeasesAdditionalInformationDetails                                                                19        \n",
       "  54   LeasesROUAssetsandLeaseLiabilitiesDetails                                                         16        \n",
       "  55   LeasesLeaseLiabilityMaturitiesDetails                                                             31        \n",
       "  56   DebtAdditionalInformationDetails                                                                  13        \n",
       "  57   DebtSummaryofCashFlowsAssociatedwithCommercialPaperDetails                                        8         \n",
       "  58   DebtSummaryofTermDebtDetails                                                                      23        \n",
       "  59   DebtFuturePrincipalPaymentsforTermDebtDetails                                                     8         \n",
       "  60   ShareholdersEquityAdditionalInformationDetails                                                    4         \n",
       "  61   ShareholdersEquitySharesofCommonStockDetails                                StatementOfEquity     10        \n",
       "  62   ShareBasedCompensationAdditionalInformationDetails                                                17        \n",
       "  63   ShareBasedCompensationRestrictedStockUnitActivityandRelatedInformationDe…                         18        \n",
       "  64   ShareBasedCompensationSummaryofShareBasedCompensationExpenseandtheRelate…                         3         \n",
       "  65   CommitmentsContingenciesandSupplyConcentrationsFuturePaymentsUnderUncond…                         9         \n",
       "  66   SegmentInformationandGeographicDataInformationbyReportableSegmentDetails                          12        \n",
       "  67   SegmentInformationandGeographicDataReconciliationofSegmentOperatingIncom…                         11        \n",
       "  68   SegmentInformationandGeographicDataNetSalesforCountriesthatIndividuallyA…                         9         \n",
       "  69   SegmentInformationandGeographicDataLongLivedAssetsforCountriesthatIndivi…                         9         \n",
       "  70   AwardTimingDisclosure                                                                             21        \n",
       "  71   ErrCompDisclosure                                                                                 20        \n",
       "  72   PvpDisclosure                                                                                     54        \n",
       "  73   InsiderTradingArrangements                                                                        20        \n",
       "  74   InsiderTradingPoliciesProc                                                                        3         \n",
       "                                                                                                                   "
      ]
     },
     "execution_count": 6,
     "metadata": {},
     "output_type": "execute_result"
    }
   ],
   "execution_count": 6
  },
  {
   "metadata": {},
   "cell_type": "markdown",
   "source": "## Get statement by index",
   "id": "b272af03c80c0c54"
  },
  {
   "metadata": {
    "ExecuteTime": {
     "end_time": "2025-03-25T18:24:29.425057Z",
     "start_time": "2025-03-25T18:24:29.417505Z"
    }
   },
   "cell_type": "code",
   "source": "statements[1]",
   "id": "f6f418f1d02946a9",
   "outputs": [
    {
     "data": {
      "text/plain": [],
      "text/html": [
       "<pre style=\"white-space:pre;overflow-x:auto;line-height:normal;font-family:Menlo,'DejaVu Sans Mono',consolas,'Courier New',monospace\"></pre>\n"
      ]
     },
     "metadata": {},
     "output_type": "display_data"
    },
    {
     "data": {
      "text/plain": [
       "\u001B[3m  AuditorInformation  \u001B[0m\n",
       "\u001B[3m    (Standardized)    \u001B[0m\n",
       "                      \n",
       " \u001B[1m \u001B[0m\u001B[1m                  \u001B[0m\u001B[1m \u001B[0m \n",
       " ──────────────────── \n",
       "    Auditor Name      \n",
       "    Auditor Location  \n",
       "    Auditor Firm ID   \n",
       "                      "
      ]
     },
     "execution_count": 7,
     "metadata": {},
     "output_type": "execute_result"
    }
   ],
   "execution_count": 7
  },
  {
   "metadata": {},
   "cell_type": "markdown",
   "source": "## Get statement by name",
   "id": "3b6557f74952d640"
  },
  {
   "metadata": {
    "ExecuteTime": {
     "end_time": "2025-03-25T18:24:31.412823Z",
     "start_time": "2025-03-25T18:24:31.406870Z"
    }
   },
   "cell_type": "code",
   "source": "statements['AuditorInformation']",
   "id": "b73b016ed835cd55",
   "outputs": [
    {
     "data": {
      "text/plain": [],
      "text/html": [
       "<pre style=\"white-space:pre;overflow-x:auto;line-height:normal;font-family:Menlo,'DejaVu Sans Mono',consolas,'Courier New',monospace\"></pre>\n"
      ]
     },
     "metadata": {},
     "output_type": "display_data"
    },
    {
     "data": {
      "text/plain": [
       "\u001B[3m  AuditorInformation  \u001B[0m\n",
       "\u001B[3m    (Standardized)    \u001B[0m\n",
       "                      \n",
       " \u001B[1m \u001B[0m\u001B[1m                  \u001B[0m\u001B[1m \u001B[0m \n",
       " ──────────────────── \n",
       "    Auditor Name      \n",
       "    Auditor Location  \n",
       "    Auditor Firm ID   \n",
       "                      "
      ]
     },
     "execution_count": 8,
     "metadata": {},
     "output_type": "execute_result"
    }
   ],
   "execution_count": 8
  },
  {
   "metadata": {},
   "cell_type": "markdown",
   "source": [
    "# Financials Statements\n",
    "\n",
    "<hr/>"
   ],
   "id": "c262de574d004318"
  },
  {
   "metadata": {},
   "cell_type": "markdown",
   "source": "## Balance Sheet",
   "id": "20d2f8fbd81402a9"
  },
  {
   "metadata": {
    "ExecuteTime": {
     "end_time": "2025-03-25T18:24:33.560148Z",
     "start_time": "2025-03-25T18:24:33.534679Z"
    }
   },
   "cell_type": "code",
   "source": [
    "balance_sheet = xbrl.statements.balance_sheet()\n",
    "balance_sheet"
   ],
   "id": "9268eccdc9acd070",
   "outputs": [
    {
     "data": {
      "text/plain": [],
      "text/html": [
       "<pre style=\"white-space:pre;overflow-x:auto;line-height:normal;font-family:Menlo,'DejaVu Sans Mono',consolas,'Courier New',monospace\"></pre>\n"
      ]
     },
     "metadata": {},
     "output_type": "display_data"
    },
    {
     "data": {
      "text/plain": [
       "\u001B[3m             Consolidated Balance Sheets (Standardized)             \u001B[0m\n",
       "\u001B[3m    \u001B[0m\u001B[1;3mFiscal Year Ended\u001B[0m\u001B[3m \u001B[0m\u001B[3m(In millions, except shares in thousands)\u001B[0m\u001B[3m     \u001B[0m\n",
       "                                                                    \n",
       " \u001B[1m \u001B[0m\u001B[1m                                                 \u001B[0m\u001B[1m \u001B[0m \u001B[1m \u001B[0m\u001B[1mSep 28, 2024\u001B[0m\u001B[1m \u001B[0m \n",
       " ────────────────────────────────────────────────────────────────── \n",
       "    ASSETS:                                                         \n",
       "      Current assets:                                               \n",
       "        Cash and Cash Equivalents                          $29,943  \n",
       "        Marketable Securities                              $35,228  \n",
       "        Accounts Receivable                                $33,410  \n",
       "        Vendor non-trade receivables                       $32,833  \n",
       "        Inventory                                           $7,286  \n",
       "        Other Assets                                       $14,287  \n",
       "        Total Current Assets                              $152,987  \n",
       "      Non-current assets:                                           \n",
       "        Marketable securities                              $91,479  \n",
       "        Property, Plant and Equipment                      $45,680  \n",
       "        Other Assets                                       $74,834  \n",
       "        Total Current Assets                              $211,993  \n",
       "      Total Assets                                        $364,980  \n",
       "    LIABILITIES AND SHAREHOLDERS’ EQUITY:                           \n",
       "      Current liabilities:                                          \n",
       "        Accounts Payable                                   $68,960  \n",
       "        Other Liabilities                                  $78,304  \n",
       "        Deferred Revenue                                    $8,249  \n",
       "        Commercial paper                                    $9,967  \n",
       "        Short-Term Debt                                    $10,912  \n",
       "        Total Current Liabilities                         $176,392  \n",
       "      Non-current liabilities:                                      \n",
       "        Long-Term Debt                                     $85,750  \n",
       "        Other Liabilities                                  $45,888  \n",
       "        Total Current Liabilities                         $131,638  \n",
       "      Total Liabilities                                   $308,030  \n",
       "      Commitments and contingencies                                 \n",
       "      Common Stock Shares Outstanding                   15,116,786  \n",
       "      Common Stock Shares Issued                        15,116,786  \n",
       "      Shareholders’ equity:                                         \n",
       "        Common Stock                                       $83,276  \n",
       "        Retained Earnings                                $(19,154)  \n",
       "        Accumulated Other Comprehensive Income/Loss       $(7,172)  \n",
       "        Total Stockholders' Equity                         $56,950  \n",
       "      Total Liabilities and Stockholders' Equity          $364,980  \n",
       "                                                                    "
      ]
     },
     "execution_count": 9,
     "metadata": {},
     "output_type": "execute_result"
    }
   ],
   "execution_count": 9
  },
  {
   "metadata": {},
   "cell_type": "markdown",
   "source": "### Income Statement",
   "id": "f67315d7ca758a17"
  },
  {
   "metadata": {
    "ExecuteTime": {
     "end_time": "2025-03-25T18:24:35.581561Z",
     "start_time": "2025-03-25T18:24:35.560934Z"
    }
   },
   "cell_type": "code",
   "source": [
    "income_statement = xbrl.statements.income_statement()\n",
    "income_statement"
   ],
   "id": "7db0c37935f4f134",
   "outputs": [
    {
     "data": {
      "text/plain": [],
      "text/html": [
       "<pre style=\"white-space:pre;overflow-x:auto;line-height:normal;font-family:Menlo,'DejaVu Sans Mono',consolas,'Courier New',monospace\"></pre>\n"
      ]
     },
     "metadata": {},
     "output_type": "display_data"
    },
    {
     "data": {
      "text/plain": [
       "\u001B[3m                                  Consolidated Statement of Income (Standardized)                                  \u001B[0m\n",
       "\u001B[3m                               \u001B[0m\u001B[1;3mYear Ended\u001B[0m\u001B[3m \u001B[0m\u001B[3m(In millions, except shares in thousands)\u001B[0m\u001B[3m                                \u001B[0m\n",
       "                                                                                                                   \n",
       " \u001B[1m \u001B[0m\u001B[1m                                                \u001B[0m\u001B[1m \u001B[0m \u001B[1m \u001B[0m\u001B[1mSeptember 28, 2024\u001B[0m\u001B[1m \u001B[0m \u001B[1m \u001B[0m\u001B[1mSeptember 30, 2023\u001B[0m\u001B[1m \u001B[0m \u001B[1m \u001B[0m\u001B[1mSeptember 24, 2022\u001B[0m\u001B[1m \u001B[0m \n",
       " ───────────────────────────────────────────────────────────────────────────────────────────────────────────────── \n",
       "        Revenue                                                $391,035             $383,285             $394,328  \n",
       "        Cost of Revenue                                      $(210,352)           $(214,137)           $(223,546)  \n",
       "        Gross Profit                                           $180,683             $169,148             $170,782  \n",
       "        Operating Expenses                                                                                         \n",
       "          Research and Development Expense                      $31,370              $29,915              $26,251  \n",
       "          Selling, General and Administrative                   $26,097              $24,932              $25,094  \n",
       "  Expense                                                                                                          \n",
       "          Operating Expenses                                  $(57,467)            $(54,847)            $(51,345)  \n",
       "        Operating Income                                       $123,216             $114,301             $119,437  \n",
       "        Nonoperating Income/Expense                                $269               $(565)               $(334)  \n",
       "        Income Before Tax                                      $123,485             $113,736             $119,103  \n",
       "        Income Tax Expense                                      $29,749              $16,741              $19,300  \n",
       "        Net Income                                              $93,736              $96,995              $99,803  \n",
       "        Earnings per share:                                                                                        \n",
       "          Earnings Per Share                                       0.00                 0.00                 0.00  \n",
       "          Earnings Per Share (Diluted)                             0.00                 0.00                 0.00  \n",
       "        Shares used in computing earnings per                                                                      \n",
       "  share:                                                                                                           \n",
       "          Shares Outstanding                                 15,343,783           15,744,231           16,215,963  \n",
       "          Shares Outstanding (Diluted)                       15,408,095           15,812,547           16,325,819  \n",
       "                                                                                                                   "
      ]
     },
     "execution_count": 10,
     "metadata": {},
     "output_type": "execute_result"
    }
   ],
   "execution_count": 10
  },
  {
   "metadata": {},
   "cell_type": "markdown",
   "source": [
    "# Get Data as DataFrames\n",
    "<hr/>"
   ],
   "id": "4e818cde3a1c2fbf"
  },
  {
   "metadata": {
    "ExecuteTime": {
     "end_time": "2025-03-25T18:24:38.817154Z",
     "start_time": "2025-03-25T18:24:38.779238Z"
    }
   },
   "cell_type": "code",
   "source": "income_statement.to_dataframe()",
   "id": "25579a682bd309f2",
   "outputs": [
    {
     "data": {
      "text/plain": [
       "                                              concept  \\\n",
       "0                     us-gaap_IncomeStatementAbstract   \n",
       "1                              us-gaap_StatementTable   \n",
       "2                            srt_ProductOrServiceAxis   \n",
       "3                       srt_ProductsAndServicesDomain   \n",
       "4                               us-gaap_ProductMember   \n",
       "5                               us-gaap_ServiceMember   \n",
       "6                          us-gaap_StatementLineItems   \n",
       "7   us-gaap_RevenueFromContractWithCustomerExcludi...   \n",
       "8                  us-gaap_CostOfGoodsAndServicesSold   \n",
       "9                                 us-gaap_GrossProfit   \n",
       "10                  us-gaap_OperatingExpensesAbstract   \n",
       "11              us-gaap_ResearchAndDevelopmentExpense   \n",
       "12     us-gaap_SellingGeneralAndAdministrativeExpense   \n",
       "13                          us-gaap_OperatingExpenses   \n",
       "14                        us-gaap_OperatingIncomeLoss   \n",
       "15                  us-gaap_NonoperatingIncomeExpense   \n",
       "16  us-gaap_IncomeLossFromContinuingOperationsBefo...   \n",
       "17                    us-gaap_IncomeTaxExpenseBenefit   \n",
       "18                              us-gaap_NetIncomeLoss   \n",
       "19                   us-gaap_EarningsPerShareAbstract   \n",
       "20                      us-gaap_EarningsPerShareBasic   \n",
       "21                    us-gaap_EarningsPerShareDiluted   \n",
       "22  us-gaap_WeightedAverageNumberOfSharesOutstandi...   \n",
       "23  us-gaap_WeightedAverageNumberOfSharesOutstandi...   \n",
       "24  us-gaap_WeightedAverageNumberOfDilutedSharesOu...   \n",
       "\n",
       "                                           label  level  is_abstract  \\\n",
       "0                    Income Statement [Abstract]      0        False   \n",
       "1                              Statement [Table]      1        False   \n",
       "2                     Product and Service [Axis]      2        False   \n",
       "3                   Product and Service [Domain]      3        False   \n",
       "4                                       Products      4        False   \n",
       "5                                       Services      4        False   \n",
       "6                         Statement [Line Items]      2        False   \n",
       "7                                        Revenue      3        False   \n",
       "8                                Cost of Revenue      3        False   \n",
       "9                                   Gross Profit      3        False   \n",
       "10                            Operating Expenses      3        False   \n",
       "11              Research and Development Expense      4        False   \n",
       "12   Selling, General and Administrative Expense      4        False   \n",
       "13                            Operating Expenses      4        False   \n",
       "14                              Operating Income      3        False   \n",
       "15                   Nonoperating Income/Expense      3        False   \n",
       "16                             Income Before Tax      3        False   \n",
       "17                            Income Tax Expense      3        False   \n",
       "18                                    Net Income      3        False   \n",
       "19                           Earnings per share:      3        False   \n",
       "20                            Earnings Per Share      4        False   \n",
       "21                  Earnings Per Share (Diluted)      4        False   \n",
       "22  Shares used in computing earnings per share:      3        False   \n",
       "23                            Shares Outstanding      4        False   \n",
       "24                  Shares Outstanding (Diluted)      4        False   \n",
       "\n",
       "    has_values  2021-09-26_2022-09-24  2022-09-25_2023-09-30  \\\n",
       "0        False                    NaN                    NaN   \n",
       "1        False                    NaN                    NaN   \n",
       "2        False                    NaN                    NaN   \n",
       "3        False                    NaN                    NaN   \n",
       "4        False                    NaN                    NaN   \n",
       "5        False                    NaN                    NaN   \n",
       "6        False                    NaN                    NaN   \n",
       "7         True           3.943280e+11           3.832850e+11   \n",
       "8         True          -2.235460e+11          -2.141370e+11   \n",
       "9         True           1.707820e+11           1.691480e+11   \n",
       "10       False                    NaN                    NaN   \n",
       "11        True           2.625100e+10           2.991500e+10   \n",
       "12        True           2.509400e+10           2.493200e+10   \n",
       "13        True          -5.134500e+10          -5.484700e+10   \n",
       "14        True           1.194370e+11           1.143010e+11   \n",
       "15        True          -3.340000e+08          -5.650000e+08   \n",
       "16        True           1.191030e+11           1.137360e+11   \n",
       "17        True           1.930000e+10           1.674100e+10   \n",
       "18        True           9.980300e+10           9.699500e+10   \n",
       "19       False                    NaN                    NaN   \n",
       "20        True           6.150000e+00           6.160000e+00   \n",
       "21        True           6.110000e+00           6.130000e+00   \n",
       "22       False                    NaN                    NaN   \n",
       "23        True           1.621596e+10           1.574423e+10   \n",
       "24        True           1.632582e+10           1.581255e+10   \n",
       "\n",
       "    2023-10-01_2024-09-28                            original_label  \n",
       "0                     NaN                                       NaN  \n",
       "1                     NaN                                       NaN  \n",
       "2                     NaN                                       NaN  \n",
       "3                     NaN                                       NaN  \n",
       "4                     NaN                                       NaN  \n",
       "5                     NaN                                       NaN  \n",
       "6                     NaN                                       NaN  \n",
       "7            3.910350e+11                                 Net sales  \n",
       "8           -2.103520e+11                             Cost of sales  \n",
       "9            1.806830e+11                              Gross margin  \n",
       "10                    NaN                       Operating expenses:  \n",
       "11           3.137000e+10                  Research and development  \n",
       "12           2.609700e+10       Selling, general and administrative  \n",
       "13          -5.746700e+10                  Total operating expenses  \n",
       "14           1.232160e+11                          Operating income  \n",
       "15           2.690000e+08               Other income/(expense), net  \n",
       "16           1.234850e+11  Income before provision for income taxes  \n",
       "17           2.974900e+10                Provision for income taxes  \n",
       "18           9.373600e+10                                Net income  \n",
       "19                    NaN                                       NaN  \n",
       "20           6.110000e+00              Basic (in dollars per share)  \n",
       "21           6.080000e+00            Diluted (in dollars per share)  \n",
       "22                    NaN                                       NaN  \n",
       "23           1.534378e+10                         Basic (in shares)  \n",
       "24           1.540810e+10                       Diluted (in shares)  "
      ],
      "text/html": [
       "<div>\n",
       "<style scoped>\n",
       "    .dataframe tbody tr th:only-of-type {\n",
       "        vertical-align: middle;\n",
       "    }\n",
       "\n",
       "    .dataframe tbody tr th {\n",
       "        vertical-align: top;\n",
       "    }\n",
       "\n",
       "    .dataframe thead th {\n",
       "        text-align: right;\n",
       "    }\n",
       "</style>\n",
       "<table border=\"1\" class=\"dataframe\">\n",
       "  <thead>\n",
       "    <tr style=\"text-align: right;\">\n",
       "      <th></th>\n",
       "      <th>concept</th>\n",
       "      <th>label</th>\n",
       "      <th>level</th>\n",
       "      <th>is_abstract</th>\n",
       "      <th>has_values</th>\n",
       "      <th>2021-09-26_2022-09-24</th>\n",
       "      <th>2022-09-25_2023-09-30</th>\n",
       "      <th>2023-10-01_2024-09-28</th>\n",
       "      <th>original_label</th>\n",
       "    </tr>\n",
       "  </thead>\n",
       "  <tbody>\n",
       "    <tr>\n",
       "      <th>0</th>\n",
       "      <td>us-gaap_IncomeStatementAbstract</td>\n",
       "      <td>Income Statement [Abstract]</td>\n",
       "      <td>0</td>\n",
       "      <td>False</td>\n",
       "      <td>False</td>\n",
       "      <td>NaN</td>\n",
       "      <td>NaN</td>\n",
       "      <td>NaN</td>\n",
       "      <td>NaN</td>\n",
       "    </tr>\n",
       "    <tr>\n",
       "      <th>1</th>\n",
       "      <td>us-gaap_StatementTable</td>\n",
       "      <td>Statement [Table]</td>\n",
       "      <td>1</td>\n",
       "      <td>False</td>\n",
       "      <td>False</td>\n",
       "      <td>NaN</td>\n",
       "      <td>NaN</td>\n",
       "      <td>NaN</td>\n",
       "      <td>NaN</td>\n",
       "    </tr>\n",
       "    <tr>\n",
       "      <th>2</th>\n",
       "      <td>srt_ProductOrServiceAxis</td>\n",
       "      <td>Product and Service [Axis]</td>\n",
       "      <td>2</td>\n",
       "      <td>False</td>\n",
       "      <td>False</td>\n",
       "      <td>NaN</td>\n",
       "      <td>NaN</td>\n",
       "      <td>NaN</td>\n",
       "      <td>NaN</td>\n",
       "    </tr>\n",
       "    <tr>\n",
       "      <th>3</th>\n",
       "      <td>srt_ProductsAndServicesDomain</td>\n",
       "      <td>Product and Service [Domain]</td>\n",
       "      <td>3</td>\n",
       "      <td>False</td>\n",
       "      <td>False</td>\n",
       "      <td>NaN</td>\n",
       "      <td>NaN</td>\n",
       "      <td>NaN</td>\n",
       "      <td>NaN</td>\n",
       "    </tr>\n",
       "    <tr>\n",
       "      <th>4</th>\n",
       "      <td>us-gaap_ProductMember</td>\n",
       "      <td>Products</td>\n",
       "      <td>4</td>\n",
       "      <td>False</td>\n",
       "      <td>False</td>\n",
       "      <td>NaN</td>\n",
       "      <td>NaN</td>\n",
       "      <td>NaN</td>\n",
       "      <td>NaN</td>\n",
       "    </tr>\n",
       "    <tr>\n",
       "      <th>5</th>\n",
       "      <td>us-gaap_ServiceMember</td>\n",
       "      <td>Services</td>\n",
       "      <td>4</td>\n",
       "      <td>False</td>\n",
       "      <td>False</td>\n",
       "      <td>NaN</td>\n",
       "      <td>NaN</td>\n",
       "      <td>NaN</td>\n",
       "      <td>NaN</td>\n",
       "    </tr>\n",
       "    <tr>\n",
       "      <th>6</th>\n",
       "      <td>us-gaap_StatementLineItems</td>\n",
       "      <td>Statement [Line Items]</td>\n",
       "      <td>2</td>\n",
       "      <td>False</td>\n",
       "      <td>False</td>\n",
       "      <td>NaN</td>\n",
       "      <td>NaN</td>\n",
       "      <td>NaN</td>\n",
       "      <td>NaN</td>\n",
       "    </tr>\n",
       "    <tr>\n",
       "      <th>7</th>\n",
       "      <td>us-gaap_RevenueFromContractWithCustomerExcludi...</td>\n",
       "      <td>Revenue</td>\n",
       "      <td>3</td>\n",
       "      <td>False</td>\n",
       "      <td>True</td>\n",
       "      <td>3.943280e+11</td>\n",
       "      <td>3.832850e+11</td>\n",
       "      <td>3.910350e+11</td>\n",
       "      <td>Net sales</td>\n",
       "    </tr>\n",
       "    <tr>\n",
       "      <th>8</th>\n",
       "      <td>us-gaap_CostOfGoodsAndServicesSold</td>\n",
       "      <td>Cost of Revenue</td>\n",
       "      <td>3</td>\n",
       "      <td>False</td>\n",
       "      <td>True</td>\n",
       "      <td>-2.235460e+11</td>\n",
       "      <td>-2.141370e+11</td>\n",
       "      <td>-2.103520e+11</td>\n",
       "      <td>Cost of sales</td>\n",
       "    </tr>\n",
       "    <tr>\n",
       "      <th>9</th>\n",
       "      <td>us-gaap_GrossProfit</td>\n",
       "      <td>Gross Profit</td>\n",
       "      <td>3</td>\n",
       "      <td>False</td>\n",
       "      <td>True</td>\n",
       "      <td>1.707820e+11</td>\n",
       "      <td>1.691480e+11</td>\n",
       "      <td>1.806830e+11</td>\n",
       "      <td>Gross margin</td>\n",
       "    </tr>\n",
       "    <tr>\n",
       "      <th>10</th>\n",
       "      <td>us-gaap_OperatingExpensesAbstract</td>\n",
       "      <td>Operating Expenses</td>\n",
       "      <td>3</td>\n",
       "      <td>False</td>\n",
       "      <td>False</td>\n",
       "      <td>NaN</td>\n",
       "      <td>NaN</td>\n",
       "      <td>NaN</td>\n",
       "      <td>Operating expenses:</td>\n",
       "    </tr>\n",
       "    <tr>\n",
       "      <th>11</th>\n",
       "      <td>us-gaap_ResearchAndDevelopmentExpense</td>\n",
       "      <td>Research and Development Expense</td>\n",
       "      <td>4</td>\n",
       "      <td>False</td>\n",
       "      <td>True</td>\n",
       "      <td>2.625100e+10</td>\n",
       "      <td>2.991500e+10</td>\n",
       "      <td>3.137000e+10</td>\n",
       "      <td>Research and development</td>\n",
       "    </tr>\n",
       "    <tr>\n",
       "      <th>12</th>\n",
       "      <td>us-gaap_SellingGeneralAndAdministrativeExpense</td>\n",
       "      <td>Selling, General and Administrative Expense</td>\n",
       "      <td>4</td>\n",
       "      <td>False</td>\n",
       "      <td>True</td>\n",
       "      <td>2.509400e+10</td>\n",
       "      <td>2.493200e+10</td>\n",
       "      <td>2.609700e+10</td>\n",
       "      <td>Selling, general and administrative</td>\n",
       "    </tr>\n",
       "    <tr>\n",
       "      <th>13</th>\n",
       "      <td>us-gaap_OperatingExpenses</td>\n",
       "      <td>Operating Expenses</td>\n",
       "      <td>4</td>\n",
       "      <td>False</td>\n",
       "      <td>True</td>\n",
       "      <td>-5.134500e+10</td>\n",
       "      <td>-5.484700e+10</td>\n",
       "      <td>-5.746700e+10</td>\n",
       "      <td>Total operating expenses</td>\n",
       "    </tr>\n",
       "    <tr>\n",
       "      <th>14</th>\n",
       "      <td>us-gaap_OperatingIncomeLoss</td>\n",
       "      <td>Operating Income</td>\n",
       "      <td>3</td>\n",
       "      <td>False</td>\n",
       "      <td>True</td>\n",
       "      <td>1.194370e+11</td>\n",
       "      <td>1.143010e+11</td>\n",
       "      <td>1.232160e+11</td>\n",
       "      <td>Operating income</td>\n",
       "    </tr>\n",
       "    <tr>\n",
       "      <th>15</th>\n",
       "      <td>us-gaap_NonoperatingIncomeExpense</td>\n",
       "      <td>Nonoperating Income/Expense</td>\n",
       "      <td>3</td>\n",
       "      <td>False</td>\n",
       "      <td>True</td>\n",
       "      <td>-3.340000e+08</td>\n",
       "      <td>-5.650000e+08</td>\n",
       "      <td>2.690000e+08</td>\n",
       "      <td>Other income/(expense), net</td>\n",
       "    </tr>\n",
       "    <tr>\n",
       "      <th>16</th>\n",
       "      <td>us-gaap_IncomeLossFromContinuingOperationsBefo...</td>\n",
       "      <td>Income Before Tax</td>\n",
       "      <td>3</td>\n",
       "      <td>False</td>\n",
       "      <td>True</td>\n",
       "      <td>1.191030e+11</td>\n",
       "      <td>1.137360e+11</td>\n",
       "      <td>1.234850e+11</td>\n",
       "      <td>Income before provision for income taxes</td>\n",
       "    </tr>\n",
       "    <tr>\n",
       "      <th>17</th>\n",
       "      <td>us-gaap_IncomeTaxExpenseBenefit</td>\n",
       "      <td>Income Tax Expense</td>\n",
       "      <td>3</td>\n",
       "      <td>False</td>\n",
       "      <td>True</td>\n",
       "      <td>1.930000e+10</td>\n",
       "      <td>1.674100e+10</td>\n",
       "      <td>2.974900e+10</td>\n",
       "      <td>Provision for income taxes</td>\n",
       "    </tr>\n",
       "    <tr>\n",
       "      <th>18</th>\n",
       "      <td>us-gaap_NetIncomeLoss</td>\n",
       "      <td>Net Income</td>\n",
       "      <td>3</td>\n",
       "      <td>False</td>\n",
       "      <td>True</td>\n",
       "      <td>9.980300e+10</td>\n",
       "      <td>9.699500e+10</td>\n",
       "      <td>9.373600e+10</td>\n",
       "      <td>Net income</td>\n",
       "    </tr>\n",
       "    <tr>\n",
       "      <th>19</th>\n",
       "      <td>us-gaap_EarningsPerShareAbstract</td>\n",
       "      <td>Earnings per share:</td>\n",
       "      <td>3</td>\n",
       "      <td>False</td>\n",
       "      <td>False</td>\n",
       "      <td>NaN</td>\n",
       "      <td>NaN</td>\n",
       "      <td>NaN</td>\n",
       "      <td>NaN</td>\n",
       "    </tr>\n",
       "    <tr>\n",
       "      <th>20</th>\n",
       "      <td>us-gaap_EarningsPerShareBasic</td>\n",
       "      <td>Earnings Per Share</td>\n",
       "      <td>4</td>\n",
       "      <td>False</td>\n",
       "      <td>True</td>\n",
       "      <td>6.150000e+00</td>\n",
       "      <td>6.160000e+00</td>\n",
       "      <td>6.110000e+00</td>\n",
       "      <td>Basic (in dollars per share)</td>\n",
       "    </tr>\n",
       "    <tr>\n",
       "      <th>21</th>\n",
       "      <td>us-gaap_EarningsPerShareDiluted</td>\n",
       "      <td>Earnings Per Share (Diluted)</td>\n",
       "      <td>4</td>\n",
       "      <td>False</td>\n",
       "      <td>True</td>\n",
       "      <td>6.110000e+00</td>\n",
       "      <td>6.130000e+00</td>\n",
       "      <td>6.080000e+00</td>\n",
       "      <td>Diluted (in dollars per share)</td>\n",
       "    </tr>\n",
       "    <tr>\n",
       "      <th>22</th>\n",
       "      <td>us-gaap_WeightedAverageNumberOfSharesOutstandi...</td>\n",
       "      <td>Shares used in computing earnings per share:</td>\n",
       "      <td>3</td>\n",
       "      <td>False</td>\n",
       "      <td>False</td>\n",
       "      <td>NaN</td>\n",
       "      <td>NaN</td>\n",
       "      <td>NaN</td>\n",
       "      <td>NaN</td>\n",
       "    </tr>\n",
       "    <tr>\n",
       "      <th>23</th>\n",
       "      <td>us-gaap_WeightedAverageNumberOfSharesOutstandi...</td>\n",
       "      <td>Shares Outstanding</td>\n",
       "      <td>4</td>\n",
       "      <td>False</td>\n",
       "      <td>True</td>\n",
       "      <td>1.621596e+10</td>\n",
       "      <td>1.574423e+10</td>\n",
       "      <td>1.534378e+10</td>\n",
       "      <td>Basic (in shares)</td>\n",
       "    </tr>\n",
       "    <tr>\n",
       "      <th>24</th>\n",
       "      <td>us-gaap_WeightedAverageNumberOfDilutedSharesOu...</td>\n",
       "      <td>Shares Outstanding (Diluted)</td>\n",
       "      <td>4</td>\n",
       "      <td>False</td>\n",
       "      <td>True</td>\n",
       "      <td>1.632582e+10</td>\n",
       "      <td>1.581255e+10</td>\n",
       "      <td>1.540810e+10</td>\n",
       "      <td>Diluted (in shares)</td>\n",
       "    </tr>\n",
       "  </tbody>\n",
       "</table>\n",
       "</div>"
      ]
     },
     "execution_count": 11,
     "metadata": {},
     "output_type": "execute_result"
    }
   ],
   "execution_count": 11
  },
  {
   "metadata": {
    "ExecuteTime": {
     "end_time": "2025-03-25T18:24:41.301935Z",
     "start_time": "2025-03-25T18:24:41.269737Z"
    }
   },
   "cell_type": "code",
   "source": "balance_sheet.to_dataframe()",
   "id": "468511036e41f0fc",
   "outputs": [
    {
     "data": {
      "text/plain": [
       "                                              concept  \\\n",
       "0        us-gaap_StatementOfFinancialPositionAbstract   \n",
       "1                              us-gaap_AssetsAbstract   \n",
       "2                       us-gaap_AssetsCurrentAbstract   \n",
       "3       us-gaap_CashAndCashEquivalentsAtCarryingValue   \n",
       "4                 us-gaap_MarketableSecuritiesCurrent   \n",
       "5                us-gaap_AccountsReceivableNetCurrent   \n",
       "6                  us-gaap_NontradeReceivablesCurrent   \n",
       "7                                us-gaap_InventoryNet   \n",
       "8                          us-gaap_OtherAssetsCurrent   \n",
       "9                               us-gaap_AssetsCurrent   \n",
       "10                   us-gaap_AssetsNoncurrentAbstract   \n",
       "11             us-gaap_MarketableSecuritiesNoncurrent   \n",
       "12               us-gaap_PropertyPlantAndEquipmentNet   \n",
       "13                      us-gaap_OtherAssetsNoncurrent   \n",
       "14                           us-gaap_AssetsNoncurrent   \n",
       "15                                     us-gaap_Assets   \n",
       "16   us-gaap_LiabilitiesAndStockholdersEquityAbstract   \n",
       "17                 us-gaap_LiabilitiesCurrentAbstract   \n",
       "18                     us-gaap_AccountsPayableCurrent   \n",
       "19                    us-gaap_OtherLiabilitiesCurrent   \n",
       "20       us-gaap_ContractWithCustomerLiabilityCurrent   \n",
       "21                            us-gaap_CommercialPaper   \n",
       "22                        us-gaap_LongTermDebtCurrent   \n",
       "23                         us-gaap_LiabilitiesCurrent   \n",
       "24              us-gaap_LiabilitiesNoncurrentAbstract   \n",
       "25                     us-gaap_LongTermDebtNoncurrent   \n",
       "26                 us-gaap_OtherLiabilitiesNoncurrent   \n",
       "27                      us-gaap_LiabilitiesNoncurrent   \n",
       "28                                us-gaap_Liabilities   \n",
       "29                us-gaap_CommitmentsAndContingencies   \n",
       "30               us-gaap_CommonStockSharesOutstanding   \n",
       "31                    us-gaap_CommonStockSharesIssued   \n",
       "32                 us-gaap_StockholdersEquityAbstract   \n",
       "33  us-gaap_CommonStocksIncludingAdditionalPaidInC...   \n",
       "34         us-gaap_RetainedEarningsAccumulatedDeficit   \n",
       "35  us-gaap_AccumulatedOtherComprehensiveIncomeLos...   \n",
       "36                         us-gaap_StockholdersEquity   \n",
       "37           us-gaap_LiabilitiesAndStockholdersEquity   \n",
       "\n",
       "                                          label  level  is_abstract  \\\n",
       "0    Statement of Financial Position [Abstract]      0        False   \n",
       "1                                       ASSETS:      1        False   \n",
       "2                               Current assets:      2        False   \n",
       "3                     Cash and Cash Equivalents      3        False   \n",
       "4                         Marketable Securities      3        False   \n",
       "5                           Accounts Receivable      3        False   \n",
       "6                  Vendor non-trade receivables      3        False   \n",
       "7                                     Inventory      3        False   \n",
       "8                                  Other Assets      3        False   \n",
       "9                          Total Current Assets      3        False   \n",
       "10                          Non-current assets:      2        False   \n",
       "11                        Marketable securities      3        False   \n",
       "12                Property, Plant and Equipment      3        False   \n",
       "13                                 Other Assets      3        False   \n",
       "14                         Total Current Assets      3        False   \n",
       "15                                 Total Assets      2        False   \n",
       "16        LIABILITIES AND SHAREHOLDERS’ EQUITY:      1        False   \n",
       "17                         Current liabilities:      2        False   \n",
       "18                             Accounts Payable      3        False   \n",
       "19                            Other Liabilities      3        False   \n",
       "20                             Deferred Revenue      3        False   \n",
       "21                             Commercial paper      3        False   \n",
       "22                              Short-Term Debt      3        False   \n",
       "23                    Total Current Liabilities      3        False   \n",
       "24                     Non-current liabilities:      2        False   \n",
       "25                               Long-Term Debt      3        False   \n",
       "26                            Other Liabilities      3        False   \n",
       "27                    Total Current Liabilities      3        False   \n",
       "28                            Total Liabilities      2        False   \n",
       "29                Commitments and contingencies      2        False   \n",
       "30              Common Stock Shares Outstanding      2        False   \n",
       "31                   Common Stock Shares Issued      2        False   \n",
       "32                        Shareholders’ equity:      2        False   \n",
       "33                                 Common Stock      3        False   \n",
       "34                            Retained Earnings      3        False   \n",
       "35  Accumulated Other Comprehensive Income/Loss      3        False   \n",
       "36                   Total Stockholders' Equity      3        False   \n",
       "37   Total Liabilities and Stockholders' Equity      2        False   \n",
       "\n",
       "    has_values    2021-09-25    2022-09-24      2023-09-30      2024-09-28  \\\n",
       "0        False           NaN           NaN            None            None   \n",
       "1        False           NaN           NaN            None            None   \n",
       "2        False           NaN           NaN            None            None   \n",
       "3         True           NaN           NaN   29965000000.0   29943000000.0   \n",
       "4         True           NaN           NaN   31590000000.0   35228000000.0   \n",
       "5         True           NaN           NaN   29508000000.0   33410000000.0   \n",
       "6         True           NaN           NaN   31477000000.0   32833000000.0   \n",
       "7         True           NaN           NaN    6331000000.0    7286000000.0   \n",
       "8         True           NaN           NaN   14695000000.0   14287000000.0   \n",
       "9         True           NaN           NaN  143566000000.0  152987000000.0   \n",
       "10       False           NaN           NaN            None            None   \n",
       "11        True           NaN           NaN  100544000000.0   91479000000.0   \n",
       "12        True           NaN           NaN   43715000000.0   45680000000.0   \n",
       "13        True           NaN           NaN   64758000000.0   74834000000.0   \n",
       "14        True           NaN           NaN  209017000000.0  211993000000.0   \n",
       "15        True           NaN           NaN  352583000000.0  364980000000.0   \n",
       "16       False           NaN           NaN            None            None   \n",
       "17       False           NaN           NaN            None            None   \n",
       "18        True           NaN           NaN   62611000000.0   68960000000.0   \n",
       "19        True           NaN           NaN   58829000000.0   78304000000.0   \n",
       "20        True           NaN           NaN    8061000000.0    8249000000.0   \n",
       "21        True           NaN           NaN    5985000000.0    9967000000.0   \n",
       "22        True           NaN           NaN    9822000000.0   10912000000.0   \n",
       "23        True           NaN           NaN  145308000000.0  176392000000.0   \n",
       "24       False           NaN           NaN            None            None   \n",
       "25        True           NaN           NaN   95281000000.0   85750000000.0   \n",
       "26        True           NaN           NaN   49848000000.0   45888000000.0   \n",
       "27        True           NaN           NaN  145129000000.0  131638000000.0   \n",
       "28        True           NaN           NaN  290437000000.0  308030000000.0   \n",
       "29        True           NaN           NaN                                   \n",
       "30        True  1.642679e+10  1.594342e+10   15550061000.0   15116786000.0   \n",
       "31        True           NaN           NaN   15550061000.0   15116786000.0   \n",
       "32       False           NaN           NaN            None            None   \n",
       "33        True           NaN           NaN   73812000000.0   83276000000.0   \n",
       "34        True           NaN           NaN    -214000000.0  -19154000000.0   \n",
       "35        True           NaN           NaN  -11452000000.0   -7172000000.0   \n",
       "36        True  6.309000e+10  5.067200e+10   62146000000.0   56950000000.0   \n",
       "37        True           NaN           NaN  352583000000.0  364980000000.0   \n",
       "\n",
       "                                       original_label  \n",
       "0                                                 NaN  \n",
       "1                                                 NaN  \n",
       "2                                                 NaN  \n",
       "3                           Cash and cash equivalents  \n",
       "4                               Marketable securities  \n",
       "5                            Accounts receivable, net  \n",
       "6                                                 NaN  \n",
       "7                                         Inventories  \n",
       "8                                Other current assets  \n",
       "9                                Total current assets  \n",
       "10                                                NaN  \n",
       "11                                                NaN  \n",
       "12                 Property, plant and equipment, net  \n",
       "13                           Other non-current assets  \n",
       "14                           Total non-current assets  \n",
       "15                                       Total assets  \n",
       "16                                                NaN  \n",
       "17                                                NaN  \n",
       "18                                   Accounts payable  \n",
       "19                          Other current liabilities  \n",
       "20                                   Deferred revenue  \n",
       "21                                                NaN  \n",
       "22                                          Term debt  \n",
       "23                          Total current liabilities  \n",
       "24                                                NaN  \n",
       "25                                          Term debt  \n",
       "26                      Other non-current liabilities  \n",
       "27                      Total non-current liabilities  \n",
       "28                                  Total liabilities  \n",
       "29                                                NaN  \n",
       "30       Common stock, shares outstanding (in shares)  \n",
       "31            Common stock, shares issued (in shares)  \n",
       "32                                                NaN  \n",
       "33  Common stock and additional paid-in capital, $...  \n",
       "34                                Accumulated deficit  \n",
       "35               Accumulated other comprehensive loss  \n",
       "36                         Total shareholders’ equity  \n",
       "37         Total liabilities and shareholders’ equity  "
      ],
      "text/html": [
       "<div>\n",
       "<style scoped>\n",
       "    .dataframe tbody tr th:only-of-type {\n",
       "        vertical-align: middle;\n",
       "    }\n",
       "\n",
       "    .dataframe tbody tr th {\n",
       "        vertical-align: top;\n",
       "    }\n",
       "\n",
       "    .dataframe thead th {\n",
       "        text-align: right;\n",
       "    }\n",
       "</style>\n",
       "<table border=\"1\" class=\"dataframe\">\n",
       "  <thead>\n",
       "    <tr style=\"text-align: right;\">\n",
       "      <th></th>\n",
       "      <th>concept</th>\n",
       "      <th>label</th>\n",
       "      <th>level</th>\n",
       "      <th>is_abstract</th>\n",
       "      <th>has_values</th>\n",
       "      <th>2021-09-25</th>\n",
       "      <th>2022-09-24</th>\n",
       "      <th>2023-09-30</th>\n",
       "      <th>2024-09-28</th>\n",
       "      <th>original_label</th>\n",
       "    </tr>\n",
       "  </thead>\n",
       "  <tbody>\n",
       "    <tr>\n",
       "      <th>0</th>\n",
       "      <td>us-gaap_StatementOfFinancialPositionAbstract</td>\n",
       "      <td>Statement of Financial Position [Abstract]</td>\n",
       "      <td>0</td>\n",
       "      <td>False</td>\n",
       "      <td>False</td>\n",
       "      <td>NaN</td>\n",
       "      <td>NaN</td>\n",
       "      <td>None</td>\n",
       "      <td>None</td>\n",
       "      <td>NaN</td>\n",
       "    </tr>\n",
       "    <tr>\n",
       "      <th>1</th>\n",
       "      <td>us-gaap_AssetsAbstract</td>\n",
       "      <td>ASSETS:</td>\n",
       "      <td>1</td>\n",
       "      <td>False</td>\n",
       "      <td>False</td>\n",
       "      <td>NaN</td>\n",
       "      <td>NaN</td>\n",
       "      <td>None</td>\n",
       "      <td>None</td>\n",
       "      <td>NaN</td>\n",
       "    </tr>\n",
       "    <tr>\n",
       "      <th>2</th>\n",
       "      <td>us-gaap_AssetsCurrentAbstract</td>\n",
       "      <td>Current assets:</td>\n",
       "      <td>2</td>\n",
       "      <td>False</td>\n",
       "      <td>False</td>\n",
       "      <td>NaN</td>\n",
       "      <td>NaN</td>\n",
       "      <td>None</td>\n",
       "      <td>None</td>\n",
       "      <td>NaN</td>\n",
       "    </tr>\n",
       "    <tr>\n",
       "      <th>3</th>\n",
       "      <td>us-gaap_CashAndCashEquivalentsAtCarryingValue</td>\n",
       "      <td>Cash and Cash Equivalents</td>\n",
       "      <td>3</td>\n",
       "      <td>False</td>\n",
       "      <td>True</td>\n",
       "      <td>NaN</td>\n",
       "      <td>NaN</td>\n",
       "      <td>29965000000.0</td>\n",
       "      <td>29943000000.0</td>\n",
       "      <td>Cash and cash equivalents</td>\n",
       "    </tr>\n",
       "    <tr>\n",
       "      <th>4</th>\n",
       "      <td>us-gaap_MarketableSecuritiesCurrent</td>\n",
       "      <td>Marketable Securities</td>\n",
       "      <td>3</td>\n",
       "      <td>False</td>\n",
       "      <td>True</td>\n",
       "      <td>NaN</td>\n",
       "      <td>NaN</td>\n",
       "      <td>31590000000.0</td>\n",
       "      <td>35228000000.0</td>\n",
       "      <td>Marketable securities</td>\n",
       "    </tr>\n",
       "    <tr>\n",
       "      <th>5</th>\n",
       "      <td>us-gaap_AccountsReceivableNetCurrent</td>\n",
       "      <td>Accounts Receivable</td>\n",
       "      <td>3</td>\n",
       "      <td>False</td>\n",
       "      <td>True</td>\n",
       "      <td>NaN</td>\n",
       "      <td>NaN</td>\n",
       "      <td>29508000000.0</td>\n",
       "      <td>33410000000.0</td>\n",
       "      <td>Accounts receivable, net</td>\n",
       "    </tr>\n",
       "    <tr>\n",
       "      <th>6</th>\n",
       "      <td>us-gaap_NontradeReceivablesCurrent</td>\n",
       "      <td>Vendor non-trade receivables</td>\n",
       "      <td>3</td>\n",
       "      <td>False</td>\n",
       "      <td>True</td>\n",
       "      <td>NaN</td>\n",
       "      <td>NaN</td>\n",
       "      <td>31477000000.0</td>\n",
       "      <td>32833000000.0</td>\n",
       "      <td>NaN</td>\n",
       "    </tr>\n",
       "    <tr>\n",
       "      <th>7</th>\n",
       "      <td>us-gaap_InventoryNet</td>\n",
       "      <td>Inventory</td>\n",
       "      <td>3</td>\n",
       "      <td>False</td>\n",
       "      <td>True</td>\n",
       "      <td>NaN</td>\n",
       "      <td>NaN</td>\n",
       "      <td>6331000000.0</td>\n",
       "      <td>7286000000.0</td>\n",
       "      <td>Inventories</td>\n",
       "    </tr>\n",
       "    <tr>\n",
       "      <th>8</th>\n",
       "      <td>us-gaap_OtherAssetsCurrent</td>\n",
       "      <td>Other Assets</td>\n",
       "      <td>3</td>\n",
       "      <td>False</td>\n",
       "      <td>True</td>\n",
       "      <td>NaN</td>\n",
       "      <td>NaN</td>\n",
       "      <td>14695000000.0</td>\n",
       "      <td>14287000000.0</td>\n",
       "      <td>Other current assets</td>\n",
       "    </tr>\n",
       "    <tr>\n",
       "      <th>9</th>\n",
       "      <td>us-gaap_AssetsCurrent</td>\n",
       "      <td>Total Current Assets</td>\n",
       "      <td>3</td>\n",
       "      <td>False</td>\n",
       "      <td>True</td>\n",
       "      <td>NaN</td>\n",
       "      <td>NaN</td>\n",
       "      <td>143566000000.0</td>\n",
       "      <td>152987000000.0</td>\n",
       "      <td>Total current assets</td>\n",
       "    </tr>\n",
       "    <tr>\n",
       "      <th>10</th>\n",
       "      <td>us-gaap_AssetsNoncurrentAbstract</td>\n",
       "      <td>Non-current assets:</td>\n",
       "      <td>2</td>\n",
       "      <td>False</td>\n",
       "      <td>False</td>\n",
       "      <td>NaN</td>\n",
       "      <td>NaN</td>\n",
       "      <td>None</td>\n",
       "      <td>None</td>\n",
       "      <td>NaN</td>\n",
       "    </tr>\n",
       "    <tr>\n",
       "      <th>11</th>\n",
       "      <td>us-gaap_MarketableSecuritiesNoncurrent</td>\n",
       "      <td>Marketable securities</td>\n",
       "      <td>3</td>\n",
       "      <td>False</td>\n",
       "      <td>True</td>\n",
       "      <td>NaN</td>\n",
       "      <td>NaN</td>\n",
       "      <td>100544000000.0</td>\n",
       "      <td>91479000000.0</td>\n",
       "      <td>NaN</td>\n",
       "    </tr>\n",
       "    <tr>\n",
       "      <th>12</th>\n",
       "      <td>us-gaap_PropertyPlantAndEquipmentNet</td>\n",
       "      <td>Property, Plant and Equipment</td>\n",
       "      <td>3</td>\n",
       "      <td>False</td>\n",
       "      <td>True</td>\n",
       "      <td>NaN</td>\n",
       "      <td>NaN</td>\n",
       "      <td>43715000000.0</td>\n",
       "      <td>45680000000.0</td>\n",
       "      <td>Property, plant and equipment, net</td>\n",
       "    </tr>\n",
       "    <tr>\n",
       "      <th>13</th>\n",
       "      <td>us-gaap_OtherAssetsNoncurrent</td>\n",
       "      <td>Other Assets</td>\n",
       "      <td>3</td>\n",
       "      <td>False</td>\n",
       "      <td>True</td>\n",
       "      <td>NaN</td>\n",
       "      <td>NaN</td>\n",
       "      <td>64758000000.0</td>\n",
       "      <td>74834000000.0</td>\n",
       "      <td>Other non-current assets</td>\n",
       "    </tr>\n",
       "    <tr>\n",
       "      <th>14</th>\n",
       "      <td>us-gaap_AssetsNoncurrent</td>\n",
       "      <td>Total Current Assets</td>\n",
       "      <td>3</td>\n",
       "      <td>False</td>\n",
       "      <td>True</td>\n",
       "      <td>NaN</td>\n",
       "      <td>NaN</td>\n",
       "      <td>209017000000.0</td>\n",
       "      <td>211993000000.0</td>\n",
       "      <td>Total non-current assets</td>\n",
       "    </tr>\n",
       "    <tr>\n",
       "      <th>15</th>\n",
       "      <td>us-gaap_Assets</td>\n",
       "      <td>Total Assets</td>\n",
       "      <td>2</td>\n",
       "      <td>False</td>\n",
       "      <td>True</td>\n",
       "      <td>NaN</td>\n",
       "      <td>NaN</td>\n",
       "      <td>352583000000.0</td>\n",
       "      <td>364980000000.0</td>\n",
       "      <td>Total assets</td>\n",
       "    </tr>\n",
       "    <tr>\n",
       "      <th>16</th>\n",
       "      <td>us-gaap_LiabilitiesAndStockholdersEquityAbstract</td>\n",
       "      <td>LIABILITIES AND SHAREHOLDERS’ EQUITY:</td>\n",
       "      <td>1</td>\n",
       "      <td>False</td>\n",
       "      <td>False</td>\n",
       "      <td>NaN</td>\n",
       "      <td>NaN</td>\n",
       "      <td>None</td>\n",
       "      <td>None</td>\n",
       "      <td>NaN</td>\n",
       "    </tr>\n",
       "    <tr>\n",
       "      <th>17</th>\n",
       "      <td>us-gaap_LiabilitiesCurrentAbstract</td>\n",
       "      <td>Current liabilities:</td>\n",
       "      <td>2</td>\n",
       "      <td>False</td>\n",
       "      <td>False</td>\n",
       "      <td>NaN</td>\n",
       "      <td>NaN</td>\n",
       "      <td>None</td>\n",
       "      <td>None</td>\n",
       "      <td>NaN</td>\n",
       "    </tr>\n",
       "    <tr>\n",
       "      <th>18</th>\n",
       "      <td>us-gaap_AccountsPayableCurrent</td>\n",
       "      <td>Accounts Payable</td>\n",
       "      <td>3</td>\n",
       "      <td>False</td>\n",
       "      <td>True</td>\n",
       "      <td>NaN</td>\n",
       "      <td>NaN</td>\n",
       "      <td>62611000000.0</td>\n",
       "      <td>68960000000.0</td>\n",
       "      <td>Accounts payable</td>\n",
       "    </tr>\n",
       "    <tr>\n",
       "      <th>19</th>\n",
       "      <td>us-gaap_OtherLiabilitiesCurrent</td>\n",
       "      <td>Other Liabilities</td>\n",
       "      <td>3</td>\n",
       "      <td>False</td>\n",
       "      <td>True</td>\n",
       "      <td>NaN</td>\n",
       "      <td>NaN</td>\n",
       "      <td>58829000000.0</td>\n",
       "      <td>78304000000.0</td>\n",
       "      <td>Other current liabilities</td>\n",
       "    </tr>\n",
       "    <tr>\n",
       "      <th>20</th>\n",
       "      <td>us-gaap_ContractWithCustomerLiabilityCurrent</td>\n",
       "      <td>Deferred Revenue</td>\n",
       "      <td>3</td>\n",
       "      <td>False</td>\n",
       "      <td>True</td>\n",
       "      <td>NaN</td>\n",
       "      <td>NaN</td>\n",
       "      <td>8061000000.0</td>\n",
       "      <td>8249000000.0</td>\n",
       "      <td>Deferred revenue</td>\n",
       "    </tr>\n",
       "    <tr>\n",
       "      <th>21</th>\n",
       "      <td>us-gaap_CommercialPaper</td>\n",
       "      <td>Commercial paper</td>\n",
       "      <td>3</td>\n",
       "      <td>False</td>\n",
       "      <td>True</td>\n",
       "      <td>NaN</td>\n",
       "      <td>NaN</td>\n",
       "      <td>5985000000.0</td>\n",
       "      <td>9967000000.0</td>\n",
       "      <td>NaN</td>\n",
       "    </tr>\n",
       "    <tr>\n",
       "      <th>22</th>\n",
       "      <td>us-gaap_LongTermDebtCurrent</td>\n",
       "      <td>Short-Term Debt</td>\n",
       "      <td>3</td>\n",
       "      <td>False</td>\n",
       "      <td>True</td>\n",
       "      <td>NaN</td>\n",
       "      <td>NaN</td>\n",
       "      <td>9822000000.0</td>\n",
       "      <td>10912000000.0</td>\n",
       "      <td>Term debt</td>\n",
       "    </tr>\n",
       "    <tr>\n",
       "      <th>23</th>\n",
       "      <td>us-gaap_LiabilitiesCurrent</td>\n",
       "      <td>Total Current Liabilities</td>\n",
       "      <td>3</td>\n",
       "      <td>False</td>\n",
       "      <td>True</td>\n",
       "      <td>NaN</td>\n",
       "      <td>NaN</td>\n",
       "      <td>145308000000.0</td>\n",
       "      <td>176392000000.0</td>\n",
       "      <td>Total current liabilities</td>\n",
       "    </tr>\n",
       "    <tr>\n",
       "      <th>24</th>\n",
       "      <td>us-gaap_LiabilitiesNoncurrentAbstract</td>\n",
       "      <td>Non-current liabilities:</td>\n",
       "      <td>2</td>\n",
       "      <td>False</td>\n",
       "      <td>False</td>\n",
       "      <td>NaN</td>\n",
       "      <td>NaN</td>\n",
       "      <td>None</td>\n",
       "      <td>None</td>\n",
       "      <td>NaN</td>\n",
       "    </tr>\n",
       "    <tr>\n",
       "      <th>25</th>\n",
       "      <td>us-gaap_LongTermDebtNoncurrent</td>\n",
       "      <td>Long-Term Debt</td>\n",
       "      <td>3</td>\n",
       "      <td>False</td>\n",
       "      <td>True</td>\n",
       "      <td>NaN</td>\n",
       "      <td>NaN</td>\n",
       "      <td>95281000000.0</td>\n",
       "      <td>85750000000.0</td>\n",
       "      <td>Term debt</td>\n",
       "    </tr>\n",
       "    <tr>\n",
       "      <th>26</th>\n",
       "      <td>us-gaap_OtherLiabilitiesNoncurrent</td>\n",
       "      <td>Other Liabilities</td>\n",
       "      <td>3</td>\n",
       "      <td>False</td>\n",
       "      <td>True</td>\n",
       "      <td>NaN</td>\n",
       "      <td>NaN</td>\n",
       "      <td>49848000000.0</td>\n",
       "      <td>45888000000.0</td>\n",
       "      <td>Other non-current liabilities</td>\n",
       "    </tr>\n",
       "    <tr>\n",
       "      <th>27</th>\n",
       "      <td>us-gaap_LiabilitiesNoncurrent</td>\n",
       "      <td>Total Current Liabilities</td>\n",
       "      <td>3</td>\n",
       "      <td>False</td>\n",
       "      <td>True</td>\n",
       "      <td>NaN</td>\n",
       "      <td>NaN</td>\n",
       "      <td>145129000000.0</td>\n",
       "      <td>131638000000.0</td>\n",
       "      <td>Total non-current liabilities</td>\n",
       "    </tr>\n",
       "    <tr>\n",
       "      <th>28</th>\n",
       "      <td>us-gaap_Liabilities</td>\n",
       "      <td>Total Liabilities</td>\n",
       "      <td>2</td>\n",
       "      <td>False</td>\n",
       "      <td>True</td>\n",
       "      <td>NaN</td>\n",
       "      <td>NaN</td>\n",
       "      <td>290437000000.0</td>\n",
       "      <td>308030000000.0</td>\n",
       "      <td>Total liabilities</td>\n",
       "    </tr>\n",
       "    <tr>\n",
       "      <th>29</th>\n",
       "      <td>us-gaap_CommitmentsAndContingencies</td>\n",
       "      <td>Commitments and contingencies</td>\n",
       "      <td>2</td>\n",
       "      <td>False</td>\n",
       "      <td>True</td>\n",
       "      <td>NaN</td>\n",
       "      <td>NaN</td>\n",
       "      <td></td>\n",
       "      <td></td>\n",
       "      <td>NaN</td>\n",
       "    </tr>\n",
       "    <tr>\n",
       "      <th>30</th>\n",
       "      <td>us-gaap_CommonStockSharesOutstanding</td>\n",
       "      <td>Common Stock Shares Outstanding</td>\n",
       "      <td>2</td>\n",
       "      <td>False</td>\n",
       "      <td>True</td>\n",
       "      <td>1.642679e+10</td>\n",
       "      <td>1.594342e+10</td>\n",
       "      <td>15550061000.0</td>\n",
       "      <td>15116786000.0</td>\n",
       "      <td>Common stock, shares outstanding (in shares)</td>\n",
       "    </tr>\n",
       "    <tr>\n",
       "      <th>31</th>\n",
       "      <td>us-gaap_CommonStockSharesIssued</td>\n",
       "      <td>Common Stock Shares Issued</td>\n",
       "      <td>2</td>\n",
       "      <td>False</td>\n",
       "      <td>True</td>\n",
       "      <td>NaN</td>\n",
       "      <td>NaN</td>\n",
       "      <td>15550061000.0</td>\n",
       "      <td>15116786000.0</td>\n",
       "      <td>Common stock, shares issued (in shares)</td>\n",
       "    </tr>\n",
       "    <tr>\n",
       "      <th>32</th>\n",
       "      <td>us-gaap_StockholdersEquityAbstract</td>\n",
       "      <td>Shareholders’ equity:</td>\n",
       "      <td>2</td>\n",
       "      <td>False</td>\n",
       "      <td>False</td>\n",
       "      <td>NaN</td>\n",
       "      <td>NaN</td>\n",
       "      <td>None</td>\n",
       "      <td>None</td>\n",
       "      <td>NaN</td>\n",
       "    </tr>\n",
       "    <tr>\n",
       "      <th>33</th>\n",
       "      <td>us-gaap_CommonStocksIncludingAdditionalPaidInC...</td>\n",
       "      <td>Common Stock</td>\n",
       "      <td>3</td>\n",
       "      <td>False</td>\n",
       "      <td>True</td>\n",
       "      <td>NaN</td>\n",
       "      <td>NaN</td>\n",
       "      <td>73812000000.0</td>\n",
       "      <td>83276000000.0</td>\n",
       "      <td>Common stock and additional paid-in capital, $...</td>\n",
       "    </tr>\n",
       "    <tr>\n",
       "      <th>34</th>\n",
       "      <td>us-gaap_RetainedEarningsAccumulatedDeficit</td>\n",
       "      <td>Retained Earnings</td>\n",
       "      <td>3</td>\n",
       "      <td>False</td>\n",
       "      <td>True</td>\n",
       "      <td>NaN</td>\n",
       "      <td>NaN</td>\n",
       "      <td>-214000000.0</td>\n",
       "      <td>-19154000000.0</td>\n",
       "      <td>Accumulated deficit</td>\n",
       "    </tr>\n",
       "    <tr>\n",
       "      <th>35</th>\n",
       "      <td>us-gaap_AccumulatedOtherComprehensiveIncomeLos...</td>\n",
       "      <td>Accumulated Other Comprehensive Income/Loss</td>\n",
       "      <td>3</td>\n",
       "      <td>False</td>\n",
       "      <td>True</td>\n",
       "      <td>NaN</td>\n",
       "      <td>NaN</td>\n",
       "      <td>-11452000000.0</td>\n",
       "      <td>-7172000000.0</td>\n",
       "      <td>Accumulated other comprehensive loss</td>\n",
       "    </tr>\n",
       "    <tr>\n",
       "      <th>36</th>\n",
       "      <td>us-gaap_StockholdersEquity</td>\n",
       "      <td>Total Stockholders' Equity</td>\n",
       "      <td>3</td>\n",
       "      <td>False</td>\n",
       "      <td>True</td>\n",
       "      <td>6.309000e+10</td>\n",
       "      <td>5.067200e+10</td>\n",
       "      <td>62146000000.0</td>\n",
       "      <td>56950000000.0</td>\n",
       "      <td>Total shareholders’ equity</td>\n",
       "    </tr>\n",
       "    <tr>\n",
       "      <th>37</th>\n",
       "      <td>us-gaap_LiabilitiesAndStockholdersEquity</td>\n",
       "      <td>Total Liabilities and Stockholders' Equity</td>\n",
       "      <td>2</td>\n",
       "      <td>False</td>\n",
       "      <td>True</td>\n",
       "      <td>NaN</td>\n",
       "      <td>NaN</td>\n",
       "      <td>352583000000.0</td>\n",
       "      <td>364980000000.0</td>\n",
       "      <td>Total liabilities and shareholders’ equity</td>\n",
       "    </tr>\n",
       "  </tbody>\n",
       "</table>\n",
       "</div>"
      ]
     },
     "execution_count": 12,
     "metadata": {},
     "output_type": "execute_result"
    }
   ],
   "execution_count": 12
  },
  {
   "metadata": {},
   "cell_type": "markdown",
   "source": [
    "# Stitching Statements\n",
    "<hr/>"
   ],
   "id": "de74493ae84812f3"
  },
  {
   "metadata": {
    "ExecuteTime": {
     "end_time": "2025-03-25T18:24:46.294271Z",
     "start_time": "2025-03-25T18:24:44.638706Z"
    }
   },
   "cell_type": "code",
   "source": [
    "filings = c.latest(\"10-K\", 4)\n",
    "xbrls = XBRLS.from_filings(filings)\n",
    "xbrls.statements"
   ],
   "id": "107687534f201101",
   "outputs": [
    {
     "data": {
      "text/plain": [],
      "text/html": [
       "<pre style=\"white-space:pre;overflow-x:auto;line-height:normal;font-family:Menlo,'DejaVu Sans Mono',consolas,'Courier New',monospace\"></pre>\n"
      ]
     },
     "metadata": {},
     "output_type": "display_data"
    },
    {
     "data": {
      "text/plain": [
       "\u001B[3m  Available Stitched Statements  \u001B[0m\n",
       "                                 \n",
       " \u001B[1m \u001B[0m\u001B[1mStatement Type     \u001B[0m\u001B[1m \u001B[0m \u001B[1m \u001B[0m\u001B[1mPeriods\u001B[0m\u001B[1m \u001B[0m \n",
       " ─────────────────────────────── \n",
       "  BalanceSheet          32       \n",
       "  CashFlowStatement     32       \n",
       "  ComprehensiveIncome   32       \n",
       "  CoverPage             32       \n",
       "  IncomeStatement       32       \n",
       "  StatementOfEquity     32       \n",
       "                                 "
      ]
     },
     "execution_count": 13,
     "metadata": {},
     "output_type": "execute_result"
    }
   ],
   "execution_count": 13
  },
  {
   "metadata": {},
   "cell_type": "markdown",
   "source": "## Balance Sheet",
   "id": "26389377e1cb24ee"
  },
  {
   "metadata": {
    "ExecuteTime": {
     "end_time": "2025-03-25T18:24:46.408859Z",
     "start_time": "2025-03-25T18:24:46.354915Z"
    }
   },
   "cell_type": "code",
   "source": "xbrls.statements.balance_sheet()",
   "id": "dfe8c5a057371642",
   "outputs": [
    {
     "data": {
      "text/plain": [],
      "text/html": [
       "<pre style=\"white-space:pre;overflow-x:auto;line-height:normal;font-family:Menlo,'DejaVu Sans Mono',consolas,'Courier New',monospace\"></pre>\n"
      ]
     },
     "metadata": {},
     "output_type": "display_data"
    },
    {
     "data": {
      "text/plain": [
       "\u001B[3m                            CONSOLIDATED BALANCE SHEET (4-Period View) (Standardized)                            \u001B[0m\n",
       "\u001B[3m                           \u001B[0m\u001B[1;3mFiscal Year Ended\u001B[0m\u001B[3m \u001B[0m\u001B[3m(In millions, except shares in thousands)\u001B[0m\u001B[3m                           \u001B[0m\n",
       "                                                                                                                 \n",
       " \u001B[1m \u001B[0m\u001B[1m                                                 \u001B[0m\u001B[1m \u001B[0m \u001B[1m \u001B[0m\u001B[1mSep 28, 2024\u001B[0m\u001B[1m \u001B[0m \u001B[1m \u001B[0m\u001B[1mSep 30, 2023\u001B[0m\u001B[1m \u001B[0m \u001B[1m \u001B[0m\u001B[1mSep 24, 2022\u001B[0m\u001B[1m \u001B[0m \u001B[1m \u001B[0m\u001B[1mSep 25, 2021\u001B[0m\u001B[1m \u001B[0m \n",
       " ─────────────────────────────────────────────────────────────────────────────────────────────────────────────── \n",
       "      Commitments and contingencies                                                                              \n",
       "      Common Stock Shares Issued                        15,116,786     15,550,061                                \n",
       "      Common Stock Shares Outstanding                   15,116,786     15,550,061                                \n",
       "      Total Assets                                        $364,980       $352,583       $352,755       $351,002  \n",
       "      Total Liabilities                                   $308,030       $290,437       $302,083       $287,912  \n",
       "      Total Liabilities and Stockholders' Equity          $364,980       $352,583       $352,755       $351,002  \n",
       "        Accounts Payable                                   $68,960        $62,611        $64,115        $54,763  \n",
       "        Accounts Receivable                                $33,410        $29,508        $28,184        $26,278  \n",
       "        Accumulated Other Comprehensive Income/Loss       $(7,172)      $(11,452)      $(11,109)           $163  \n",
       "        Cash and Cash Equivalents                          $29,943        $29,965        $23,646        $34,940  \n",
       "        Commercial paper                                    $9,967         $5,985         $9,982         $6,000  \n",
       "        Common Stock                                       $83,276        $73,812        $64,849        $57,365  \n",
       "        Deferred Revenue                                    $8,249         $8,061         $7,912         $7,612  \n",
       "        Inventory                                           $7,286         $6,331         $4,946         $6,580  \n",
       "        Long-Term Debt                                     $85,750        $95,281        $98,959       $109,106  \n",
       "        Marketable Securities                              $35,228        $31,590        $24,658        $27,699  \n",
       "        Marketable securities                              $91,479       $100,544       $120,805       $127,877  \n",
       "        Other Assets                                       $74,834        $64,758        $54,428        $48,849  \n",
       "        Other Liabilities                                  $45,888        $49,848        $49,142        $53,325  \n",
       "        Property, Plant and Equipment                      $45,680        $43,715        $42,117        $39,440  \n",
       "        Retained Earnings                                $(19,154)         $(214)       $(3,068)         $5,562  \n",
       "        Short-Term Debt                                    $10,912         $9,822        $11,128         $9,613  \n",
       "        Total Current Assets                              $211,993       $209,017       $217,350       $216,166  \n",
       "        Total Current Liabilities                         $131,638       $145,129       $148,101       $162,431  \n",
       "        Total Stockholders' Equity                         $56,950        $62,146        $50,672        $63,090  \n",
       "        Vendor non-trade receivables                       $32,833        $31,477        $32,748        $25,228  \n",
       "                                                                                                                 "
      ]
     },
     "execution_count": 14,
     "metadata": {},
     "output_type": "execute_result"
    }
   ],
   "execution_count": 14
  },
  {
   "metadata": {},
   "cell_type": "markdown",
   "source": "## Income Statement",
   "id": "93d9b6fb593447f4"
  },
  {
   "metadata": {
    "ExecuteTime": {
     "end_time": "2025-03-25T18:24:50.178584Z",
     "start_time": "2025-03-25T18:24:50.137625Z"
    }
   },
   "cell_type": "code",
   "source": "xbrls.statements.income_statement()",
   "id": "290a08f25d49e985",
   "outputs": [
    {
     "data": {
      "text/plain": [],
      "text/html": [
       "<pre style=\"white-space:pre;overflow-x:auto;line-height:normal;font-family:Menlo,'DejaVu Sans Mono',consolas,'Courier New',monospace\"></pre>\n"
      ]
     },
     "metadata": {},
     "output_type": "display_data"
    },
    {
     "data": {
      "text/plain": [
       "\u001B[3m                           CONSOLIDATED INCOME STATEMENT (4-Period View) (Standardized)                            \u001B[0m\n",
       "\u001B[3m                               \u001B[0m\u001B[1;3mYear Ended\u001B[0m\u001B[3m \u001B[0m\u001B[3m(In millions, except shares in thousands)\u001B[0m\u001B[3m                                \u001B[0m\n",
       "                                                                                                                   \n",
       " \u001B[1m \u001B[0m\u001B[1m                                                   \u001B[0m\u001B[1m \u001B[0m \u001B[1m \u001B[0m\u001B[1mSep 28, 2024\u001B[0m\u001B[1m \u001B[0m \u001B[1m \u001B[0m\u001B[1mSep 30, 2023\u001B[0m\u001B[1m \u001B[0m \u001B[1m \u001B[0m\u001B[1mSep 24, 2022\u001B[0m\u001B[1m \u001B[0m \u001B[1m \u001B[0m\u001B[1mSep 25, 2021\u001B[0m\u001B[1m \u001B[0m \n",
       " ───────────────────────────────────────────────────────────────────────────────────────────────────────────────── \n",
       "        Cost of Revenue                                   $(210,352)     $(214,137)     $(223,546)     $(212,981)  \n",
       "        Gross Profit                                        $180,683       $169,148       $170,782       $152,836  \n",
       "        Income Before Tax                                   $123,485       $113,736       $119,103       $109,207  \n",
       "        Income Tax Expense                                   $29,749        $16,741        $19,300        $14,527  \n",
       "        Net Income                                           $93,736        $96,995        $99,803        $94,680  \n",
       "        Nonoperating Income/Expense                             $269         $(565)         $(334)           $258  \n",
       "        Operating Expenses                                 $(57,467)      $(54,847)      $(51,345)      $(43,887)  \n",
       "        Operating Income                                    $123,216       $114,301       $119,437       $108,949  \n",
       "        Revenue                                             $391,035       $383,285       $394,328       $365,817  \n",
       "          Earnings Per Share                                    0.00           0.00           0.00           0.00  \n",
       "          Earnings Per Share (Diluted)                          0.00           0.00           0.00           0.00  \n",
       "          Research and Development Expense                   $31,370        $29,915        $26,251        $21,914  \n",
       "          Selling, General and Administrative Expense        $26,097        $24,932        $25,094        $21,973  \n",
       "          Shares Outstanding                              15,343,783     15,744,231     16,215,963     16,701,272  \n",
       "          Shares Outstanding (Diluted)                    15,408,095     15,812,547     16,325,819     16,864,919  \n",
       "                                                                                                                   "
      ]
     },
     "execution_count": 15,
     "metadata": {},
     "output_type": "execute_result"
    }
   ],
   "execution_count": 15
  },
  {
   "metadata": {},
   "cell_type": "markdown",
   "source": [
    "# Entity Information\n",
    "<hr/>"
   ],
   "id": "ec40f8d70eeb38e7"
  },
  {
   "metadata": {
    "ExecuteTime": {
     "end_time": "2025-03-25T18:24:53.494055Z",
     "start_time": "2025-03-25T18:24:53.482977Z"
    }
   },
   "cell_type": "code",
   "source": [
    "for key, value in xbrl.entity_info.items():\n",
    "    print(f\"{key}: {value}\")"
   ],
   "id": "14c3e67a33fc100e",
   "outputs": [
    {
     "data": {
      "text/plain": [
       "entity_name: Apple Inc.\n"
      ],
      "text/html": [
       "<pre style=\"white-space:pre;overflow-x:auto;line-height:normal;font-family:Menlo,'DejaVu Sans Mono',consolas,'Courier New',monospace\">entity_name: Apple Inc.\n",
       "</pre>\n"
      ]
     },
     "metadata": {},
     "output_type": "display_data"
    },
    {
     "data": {
      "text/plain": [
       "ticker: AAPL\n"
      ],
      "text/html": [
       "<pre style=\"white-space:pre;overflow-x:auto;line-height:normal;font-family:Menlo,'DejaVu Sans Mono',consolas,'Courier New',monospace\">ticker: AAPL\n",
       "</pre>\n"
      ]
     },
     "metadata": {},
     "output_type": "display_data"
    },
    {
     "data": {
      "text/plain": [
       "identifier: \u001B[1;36m320193\u001B[0m\n"
      ],
      "text/html": [
       "<pre style=\"white-space:pre;overflow-x:auto;line-height:normal;font-family:Menlo,'DejaVu Sans Mono',consolas,'Courier New',monospace\">identifier: <span style=\"color: #008080; text-decoration-color: #008080; font-weight: bold\">320193</span>\n",
       "</pre>\n"
      ]
     },
     "metadata": {},
     "output_type": "display_data"
    },
    {
     "data": {
      "text/plain": [
       "document_type: \u001B[1;36m10\u001B[0m-K\n"
      ],
      "text/html": [
       "<pre style=\"white-space:pre;overflow-x:auto;line-height:normal;font-family:Menlo,'DejaVu Sans Mono',consolas,'Courier New',monospace\">document_type: <span style=\"color: #008080; text-decoration-color: #008080; font-weight: bold\">10</span>-K\n",
       "</pre>\n"
      ]
     },
     "metadata": {},
     "output_type": "display_data"
    },
    {
     "data": {
      "text/plain": [
       "reporting_end_date: \u001B[1;36m2024\u001B[0m-\u001B[1;36m10\u001B[0m-\u001B[1;36m18\u001B[0m\n"
      ],
      "text/html": [
       "<pre style=\"white-space:pre;overflow-x:auto;line-height:normal;font-family:Menlo,'DejaVu Sans Mono',consolas,'Courier New',monospace\">reporting_end_date: <span style=\"color: #008080; text-decoration-color: #008080; font-weight: bold\">2024</span>-<span style=\"color: #008080; text-decoration-color: #008080; font-weight: bold\">10</span>-<span style=\"color: #008080; text-decoration-color: #008080; font-weight: bold\">18</span>\n",
       "</pre>\n"
      ]
     },
     "metadata": {},
     "output_type": "display_data"
    },
    {
     "data": {
      "text/plain": [
       "document_period_end_date: \u001B[1;36m2024\u001B[0m-\u001B[1;36m09\u001B[0m-\u001B[1;36m28\u001B[0m\n"
      ],
      "text/html": [
       "<pre style=\"white-space:pre;overflow-x:auto;line-height:normal;font-family:Menlo,'DejaVu Sans Mono',consolas,'Courier New',monospace\">document_period_end_date: <span style=\"color: #008080; text-decoration-color: #008080; font-weight: bold\">2024</span>-<span style=\"color: #008080; text-decoration-color: #008080; font-weight: bold\">09</span>-<span style=\"color: #008080; text-decoration-color: #008080; font-weight: bold\">28</span>\n",
       "</pre>\n"
      ]
     },
     "metadata": {},
     "output_type": "display_data"
    },
    {
     "data": {
      "text/plain": [
       "fiscal_year: \u001B[1;36m2024\u001B[0m\n"
      ],
      "text/html": [
       "<pre style=\"white-space:pre;overflow-x:auto;line-height:normal;font-family:Menlo,'DejaVu Sans Mono',consolas,'Courier New',monospace\">fiscal_year: <span style=\"color: #008080; text-decoration-color: #008080; font-weight: bold\">2024</span>\n",
       "</pre>\n"
      ]
     },
     "metadata": {},
     "output_type": "display_data"
    },
    {
     "data": {
      "text/plain": [
       "fiscal_period: FY\n"
      ],
      "text/html": [
       "<pre style=\"white-space:pre;overflow-x:auto;line-height:normal;font-family:Menlo,'DejaVu Sans Mono',consolas,'Courier New',monospace\">fiscal_period: FY\n",
       "</pre>\n"
      ]
     },
     "metadata": {},
     "output_type": "display_data"
    },
    {
     "data": {
      "text/plain": [
       "fiscal_year_end_month: \u001B[1;36m9\u001B[0m\n"
      ],
      "text/html": [
       "<pre style=\"white-space:pre;overflow-x:auto;line-height:normal;font-family:Menlo,'DejaVu Sans Mono',consolas,'Courier New',monospace\">fiscal_year_end_month: <span style=\"color: #008080; text-decoration-color: #008080; font-weight: bold\">9</span>\n",
       "</pre>\n"
      ]
     },
     "metadata": {},
     "output_type": "display_data"
    },
    {
     "data": {
      "text/plain": [
       "fiscal_year_end_day: \u001B[1;36m28\u001B[0m\n"
      ],
      "text/html": [
       "<pre style=\"white-space:pre;overflow-x:auto;line-height:normal;font-family:Menlo,'DejaVu Sans Mono',consolas,'Courier New',monospace\">fiscal_year_end_day: <span style=\"color: #008080; text-decoration-color: #008080; font-weight: bold\">28</span>\n",
       "</pre>\n"
      ]
     },
     "metadata": {},
     "output_type": "display_data"
    },
    {
     "data": {
      "text/plain": [
       "annual_report: \u001B[3;92mTrue\u001B[0m\n"
      ],
      "text/html": [
       "<pre style=\"white-space:pre;overflow-x:auto;line-height:normal;font-family:Menlo,'DejaVu Sans Mono',consolas,'Courier New',monospace\">annual_report: <span style=\"color: #00ff00; text-decoration-color: #00ff00; font-style: italic\">True</span>\n",
       "</pre>\n"
      ]
     },
     "metadata": {},
     "output_type": "display_data"
    },
    {
     "data": {
      "text/plain": [
       "quarterly_report: \u001B[3;91mFalse\u001B[0m\n"
      ],
      "text/html": [
       "<pre style=\"white-space:pre;overflow-x:auto;line-height:normal;font-family:Menlo,'DejaVu Sans Mono',consolas,'Courier New',monospace\">quarterly_report: <span style=\"color: #ff0000; text-decoration-color: #ff0000; font-style: italic\">False</span>\n",
       "</pre>\n"
      ]
     },
     "metadata": {},
     "output_type": "display_data"
    },
    {
     "data": {
      "text/plain": [
       "amendment: \u001B[3;91mFalse\u001B[0m\n"
      ],
      "text/html": [
       "<pre style=\"white-space:pre;overflow-x:auto;line-height:normal;font-family:Menlo,'DejaVu Sans Mono',consolas,'Courier New',monospace\">amendment: <span style=\"color: #ff0000; text-decoration-color: #ff0000; font-style: italic\">False</span>\n",
       "</pre>\n"
      ]
     },
     "metadata": {},
     "output_type": "display_data"
    }
   ],
   "execution_count": 16
  },
  {
   "metadata": {},
   "cell_type": "markdown",
   "source": "### Available Reporting Periods",
   "id": "57325ccd1572d9e"
  },
  {
   "metadata": {},
   "cell_type": "code",
   "outputs": [],
   "execution_count": null,
   "source": [
    "print(\"\\n[bold]Available Reporting Periods:[/bold]\")\n",
    "for i, period in enumerate(xbrl.reporting_periods):\n",
    "    if period['type'] == 'instant':\n",
    "        print(f\"{i+1}. As of {period['date']}\")\n",
    "    else:\n",
    "        print(f\"{i+1}. {period['start_date']} to {period['end_date']}\")"
   ],
   "id": "ab6ec922497a7214"
  },
  {
   "metadata": {},
   "cell_type": "markdown",
   "source": "### Period Views",
   "id": "c1841eb13e088a8d"
  },
  {
   "metadata": {
    "ExecuteTime": {
     "end_time": "2025-03-14T18:46:32.276048Z",
     "start_time": "2025-03-14T18:46:32.267676Z"
    }
   },
   "cell_type": "code",
   "source": [
    "# Show available period views for each statement\n",
    "print(\"\\n[bold]Available Period Views for Balance Sheet:[/bold]\")\n",
    "bs_views = xbrl.get_period_views(\"BalanceSheet\")\n",
    "for view in bs_views:\n",
    "    print(f\"- {view['name']}: {view['description']}\")\n",
    "    \n",
    "print(\"\\n[bold]Available Period Views for Income Statement:[/bold]\")\n",
    "is_views = xbrl.get_period_views(\"IncomeStatement\")\n",
    "for view in is_views:\n",
    "    print(f\"- {view['name']}: {view['description']}\")"
   ],
   "id": "8d8e0d45924b0773",
   "outputs": [
    {
     "data": {
      "text/plain": [
       "\n",
       "\u001B[1mAvailable Period Views for Balance Sheet:\u001B[0m\n"
      ],
      "text/html": [
       "<pre style=\"white-space:pre;overflow-x:auto;line-height:normal;font-family:Menlo,'DejaVu Sans Mono',consolas,'Courier New',monospace\">\n",
       "<span style=\"font-weight: bold\">Available Period Views for Balance Sheet:</span>\n",
       "</pre>\n"
      ]
     },
     "metadata": {},
     "output_type": "display_data"
    },
    {
     "data": {
      "text/plain": [
       "- Three-Year Comparison: Shows the most recent three periods\n"
      ],
      "text/html": [
       "<pre style=\"white-space:pre;overflow-x:auto;line-height:normal;font-family:Menlo,'DejaVu Sans Mono',consolas,'Courier New',monospace\">- Three-Year Comparison: Shows the most recent three periods\n",
       "</pre>\n"
      ]
     },
     "metadata": {},
     "output_type": "display_data"
    },
    {
     "data": {
      "text/plain": [
       "- Current vs. Previous Periods: Shows the current period and two previous periods\n"
      ],
      "text/html": [
       "<pre style=\"white-space:pre;overflow-x:auto;line-height:normal;font-family:Menlo,'DejaVu Sans Mono',consolas,'Courier New',monospace\">- Current vs. Previous Periods: Shows the current period and two previous periods\n",
       "</pre>\n"
      ]
     },
     "metadata": {},
     "output_type": "display_data"
    },
    {
     "data": {
      "text/plain": [
       "- Three-Year Annual Comparison: Shows three fiscal years for comparison\n"
      ],
      "text/html": [
       "<pre style=\"white-space:pre;overflow-x:auto;line-height:normal;font-family:Menlo,'DejaVu Sans Mono',consolas,'Courier New',monospace\">- Three-Year Annual Comparison: Shows three fiscal years for comparison\n",
       "</pre>\n"
      ]
     },
     "metadata": {},
     "output_type": "display_data"
    },
    {
     "data": {
      "text/plain": [
       "- Annual Comparison: Shows two fiscal years for comparison\n"
      ],
      "text/html": [
       "<pre style=\"white-space:pre;overflow-x:auto;line-height:normal;font-family:Menlo,'DejaVu Sans Mono',consolas,'Courier New',monospace\">- Annual Comparison: Shows two fiscal years for comparison\n",
       "</pre>\n"
      ]
     },
     "metadata": {},
     "output_type": "display_data"
    },
    {
     "data": {
      "text/plain": [
       "\n",
       "\u001B[1mAvailable Period Views for Income Statement:\u001B[0m\n"
      ],
      "text/html": [
       "<pre style=\"white-space:pre;overflow-x:auto;line-height:normal;font-family:Menlo,'DejaVu Sans Mono',consolas,'Courier New',monospace\">\n",
       "<span style=\"font-weight: bold\">Available Period Views for Income Statement:</span>\n",
       "</pre>\n"
      ]
     },
     "metadata": {},
     "output_type": "display_data"
    },
    {
     "data": {
      "text/plain": [
       "- Three-Year Comparison: Compares three fiscal years\n"
      ],
      "text/html": [
       "<pre style=\"white-space:pre;overflow-x:auto;line-height:normal;font-family:Menlo,'DejaVu Sans Mono',consolas,'Courier New',monospace\">- Three-Year Comparison: Compares three fiscal years\n",
       "</pre>\n"
      ]
     },
     "metadata": {},
     "output_type": "display_data"
    },
    {
     "data": {
      "text/plain": [
       "- Annual Comparison: Compares recent fiscal years\n"
      ],
      "text/html": [
       "<pre style=\"white-space:pre;overflow-x:auto;line-height:normal;font-family:Menlo,'DejaVu Sans Mono',consolas,'Courier New',monospace\">- Annual Comparison: Compares recent fiscal years\n",
       "</pre>\n"
      ]
     },
     "metadata": {},
     "output_type": "display_data"
    }
   ],
   "execution_count": null
  },
  {
   "cell_type": "markdown",
   "id": "fa2f3a67-39e0-44b4-afc1-57c6da68a5a6",
   "metadata": {
    "ExecuteTime": {
     "end_time": "2025-03-14T18:49:56.424203Z",
     "start_time": "2025-03-14T18:49:56.422179Z"
    }
   },
   "source": "### Period Views for INTC"
  },
  {
   "cell_type": "code",
   "id": "7aa663b5-a624-473a-9f80-41106a82bbcc",
   "metadata": {
    "ExecuteTime": {
     "end_time": "2025-03-14T18:50:38.217248Z",
     "start_time": "2025-03-14T18:50:36.859230Z"
    }
   },
   "source": [
    "c = Company(\"INTC\")\n",
    "filing = c.latest(\"10-K\")\n",
    "xbrl = XBRL.from_filing(filing)\n",
    "bs_views = xbrl.get_period_views(\"BalanceSheet\")\n",
    "for view in bs_views:\n",
    "    print(f\"- {view['name']}: {view['description']}\")"
   ],
   "outputs": [
    {
     "data": {
      "text/plain": [
       "- Three-Year Comparison: Shows the most recent three periods\n"
      ],
      "text/html": [
       "<pre style=\"white-space:pre;overflow-x:auto;line-height:normal;font-family:Menlo,'DejaVu Sans Mono',consolas,'Courier New',monospace\">- Three-Year Comparison: Shows the most recent three periods\n",
       "</pre>\n"
      ]
     },
     "metadata": {},
     "output_type": "display_data"
    },
    {
     "data": {
      "text/plain": [
       "- Current vs. Previous Periods: Shows the current period and two previous periods\n"
      ],
      "text/html": [
       "<pre style=\"white-space:pre;overflow-x:auto;line-height:normal;font-family:Menlo,'DejaVu Sans Mono',consolas,'Courier New',monospace\">- Current vs. Previous Periods: Shows the current period and two previous periods\n",
       "</pre>\n"
      ]
     },
     "metadata": {},
     "output_type": "display_data"
    },
    {
     "data": {
      "text/plain": [
       "- Three-Year Annual Comparison: Shows three fiscal years for comparison\n"
      ],
      "text/html": [
       "<pre style=\"white-space:pre;overflow-x:auto;line-height:normal;font-family:Menlo,'DejaVu Sans Mono',consolas,'Courier New',monospace\">- Three-Year Annual Comparison: Shows three fiscal years for comparison\n",
       "</pre>\n"
      ]
     },
     "metadata": {},
     "output_type": "display_data"
    },
    {
     "data": {
      "text/plain": [
       "- Annual Comparison: Shows two fiscal years for comparison\n"
      ],
      "text/html": [
       "<pre style=\"white-space:pre;overflow-x:auto;line-height:normal;font-family:Menlo,'DejaVu Sans Mono',consolas,'Courier New',monospace\">- Annual Comparison: Shows two fiscal years for comparison\n",
       "</pre>\n"
      ]
     },
     "metadata": {},
     "output_type": "display_data"
    }
   ],
   "execution_count": 17
  },
  {
   "cell_type": "markdown",
   "id": "557cb032-ad08-42e9-b418-b87b299d1b23",
   "metadata": {},
   "source": "### Render Balance Sheet with Current vs. Previous Period view if available"
  },
  {
   "cell_type": "code",
   "execution_count": 13,
   "id": "47e9467c-4ead-4e6c-bc29-f35f96c89217",
   "metadata": {},
   "outputs": [
    {
     "data": {
      "text/html": [
       "<pre style=\"white-space:pre;overflow-x:auto;line-height:normal;font-family:Menlo,'DejaVu Sans Mono',consolas,'Courier New',monospace\"><span style=\"font-style: italic\">                                             CONSOLIDATEDBALANCESHEETS                                             </span>\n",
       "<span style=\"font-style: italic\">                              </span><span style=\"font-weight: bold; font-style: italic\">Fiscal Year Ended</span><span style=\"font-style: italic\"> (In millions, except per share data)                               </span>\n",
       "                                                                                                                   \n",
       " <span style=\"font-weight: bold\"> Line Item                                                                     </span> <span style=\"font-weight: bold\"> Sep 28, 2024   </span> <span style=\"font-weight: bold\"> Sep 30, 2023   </span> \n",
       " ───────────────────────────────────────────────────────────────────────────────────────────────────────────────── \n",
       "    ASSETS:                                                                                                        \n",
       "      Current assets:                                                                                              \n",
       "        Cash and cash equivalents                                                        $29,943          $29,965  \n",
       "        Marketable securities                                                            $35,228          $31,590  \n",
       "        Accounts receivable, net                                                         $33,410          $29,508  \n",
       "        Vendor non-trade receivables                                                     $32,833          $31,477  \n",
       "        Inventories                                                                       $7,286           $6,331  \n",
       "        Other current assets                                                             $14,287          $14,695  \n",
       "        Total current assets                                                            $152,987         $143,566  \n",
       "      Non-current assets:                                                                                          \n",
       "        Marketable securities                                                            $91,479         $100,544  \n",
       "        Property, plant and equipment, net                                               $45,680          $43,715  \n",
       "        Other non-current assets                                                         $74,834          $64,758  \n",
       "        Total non-current assets                                                        $211,993         $209,017  \n",
       "      Total assets                                                                      $364,980         $352,583  \n",
       "    LIABILITIES AND SHAREHOLDERS’ EQUITY:                                                                          \n",
       "      Current liabilities:                                                                                         \n",
       "        Accounts payable                                                                 $68,960          $62,611  \n",
       "        Other current liabilities                                                        $78,304          $58,829  \n",
       "        Deferred revenue                                                                  $8,249           $8,061  \n",
       "        Commercial paper                                                                  $9,967           $5,985  \n",
       "        Term debt                                                                        $10,912           $9,822  \n",
       "        Total current liabilities                                                       $176,392         $145,308  \n",
       "      Non-current liabilities:                                                                                     \n",
       "        Term debt                                                                        $85,750          $95,281  \n",
       "        Other non-current liabilities                                                    $45,888          $49,848  \n",
       "        Total non-current liabilities                                                   $131,638         $145,129  \n",
       "      Total liabilities                                                                 $308,030         $290,437  \n",
       "      Commitments and contingencies                                                                                \n",
       "      Common stock, shares outstanding (in shares)                                15,116,786,000   15,550,061,000  \n",
       "      Common stock, shares issued (in shares)                                     15,116,786,000   15,550,061,000  \n",
       "      Shareholders’ equity:                                                                                        \n",
       "        Common stock and additional paid-in capital, $0.00001 par value:                 $83,276          $73,812  \n",
       "  50,400,000 shares authorized; 15,116,786 and 15,550,061 shares issued and                                        \n",
       "  outstanding, respectively                                                                                        \n",
       "        Accumulated deficit                                                            $(19,154)           $(214)  \n",
       "        Accumulated other comprehensive loss                                            $(7,172)        $(11,452)  \n",
       "        Total shareholders’ equity                                                       $56,950          $62,146  \n",
       "      Total liabilities and shareholders’ equity                                        $364,980         $352,583  \n",
       "                                                                                                                   \n",
       "</pre>\n"
      ],
      "text/plain": [
       "\u001B[3m                                             CONSOLIDATEDBALANCESHEETS                                             \u001B[0m\n",
       "\u001B[3m                              \u001B[0m\u001B[1;3mFiscal Year Ended\u001B[0m\u001B[3m \u001B[0m\u001B[3m(In millions, except per share data)\u001B[0m\u001B[3m                               \u001B[0m\n",
       "                                                                                                                   \n",
       " \u001B[1m \u001B[0m\u001B[1mLine Item                                                                    \u001B[0m\u001B[1m \u001B[0m \u001B[1m \u001B[0m\u001B[1mSep 28, 2024  \u001B[0m\u001B[1m \u001B[0m \u001B[1m \u001B[0m\u001B[1mSep 30, 2023  \u001B[0m\u001B[1m \u001B[0m \n",
       " ───────────────────────────────────────────────────────────────────────────────────────────────────────────────── \n",
       "    ASSETS:                                                                                                        \n",
       "      Current assets:                                                                                              \n",
       "        Cash and cash equivalents                                                        $29,943          $29,965  \n",
       "        Marketable securities                                                            $35,228          $31,590  \n",
       "        Accounts receivable, net                                                         $33,410          $29,508  \n",
       "        Vendor non-trade receivables                                                     $32,833          $31,477  \n",
       "        Inventories                                                                       $7,286           $6,331  \n",
       "        Other current assets                                                             $14,287          $14,695  \n",
       "        Total current assets                                                            $152,987         $143,566  \n",
       "      Non-current assets:                                                                                          \n",
       "        Marketable securities                                                            $91,479         $100,544  \n",
       "        Property, plant and equipment, net                                               $45,680          $43,715  \n",
       "        Other non-current assets                                                         $74,834          $64,758  \n",
       "        Total non-current assets                                                        $211,993         $209,017  \n",
       "      Total assets                                                                      $364,980         $352,583  \n",
       "    LIABILITIES AND SHAREHOLDERS’ EQUITY:                                                                          \n",
       "      Current liabilities:                                                                                         \n",
       "        Accounts payable                                                                 $68,960          $62,611  \n",
       "        Other current liabilities                                                        $78,304          $58,829  \n",
       "        Deferred revenue                                                                  $8,249           $8,061  \n",
       "        Commercial paper                                                                  $9,967           $5,985  \n",
       "        Term debt                                                                        $10,912           $9,822  \n",
       "        Total current liabilities                                                       $176,392         $145,308  \n",
       "      Non-current liabilities:                                                                                     \n",
       "        Term debt                                                                        $85,750          $95,281  \n",
       "        Other non-current liabilities                                                    $45,888          $49,848  \n",
       "        Total non-current liabilities                                                   $131,638         $145,129  \n",
       "      Total liabilities                                                                 $308,030         $290,437  \n",
       "      Commitments and contingencies                                                                                \n",
       "      Common stock, shares outstanding (in shares)                                15,116,786,000   15,550,061,000  \n",
       "      Common stock, shares issued (in shares)                                     15,116,786,000   15,550,061,000  \n",
       "      Shareholders’ equity:                                                                                        \n",
       "        Common stock and additional paid-in capital, $0.00001 par value:                 $83,276          $73,812  \n",
       "  50,400,000 shares authorized; 15,116,786 and 15,550,061 shares issued and                                        \n",
       "  outstanding, respectively                                                                                        \n",
       "        Accumulated deficit                                                            $(19,154)           $(214)  \n",
       "        Accumulated other comprehensive loss                                            $(7,172)        $(11,452)  \n",
       "        Total shareholders’ equity                                                       $56,950          $62,146  \n",
       "      Total liabilities and shareholders’ equity                                        $364,980         $352,583  \n",
       "                                                                                                                   \n"
      ]
     },
     "execution_count": 13,
     "metadata": {},
     "output_type": "execute_result"
    }
   ],
   "source": [
    "current_vs_prev_bs = xbrl.render_statement(\"BalanceSheet\", period_view=\"Current vs. Previous Period\")\n",
    "current_vs_prev_bs"
   ]
  }
 ],
 "metadata": {
  "kernelspec": {
   "display_name": "Python 3 (ipykernel)",
   "language": "python",
   "name": "python3"
  },
  "language_info": {
   "codemirror_mode": {
    "name": "ipython",
    "version": 3
   },
   "file_extension": ".py",
   "mimetype": "text/x-python",
   "name": "python",
   "nbconvert_exporter": "python",
   "pygments_lexer": "ipython3",
   "version": "3.11.6"
  }
 },
 "nbformat": 4,
 "nbformat_minor": 5
}
