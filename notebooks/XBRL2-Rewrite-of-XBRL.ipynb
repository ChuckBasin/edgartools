{
 "cells": [
  {
   "cell_type": "markdown",
   "id": "196860f0-9768-498f-bc70-42afc3253385",
   "metadata": {},
   "source": [
    "# XBRL2 - Rewrite of XBRL Functionality\n",
    "\n",
    "[![Open In Colab](https://colab.research.google.com/assets/colab-badge.svg)](http://colab.research.google.com/github/dgunning/edgartools/blob/main/notebooks/XBRL2-Rewrite-of-XBRL.ipynb)"
   ]
  },
  {
   "cell_type": "code",
   "execution_count": 1,
   "id": "1c729e2d-9a59-4cc4-9059-95df751d0a0e",
   "metadata": {},
   "outputs": [],
   "source": [
    "!pip install -U edgartools"
   ]
  },
  {
   "cell_type": "code",
   "id": "10a5a043-4204-44b1-9b50-b00885cd6328",
   "metadata": {
    "ExecuteTime": {
     "end_time": "2025-03-13T22:12:19.872774Z",
     "start_time": "2025-03-13T22:12:19.869960Z"
    }
   },
   "source": [
    "from edgar import *\n",
    "from rich import print\n",
    "from edgar.reference.tickers import popular_us_stocks\n",
    "\n",
    "set_identity('Florian@mcmaster.ca')"
   ],
   "outputs": [],
   "execution_count": 2
  },
  {
   "cell_type": "markdown",
   "id": "2dbd119f-f892-4ba9-b9f7-c723d8cace2e",
   "metadata": {},
   "source": [
    "## Import XBRL2"
   ]
  },
  {
   "cell_type": "code",
   "id": "e416f015-c13b-42d2-a9e6-2002170a387f",
   "metadata": {
    "ExecuteTime": {
     "end_time": "2025-03-14T16:17:22.046118Z",
     "start_time": "2025-03-14T16:17:22.025835Z"
    }
   },
   "source": "from edgar.xbrl2 import *",
   "outputs": [],
   "execution_count": 1
  },
  {
   "cell_type": "markdown",
   "id": "ee812ed9-1379-4c40-a3cc-cade4db9b622",
   "metadata": {},
   "source": [
    "## Get the latest 10-K filings"
   ]
  },
  {
   "cell_type": "code",
   "id": "0c72011b-853f-4e80-814b-78cb1c8f3eb7",
   "metadata": {
    "ExecuteTime": {
     "end_time": "2025-03-14T16:17:26.328643Z",
     "start_time": "2025-03-14T16:17:23.577264Z"
    }
   },
   "source": [
    "c = Company(\"AAPL\")\n",
    "filing = c.latest(\"10-K\")\n",
    "xbrl = XBRL.from_filing(filing)"
   ],
   "outputs": [],
   "execution_count": 2
  },
  {
   "cell_type": "markdown",
   "id": "fe799c73-369b-4c3e-967c-c772faba369f",
   "metadata": {},
   "source": [
    "# Rendering Financials Statements"
   ]
  },
  {
   "cell_type": "markdown",
   "id": "983ed818-d957-4af8-a561-5d0254e17a89",
   "metadata": {},
   "source": [
    "### Render Balance Sheet using default view"
   ]
  },
  {
   "cell_type": "code",
   "id": "6ac5014c-4989-4943-822e-1582082b2251",
   "metadata": {
    "ExecuteTime": {
     "end_time": "2025-03-14T16:17:29.192876Z",
     "start_time": "2025-03-14T16:17:29.158817Z"
    }
   },
   "source": [
    "balance_sheet = xbrl.statements.balance_sheet()\n",
    "balance_sheet"
   ],
   "outputs": [
    {
     "data": {
      "text/plain": [],
      "text/html": [
       "<pre style=\"white-space:pre;overflow-x:auto;line-height:normal;font-family:Menlo,'DejaVu Sans Mono',consolas,'Courier New',monospace\"></pre>\n"
      ]
     },
     "metadata": {},
     "output_type": "display_data"
    },
    {
     "data": {
      "text/plain": [
       "\u001B[3m                               CONSOLIDATEDBALANCESHEETS (Standardized)                                \u001B[0m\n",
       "\u001B[3m                        \u001B[0m\u001B[1;3mFiscal Year Ended\u001B[0m\u001B[3m \u001B[0m\u001B[3m(In millions, except per share data)\u001B[0m\u001B[3m                         \u001B[0m\n",
       "                                                                                                       \n",
       " \u001B[1m \u001B[0m\u001B[1mLine Item                                       \u001B[0m\u001B[1m \u001B[0m \u001B[1m \u001B[0m\u001B[1mSep 28, 2024  \u001B[0m\u001B[1m \u001B[0m \u001B[1m \u001B[0m\u001B[1mSep 30, 2023  \u001B[0m\u001B[1m \u001B[0m \u001B[1m \u001B[0m\u001B[1mSep 24, 2022  \u001B[0m\u001B[1m \u001B[0m \n",
       " ───────────────────────────────────────────────────────────────────────────────────────────────────── \n",
       "    ASSETS:                                                                                            \n",
       "      Current assets:                                                                                  \n",
       "        Cash and Cash Equivalents                           $29,943          $29,965                   \n",
       "        Marketable securities                               $35,228          $31,590                   \n",
       "        Accounts Receivable                                 $33,410          $29,508                   \n",
       "        Vendor non-trade receivables                        $32,833          $31,477                   \n",
       "        Inventory                                            $7,286           $6,331                   \n",
       "        Other Assets                                        $14,287          $14,695                   \n",
       "        Total Current Assets                               $152,987         $143,566                   \n",
       "      Non-current assets:                                                                              \n",
       "        Marketable securities                               $91,479         $100,544                   \n",
       "        Property, Plant and Equipment                       $45,680          $43,715                   \n",
       "        Other Assets                                        $74,834          $64,758                   \n",
       "        Total Current Assets                               $211,993         $209,017                   \n",
       "      Total Assets                                         $364,980         $352,583                   \n",
       "    LIABILITIES AND SHAREHOLDERS’ EQUITY:                                                              \n",
       "      Current liabilities:                                                                             \n",
       "        Accounts Payable                                    $68,960          $62,611                   \n",
       "        Other Liabilities                                   $78,304          $58,829                   \n",
       "        Deferred Revenue                                     $8,249           $8,061                   \n",
       "        Commercial paper                                     $9,967           $5,985                   \n",
       "        Short-Term Debt                                     $10,912           $9,822                   \n",
       "        Total Current Liabilities                          $176,392         $145,308                   \n",
       "      Non-current liabilities:                                                                         \n",
       "        Long-Term Debt                                      $85,750          $95,281                   \n",
       "        Other Liabilities                                   $45,888          $49,848                   \n",
       "        Total Current Liabilities                          $131,638         $145,129                   \n",
       "      Total Liabilities                                    $308,030         $290,437                   \n",
       "      Commitments and contingencies                                                                    \n",
       "      Common stock, shares outstanding (in shares)   15,116,786,000   15,550,061,000   15,943,425,000  \n",
       "      Common stock, shares issued (in shares)        15,116,786,000   15,550,061,000                   \n",
       "      Shareholders’ equity:                                                                            \n",
       "        Common Stock                                        $83,276          $73,812                   \n",
       "        Retained Earnings                                 $(19,154)           $(214)                   \n",
       "        Accumulated other comprehensive loss               $(7,172)        $(11,452)                   \n",
       "        Total Stockholders' Equity                          $56,950          $62,146          $50,672  \n",
       "      Total Liabilities and Stockholders' Equity           $364,980         $352,583                   \n",
       "                                                                                                       "
      ]
     },
     "execution_count": 4,
     "metadata": {},
     "output_type": "execute_result"
    }
   ],
   "execution_count": 4
  },
  {
   "metadata": {},
   "cell_type": "markdown",
   "source": "### Get Balance Sheet as a DataFrame",
   "id": "c262de574d004318"
  },
  {
   "metadata": {
    "ExecuteTime": {
     "end_time": "2025-03-14T16:17:34.221568Z",
     "start_time": "2025-03-14T16:17:34.161492Z"
    }
   },
   "cell_type": "code",
   "source": "balance_sheet.to_dataframe()",
   "id": "6069783a1f9639a2",
   "outputs": [
    {
     "data": {
      "text/plain": [
       "                                              concept  \\\n",
       "0        us-gaap_StatementOfFinancialPositionAbstract   \n",
       "1                              us-gaap_AssetsAbstract   \n",
       "2                       us-gaap_AssetsCurrentAbstract   \n",
       "3       us-gaap_CashAndCashEquivalentsAtCarryingValue   \n",
       "4                 us-gaap_MarketableSecuritiesCurrent   \n",
       "5                us-gaap_AccountsReceivableNetCurrent   \n",
       "6                  us-gaap_NontradeReceivablesCurrent   \n",
       "7                                us-gaap_InventoryNet   \n",
       "8                          us-gaap_OtherAssetsCurrent   \n",
       "9                               us-gaap_AssetsCurrent   \n",
       "10                   us-gaap_AssetsNoncurrentAbstract   \n",
       "11             us-gaap_MarketableSecuritiesNoncurrent   \n",
       "12               us-gaap_PropertyPlantAndEquipmentNet   \n",
       "13                      us-gaap_OtherAssetsNoncurrent   \n",
       "14                           us-gaap_AssetsNoncurrent   \n",
       "15                                     us-gaap_Assets   \n",
       "16   us-gaap_LiabilitiesAndStockholdersEquityAbstract   \n",
       "17                 us-gaap_LiabilitiesCurrentAbstract   \n",
       "18                     us-gaap_AccountsPayableCurrent   \n",
       "19                    us-gaap_OtherLiabilitiesCurrent   \n",
       "20       us-gaap_ContractWithCustomerLiabilityCurrent   \n",
       "21                            us-gaap_CommercialPaper   \n",
       "22                        us-gaap_LongTermDebtCurrent   \n",
       "23                         us-gaap_LiabilitiesCurrent   \n",
       "24              us-gaap_LiabilitiesNoncurrentAbstract   \n",
       "25                     us-gaap_LongTermDebtNoncurrent   \n",
       "26                 us-gaap_OtherLiabilitiesNoncurrent   \n",
       "27                      us-gaap_LiabilitiesNoncurrent   \n",
       "28                                us-gaap_Liabilities   \n",
       "29                us-gaap_CommitmentsAndContingencies   \n",
       "30               us-gaap_CommonStockSharesOutstanding   \n",
       "31                    us-gaap_CommonStockSharesIssued   \n",
       "32                 us-gaap_StockholdersEquityAbstract   \n",
       "33  us-gaap_CommonStocksIncludingAdditionalPaidInC...   \n",
       "34         us-gaap_RetainedEarningsAccumulatedDeficit   \n",
       "35  us-gaap_AccumulatedOtherComprehensiveIncomeLos...   \n",
       "36                         us-gaap_StockholdersEquity   \n",
       "37           us-gaap_LiabilitiesAndStockholdersEquity   \n",
       "\n",
       "                                           label  level  is_abstract  \\\n",
       "0     Statement of Financial Position [Abstract]      0        False   \n",
       "1                                        ASSETS:      1        False   \n",
       "2                                Current assets:      2        False   \n",
       "3                      Cash and Cash Equivalents      3        False   \n",
       "4                          Marketable securities      3        False   \n",
       "5                            Accounts Receivable      3        False   \n",
       "6                   Vendor non-trade receivables      3        False   \n",
       "7                                      Inventory      3        False   \n",
       "8                                   Other Assets      3        False   \n",
       "9                           Total Current Assets      3        False   \n",
       "10                           Non-current assets:      2        False   \n",
       "11                         Marketable securities      3        False   \n",
       "12                 Property, Plant and Equipment      3        False   \n",
       "13                                  Other Assets      3        False   \n",
       "14                          Total Current Assets      3        False   \n",
       "15                                  Total Assets      2        False   \n",
       "16         LIABILITIES AND SHAREHOLDERS’ EQUITY:      1        False   \n",
       "17                          Current liabilities:      2        False   \n",
       "18                              Accounts Payable      3        False   \n",
       "19                             Other Liabilities      3        False   \n",
       "20                              Deferred Revenue      3        False   \n",
       "21                              Commercial paper      3        False   \n",
       "22                               Short-Term Debt      3        False   \n",
       "23                     Total Current Liabilities      3        False   \n",
       "24                      Non-current liabilities:      2        False   \n",
       "25                                Long-Term Debt      3        False   \n",
       "26                             Other Liabilities      3        False   \n",
       "27                     Total Current Liabilities      3        False   \n",
       "28                             Total Liabilities      2        False   \n",
       "29                 Commitments and contingencies      2        False   \n",
       "30  Common stock, shares outstanding (in shares)      2        False   \n",
       "31       Common stock, shares issued (in shares)      2        False   \n",
       "32                         Shareholders’ equity:      2        False   \n",
       "33                                  Common Stock      3        False   \n",
       "34                             Retained Earnings      3        False   \n",
       "35          Accumulated other comprehensive loss      3        False   \n",
       "36                    Total Stockholders' Equity      3        False   \n",
       "37    Total Liabilities and Stockholders' Equity      2        False   \n",
       "\n",
       "    has_values    2021-09-25    2022-09-24      2023-09-30      2024-09-28  \\\n",
       "0        False           NaN           NaN            None            None   \n",
       "1        False           NaN           NaN            None            None   \n",
       "2        False           NaN           NaN            None            None   \n",
       "3         True           NaN           NaN   29965000000.0   29943000000.0   \n",
       "4         True           NaN           NaN   31590000000.0   35228000000.0   \n",
       "5         True           NaN           NaN   29508000000.0   33410000000.0   \n",
       "6         True           NaN           NaN   31477000000.0   32833000000.0   \n",
       "7         True           NaN           NaN    6331000000.0    7286000000.0   \n",
       "8         True           NaN           NaN   14695000000.0   14287000000.0   \n",
       "9         True           NaN           NaN  143566000000.0  152987000000.0   \n",
       "10       False           NaN           NaN            None            None   \n",
       "11        True           NaN           NaN  100544000000.0   91479000000.0   \n",
       "12        True           NaN           NaN   43715000000.0   45680000000.0   \n",
       "13        True           NaN           NaN   64758000000.0   74834000000.0   \n",
       "14        True           NaN           NaN  209017000000.0  211993000000.0   \n",
       "15        True           NaN           NaN  352583000000.0  364980000000.0   \n",
       "16       False           NaN           NaN            None            None   \n",
       "17       False           NaN           NaN            None            None   \n",
       "18        True           NaN           NaN   62611000000.0   68960000000.0   \n",
       "19        True           NaN           NaN   58829000000.0   78304000000.0   \n",
       "20        True           NaN           NaN    8061000000.0    8249000000.0   \n",
       "21        True           NaN           NaN    5985000000.0    9967000000.0   \n",
       "22        True           NaN           NaN    9822000000.0   10912000000.0   \n",
       "23        True           NaN           NaN  145308000000.0  176392000000.0   \n",
       "24       False           NaN           NaN            None            None   \n",
       "25        True           NaN           NaN   95281000000.0   85750000000.0   \n",
       "26        True           NaN           NaN   49848000000.0   45888000000.0   \n",
       "27        True           NaN           NaN  145129000000.0  131638000000.0   \n",
       "28        True           NaN           NaN  290437000000.0  308030000000.0   \n",
       "29        True           NaN           NaN                                   \n",
       "30        True  1.642679e+10  1.594342e+10   15550061000.0   15116786000.0   \n",
       "31        True           NaN           NaN   15550061000.0   15116786000.0   \n",
       "32       False           NaN           NaN            None            None   \n",
       "33        True           NaN           NaN   73812000000.0   83276000000.0   \n",
       "34        True           NaN           NaN    -214000000.0  -19154000000.0   \n",
       "35        True           NaN           NaN  -11452000000.0   -7172000000.0   \n",
       "36        True  6.309000e+10  5.067200e+10   62146000000.0   56950000000.0   \n",
       "37        True           NaN           NaN  352583000000.0  364980000000.0   \n",
       "\n",
       "                                       original_label  \n",
       "0                                                 NaN  \n",
       "1                                                 NaN  \n",
       "2                                                 NaN  \n",
       "3                           Cash and cash equivalents  \n",
       "4                                                 NaN  \n",
       "5                            Accounts receivable, net  \n",
       "6                                                 NaN  \n",
       "7                                         Inventories  \n",
       "8                                Other current assets  \n",
       "9                                Total current assets  \n",
       "10                                                NaN  \n",
       "11                                                NaN  \n",
       "12                 Property, plant and equipment, net  \n",
       "13                           Other non-current assets  \n",
       "14                           Total non-current assets  \n",
       "15                                       Total assets  \n",
       "16                                                NaN  \n",
       "17                                                NaN  \n",
       "18                                   Accounts payable  \n",
       "19                          Other current liabilities  \n",
       "20                                   Deferred revenue  \n",
       "21                                                NaN  \n",
       "22                                          Term debt  \n",
       "23                          Total current liabilities  \n",
       "24                                                NaN  \n",
       "25                                          Term debt  \n",
       "26                      Other non-current liabilities  \n",
       "27                      Total non-current liabilities  \n",
       "28                                  Total liabilities  \n",
       "29                                                NaN  \n",
       "30                                                NaN  \n",
       "31                                                NaN  \n",
       "32                                                NaN  \n",
       "33  Common stock and additional paid-in capital, $...  \n",
       "34                                Accumulated deficit  \n",
       "35                                                NaN  \n",
       "36                         Total shareholders’ equity  \n",
       "37         Total liabilities and shareholders’ equity  "
      ],
      "text/html": [
       "<div>\n",
       "<style scoped>\n",
       "    .dataframe tbody tr th:only-of-type {\n",
       "        vertical-align: middle;\n",
       "    }\n",
       "\n",
       "    .dataframe tbody tr th {\n",
       "        vertical-align: top;\n",
       "    }\n",
       "\n",
       "    .dataframe thead th {\n",
       "        text-align: right;\n",
       "    }\n",
       "</style>\n",
       "<table border=\"1\" class=\"dataframe\">\n",
       "  <thead>\n",
       "    <tr style=\"text-align: right;\">\n",
       "      <th></th>\n",
       "      <th>concept</th>\n",
       "      <th>label</th>\n",
       "      <th>level</th>\n",
       "      <th>is_abstract</th>\n",
       "      <th>has_values</th>\n",
       "      <th>2021-09-25</th>\n",
       "      <th>2022-09-24</th>\n",
       "      <th>2023-09-30</th>\n",
       "      <th>2024-09-28</th>\n",
       "      <th>original_label</th>\n",
       "    </tr>\n",
       "  </thead>\n",
       "  <tbody>\n",
       "    <tr>\n",
       "      <th>0</th>\n",
       "      <td>us-gaap_StatementOfFinancialPositionAbstract</td>\n",
       "      <td>Statement of Financial Position [Abstract]</td>\n",
       "      <td>0</td>\n",
       "      <td>False</td>\n",
       "      <td>False</td>\n",
       "      <td>NaN</td>\n",
       "      <td>NaN</td>\n",
       "      <td>None</td>\n",
       "      <td>None</td>\n",
       "      <td>NaN</td>\n",
       "    </tr>\n",
       "    <tr>\n",
       "      <th>1</th>\n",
       "      <td>us-gaap_AssetsAbstract</td>\n",
       "      <td>ASSETS:</td>\n",
       "      <td>1</td>\n",
       "      <td>False</td>\n",
       "      <td>False</td>\n",
       "      <td>NaN</td>\n",
       "      <td>NaN</td>\n",
       "      <td>None</td>\n",
       "      <td>None</td>\n",
       "      <td>NaN</td>\n",
       "    </tr>\n",
       "    <tr>\n",
       "      <th>2</th>\n",
       "      <td>us-gaap_AssetsCurrentAbstract</td>\n",
       "      <td>Current assets:</td>\n",
       "      <td>2</td>\n",
       "      <td>False</td>\n",
       "      <td>False</td>\n",
       "      <td>NaN</td>\n",
       "      <td>NaN</td>\n",
       "      <td>None</td>\n",
       "      <td>None</td>\n",
       "      <td>NaN</td>\n",
       "    </tr>\n",
       "    <tr>\n",
       "      <th>3</th>\n",
       "      <td>us-gaap_CashAndCashEquivalentsAtCarryingValue</td>\n",
       "      <td>Cash and Cash Equivalents</td>\n",
       "      <td>3</td>\n",
       "      <td>False</td>\n",
       "      <td>True</td>\n",
       "      <td>NaN</td>\n",
       "      <td>NaN</td>\n",
       "      <td>29965000000.0</td>\n",
       "      <td>29943000000.0</td>\n",
       "      <td>Cash and cash equivalents</td>\n",
       "    </tr>\n",
       "    <tr>\n",
       "      <th>4</th>\n",
       "      <td>us-gaap_MarketableSecuritiesCurrent</td>\n",
       "      <td>Marketable securities</td>\n",
       "      <td>3</td>\n",
       "      <td>False</td>\n",
       "      <td>True</td>\n",
       "      <td>NaN</td>\n",
       "      <td>NaN</td>\n",
       "      <td>31590000000.0</td>\n",
       "      <td>35228000000.0</td>\n",
       "      <td>NaN</td>\n",
       "    </tr>\n",
       "    <tr>\n",
       "      <th>5</th>\n",
       "      <td>us-gaap_AccountsReceivableNetCurrent</td>\n",
       "      <td>Accounts Receivable</td>\n",
       "      <td>3</td>\n",
       "      <td>False</td>\n",
       "      <td>True</td>\n",
       "      <td>NaN</td>\n",
       "      <td>NaN</td>\n",
       "      <td>29508000000.0</td>\n",
       "      <td>33410000000.0</td>\n",
       "      <td>Accounts receivable, net</td>\n",
       "    </tr>\n",
       "    <tr>\n",
       "      <th>6</th>\n",
       "      <td>us-gaap_NontradeReceivablesCurrent</td>\n",
       "      <td>Vendor non-trade receivables</td>\n",
       "      <td>3</td>\n",
       "      <td>False</td>\n",
       "      <td>True</td>\n",
       "      <td>NaN</td>\n",
       "      <td>NaN</td>\n",
       "      <td>31477000000.0</td>\n",
       "      <td>32833000000.0</td>\n",
       "      <td>NaN</td>\n",
       "    </tr>\n",
       "    <tr>\n",
       "      <th>7</th>\n",
       "      <td>us-gaap_InventoryNet</td>\n",
       "      <td>Inventory</td>\n",
       "      <td>3</td>\n",
       "      <td>False</td>\n",
       "      <td>True</td>\n",
       "      <td>NaN</td>\n",
       "      <td>NaN</td>\n",
       "      <td>6331000000.0</td>\n",
       "      <td>7286000000.0</td>\n",
       "      <td>Inventories</td>\n",
       "    </tr>\n",
       "    <tr>\n",
       "      <th>8</th>\n",
       "      <td>us-gaap_OtherAssetsCurrent</td>\n",
       "      <td>Other Assets</td>\n",
       "      <td>3</td>\n",
       "      <td>False</td>\n",
       "      <td>True</td>\n",
       "      <td>NaN</td>\n",
       "      <td>NaN</td>\n",
       "      <td>14695000000.0</td>\n",
       "      <td>14287000000.0</td>\n",
       "      <td>Other current assets</td>\n",
       "    </tr>\n",
       "    <tr>\n",
       "      <th>9</th>\n",
       "      <td>us-gaap_AssetsCurrent</td>\n",
       "      <td>Total Current Assets</td>\n",
       "      <td>3</td>\n",
       "      <td>False</td>\n",
       "      <td>True</td>\n",
       "      <td>NaN</td>\n",
       "      <td>NaN</td>\n",
       "      <td>143566000000.0</td>\n",
       "      <td>152987000000.0</td>\n",
       "      <td>Total current assets</td>\n",
       "    </tr>\n",
       "    <tr>\n",
       "      <th>10</th>\n",
       "      <td>us-gaap_AssetsNoncurrentAbstract</td>\n",
       "      <td>Non-current assets:</td>\n",
       "      <td>2</td>\n",
       "      <td>False</td>\n",
       "      <td>False</td>\n",
       "      <td>NaN</td>\n",
       "      <td>NaN</td>\n",
       "      <td>None</td>\n",
       "      <td>None</td>\n",
       "      <td>NaN</td>\n",
       "    </tr>\n",
       "    <tr>\n",
       "      <th>11</th>\n",
       "      <td>us-gaap_MarketableSecuritiesNoncurrent</td>\n",
       "      <td>Marketable securities</td>\n",
       "      <td>3</td>\n",
       "      <td>False</td>\n",
       "      <td>True</td>\n",
       "      <td>NaN</td>\n",
       "      <td>NaN</td>\n",
       "      <td>100544000000.0</td>\n",
       "      <td>91479000000.0</td>\n",
       "      <td>NaN</td>\n",
       "    </tr>\n",
       "    <tr>\n",
       "      <th>12</th>\n",
       "      <td>us-gaap_PropertyPlantAndEquipmentNet</td>\n",
       "      <td>Property, Plant and Equipment</td>\n",
       "      <td>3</td>\n",
       "      <td>False</td>\n",
       "      <td>True</td>\n",
       "      <td>NaN</td>\n",
       "      <td>NaN</td>\n",
       "      <td>43715000000.0</td>\n",
       "      <td>45680000000.0</td>\n",
       "      <td>Property, plant and equipment, net</td>\n",
       "    </tr>\n",
       "    <tr>\n",
       "      <th>13</th>\n",
       "      <td>us-gaap_OtherAssetsNoncurrent</td>\n",
       "      <td>Other Assets</td>\n",
       "      <td>3</td>\n",
       "      <td>False</td>\n",
       "      <td>True</td>\n",
       "      <td>NaN</td>\n",
       "      <td>NaN</td>\n",
       "      <td>64758000000.0</td>\n",
       "      <td>74834000000.0</td>\n",
       "      <td>Other non-current assets</td>\n",
       "    </tr>\n",
       "    <tr>\n",
       "      <th>14</th>\n",
       "      <td>us-gaap_AssetsNoncurrent</td>\n",
       "      <td>Total Current Assets</td>\n",
       "      <td>3</td>\n",
       "      <td>False</td>\n",
       "      <td>True</td>\n",
       "      <td>NaN</td>\n",
       "      <td>NaN</td>\n",
       "      <td>209017000000.0</td>\n",
       "      <td>211993000000.0</td>\n",
       "      <td>Total non-current assets</td>\n",
       "    </tr>\n",
       "    <tr>\n",
       "      <th>15</th>\n",
       "      <td>us-gaap_Assets</td>\n",
       "      <td>Total Assets</td>\n",
       "      <td>2</td>\n",
       "      <td>False</td>\n",
       "      <td>True</td>\n",
       "      <td>NaN</td>\n",
       "      <td>NaN</td>\n",
       "      <td>352583000000.0</td>\n",
       "      <td>364980000000.0</td>\n",
       "      <td>Total assets</td>\n",
       "    </tr>\n",
       "    <tr>\n",
       "      <th>16</th>\n",
       "      <td>us-gaap_LiabilitiesAndStockholdersEquityAbstract</td>\n",
       "      <td>LIABILITIES AND SHAREHOLDERS’ EQUITY:</td>\n",
       "      <td>1</td>\n",
       "      <td>False</td>\n",
       "      <td>False</td>\n",
       "      <td>NaN</td>\n",
       "      <td>NaN</td>\n",
       "      <td>None</td>\n",
       "      <td>None</td>\n",
       "      <td>NaN</td>\n",
       "    </tr>\n",
       "    <tr>\n",
       "      <th>17</th>\n",
       "      <td>us-gaap_LiabilitiesCurrentAbstract</td>\n",
       "      <td>Current liabilities:</td>\n",
       "      <td>2</td>\n",
       "      <td>False</td>\n",
       "      <td>False</td>\n",
       "      <td>NaN</td>\n",
       "      <td>NaN</td>\n",
       "      <td>None</td>\n",
       "      <td>None</td>\n",
       "      <td>NaN</td>\n",
       "    </tr>\n",
       "    <tr>\n",
       "      <th>18</th>\n",
       "      <td>us-gaap_AccountsPayableCurrent</td>\n",
       "      <td>Accounts Payable</td>\n",
       "      <td>3</td>\n",
       "      <td>False</td>\n",
       "      <td>True</td>\n",
       "      <td>NaN</td>\n",
       "      <td>NaN</td>\n",
       "      <td>62611000000.0</td>\n",
       "      <td>68960000000.0</td>\n",
       "      <td>Accounts payable</td>\n",
       "    </tr>\n",
       "    <tr>\n",
       "      <th>19</th>\n",
       "      <td>us-gaap_OtherLiabilitiesCurrent</td>\n",
       "      <td>Other Liabilities</td>\n",
       "      <td>3</td>\n",
       "      <td>False</td>\n",
       "      <td>True</td>\n",
       "      <td>NaN</td>\n",
       "      <td>NaN</td>\n",
       "      <td>58829000000.0</td>\n",
       "      <td>78304000000.0</td>\n",
       "      <td>Other current liabilities</td>\n",
       "    </tr>\n",
       "    <tr>\n",
       "      <th>20</th>\n",
       "      <td>us-gaap_ContractWithCustomerLiabilityCurrent</td>\n",
       "      <td>Deferred Revenue</td>\n",
       "      <td>3</td>\n",
       "      <td>False</td>\n",
       "      <td>True</td>\n",
       "      <td>NaN</td>\n",
       "      <td>NaN</td>\n",
       "      <td>8061000000.0</td>\n",
       "      <td>8249000000.0</td>\n",
       "      <td>Deferred revenue</td>\n",
       "    </tr>\n",
       "    <tr>\n",
       "      <th>21</th>\n",
       "      <td>us-gaap_CommercialPaper</td>\n",
       "      <td>Commercial paper</td>\n",
       "      <td>3</td>\n",
       "      <td>False</td>\n",
       "      <td>True</td>\n",
       "      <td>NaN</td>\n",
       "      <td>NaN</td>\n",
       "      <td>5985000000.0</td>\n",
       "      <td>9967000000.0</td>\n",
       "      <td>NaN</td>\n",
       "    </tr>\n",
       "    <tr>\n",
       "      <th>22</th>\n",
       "      <td>us-gaap_LongTermDebtCurrent</td>\n",
       "      <td>Short-Term Debt</td>\n",
       "      <td>3</td>\n",
       "      <td>False</td>\n",
       "      <td>True</td>\n",
       "      <td>NaN</td>\n",
       "      <td>NaN</td>\n",
       "      <td>9822000000.0</td>\n",
       "      <td>10912000000.0</td>\n",
       "      <td>Term debt</td>\n",
       "    </tr>\n",
       "    <tr>\n",
       "      <th>23</th>\n",
       "      <td>us-gaap_LiabilitiesCurrent</td>\n",
       "      <td>Total Current Liabilities</td>\n",
       "      <td>3</td>\n",
       "      <td>False</td>\n",
       "      <td>True</td>\n",
       "      <td>NaN</td>\n",
       "      <td>NaN</td>\n",
       "      <td>145308000000.0</td>\n",
       "      <td>176392000000.0</td>\n",
       "      <td>Total current liabilities</td>\n",
       "    </tr>\n",
       "    <tr>\n",
       "      <th>24</th>\n",
       "      <td>us-gaap_LiabilitiesNoncurrentAbstract</td>\n",
       "      <td>Non-current liabilities:</td>\n",
       "      <td>2</td>\n",
       "      <td>False</td>\n",
       "      <td>False</td>\n",
       "      <td>NaN</td>\n",
       "      <td>NaN</td>\n",
       "      <td>None</td>\n",
       "      <td>None</td>\n",
       "      <td>NaN</td>\n",
       "    </tr>\n",
       "    <tr>\n",
       "      <th>25</th>\n",
       "      <td>us-gaap_LongTermDebtNoncurrent</td>\n",
       "      <td>Long-Term Debt</td>\n",
       "      <td>3</td>\n",
       "      <td>False</td>\n",
       "      <td>True</td>\n",
       "      <td>NaN</td>\n",
       "      <td>NaN</td>\n",
       "      <td>95281000000.0</td>\n",
       "      <td>85750000000.0</td>\n",
       "      <td>Term debt</td>\n",
       "    </tr>\n",
       "    <tr>\n",
       "      <th>26</th>\n",
       "      <td>us-gaap_OtherLiabilitiesNoncurrent</td>\n",
       "      <td>Other Liabilities</td>\n",
       "      <td>3</td>\n",
       "      <td>False</td>\n",
       "      <td>True</td>\n",
       "      <td>NaN</td>\n",
       "      <td>NaN</td>\n",
       "      <td>49848000000.0</td>\n",
       "      <td>45888000000.0</td>\n",
       "      <td>Other non-current liabilities</td>\n",
       "    </tr>\n",
       "    <tr>\n",
       "      <th>27</th>\n",
       "      <td>us-gaap_LiabilitiesNoncurrent</td>\n",
       "      <td>Total Current Liabilities</td>\n",
       "      <td>3</td>\n",
       "      <td>False</td>\n",
       "      <td>True</td>\n",
       "      <td>NaN</td>\n",
       "      <td>NaN</td>\n",
       "      <td>145129000000.0</td>\n",
       "      <td>131638000000.0</td>\n",
       "      <td>Total non-current liabilities</td>\n",
       "    </tr>\n",
       "    <tr>\n",
       "      <th>28</th>\n",
       "      <td>us-gaap_Liabilities</td>\n",
       "      <td>Total Liabilities</td>\n",
       "      <td>2</td>\n",
       "      <td>False</td>\n",
       "      <td>True</td>\n",
       "      <td>NaN</td>\n",
       "      <td>NaN</td>\n",
       "      <td>290437000000.0</td>\n",
       "      <td>308030000000.0</td>\n",
       "      <td>Total liabilities</td>\n",
       "    </tr>\n",
       "    <tr>\n",
       "      <th>29</th>\n",
       "      <td>us-gaap_CommitmentsAndContingencies</td>\n",
       "      <td>Commitments and contingencies</td>\n",
       "      <td>2</td>\n",
       "      <td>False</td>\n",
       "      <td>True</td>\n",
       "      <td>NaN</td>\n",
       "      <td>NaN</td>\n",
       "      <td></td>\n",
       "      <td></td>\n",
       "      <td>NaN</td>\n",
       "    </tr>\n",
       "    <tr>\n",
       "      <th>30</th>\n",
       "      <td>us-gaap_CommonStockSharesOutstanding</td>\n",
       "      <td>Common stock, shares outstanding (in shares)</td>\n",
       "      <td>2</td>\n",
       "      <td>False</td>\n",
       "      <td>True</td>\n",
       "      <td>1.642679e+10</td>\n",
       "      <td>1.594342e+10</td>\n",
       "      <td>15550061000.0</td>\n",
       "      <td>15116786000.0</td>\n",
       "      <td>NaN</td>\n",
       "    </tr>\n",
       "    <tr>\n",
       "      <th>31</th>\n",
       "      <td>us-gaap_CommonStockSharesIssued</td>\n",
       "      <td>Common stock, shares issued (in shares)</td>\n",
       "      <td>2</td>\n",
       "      <td>False</td>\n",
       "      <td>True</td>\n",
       "      <td>NaN</td>\n",
       "      <td>NaN</td>\n",
       "      <td>15550061000.0</td>\n",
       "      <td>15116786000.0</td>\n",
       "      <td>NaN</td>\n",
       "    </tr>\n",
       "    <tr>\n",
       "      <th>32</th>\n",
       "      <td>us-gaap_StockholdersEquityAbstract</td>\n",
       "      <td>Shareholders’ equity:</td>\n",
       "      <td>2</td>\n",
       "      <td>False</td>\n",
       "      <td>False</td>\n",
       "      <td>NaN</td>\n",
       "      <td>NaN</td>\n",
       "      <td>None</td>\n",
       "      <td>None</td>\n",
       "      <td>NaN</td>\n",
       "    </tr>\n",
       "    <tr>\n",
       "      <th>33</th>\n",
       "      <td>us-gaap_CommonStocksIncludingAdditionalPaidInC...</td>\n",
       "      <td>Common Stock</td>\n",
       "      <td>3</td>\n",
       "      <td>False</td>\n",
       "      <td>True</td>\n",
       "      <td>NaN</td>\n",
       "      <td>NaN</td>\n",
       "      <td>73812000000.0</td>\n",
       "      <td>83276000000.0</td>\n",
       "      <td>Common stock and additional paid-in capital, $...</td>\n",
       "    </tr>\n",
       "    <tr>\n",
       "      <th>34</th>\n",
       "      <td>us-gaap_RetainedEarningsAccumulatedDeficit</td>\n",
       "      <td>Retained Earnings</td>\n",
       "      <td>3</td>\n",
       "      <td>False</td>\n",
       "      <td>True</td>\n",
       "      <td>NaN</td>\n",
       "      <td>NaN</td>\n",
       "      <td>-214000000.0</td>\n",
       "      <td>-19154000000.0</td>\n",
       "      <td>Accumulated deficit</td>\n",
       "    </tr>\n",
       "    <tr>\n",
       "      <th>35</th>\n",
       "      <td>us-gaap_AccumulatedOtherComprehensiveIncomeLos...</td>\n",
       "      <td>Accumulated other comprehensive loss</td>\n",
       "      <td>3</td>\n",
       "      <td>False</td>\n",
       "      <td>True</td>\n",
       "      <td>NaN</td>\n",
       "      <td>NaN</td>\n",
       "      <td>-11452000000.0</td>\n",
       "      <td>-7172000000.0</td>\n",
       "      <td>NaN</td>\n",
       "    </tr>\n",
       "    <tr>\n",
       "      <th>36</th>\n",
       "      <td>us-gaap_StockholdersEquity</td>\n",
       "      <td>Total Stockholders' Equity</td>\n",
       "      <td>3</td>\n",
       "      <td>False</td>\n",
       "      <td>True</td>\n",
       "      <td>6.309000e+10</td>\n",
       "      <td>5.067200e+10</td>\n",
       "      <td>62146000000.0</td>\n",
       "      <td>56950000000.0</td>\n",
       "      <td>Total shareholders’ equity</td>\n",
       "    </tr>\n",
       "    <tr>\n",
       "      <th>37</th>\n",
       "      <td>us-gaap_LiabilitiesAndStockholdersEquity</td>\n",
       "      <td>Total Liabilities and Stockholders' Equity</td>\n",
       "      <td>2</td>\n",
       "      <td>False</td>\n",
       "      <td>True</td>\n",
       "      <td>NaN</td>\n",
       "      <td>NaN</td>\n",
       "      <td>352583000000.0</td>\n",
       "      <td>364980000000.0</td>\n",
       "      <td>Total liabilities and shareholders’ equity</td>\n",
       "    </tr>\n",
       "  </tbody>\n",
       "</table>\n",
       "</div>"
      ]
     },
     "execution_count": 5,
     "metadata": {},
     "output_type": "execute_result"
    }
   ],
   "execution_count": 5
  },
  {
   "cell_type": "markdown",
   "id": "3144f2b7-4e83-45ef-9aac-21e604b0bc94",
   "metadata": {},
   "source": [
    "### Render Income Statement "
   ]
  },
  {
   "cell_type": "code",
   "id": "b5bad76a-547a-4428-a7c9-c249dc4aee43",
   "metadata": {
    "ExecuteTime": {
     "end_time": "2025-03-14T16:17:37.064936Z",
     "start_time": "2025-03-14T16:17:37.043438Z"
    }
   },
   "source": "xbrl.statements.income_statement()",
   "outputs": [
    {
     "data": {
      "text/plain": [],
      "text/html": [
       "<pre style=\"white-space:pre;overflow-x:auto;line-height:normal;font-family:Menlo,'DejaVu Sans Mono',consolas,'Courier New',monospace\"></pre>\n"
      ]
     },
     "metadata": {},
     "output_type": "display_data"
    },
    {
     "data": {
      "text/plain": [
       "\u001B[3m                         CONSOLIDATEDSTATEMENTSOFOPERATIONS (Standardized)                          \u001B[0m\n",
       "\u001B[3m                          \u001B[0m\u001B[1;3mYear Ended\u001B[0m\u001B[3m \u001B[0m\u001B[3m(In millions, except per share data)\u001B[0m\u001B[3m                           \u001B[0m\n",
       "                                                                                                    \n",
       " \u001B[1m \u001B[0m\u001B[1mLine Item                                          \u001B[0m\u001B[1m \u001B[0m \u001B[1m \u001B[0m\u001B[1mSep 28, 2024\u001B[0m\u001B[1m \u001B[0m \u001B[1m \u001B[0m\u001B[1mSep 30, 2023\u001B[0m\u001B[1m \u001B[0m \u001B[1m \u001B[0m\u001B[1mSep 24, 2022\u001B[0m\u001B[1m \u001B[0m \n",
       " ────────────────────────────────────────────────────────────────────────────────────────────────── \n",
       "        Revenue                                             $391,035       $383,285       $394,328  \n",
       "        Cost of Revenue                                     $210,352       $214,137       $223,546  \n",
       "        Gross Profit                                        $180,683       $169,148       $170,782  \n",
       "        Operating Expenses                                                                          \n",
       "          Research and Development Expense                   $31,370        $29,915        $26,251  \n",
       "          Selling, General and Administrative Expense        $26,097        $24,932        $25,094  \n",
       "          Operating Expenses                                 $57,467        $54,847        $51,345  \n",
       "        Operating Income                                    $123,216       $114,301       $119,437  \n",
       "        Nonoperating Income/Expense                             $269         $(565)         $(334)  \n",
       "        Income before provision for income taxes            $123,485       $113,736       $119,103  \n",
       "        Income Tax Expense                                   $29,749        $16,741        $19,300  \n",
       "        Net Income                                           $93,736        $96,995        $99,803  \n",
       "        Earnings per share:                                                                         \n",
       "          Earnings Per Share                                    6.11           6.16           6.15  \n",
       "          Earnings Per Share                                    6.08           6.13           6.11  \n",
       "        Shares used in computing earnings per share:                                                \n",
       "          Shares Outstanding                              $15,343.78     $15,744.23     $16,215.96  \n",
       "          Shares Outstanding                              $15,408.09     $15,812.55     $16,325.82  \n",
       "                                                                                                    "
      ]
     },
     "execution_count": 6,
     "metadata": {},
     "output_type": "execute_result"
    }
   ],
   "execution_count": 6
  },
  {
   "cell_type": "markdown",
   "id": "21802fdf-f0a8-4b49-b48f-7cf8f2741ccf",
   "metadata": {},
   "source": [
    "### Render Cashflow Statement"
   ]
  },
  {
   "cell_type": "code",
   "id": "052cb547-9af5-4fa6-bc83-16c8d6f55800",
   "metadata": {
    "ExecuteTime": {
     "end_time": "2025-03-14T16:17:41.124639Z",
     "start_time": "2025-03-14T16:17:41.080011Z"
    }
   },
   "source": "xbrl.statements.cash_flow_statement()",
   "outputs": [
    {
     "data": {
      "text/plain": [],
      "text/html": [
       "<pre style=\"white-space:pre;overflow-x:auto;line-height:normal;font-family:Menlo,'DejaVu Sans Mono',consolas,'Courier New',monospace\"></pre>\n"
      ]
     },
     "metadata": {},
     "output_type": "display_data"
    },
    {
     "data": {
      "text/plain": [
       "\u001B[3m                                 CONSOLIDATEDSTATEMENTSOFCASHFLOWS (Standardized)                                  \u001B[0m\n",
       "\u001B[3m                                  \u001B[0m\u001B[1;3mYear Ended\u001B[0m\u001B[3m \u001B[0m\u001B[3m(In millions, except per share data)\u001B[0m\u001B[3m                                  \u001B[0m\n",
       "                                                                                                                   \n",
       " \u001B[1m \u001B[0m\u001B[1mLine Item                                                         \u001B[0m\u001B[1m \u001B[0m \u001B[1m \u001B[0m\u001B[1mSep 28, 2024\u001B[0m\u001B[1m \u001B[0m \u001B[1m \u001B[0m\u001B[1mSep 30, 2023\u001B[0m\u001B[1m \u001B[0m \u001B[1m \u001B[0m\u001B[1mSep 24, 2022\u001B[0m\u001B[1m \u001B[0m \n",
       " ───────────────────────────────────────────────────────────────────────────────────────────────────────────────── \n",
       "    Cash, cash equivalents, and restricted cash and cash                                                           \n",
       "  equivalents, ending balances                                                                                     \n",
       "    Operating activities:                                                                                          \n",
       "      Net Income                                                            $93,736        $96,995        $99,803  \n",
       "      Adjustments to reconcile net income to cash generated by                                                     \n",
       "  operating activities:                                                                                            \n",
       "        Depreciation and amortization                                       $11,445        $11,519        $11,104  \n",
       "        Share-based compensation expense                                    $11,688        $10,833         $9,038  \n",
       "        Other                                                                $2,266         $2,227       $(1,006)  \n",
       "        Changes in operating assets and liabilities:                                                               \n",
       "          Accounts receivable, net                                           $3,788         $1,688         $1,823  \n",
       "          Vendor non-trade receivables                                       $1,356       $(1,271)         $7,520  \n",
       "          Inventories                                                        $1,046         $1,618       $(1,484)  \n",
       "          Other current and non-current assets                              $11,731         $5,684         $6,499  \n",
       "          Accounts Payable                                                   $6,020       $(1,889)         $9,448  \n",
       "          Other current and non-current liabilities                         $15,552         $3,031         $6,110  \n",
       "      Net Cash from Operating Activities                                   $118,254       $110,543       $122,151  \n",
       "    Investing activities:                                                                                          \n",
       "      Purchases of marketable securities                                    $48,656        $29,513        $76,923  \n",
       "      Proceeds from Maturities, Prepayments and Calls of Securities         $51,211        $39,686        $29,917  \n",
       "      Proceeds from Sale of Debt Securities,                                $11,135         $5,828        $37,446  \n",
       "      Payments for Property, Plant and Equipment                             $9,447        $10,959        $10,708  \n",
       "      Other                                                                  $1,308         $1,337         $2,086  \n",
       "      Net Cash from Investing Activities                                     $2,935         $3,705      $(22,354)  \n",
       "    Financing activities:                                                                                          \n",
       "      Tax Withholding for Share-Based Compensation                           $5,441         $5,431         $6,223  \n",
       "      Payments of Dividends                                                 $15,234        $15,025        $14,841  \n",
       "      Repurchases of common stock                                           $94,949        $77,550        $89,402  \n",
       "      Proceeds from Issuance of Long-Term Debt                                     \u0014         $5,228         $5,465  \n",
       "      Repayments of term debt                                                $9,958        $11,151         $9,543  \n",
       "      Proceeds from/(Repayments of) commercial paper, net                    $3,960       $(3,978)         $3,955  \n",
       "      Other                                                                  $(361)         $(581)         $(160)  \n",
       "      Net Cash from Financing Activities                                 $(121,983)     $(108,488)     $(110,749)  \n",
       "    Increase/(Decrease) in cash, cash equivalents, and restricted            $(794)         $5,760      $(10,952)  \n",
       "  cash and cash equivalents                                                                                        \n",
       "    Cash, cash equivalents, and restricted cash and cash                                                           \n",
       "  equivalents, ending balances                                                                                     \n",
       "    Supplemental cash flow disclosure:                                                                             \n",
       "      Income Tax Expense                                                    $26,102        $18,679        $19,573  \n",
       "                                                                                                                   "
      ]
     },
     "execution_count": 7,
     "metadata": {},
     "output_type": "execute_result"
    }
   ],
   "execution_count": 7
  },
  {
   "cell_type": "markdown",
   "id": "921bfd1e-a7e3-42c0-8fac-0f6a19bb907d",
   "metadata": {},
   "source": [
    "### Entity Info"
   ]
  },
  {
   "cell_type": "code",
   "id": "62a25320-94fe-48c8-89b4-9c8476aaec70",
   "metadata": {
    "ExecuteTime": {
     "end_time": "2025-03-14T16:16:58.085353Z",
     "start_time": "2025-03-14T16:16:58.074038Z"
    }
   },
   "source": [
    "for key, value in xbrl.entity_info.items():\n",
    "    print(f\"{key}: {value}\")"
   ],
   "outputs": [
    {
     "data": {
      "text/plain": [
       "entity_name: Apple Inc.\n"
      ],
      "text/html": [
       "<pre style=\"white-space:pre;overflow-x:auto;line-height:normal;font-family:Menlo,'DejaVu Sans Mono',consolas,'Courier New',monospace\">entity_name: Apple Inc.\n",
       "</pre>\n"
      ]
     },
     "metadata": {},
     "output_type": "display_data"
    },
    {
     "data": {
      "text/plain": [
       "ticker: AAPL\n"
      ],
      "text/html": [
       "<pre style=\"white-space:pre;overflow-x:auto;line-height:normal;font-family:Menlo,'DejaVu Sans Mono',consolas,'Courier New',monospace\">ticker: AAPL\n",
       "</pre>\n"
      ]
     },
     "metadata": {},
     "output_type": "display_data"
    },
    {
     "data": {
      "text/plain": [
       "identifier: \u001B[1;36m320193\u001B[0m\n"
      ],
      "text/html": [
       "<pre style=\"white-space:pre;overflow-x:auto;line-height:normal;font-family:Menlo,'DejaVu Sans Mono',consolas,'Courier New',monospace\">identifier: <span style=\"color: #008080; text-decoration-color: #008080; font-weight: bold\">320193</span>\n",
       "</pre>\n"
      ]
     },
     "metadata": {},
     "output_type": "display_data"
    },
    {
     "data": {
      "text/plain": [
       "document_type: \u001B[1;36m10\u001B[0m-K\n"
      ],
      "text/html": [
       "<pre style=\"white-space:pre;overflow-x:auto;line-height:normal;font-family:Menlo,'DejaVu Sans Mono',consolas,'Courier New',monospace\">document_type: <span style=\"color: #008080; text-decoration-color: #008080; font-weight: bold\">10</span>-K\n",
       "</pre>\n"
      ]
     },
     "metadata": {},
     "output_type": "display_data"
    },
    {
     "data": {
      "text/plain": [
       "reporting_end_date: \u001B[1;36m2024\u001B[0m-\u001B[1;36m10\u001B[0m-\u001B[1;36m18\u001B[0m\n"
      ],
      "text/html": [
       "<pre style=\"white-space:pre;overflow-x:auto;line-height:normal;font-family:Menlo,'DejaVu Sans Mono',consolas,'Courier New',monospace\">reporting_end_date: <span style=\"color: #008080; text-decoration-color: #008080; font-weight: bold\">2024</span>-<span style=\"color: #008080; text-decoration-color: #008080; font-weight: bold\">10</span>-<span style=\"color: #008080; text-decoration-color: #008080; font-weight: bold\">18</span>\n",
       "</pre>\n"
      ]
     },
     "metadata": {},
     "output_type": "display_data"
    },
    {
     "data": {
      "text/plain": [
       "document_period_end_date: \u001B[1;36m2024\u001B[0m-\u001B[1;36m09\u001B[0m-\u001B[1;36m28\u001B[0m\n"
      ],
      "text/html": [
       "<pre style=\"white-space:pre;overflow-x:auto;line-height:normal;font-family:Menlo,'DejaVu Sans Mono',consolas,'Courier New',monospace\">document_period_end_date: <span style=\"color: #008080; text-decoration-color: #008080; font-weight: bold\">2024</span>-<span style=\"color: #008080; text-decoration-color: #008080; font-weight: bold\">09</span>-<span style=\"color: #008080; text-decoration-color: #008080; font-weight: bold\">28</span>\n",
       "</pre>\n"
      ]
     },
     "metadata": {},
     "output_type": "display_data"
    },
    {
     "data": {
      "text/plain": [
       "fiscal_year: \u001B[1;36m2024\u001B[0m\n"
      ],
      "text/html": [
       "<pre style=\"white-space:pre;overflow-x:auto;line-height:normal;font-family:Menlo,'DejaVu Sans Mono',consolas,'Courier New',monospace\">fiscal_year: <span style=\"color: #008080; text-decoration-color: #008080; font-weight: bold\">2024</span>\n",
       "</pre>\n"
      ]
     },
     "metadata": {},
     "output_type": "display_data"
    },
    {
     "data": {
      "text/plain": [
       "fiscal_period: FY\n"
      ],
      "text/html": [
       "<pre style=\"white-space:pre;overflow-x:auto;line-height:normal;font-family:Menlo,'DejaVu Sans Mono',consolas,'Courier New',monospace\">fiscal_period: FY\n",
       "</pre>\n"
      ]
     },
     "metadata": {},
     "output_type": "display_data"
    },
    {
     "data": {
      "text/plain": [
       "fiscal_year_end_month: \u001B[1;36m9\u001B[0m\n"
      ],
      "text/html": [
       "<pre style=\"white-space:pre;overflow-x:auto;line-height:normal;font-family:Menlo,'DejaVu Sans Mono',consolas,'Courier New',monospace\">fiscal_year_end_month: <span style=\"color: #008080; text-decoration-color: #008080; font-weight: bold\">9</span>\n",
       "</pre>\n"
      ]
     },
     "metadata": {},
     "output_type": "display_data"
    },
    {
     "data": {
      "text/plain": [
       "fiscal_year_end_day: \u001B[1;36m28\u001B[0m\n"
      ],
      "text/html": [
       "<pre style=\"white-space:pre;overflow-x:auto;line-height:normal;font-family:Menlo,'DejaVu Sans Mono',consolas,'Courier New',monospace\">fiscal_year_end_day: <span style=\"color: #008080; text-decoration-color: #008080; font-weight: bold\">28</span>\n",
       "</pre>\n"
      ]
     },
     "metadata": {},
     "output_type": "display_data"
    },
    {
     "data": {
      "text/plain": [
       "annual_report: \u001B[3;92mTrue\u001B[0m\n"
      ],
      "text/html": [
       "<pre style=\"white-space:pre;overflow-x:auto;line-height:normal;font-family:Menlo,'DejaVu Sans Mono',consolas,'Courier New',monospace\">annual_report: <span style=\"color: #00ff00; text-decoration-color: #00ff00; font-style: italic\">True</span>\n",
       "</pre>\n"
      ]
     },
     "metadata": {},
     "output_type": "display_data"
    },
    {
     "data": {
      "text/plain": [
       "quarterly_report: \u001B[3;91mFalse\u001B[0m\n"
      ],
      "text/html": [
       "<pre style=\"white-space:pre;overflow-x:auto;line-height:normal;font-family:Menlo,'DejaVu Sans Mono',consolas,'Courier New',monospace\">quarterly_report: <span style=\"color: #ff0000; text-decoration-color: #ff0000; font-style: italic\">False</span>\n",
       "</pre>\n"
      ]
     },
     "metadata": {},
     "output_type": "display_data"
    },
    {
     "data": {
      "text/plain": [
       "amendment: \u001B[3;91mFalse\u001B[0m\n"
      ],
      "text/html": [
       "<pre style=\"white-space:pre;overflow-x:auto;line-height:normal;font-family:Menlo,'DejaVu Sans Mono',consolas,'Courier New',monospace\">amendment: <span style=\"color: #ff0000; text-decoration-color: #ff0000; font-style: italic\">False</span>\n",
       "</pre>\n"
      ]
     },
     "metadata": {},
     "output_type": "display_data"
    }
   ],
   "execution_count": 13
  },
  {
   "cell_type": "markdown",
   "id": "3c6626b0-2690-4442-80a5-fba7418542bf",
   "metadata": {},
   "source": [
    "### Available Reporting Periods"
   ]
  },
  {
   "cell_type": "code",
   "id": "1f59ae37-b135-4665-afcd-fa0199301c54",
   "metadata": {
    "ExecuteTime": {
     "end_time": "2025-03-14T16:17:02.357036Z",
     "start_time": "2025-03-14T16:17:02.337906Z"
    }
   },
   "source": [
    "print(\"\\n[bold]Available Reporting Periods:[/bold]\")\n",
    "for i, period in enumerate(xbrl.reporting_periods):\n",
    "    if period['type'] == 'instant':\n",
    "        print(f\"{i+1}. As of {period['date']}\")\n",
    "    else:\n",
    "        print(f\"{i+1}. {period['start_date']} to {period['end_date']}\")"
   ],
   "outputs": [
    {
     "data": {
      "text/plain": [
       "\n",
       "\u001B[1mAvailable Reporting Periods:\u001B[0m\n"
      ],
      "text/html": [
       "<pre style=\"white-space:pre;overflow-x:auto;line-height:normal;font-family:Menlo,'DejaVu Sans Mono',consolas,'Courier New',monospace\">\n",
       "<span style=\"font-weight: bold\">Available Reporting Periods:</span>\n",
       "</pre>\n"
      ]
     },
     "metadata": {},
     "output_type": "display_data"
    },
    {
     "data": {
      "text/plain": [
       "\u001B[1;36m1\u001B[0m. As of \u001B[1;36m2024\u001B[0m-\u001B[1;36m10\u001B[0m-\u001B[1;36m18\u001B[0m\n"
      ],
      "text/html": [
       "<pre style=\"white-space:pre;overflow-x:auto;line-height:normal;font-family:Menlo,'DejaVu Sans Mono',consolas,'Courier New',monospace\"><span style=\"color: #008080; text-decoration-color: #008080; font-weight: bold\">1</span>. As of <span style=\"color: #008080; text-decoration-color: #008080; font-weight: bold\">2024</span>-<span style=\"color: #008080; text-decoration-color: #008080; font-weight: bold\">10</span>-<span style=\"color: #008080; text-decoration-color: #008080; font-weight: bold\">18</span>\n",
       "</pre>\n"
      ]
     },
     "metadata": {},
     "output_type": "display_data"
    },
    {
     "data": {
      "text/plain": [
       "\u001B[1;36m2\u001B[0m. As of \u001B[1;36m2024\u001B[0m-\u001B[1;36m09\u001B[0m-\u001B[1;36m28\u001B[0m\n"
      ],
      "text/html": [
       "<pre style=\"white-space:pre;overflow-x:auto;line-height:normal;font-family:Menlo,'DejaVu Sans Mono',consolas,'Courier New',monospace\"><span style=\"color: #008080; text-decoration-color: #008080; font-weight: bold\">2</span>. As of <span style=\"color: #008080; text-decoration-color: #008080; font-weight: bold\">2024</span>-<span style=\"color: #008080; text-decoration-color: #008080; font-weight: bold\">09</span>-<span style=\"color: #008080; text-decoration-color: #008080; font-weight: bold\">28</span>\n",
       "</pre>\n"
      ]
     },
     "metadata": {},
     "output_type": "display_data"
    },
    {
     "data": {
      "text/plain": [
       "\u001B[1;36m3\u001B[0m. \u001B[1;36m2023\u001B[0m-\u001B[1;36m10\u001B[0m-\u001B[1;36m01\u001B[0m to \u001B[1;36m2024\u001B[0m-\u001B[1;36m09\u001B[0m-\u001B[1;36m28\u001B[0m\n"
      ],
      "text/html": [
       "<pre style=\"white-space:pre;overflow-x:auto;line-height:normal;font-family:Menlo,'DejaVu Sans Mono',consolas,'Courier New',monospace\"><span style=\"color: #008080; text-decoration-color: #008080; font-weight: bold\">3</span>. <span style=\"color: #008080; text-decoration-color: #008080; font-weight: bold\">2023</span>-<span style=\"color: #008080; text-decoration-color: #008080; font-weight: bold\">10</span>-<span style=\"color: #008080; text-decoration-color: #008080; font-weight: bold\">01</span> to <span style=\"color: #008080; text-decoration-color: #008080; font-weight: bold\">2024</span>-<span style=\"color: #008080; text-decoration-color: #008080; font-weight: bold\">09</span>-<span style=\"color: #008080; text-decoration-color: #008080; font-weight: bold\">28</span>\n",
       "</pre>\n"
      ]
     },
     "metadata": {},
     "output_type": "display_data"
    },
    {
     "data": {
      "text/plain": [
       "\u001B[1;36m4\u001B[0m. \u001B[1;36m2024\u001B[0m-\u001B[1;36m06\u001B[0m-\u001B[1;36m30\u001B[0m to \u001B[1;36m2024\u001B[0m-\u001B[1;36m09\u001B[0m-\u001B[1;36m28\u001B[0m\n"
      ],
      "text/html": [
       "<pre style=\"white-space:pre;overflow-x:auto;line-height:normal;font-family:Menlo,'DejaVu Sans Mono',consolas,'Courier New',monospace\"><span style=\"color: #008080; text-decoration-color: #008080; font-weight: bold\">4</span>. <span style=\"color: #008080; text-decoration-color: #008080; font-weight: bold\">2024</span>-<span style=\"color: #008080; text-decoration-color: #008080; font-weight: bold\">06</span>-<span style=\"color: #008080; text-decoration-color: #008080; font-weight: bold\">30</span> to <span style=\"color: #008080; text-decoration-color: #008080; font-weight: bold\">2024</span>-<span style=\"color: #008080; text-decoration-color: #008080; font-weight: bold\">09</span>-<span style=\"color: #008080; text-decoration-color: #008080; font-weight: bold\">28</span>\n",
       "</pre>\n"
      ]
     },
     "metadata": {},
     "output_type": "display_data"
    },
    {
     "data": {
      "text/plain": [
       "\u001B[1;36m5\u001B[0m. As of \u001B[1;36m2024\u001B[0m-\u001B[1;36m03\u001B[0m-\u001B[1;36m29\u001B[0m\n"
      ],
      "text/html": [
       "<pre style=\"white-space:pre;overflow-x:auto;line-height:normal;font-family:Menlo,'DejaVu Sans Mono',consolas,'Courier New',monospace\"><span style=\"color: #008080; text-decoration-color: #008080; font-weight: bold\">5</span>. As of <span style=\"color: #008080; text-decoration-color: #008080; font-weight: bold\">2024</span>-<span style=\"color: #008080; text-decoration-color: #008080; font-weight: bold\">03</span>-<span style=\"color: #008080; text-decoration-color: #008080; font-weight: bold\">29</span>\n",
       "</pre>\n"
      ]
     },
     "metadata": {},
     "output_type": "display_data"
    },
    {
     "data": {
      "text/plain": [
       "\u001B[1;36m6\u001B[0m. As of \u001B[1;36m2023\u001B[0m-\u001B[1;36m09\u001B[0m-\u001B[1;36m30\u001B[0m\n"
      ],
      "text/html": [
       "<pre style=\"white-space:pre;overflow-x:auto;line-height:normal;font-family:Menlo,'DejaVu Sans Mono',consolas,'Courier New',monospace\"><span style=\"color: #008080; text-decoration-color: #008080; font-weight: bold\">6</span>. As of <span style=\"color: #008080; text-decoration-color: #008080; font-weight: bold\">2023</span>-<span style=\"color: #008080; text-decoration-color: #008080; font-weight: bold\">09</span>-<span style=\"color: #008080; text-decoration-color: #008080; font-weight: bold\">30</span>\n",
       "</pre>\n"
      ]
     },
     "metadata": {},
     "output_type": "display_data"
    },
    {
     "data": {
      "text/plain": [
       "\u001B[1;36m7\u001B[0m. \u001B[1;36m2022\u001B[0m-\u001B[1;36m09\u001B[0m-\u001B[1;36m25\u001B[0m to \u001B[1;36m2023\u001B[0m-\u001B[1;36m09\u001B[0m-\u001B[1;36m30\u001B[0m\n"
      ],
      "text/html": [
       "<pre style=\"white-space:pre;overflow-x:auto;line-height:normal;font-family:Menlo,'DejaVu Sans Mono',consolas,'Courier New',monospace\"><span style=\"color: #008080; text-decoration-color: #008080; font-weight: bold\">7</span>. <span style=\"color: #008080; text-decoration-color: #008080; font-weight: bold\">2022</span>-<span style=\"color: #008080; text-decoration-color: #008080; font-weight: bold\">09</span>-<span style=\"color: #008080; text-decoration-color: #008080; font-weight: bold\">25</span> to <span style=\"color: #008080; text-decoration-color: #008080; font-weight: bold\">2023</span>-<span style=\"color: #008080; text-decoration-color: #008080; font-weight: bold\">09</span>-<span style=\"color: #008080; text-decoration-color: #008080; font-weight: bold\">30</span>\n",
       "</pre>\n"
      ]
     },
     "metadata": {},
     "output_type": "display_data"
    },
    {
     "data": {
      "text/plain": [
       "\u001B[1;36m8\u001B[0m. As of \u001B[1;36m2022\u001B[0m-\u001B[1;36m09\u001B[0m-\u001B[1;36m24\u001B[0m\n"
      ],
      "text/html": [
       "<pre style=\"white-space:pre;overflow-x:auto;line-height:normal;font-family:Menlo,'DejaVu Sans Mono',consolas,'Courier New',monospace\"><span style=\"color: #008080; text-decoration-color: #008080; font-weight: bold\">8</span>. As of <span style=\"color: #008080; text-decoration-color: #008080; font-weight: bold\">2022</span>-<span style=\"color: #008080; text-decoration-color: #008080; font-weight: bold\">09</span>-<span style=\"color: #008080; text-decoration-color: #008080; font-weight: bold\">24</span>\n",
       "</pre>\n"
      ]
     },
     "metadata": {},
     "output_type": "display_data"
    },
    {
     "data": {
      "text/plain": [
       "\u001B[1;36m9\u001B[0m. \u001B[1;36m2021\u001B[0m-\u001B[1;36m09\u001B[0m-\u001B[1;36m26\u001B[0m to \u001B[1;36m2022\u001B[0m-\u001B[1;36m09\u001B[0m-\u001B[1;36m24\u001B[0m\n"
      ],
      "text/html": [
       "<pre style=\"white-space:pre;overflow-x:auto;line-height:normal;font-family:Menlo,'DejaVu Sans Mono',consolas,'Courier New',monospace\"><span style=\"color: #008080; text-decoration-color: #008080; font-weight: bold\">9</span>. <span style=\"color: #008080; text-decoration-color: #008080; font-weight: bold\">2021</span>-<span style=\"color: #008080; text-decoration-color: #008080; font-weight: bold\">09</span>-<span style=\"color: #008080; text-decoration-color: #008080; font-weight: bold\">26</span> to <span style=\"color: #008080; text-decoration-color: #008080; font-weight: bold\">2022</span>-<span style=\"color: #008080; text-decoration-color: #008080; font-weight: bold\">09</span>-<span style=\"color: #008080; text-decoration-color: #008080; font-weight: bold\">24</span>\n",
       "</pre>\n"
      ]
     },
     "metadata": {},
     "output_type": "display_data"
    },
    {
     "data": {
      "text/plain": [
       "\u001B[1;36m10\u001B[0m. As of \u001B[1;36m2022\u001B[0m-\u001B[1;36m03\u001B[0m-\u001B[1;36m04\u001B[0m\n"
      ],
      "text/html": [
       "<pre style=\"white-space:pre;overflow-x:auto;line-height:normal;font-family:Menlo,'DejaVu Sans Mono',consolas,'Courier New',monospace\"><span style=\"color: #008080; text-decoration-color: #008080; font-weight: bold\">10</span>. As of <span style=\"color: #008080; text-decoration-color: #008080; font-weight: bold\">2022</span>-<span style=\"color: #008080; text-decoration-color: #008080; font-weight: bold\">03</span>-<span style=\"color: #008080; text-decoration-color: #008080; font-weight: bold\">04</span>\n",
       "</pre>\n"
      ]
     },
     "metadata": {},
     "output_type": "display_data"
    },
    {
     "data": {
      "text/plain": [
       "\u001B[1;36m11\u001B[0m. As of \u001B[1;36m2021\u001B[0m-\u001B[1;36m09\u001B[0m-\u001B[1;36m25\u001B[0m\n"
      ],
      "text/html": [
       "<pre style=\"white-space:pre;overflow-x:auto;line-height:normal;font-family:Menlo,'DejaVu Sans Mono',consolas,'Courier New',monospace\"><span style=\"color: #008080; text-decoration-color: #008080; font-weight: bold\">11</span>. As of <span style=\"color: #008080; text-decoration-color: #008080; font-weight: bold\">2021</span>-<span style=\"color: #008080; text-decoration-color: #008080; font-weight: bold\">09</span>-<span style=\"color: #008080; text-decoration-color: #008080; font-weight: bold\">25</span>\n",
       "</pre>\n"
      ]
     },
     "metadata": {},
     "output_type": "display_data"
    },
    {
     "data": {
      "text/plain": [
       "\u001B[1;36m12\u001B[0m. As of \u001B[1;36m2016\u001B[0m-\u001B[1;36m08\u001B[0m-\u001B[1;36m30\u001B[0m\n"
      ],
      "text/html": [
       "<pre style=\"white-space:pre;overflow-x:auto;line-height:normal;font-family:Menlo,'DejaVu Sans Mono',consolas,'Courier New',monospace\"><span style=\"color: #008080; text-decoration-color: #008080; font-weight: bold\">12</span>. As of <span style=\"color: #008080; text-decoration-color: #008080; font-weight: bold\">2016</span>-<span style=\"color: #008080; text-decoration-color: #008080; font-weight: bold\">08</span>-<span style=\"color: #008080; text-decoration-color: #008080; font-weight: bold\">30</span>\n",
       "</pre>\n"
      ]
     },
     "metadata": {},
     "output_type": "display_data"
    },
    {
     "data": {
      "text/plain": [
       "\u001B[1;36m13\u001B[0m. \u001B[1;36m2016\u001B[0m-\u001B[1;36m08\u001B[0m-\u001B[1;36m30\u001B[0m to \u001B[1;36m2016\u001B[0m-\u001B[1;36m08\u001B[0m-\u001B[1;36m30\u001B[0m\n"
      ],
      "text/html": [
       "<pre style=\"white-space:pre;overflow-x:auto;line-height:normal;font-family:Menlo,'DejaVu Sans Mono',consolas,'Courier New',monospace\"><span style=\"color: #008080; text-decoration-color: #008080; font-weight: bold\">13</span>. <span style=\"color: #008080; text-decoration-color: #008080; font-weight: bold\">2016</span>-<span style=\"color: #008080; text-decoration-color: #008080; font-weight: bold\">08</span>-<span style=\"color: #008080; text-decoration-color: #008080; font-weight: bold\">30</span> to <span style=\"color: #008080; text-decoration-color: #008080; font-weight: bold\">2016</span>-<span style=\"color: #008080; text-decoration-color: #008080; font-weight: bold\">08</span>-<span style=\"color: #008080; text-decoration-color: #008080; font-weight: bold\">30</span>\n",
       "</pre>\n"
      ]
     },
     "metadata": {},
     "output_type": "display_data"
    }
   ],
   "execution_count": 14
  },
  {
   "cell_type": "markdown",
   "id": "76104a5e-002a-41fb-a389-bd959869d9d8",
   "metadata": {},
   "source": [
    "### Period Views"
   ]
  },
  {
   "cell_type": "code",
   "id": "9e66864b-343e-4abd-8fbb-19987c2b957f",
   "metadata": {
    "ExecuteTime": {
     "end_time": "2025-03-13T19:03:59.432598Z",
     "start_time": "2025-03-13T19:03:59.423177Z"
    }
   },
   "source": [
    "# Show available period views for each statement\n",
    "print(\"\\n[bold]Available Period Views for Balance Sheet:[/bold]\")\n",
    "bs_views = xbrl.get_period_views(\"BalanceSheet\")\n",
    "for view in bs_views:\n",
    "    print(f\"- {view['name']}: {view['description']}\")\n",
    "    \n",
    "print(\"\\n[bold]Available Period Views for Income Statement:[/bold]\")\n",
    "is_views = xbrl.get_period_views(\"IncomeStatement\")\n",
    "for view in is_views:\n",
    "    print(f\"- {view['name']}: {view['description']}\")"
   ],
   "outputs": [
    {
     "data": {
      "text/plain": [
       "\n",
       "\u001B[1mAvailable Period Views for Balance Sheet:\u001B[0m\n"
      ],
      "text/html": [
       "<pre style=\"white-space:pre;overflow-x:auto;line-height:normal;font-family:Menlo,'DejaVu Sans Mono',consolas,'Courier New',monospace\">\n",
       "<span style=\"font-weight: bold\">Available Period Views for Balance Sheet:</span>\n",
       "</pre>\n"
      ]
     },
     "metadata": {},
     "output_type": "display_data"
    },
    {
     "data": {
      "text/plain": [
       "- Three-Year Comparison: Shows the most recent three periods\n"
      ],
      "text/html": [
       "<pre style=\"white-space:pre;overflow-x:auto;line-height:normal;font-family:Menlo,'DejaVu Sans Mono',consolas,'Courier New',monospace\">- Three-Year Comparison: Shows the most recent three periods\n",
       "</pre>\n"
      ]
     },
     "metadata": {},
     "output_type": "display_data"
    },
    {
     "data": {
      "text/plain": [
       "- Current vs. Previous Periods: Shows the current period and two previous periods\n"
      ],
      "text/html": [
       "<pre style=\"white-space:pre;overflow-x:auto;line-height:normal;font-family:Menlo,'DejaVu Sans Mono',consolas,'Courier New',monospace\">- Current vs. Previous Periods: Shows the current period and two previous periods\n",
       "</pre>\n"
      ]
     },
     "metadata": {},
     "output_type": "display_data"
    },
    {
     "data": {
      "text/plain": [
       "- Three-Year Annual Comparison: Shows three fiscal years for comparison\n"
      ],
      "text/html": [
       "<pre style=\"white-space:pre;overflow-x:auto;line-height:normal;font-family:Menlo,'DejaVu Sans Mono',consolas,'Courier New',monospace\">- Three-Year Annual Comparison: Shows three fiscal years for comparison\n",
       "</pre>\n"
      ]
     },
     "metadata": {},
     "output_type": "display_data"
    },
    {
     "data": {
      "text/plain": [
       "- Annual Comparison: Shows two fiscal years for comparison\n"
      ],
      "text/html": [
       "<pre style=\"white-space:pre;overflow-x:auto;line-height:normal;font-family:Menlo,'DejaVu Sans Mono',consolas,'Courier New',monospace\">- Annual Comparison: Shows two fiscal years for comparison\n",
       "</pre>\n"
      ]
     },
     "metadata": {},
     "output_type": "display_data"
    },
    {
     "data": {
      "text/plain": [
       "\n",
       "\u001B[1mAvailable Period Views for Income Statement:\u001B[0m\n"
      ],
      "text/html": [
       "<pre style=\"white-space:pre;overflow-x:auto;line-height:normal;font-family:Menlo,'DejaVu Sans Mono',consolas,'Courier New',monospace\">\n",
       "<span style=\"font-weight: bold\">Available Period Views for Income Statement:</span>\n",
       "</pre>\n"
      ]
     },
     "metadata": {},
     "output_type": "display_data"
    },
    {
     "data": {
      "text/plain": [
       "- Three-Year Comparison: Compares three fiscal years\n"
      ],
      "text/html": [
       "<pre style=\"white-space:pre;overflow-x:auto;line-height:normal;font-family:Menlo,'DejaVu Sans Mono',consolas,'Courier New',monospace\">- Three-Year Comparison: Compares three fiscal years\n",
       "</pre>\n"
      ]
     },
     "metadata": {},
     "output_type": "display_data"
    },
    {
     "data": {
      "text/plain": [
       "- Annual Comparison: Compares recent fiscal years\n"
      ],
      "text/html": [
       "<pre style=\"white-space:pre;overflow-x:auto;line-height:normal;font-family:Menlo,'DejaVu Sans Mono',consolas,'Courier New',monospace\">- Annual Comparison: Compares recent fiscal years\n",
       "</pre>\n"
      ]
     },
     "metadata": {},
     "output_type": "display_data"
    }
   ],
   "execution_count": 13
  },
  {
   "cell_type": "markdown",
   "id": "fd279916-ef53-44b8-baaf-3c09161427c8",
   "metadata": {},
   "source": [
    "### Render Balance Sheet with Current vs. Previous Period view if available"
   ]
  },
  {
   "cell_type": "code",
   "id": "e0132d0f-b7f1-445c-b47e-4c571371e5fa",
   "metadata": {
    "ExecuteTime": {
     "end_time": "2025-03-13T19:04:04.557707Z",
     "start_time": "2025-03-13T19:04:04.532181Z"
    }
   },
   "source": [
    "current_vs_prev_bs = xbrl.render_statement(\"BalanceSheet\", period_view=\"Current vs. Previous Period\")\n",
    "current_vs_prev_bs"
   ],
   "outputs": [
    {
     "data": {
      "text/plain": [
       "\u001B[3m                                             CONSOLIDATEDBALANCESHEETS                                             \u001B[0m\n",
       "\u001B[3m                              \u001B[0m\u001B[1;3mFiscal Year Ended\u001B[0m\u001B[3m \u001B[0m\u001B[3m(In millions, except per share data)\u001B[0m\u001B[3m                               \u001B[0m\n",
       "                                                                                                                   \n",
       " \u001B[1m \u001B[0m\u001B[1mLine Item                                                   \u001B[0m\u001B[1m \u001B[0m \u001B[1m \u001B[0m\u001B[1mSep 28, 2024  \u001B[0m\u001B[1m \u001B[0m \u001B[1m \u001B[0m\u001B[1mSep 30, 2023  \u001B[0m\u001B[1m \u001B[0m \u001B[1m \u001B[0m\u001B[1mSep 24, 2022  \u001B[0m\u001B[1m \u001B[0m \n",
       " ───────────────────────────────────────────────────────────────────────────────────────────────────────────────── \n",
       "    ASSETS:                                                                                                        \n",
       "      Current assets:                                                                                              \n",
       "        Cash and cash equivalents                                       $29,943          $29,965                   \n",
       "        Marketable securities                                           $35,228          $31,590                   \n",
       "        Accounts receivable, net                                        $33,410          $29,508                   \n",
       "        Vendor non-trade receivables                                    $32,833          $31,477                   \n",
       "        Inventories                                                      $7,286           $6,331                   \n",
       "        Other current assets                                            $14,287          $14,695                   \n",
       "        Total current assets                                           $152,987         $143,566                   \n",
       "      Non-current assets:                                                                                          \n",
       "        Marketable securities                                           $91,479         $100,544                   \n",
       "        Property, plant and equipment, net                              $45,680          $43,715                   \n",
       "        Other non-current assets                                        $74,834          $64,758                   \n",
       "        Total non-current assets                                       $211,993         $209,017                   \n",
       "      Total assets                                                     $364,980         $352,583                   \n",
       "    LIABILITIES AND SHAREHOLDERS’ EQUITY:                                                                          \n",
       "      Current liabilities:                                                                                         \n",
       "        Accounts payable                                                $68,960          $62,611                   \n",
       "        Other current liabilities                                       $78,304          $58,829                   \n",
       "        Deferred revenue                                                 $8,249           $8,061                   \n",
       "        Commercial paper                                                 $9,967           $5,985                   \n",
       "        Term debt                                                       $10,912           $9,822                   \n",
       "        Total current liabilities                                      $176,392         $145,308                   \n",
       "      Non-current liabilities:                                                                                     \n",
       "        Term debt                                                       $85,750          $95,281                   \n",
       "        Other non-current liabilities                                   $45,888          $49,848                   \n",
       "        Total non-current liabilities                                  $131,638         $145,129                   \n",
       "      Total liabilities                                                $308,030         $290,437                   \n",
       "      Commitments and contingencies                                                                                \n",
       "      Common stock, shares outstanding (in shares)               15,116,786,000   15,550,061,000   15,943,425,000  \n",
       "      Common stock, shares issued (in shares)                    15,116,786,000   15,550,061,000                   \n",
       "      Shareholders’ equity:                                                                                        \n",
       "        Common stock and additional paid-in capital, $0.00001           $83,276          $73,812                   \n",
       "  par value: 50,400,000 shares authorized; 15,116,786 and                                                          \n",
       "  15,550,061 shares issued and outstanding, respectively                                                           \n",
       "        Accumulated deficit                                           $(19,154)           $(214)                   \n",
       "        Accumulated other comprehensive loss                           $(7,172)        $(11,452)                   \n",
       "        Total shareholders’ equity                                      $56,950          $62,146          $50,672  \n",
       "      Total liabilities and shareholders’ equity                       $364,980         $352,583                   \n",
       "                                                                                                                   \n"
      ],
      "text/html": [
       "<pre style=\"white-space:pre;overflow-x:auto;line-height:normal;font-family:Menlo,'DejaVu Sans Mono',consolas,'Courier New',monospace\"><span style=\"font-style: italic\">                                             CONSOLIDATEDBALANCESHEETS                                             </span>\n",
       "<span style=\"font-style: italic\">                              </span><span style=\"font-weight: bold; font-style: italic\">Fiscal Year Ended</span><span style=\"font-style: italic\"> (In millions, except per share data)                               </span>\n",
       "                                                                                                                   \n",
       " <span style=\"font-weight: bold\"> Line Item                                                    </span> <span style=\"font-weight: bold\"> Sep 28, 2024   </span> <span style=\"font-weight: bold\"> Sep 30, 2023   </span> <span style=\"font-weight: bold\"> Sep 24, 2022   </span> \n",
       " ───────────────────────────────────────────────────────────────────────────────────────────────────────────────── \n",
       "    ASSETS:                                                                                                        \n",
       "      Current assets:                                                                                              \n",
       "        Cash and cash equivalents                                       $29,943          $29,965                   \n",
       "        Marketable securities                                           $35,228          $31,590                   \n",
       "        Accounts receivable, net                                        $33,410          $29,508                   \n",
       "        Vendor non-trade receivables                                    $32,833          $31,477                   \n",
       "        Inventories                                                      $7,286           $6,331                   \n",
       "        Other current assets                                            $14,287          $14,695                   \n",
       "        Total current assets                                           $152,987         $143,566                   \n",
       "      Non-current assets:                                                                                          \n",
       "        Marketable securities                                           $91,479         $100,544                   \n",
       "        Property, plant and equipment, net                              $45,680          $43,715                   \n",
       "        Other non-current assets                                        $74,834          $64,758                   \n",
       "        Total non-current assets                                       $211,993         $209,017                   \n",
       "      Total assets                                                     $364,980         $352,583                   \n",
       "    LIABILITIES AND SHAREHOLDERS’ EQUITY:                                                                          \n",
       "      Current liabilities:                                                                                         \n",
       "        Accounts payable                                                $68,960          $62,611                   \n",
       "        Other current liabilities                                       $78,304          $58,829                   \n",
       "        Deferred revenue                                                 $8,249           $8,061                   \n",
       "        Commercial paper                                                 $9,967           $5,985                   \n",
       "        Term debt                                                       $10,912           $9,822                   \n",
       "        Total current liabilities                                      $176,392         $145,308                   \n",
       "      Non-current liabilities:                                                                                     \n",
       "        Term debt                                                       $85,750          $95,281                   \n",
       "        Other non-current liabilities                                   $45,888          $49,848                   \n",
       "        Total non-current liabilities                                  $131,638         $145,129                   \n",
       "      Total liabilities                                                $308,030         $290,437                   \n",
       "      Commitments and contingencies                                                                                \n",
       "      Common stock, shares outstanding (in shares)               15,116,786,000   15,550,061,000   15,943,425,000  \n",
       "      Common stock, shares issued (in shares)                    15,116,786,000   15,550,061,000                   \n",
       "      Shareholders’ equity:                                                                                        \n",
       "        Common stock and additional paid-in capital, $0.00001           $83,276          $73,812                   \n",
       "  par value: 50,400,000 shares authorized; 15,116,786 and                                                          \n",
       "  15,550,061 shares issued and outstanding, respectively                                                           \n",
       "        Accumulated deficit                                           $(19,154)           $(214)                   \n",
       "        Accumulated other comprehensive loss                           $(7,172)        $(11,452)                   \n",
       "        Total shareholders’ equity                                      $56,950          $62,146          $50,672  \n",
       "      Total liabilities and shareholders’ equity                       $364,980         $352,583                   \n",
       "                                                                                                                   \n",
       "</pre>\n"
      ]
     },
     "execution_count": 14,
     "metadata": {},
     "output_type": "execute_result"
    }
   ],
   "execution_count": 14
  },
  {
   "metadata": {},
   "cell_type": "code",
   "outputs": [],
   "execution_count": null,
   "source": "",
   "id": "8d8e0d45924b0773"
  },
  {
   "cell_type": "markdown",
   "id": "fa2f3a67-39e0-44b4-afc1-57c6da68a5a6",
   "metadata": {},
   "source": [
    "# Using the Statements API"
   ]
  },
  {
   "cell_type": "code",
   "execution_count": 12,
   "id": "7aa663b5-a624-473a-9f80-41106a82bbcc",
   "metadata": {},
   "outputs": [
    {
     "data": {
      "text/html": [
       "<pre style=\"white-space:pre;overflow-x:auto;line-height:normal;font-family:Menlo,'DejaVu Sans Mono',consolas,'Courier New',monospace\"><span style=\"font-style: italic\">                                               Available Statements                                                </span>\n",
       "                                                                                                                   \n",
       " <span style=\"font-weight: bold\"> #  </span> <span style=\"font-weight: bold\"> Statement                                                                   </span> <span style=\"font-weight: bold\"> Type              </span> <span style=\"font-weight: bold\"> Elements </span> \n",
       " ───────────────────────────────────────────────────────────────────────────────────────────────────────────────── \n",
       "  0    CoverPage                                                                                         50        \n",
       "  1    AuditorInformation                                                                                4         \n",
       "  2    CONSOLIDATEDSTATEMENTSOFOPERATIONS                                            IncomeStatement     25        \n",
       "  3    CONSOLIDATEDSTATEMENTSOFCOMPREHENSIVEINCOME                                   IncomeStatement     14        \n",
       "  4    CONSOLIDATEDBALANCESHEETS                                                     BalanceSheet        38        \n",
       "  5    CONSOLIDATEDBALANCESHEETSParenthetical                                        BalanceSheet        5         \n",
       "  6    CONSOLIDATEDSTATEMENTSOFSHAREHOLDERSEQUITY                                    StatementOfEquity   18        \n",
       "  7    CONSOLIDATEDSTATEMENTSOFCASHFLOWS                                             CashFlowStatement   35        \n",
       "  8    SummaryofSignificantAccountingPolicies                                                            2         \n",
       "  9    Revenue                                                                                           2         \n",
       "  10   EarningsPerShare                                                                                  2         \n",
       "  11   FinancialInstruments                                                                              2         \n",
       "  12   PropertyPlantandEquipment                                                                         2         \n",
       "  13   ConsolidatedFinancialStatementDetails                                                             2         \n",
       "  14   IncomeTaxes                                                                   IncomeStatement     2         \n",
       "  15   Leases                                                                                            3         \n",
       "  16   Debt                                                                                              2         \n",
       "  17   ShareholdersEquity                                                            StatementOfEquity   2         \n",
       "  18   ShareBasedCompensation                                                                            2         \n",
       "  19   CommitmentsContingenciesandSupplyConcentrations                                                   2         \n",
       "  20   SegmentInformationandGeographicData                                                               2         \n",
       "  21   SummaryofSignificantAccountingPoliciesPolicies                                                    14        \n",
       "  22   RevenueTables                                                                                     2         \n",
       "  23   EarningsPerShareTables                                                                            2         \n",
       "  24   FinancialInstrumentsTables                                                                        4         \n",
       "  25   PropertyPlantandEquipmentTables                                                                   2         \n",
       "  26   ConsolidatedFinancialStatementDetailsTables                                                       4         \n",
       "  27   IncomeTaxesTables                                                             IncomeStatement     5         \n",
       "  28   LeasesTables                                                                                      4         \n",
       "  29   DebtTables                                                                                        4         \n",
       "  30   ShareholdersEquityTables                                                      StatementOfEquity   2         \n",
       "  31   ShareBasedCompensationTables                                                                      3         \n",
       "  32   CommitmentsContingenciesandSupplyConcentrationsTables                                             2         \n",
       "  33   SegmentInformationandGeographicDataTables                                                         4         \n",
       "  34   RevenueAdditionalInformationDetails                                                               3         \n",
       "  35   RevenueNetSalesDisaggregatedbySignificantProductsandServicesDetails                               11        \n",
       "  36   RevenueDeferredRevenueExpectedTimingofRealizationDetails                                          6         \n",
       "  37   EarningsPerShareComputationofBasicandDilutedEarningsPerShareDetails                               9         \n",
       "  38   EarningsPerShareAdditionalInformationDetails                                                      7         \n",
       "  39   FinancialInstrumentsCashCashEquivalentsandMarketableSecuritiesDetails                             42        \n",
       "  40   FinancialInstrumentsAdditionalInformationDetails                                                  30        \n",
       "  41   FinancialInstrumentsNotionalAmountsAssociatedwithDerivativeInstrumentsDeta…                       12        \n",
       "  42   FinancialInstrumentsDerivativeInstrumentsDesignatedasFairValueHedgesandRel…                       5         \n",
       "  43   PropertyPlantandEquipmentGrossPropertyPlantandEquipmentbyMajorAssetClassan…                       11        \n",
       "  44   PropertyPlantandEquipmentAdditionalInformationDetails                                             2         \n",
       "  45   ConsolidatedFinancialStatementDetailsOtherNonCurrentAssetsDetails                                 4         \n",
       "  46   ConsolidatedFinancialStatementDetailsOtherCurrentLiabilitiesDetails                               4         \n",
       "  47   ConsolidatedFinancialStatementDetailsOtherNonCurrentLiabilitiesDetails                            4         \n",
       "  48   IncomeTaxesAdditionalInformationDetails                                       IncomeStatement     28        \n",
       "  49   IncomeTaxesProvisionforIncomeTaxesDetails                                     IncomeStatement     14        \n",
       "  50   IncomeTaxesReconciliationofProvisionforIncomeTaxestoAmountComputedbyApplyi…   IncomeStatement     10        \n",
       "  51   IncomeTaxesSignificantComponentsofDeferredTaxAssetsandLiabilitiesDetails      IncomeStatement     20        \n",
       "  52   IncomeTaxesAggregateChangesinGrossUnrecognizedTaxBenefitsDetails              IncomeStatement     8         \n",
       "  53   LeasesAdditionalInformationDetails                                                                19        \n",
       "  54   LeasesROUAssetsandLeaseLiabilitiesDetails                                                         16        \n",
       "  55   LeasesLeaseLiabilityMaturitiesDetails                                                             31        \n",
       "  56   DebtAdditionalInformationDetails                                                                  13        \n",
       "  57   DebtSummaryofCashFlowsAssociatedwithCommercialPaperDetails                                        8         \n",
       "  58   DebtSummaryofTermDebtDetails                                                                      23        \n",
       "  59   DebtFuturePrincipalPaymentsforTermDebtDetails                                                     8         \n",
       "  60   ShareholdersEquityAdditionalInformationDetails                                StatementOfEquity   4         \n",
       "  61   ShareholdersEquitySharesofCommonStockDetails                                  StatementOfEquity   10        \n",
       "  62   ShareBasedCompensationAdditionalInformationDetails                                                17        \n",
       "  63   ShareBasedCompensationRestrictedStockUnitActivityandRelatedInformationDeta…                       18        \n",
       "  64   ShareBasedCompensationSummaryofShareBasedCompensationExpenseandtheRelatedI…   IncomeStatement     3         \n",
       "  65   CommitmentsContingenciesandSupplyConcentrationsFuturePaymentsUnderUncondit…                       9         \n",
       "  66   SegmentInformationandGeographicDataInformationbyReportableSegmentDetails                          12        \n",
       "  67   SegmentInformationandGeographicDataReconciliationofSegmentOperatingIncomet…   IncomeStatement     11        \n",
       "  68   SegmentInformationandGeographicDataNetSalesforCountriesthatIndividuallyAcc…                       9         \n",
       "  69   SegmentInformationandGeographicDataLongLivedAssetsforCountriesthatIndividu…                       9         \n",
       "  70   AwardTimingDisclosure                                                                             21        \n",
       "  71   ErrCompDisclosure                                                                                 20        \n",
       "  72   PvpDisclosure                                                                                     54        \n",
       "  73   InsiderTradingArrangements                                                                        20        \n",
       "  74   InsiderTradingPoliciesProc                                                                        3         \n",
       "                                                                                                                   \n",
       "</pre>\n"
      ],
      "text/plain": [
       "\u001B[3m                                               Available Statements                                                \u001B[0m\n",
       "                                                                                                                   \n",
       " \u001B[1m \u001B[0m\u001B[1m# \u001B[0m\u001B[1m \u001B[0m \u001B[1m \u001B[0m\u001B[1mStatement                                                                  \u001B[0m\u001B[1m \u001B[0m \u001B[1m \u001B[0m\u001B[1mType             \u001B[0m\u001B[1m \u001B[0m \u001B[1m \u001B[0m\u001B[1mElements\u001B[0m\u001B[1m \u001B[0m \n",
       " ───────────────────────────────────────────────────────────────────────────────────────────────────────────────── \n",
       "  0    CoverPage                                                                                         50        \n",
       "  1    AuditorInformation                                                                                4         \n",
       "  2    CONSOLIDATEDSTATEMENTSOFOPERATIONS                                            IncomeStatement     25        \n",
       "  3    CONSOLIDATEDSTATEMENTSOFCOMPREHENSIVEINCOME                                   IncomeStatement     14        \n",
       "  4    CONSOLIDATEDBALANCESHEETS                                                     BalanceSheet        38        \n",
       "  5    CONSOLIDATEDBALANCESHEETSParenthetical                                        BalanceSheet        5         \n",
       "  6    CONSOLIDATEDSTATEMENTSOFSHAREHOLDERSEQUITY                                    StatementOfEquity   18        \n",
       "  7    CONSOLIDATEDSTATEMENTSOFCASHFLOWS                                             CashFlowStatement   35        \n",
       "  8    SummaryofSignificantAccountingPolicies                                                            2         \n",
       "  9    Revenue                                                                                           2         \n",
       "  10   EarningsPerShare                                                                                  2         \n",
       "  11   FinancialInstruments                                                                              2         \n",
       "  12   PropertyPlantandEquipment                                                                         2         \n",
       "  13   ConsolidatedFinancialStatementDetails                                                             2         \n",
       "  14   IncomeTaxes                                                                   IncomeStatement     2         \n",
       "  15   Leases                                                                                            3         \n",
       "  16   Debt                                                                                              2         \n",
       "  17   ShareholdersEquity                                                            StatementOfEquity   2         \n",
       "  18   ShareBasedCompensation                                                                            2         \n",
       "  19   CommitmentsContingenciesandSupplyConcentrations                                                   2         \n",
       "  20   SegmentInformationandGeographicData                                                               2         \n",
       "  21   SummaryofSignificantAccountingPoliciesPolicies                                                    14        \n",
       "  22   RevenueTables                                                                                     2         \n",
       "  23   EarningsPerShareTables                                                                            2         \n",
       "  24   FinancialInstrumentsTables                                                                        4         \n",
       "  25   PropertyPlantandEquipmentTables                                                                   2         \n",
       "  26   ConsolidatedFinancialStatementDetailsTables                                                       4         \n",
       "  27   IncomeTaxesTables                                                             IncomeStatement     5         \n",
       "  28   LeasesTables                                                                                      4         \n",
       "  29   DebtTables                                                                                        4         \n",
       "  30   ShareholdersEquityTables                                                      StatementOfEquity   2         \n",
       "  31   ShareBasedCompensationTables                                                                      3         \n",
       "  32   CommitmentsContingenciesandSupplyConcentrationsTables                                             2         \n",
       "  33   SegmentInformationandGeographicDataTables                                                         4         \n",
       "  34   RevenueAdditionalInformationDetails                                                               3         \n",
       "  35   RevenueNetSalesDisaggregatedbySignificantProductsandServicesDetails                               11        \n",
       "  36   RevenueDeferredRevenueExpectedTimingofRealizationDetails                                          6         \n",
       "  37   EarningsPerShareComputationofBasicandDilutedEarningsPerShareDetails                               9         \n",
       "  38   EarningsPerShareAdditionalInformationDetails                                                      7         \n",
       "  39   FinancialInstrumentsCashCashEquivalentsandMarketableSecuritiesDetails                             42        \n",
       "  40   FinancialInstrumentsAdditionalInformationDetails                                                  30        \n",
       "  41   FinancialInstrumentsNotionalAmountsAssociatedwithDerivativeInstrumentsDeta…                       12        \n",
       "  42   FinancialInstrumentsDerivativeInstrumentsDesignatedasFairValueHedgesandRel…                       5         \n",
       "  43   PropertyPlantandEquipmentGrossPropertyPlantandEquipmentbyMajorAssetClassan…                       11        \n",
       "  44   PropertyPlantandEquipmentAdditionalInformationDetails                                             2         \n",
       "  45   ConsolidatedFinancialStatementDetailsOtherNonCurrentAssetsDetails                                 4         \n",
       "  46   ConsolidatedFinancialStatementDetailsOtherCurrentLiabilitiesDetails                               4         \n",
       "  47   ConsolidatedFinancialStatementDetailsOtherNonCurrentLiabilitiesDetails                            4         \n",
       "  48   IncomeTaxesAdditionalInformationDetails                                       IncomeStatement     28        \n",
       "  49   IncomeTaxesProvisionforIncomeTaxesDetails                                     IncomeStatement     14        \n",
       "  50   IncomeTaxesReconciliationofProvisionforIncomeTaxestoAmountComputedbyApplyi…   IncomeStatement     10        \n",
       "  51   IncomeTaxesSignificantComponentsofDeferredTaxAssetsandLiabilitiesDetails      IncomeStatement     20        \n",
       "  52   IncomeTaxesAggregateChangesinGrossUnrecognizedTaxBenefitsDetails              IncomeStatement     8         \n",
       "  53   LeasesAdditionalInformationDetails                                                                19        \n",
       "  54   LeasesROUAssetsandLeaseLiabilitiesDetails                                                         16        \n",
       "  55   LeasesLeaseLiabilityMaturitiesDetails                                                             31        \n",
       "  56   DebtAdditionalInformationDetails                                                                  13        \n",
       "  57   DebtSummaryofCashFlowsAssociatedwithCommercialPaperDetails                                        8         \n",
       "  58   DebtSummaryofTermDebtDetails                                                                      23        \n",
       "  59   DebtFuturePrincipalPaymentsforTermDebtDetails                                                     8         \n",
       "  60   ShareholdersEquityAdditionalInformationDetails                                StatementOfEquity   4         \n",
       "  61   ShareholdersEquitySharesofCommonStockDetails                                  StatementOfEquity   10        \n",
       "  62   ShareBasedCompensationAdditionalInformationDetails                                                17        \n",
       "  63   ShareBasedCompensationRestrictedStockUnitActivityandRelatedInformationDeta…                       18        \n",
       "  64   ShareBasedCompensationSummaryofShareBasedCompensationExpenseandtheRelatedI…   IncomeStatement     3         \n",
       "  65   CommitmentsContingenciesandSupplyConcentrationsFuturePaymentsUnderUncondit…                       9         \n",
       "  66   SegmentInformationandGeographicDataInformationbyReportableSegmentDetails                          12        \n",
       "  67   SegmentInformationandGeographicDataReconciliationofSegmentOperatingIncomet…   IncomeStatement     11        \n",
       "  68   SegmentInformationandGeographicDataNetSalesforCountriesthatIndividuallyAcc…                       9         \n",
       "  69   SegmentInformationandGeographicDataLongLivedAssetsforCountriesthatIndividu…                       9         \n",
       "  70   AwardTimingDisclosure                                                                             21        \n",
       "  71   ErrCompDisclosure                                                                                 20        \n",
       "  72   PvpDisclosure                                                                                     54        \n",
       "  73   InsiderTradingArrangements                                                                        20        \n",
       "  74   InsiderTradingPoliciesProc                                                                        3         \n",
       "                                                                                                                   \n"
      ]
     },
     "execution_count": 12,
     "metadata": {},
     "output_type": "execute_result"
    }
   ],
   "source": [
    "from edgar.xbrl2.statements import Statement\n",
    "\n",
    "# Create a Statements object for easier access\n",
    "statements = Statements(xbrl)\n",
    "statements.__rich__()"
   ]
  },
  {
   "cell_type": "markdown",
   "id": "557cb032-ad08-42e9-b418-b87b299d1b23",
   "metadata": {},
   "source": [
    "### Balance Sheet"
   ]
  },
  {
   "cell_type": "code",
   "execution_count": 13,
   "id": "47e9467c-4ead-4e6c-bc29-f35f96c89217",
   "metadata": {},
   "outputs": [
    {
     "data": {
      "text/html": [
       "<pre style=\"white-space:pre;overflow-x:auto;line-height:normal;font-family:Menlo,'DejaVu Sans Mono',consolas,'Courier New',monospace\"><span style=\"font-style: italic\">                                             CONSOLIDATEDBALANCESHEETS                                             </span>\n",
       "<span style=\"font-style: italic\">                              </span><span style=\"font-weight: bold; font-style: italic\">Fiscal Year Ended</span><span style=\"font-style: italic\"> (In millions, except per share data)                               </span>\n",
       "                                                                                                                   \n",
       " <span style=\"font-weight: bold\"> Line Item                                                                     </span> <span style=\"font-weight: bold\"> Sep 28, 2024   </span> <span style=\"font-weight: bold\"> Sep 30, 2023   </span> \n",
       " ───────────────────────────────────────────────────────────────────────────────────────────────────────────────── \n",
       "    ASSETS:                                                                                                        \n",
       "      Current assets:                                                                                              \n",
       "        Cash and cash equivalents                                                        $29,943          $29,965  \n",
       "        Marketable securities                                                            $35,228          $31,590  \n",
       "        Accounts receivable, net                                                         $33,410          $29,508  \n",
       "        Vendor non-trade receivables                                                     $32,833          $31,477  \n",
       "        Inventories                                                                       $7,286           $6,331  \n",
       "        Other current assets                                                             $14,287          $14,695  \n",
       "        Total current assets                                                            $152,987         $143,566  \n",
       "      Non-current assets:                                                                                          \n",
       "        Marketable securities                                                            $91,479         $100,544  \n",
       "        Property, plant and equipment, net                                               $45,680          $43,715  \n",
       "        Other non-current assets                                                         $74,834          $64,758  \n",
       "        Total non-current assets                                                        $211,993         $209,017  \n",
       "      Total assets                                                                      $364,980         $352,583  \n",
       "    LIABILITIES AND SHAREHOLDERS’ EQUITY:                                                                          \n",
       "      Current liabilities:                                                                                         \n",
       "        Accounts payable                                                                 $68,960          $62,611  \n",
       "        Other current liabilities                                                        $78,304          $58,829  \n",
       "        Deferred revenue                                                                  $8,249           $8,061  \n",
       "        Commercial paper                                                                  $9,967           $5,985  \n",
       "        Term debt                                                                        $10,912           $9,822  \n",
       "        Total current liabilities                                                       $176,392         $145,308  \n",
       "      Non-current liabilities:                                                                                     \n",
       "        Term debt                                                                        $85,750          $95,281  \n",
       "        Other non-current liabilities                                                    $45,888          $49,848  \n",
       "        Total non-current liabilities                                                   $131,638         $145,129  \n",
       "      Total liabilities                                                                 $308,030         $290,437  \n",
       "      Commitments and contingencies                                                                                \n",
       "      Common stock, shares outstanding (in shares)                                15,116,786,000   15,550,061,000  \n",
       "      Common stock, shares issued (in shares)                                     15,116,786,000   15,550,061,000  \n",
       "      Shareholders’ equity:                                                                                        \n",
       "        Common stock and additional paid-in capital, $0.00001 par value:                 $83,276          $73,812  \n",
       "  50,400,000 shares authorized; 15,116,786 and 15,550,061 shares issued and                                        \n",
       "  outstanding, respectively                                                                                        \n",
       "        Accumulated deficit                                                            $(19,154)           $(214)  \n",
       "        Accumulated other comprehensive loss                                            $(7,172)        $(11,452)  \n",
       "        Total shareholders’ equity                                                       $56,950          $62,146  \n",
       "      Total liabilities and shareholders’ equity                                        $364,980         $352,583  \n",
       "                                                                                                                   \n",
       "</pre>\n"
      ],
      "text/plain": [
       "\u001B[3m                                             CONSOLIDATEDBALANCESHEETS                                             \u001B[0m\n",
       "\u001B[3m                              \u001B[0m\u001B[1;3mFiscal Year Ended\u001B[0m\u001B[3m \u001B[0m\u001B[3m(In millions, except per share data)\u001B[0m\u001B[3m                               \u001B[0m\n",
       "                                                                                                                   \n",
       " \u001B[1m \u001B[0m\u001B[1mLine Item                                                                    \u001B[0m\u001B[1m \u001B[0m \u001B[1m \u001B[0m\u001B[1mSep 28, 2024  \u001B[0m\u001B[1m \u001B[0m \u001B[1m \u001B[0m\u001B[1mSep 30, 2023  \u001B[0m\u001B[1m \u001B[0m \n",
       " ───────────────────────────────────────────────────────────────────────────────────────────────────────────────── \n",
       "    ASSETS:                                                                                                        \n",
       "      Current assets:                                                                                              \n",
       "        Cash and cash equivalents                                                        $29,943          $29,965  \n",
       "        Marketable securities                                                            $35,228          $31,590  \n",
       "        Accounts receivable, net                                                         $33,410          $29,508  \n",
       "        Vendor non-trade receivables                                                     $32,833          $31,477  \n",
       "        Inventories                                                                       $7,286           $6,331  \n",
       "        Other current assets                                                             $14,287          $14,695  \n",
       "        Total current assets                                                            $152,987         $143,566  \n",
       "      Non-current assets:                                                                                          \n",
       "        Marketable securities                                                            $91,479         $100,544  \n",
       "        Property, plant and equipment, net                                               $45,680          $43,715  \n",
       "        Other non-current assets                                                         $74,834          $64,758  \n",
       "        Total non-current assets                                                        $211,993         $209,017  \n",
       "      Total assets                                                                      $364,980         $352,583  \n",
       "    LIABILITIES AND SHAREHOLDERS’ EQUITY:                                                                          \n",
       "      Current liabilities:                                                                                         \n",
       "        Accounts payable                                                                 $68,960          $62,611  \n",
       "        Other current liabilities                                                        $78,304          $58,829  \n",
       "        Deferred revenue                                                                  $8,249           $8,061  \n",
       "        Commercial paper                                                                  $9,967           $5,985  \n",
       "        Term debt                                                                        $10,912           $9,822  \n",
       "        Total current liabilities                                                       $176,392         $145,308  \n",
       "      Non-current liabilities:                                                                                     \n",
       "        Term debt                                                                        $85,750          $95,281  \n",
       "        Other non-current liabilities                                                    $45,888          $49,848  \n",
       "        Total non-current liabilities                                                   $131,638         $145,129  \n",
       "      Total liabilities                                                                 $308,030         $290,437  \n",
       "      Commitments and contingencies                                                                                \n",
       "      Common stock, shares outstanding (in shares)                                15,116,786,000   15,550,061,000  \n",
       "      Common stock, shares issued (in shares)                                     15,116,786,000   15,550,061,000  \n",
       "      Shareholders’ equity:                                                                                        \n",
       "        Common stock and additional paid-in capital, $0.00001 par value:                 $83,276          $73,812  \n",
       "  50,400,000 shares authorized; 15,116,786 and 15,550,061 shares issued and                                        \n",
       "  outstanding, respectively                                                                                        \n",
       "        Accumulated deficit                                                            $(19,154)           $(214)  \n",
       "        Accumulated other comprehensive loss                                            $(7,172)        $(11,452)  \n",
       "        Total shareholders’ equity                                                       $56,950          $62,146  \n",
       "      Total liabilities and shareholders’ equity                                        $364,980         $352,583  \n",
       "                                                                                                                   \n"
      ]
     },
     "execution_count": 13,
     "metadata": {},
     "output_type": "execute_result"
    }
   ],
   "source": [
    "balance_sheet = statements.balance_sheet()\n",
    "balance_sheet"
   ]
  },
  {
   "cell_type": "markdown",
   "id": "ae80946b-cbf5-4827-8a2f-a091378fa471",
   "metadata": {},
   "source": [
    "### Income Statement"
   ]
  },
  {
   "cell_type": "code",
   "execution_count": 14,
   "id": "0287a6a7-0d4a-4eca-8985-2e9ce4410464",
   "metadata": {},
   "outputs": [
    {
     "data": {
      "text/html": [
       "<pre style=\"white-space:pre;overflow-x:auto;line-height:normal;font-family:Menlo,'DejaVu Sans Mono',consolas,'Courier New',monospace\"><span style=\"font-style: italic\">                                   CONSOLIDATEDSTATEMENTSOFOPERATIONS                                    </span>\n",
       "<span style=\"font-style: italic\">                             </span><span style=\"font-weight: bold; font-style: italic\">Year Ended</span><span style=\"font-style: italic\"> (In millions, except per share data)                             </span>\n",
       "                                                                                                         \n",
       " <span style=\"font-weight: bold\"> Line Item                                          </span> <span style=\"font-weight: bold\"> Sep 28, 2024   </span> <span style=\"font-weight: bold\"> Sep 30, 2023   </span> <span style=\"font-weight: bold\"> Sep 24, 2022   </span> \n",
       " ─────────────────────────────────────────────────────────────────────────────────────────────────────── \n",
       "        Net sales                                            $391,035         $383,285         $394,328  \n",
       "        Cost of sales                                        $210,352         $214,137         $223,546  \n",
       "        Gross margin                                         $180,683         $169,148         $170,782  \n",
       "        Operating expenses:                                                                              \n",
       "          Research and development                            $31,370          $29,915          $26,251  \n",
       "          Selling, general and administrative                 $26,097          $24,932          $25,094  \n",
       "          Total operating expenses                            $57,467          $54,847          $51,345  \n",
       "        Operating income                                     $123,216         $114,301         $119,437  \n",
       "        Other income/(expense), net                              $269           $(565)           $(334)  \n",
       "        Income before provision for income taxes             $123,485         $113,736         $119,103  \n",
       "        Provision for income taxes                            $29,749          $16,741          $19,300  \n",
       "        Net income                                            $93,736          $96,995          $99,803  \n",
       "        Earnings per share:                                                                              \n",
       "          Basic (in dollars per share)                           6.11             6.16             6.15  \n",
       "          Diluted (in dollars per share)                         6.08             6.13             6.11  \n",
       "        Shares used in computing earnings per share:                                                     \n",
       "          Basic (in shares)                            15,343,783,000   15,744,231,000   16,215,963,000  \n",
       "          Diluted (in shares)                          15,408,095,000   15,812,547,000   16,325,819,000  \n",
       "                                                                                                         \n",
       "</pre>\n"
      ],
      "text/plain": [
       "\u001B[3m                                   CONSOLIDATEDSTATEMENTSOFOPERATIONS                                    \u001B[0m\n",
       "\u001B[3m                             \u001B[0m\u001B[1;3mYear Ended\u001B[0m\u001B[3m \u001B[0m\u001B[3m(In millions, except per share data)\u001B[0m\u001B[3m                             \u001B[0m\n",
       "                                                                                                         \n",
       " \u001B[1m \u001B[0m\u001B[1mLine Item                                         \u001B[0m\u001B[1m \u001B[0m \u001B[1m \u001B[0m\u001B[1mSep 28, 2024  \u001B[0m\u001B[1m \u001B[0m \u001B[1m \u001B[0m\u001B[1mSep 30, 2023  \u001B[0m\u001B[1m \u001B[0m \u001B[1m \u001B[0m\u001B[1mSep 24, 2022  \u001B[0m\u001B[1m \u001B[0m \n",
       " ─────────────────────────────────────────────────────────────────────────────────────────────────────── \n",
       "        Net sales                                            $391,035         $383,285         $394,328  \n",
       "        Cost of sales                                        $210,352         $214,137         $223,546  \n",
       "        Gross margin                                         $180,683         $169,148         $170,782  \n",
       "        Operating expenses:                                                                              \n",
       "          Research and development                            $31,370          $29,915          $26,251  \n",
       "          Selling, general and administrative                 $26,097          $24,932          $25,094  \n",
       "          Total operating expenses                            $57,467          $54,847          $51,345  \n",
       "        Operating income                                     $123,216         $114,301         $119,437  \n",
       "        Other income/(expense), net                              $269           $(565)           $(334)  \n",
       "        Income before provision for income taxes             $123,485         $113,736         $119,103  \n",
       "        Provision for income taxes                            $29,749          $16,741          $19,300  \n",
       "        Net income                                            $93,736          $96,995          $99,803  \n",
       "        Earnings per share:                                                                              \n",
       "          Basic (in dollars per share)                           6.11             6.16             6.15  \n",
       "          Diluted (in dollars per share)                         6.08             6.13             6.11  \n",
       "        Shares used in computing earnings per share:                                                     \n",
       "          Basic (in shares)                            15,343,783,000   15,744,231,000   16,215,963,000  \n",
       "          Diluted (in shares)                          15,408,095,000   15,812,547,000   16,325,819,000  \n",
       "                                                                                                         \n"
      ]
     },
     "execution_count": 14,
     "metadata": {},
     "output_type": "execute_result"
    }
   ],
   "source": [
    "income_statement = statements.income_statement()\n",
    "income_statement"
   ]
  }
 ],
 "metadata": {
  "kernelspec": {
   "display_name": "Python 3 (ipykernel)",
   "language": "python",
   "name": "python3"
  },
  "language_info": {
   "codemirror_mode": {
    "name": "ipython",
    "version": 3
   },
   "file_extension": ".py",
   "mimetype": "text/x-python",
   "name": "python",
   "nbconvert_exporter": "python",
   "pygments_lexer": "ipython3",
   "version": "3.11.6"
  }
 },
 "nbformat": 4,
 "nbformat_minor": 5
}
