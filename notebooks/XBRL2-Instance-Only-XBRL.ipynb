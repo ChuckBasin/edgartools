{
 "cells": [
  {
   "metadata": {},
   "cell_type": "markdown",
   "source": "# Instance Only XBRL",
   "id": "4088da47939cc6b9"
  },
  {
   "metadata": {
    "ExecuteTime": {
     "end_time": "2025-03-26T12:30:27.050212Z",
     "start_time": "2025-03-26T12:30:27.032193Z"
    }
   },
   "cell_type": "code",
   "source": [
    "from edgar import *\n",
    "from edgar.xbrl2 import *"
   ],
   "id": "a4b30e82487f1390",
   "outputs": [],
   "execution_count": 1
  },
  {
   "metadata": {
    "ExecuteTime": {
     "end_time": "2025-03-26T12:30:28.804815Z",
     "start_time": "2025-03-26T12:30:28.028544Z"
    }
   },
   "cell_type": "code",
   "source": [
    "filings = get_filings(index=\"xbrl\").tail(40000)\n",
    "filings"
   ],
   "id": "31b5f9cfbad608f0",
   "outputs": [
    {
     "data": {
      "text/plain": [],
      "text/html": [
       "<pre style=\"white-space:pre;overflow-x:auto;line-height:normal;font-family:Menlo,'DejaVu Sans Mono',consolas,'Courier New',monospace\"></pre>\n"
      ]
     },
     "metadata": {},
     "output_type": "display_data"
    },
    {
     "data": {
      "text/plain": [
       "\u001B[1;38;5;245m╭─\u001B[0m\u001B[1;38;5;245m─────────────────────────────────────────────────\u001B[0m\u001B[1;38;5;245m SEC Filings \u001B[0m\u001B[1;38;5;245m─────────────────────────────────────────────────\u001B[0m\u001B[1;38;5;245m─╮\u001B[0m\n",
       "\u001B[1;38;5;245m│\u001B[0m                                                                                                                 \u001B[1;38;5;245m│\u001B[0m\n",
       "\u001B[1;38;5;245m│\u001B[0m   \u001B[1m \u001B[0m\u001B[1mForm   \u001B[0m\u001B[1m \u001B[0m \u001B[1m \u001B[0m\u001B[1m       CIK\u001B[0m\u001B[1m \u001B[0m \u001B[1m \u001B[0m\u001B[1mTicker\u001B[0m\u001B[1m \u001B[0m \u001B[1m \u001B[0m\u001B[1mCompany                               \u001B[0m\u001B[1m \u001B[0m \u001B[1m \u001B[0m\u001B[1mFiling Date\u001B[0m\u001B[1m \u001B[0m \u001B[1m \u001B[0m\u001B[1mAccession Number   \u001B[0m\u001B[1m \u001B[0m  \u001B[1;38;5;245m│\u001B[0m\n",
       "\u001B[1;38;5;245m│\u001B[0m  ─────────────────────────────────────────────────────────────────────────────────────────────────────────────  \u001B[1;38;5;245m│\u001B[0m\n",
       "\u001B[1;38;5;245m│\u001B[0m    424B2    \u001B[2m \u001B[0m\u001B[2m   1665650\u001B[0m\u001B[2m \u001B[0m \u001B[33m \u001B[0m\u001B[33m      \u001B[0m\u001B[33m \u001B[0m \u001B[1;32m \u001B[0m\u001B[1;32mJPMorgan Chase Financial Co. LLC      \u001B[0m\u001B[1;32m \u001B[0m  2025-03-24   \u001B[2m \u001B[0m\u001B[2m0001013762-25-0013…\u001B[0m\u001B[2m \u001B[0m  \u001B[1;38;5;245m│\u001B[0m\n",
       "\u001B[1;38;5;245m│\u001B[0m   \u001B[1m \u001B[0m\u001B[1m424B2  \u001B[0m\u001B[1m \u001B[0m \u001B[1;2m \u001B[0m\u001B[1;2m   1665650\u001B[0m\u001B[1;2m \u001B[0m \u001B[1;33m \u001B[0m\u001B[1;33m      \u001B[0m\u001B[1;33m \u001B[0m \u001B[1;32m \u001B[0m\u001B[1;32mJPMorgan Chase Financial Co. LLC      \u001B[0m\u001B[1;32m \u001B[0m \u001B[1m \u001B[0m\u001B[1m2025-03-24 \u001B[0m\u001B[1m \u001B[0m \u001B[1;2m \u001B[0m\u001B[1;2m0001013762-25-0013…\u001B[0m\u001B[1;2m \u001B[0m  \u001B[1;38;5;245m│\u001B[0m\n",
       "\u001B[1;38;5;245m│\u001B[0m    424B2    \u001B[2m \u001B[0m\u001B[2m   1665650\u001B[0m\u001B[2m \u001B[0m \u001B[33m \u001B[0m\u001B[33m      \u001B[0m\u001B[33m \u001B[0m \u001B[1;32m \u001B[0m\u001B[1;32mJPMorgan Chase Financial Co. LLC      \u001B[0m\u001B[1;32m \u001B[0m  2025-03-24   \u001B[2m \u001B[0m\u001B[2m0001013762-25-0013…\u001B[0m\u001B[2m \u001B[0m  \u001B[1;38;5;245m│\u001B[0m\n",
       "\u001B[1;38;5;245m│\u001B[0m   \u001B[1m \u001B[0m\u001B[1m424B2  \u001B[0m\u001B[1m \u001B[0m \u001B[1;2m \u001B[0m\u001B[1;2m   1665650\u001B[0m\u001B[1;2m \u001B[0m \u001B[1;33m \u001B[0m\u001B[1;33m      \u001B[0m\u001B[1;33m \u001B[0m \u001B[1;32m \u001B[0m\u001B[1;32mJPMorgan Chase Financial Co. LLC      \u001B[0m\u001B[1;32m \u001B[0m \u001B[1m \u001B[0m\u001B[1m2025-03-24 \u001B[0m\u001B[1m \u001B[0m \u001B[1;2m \u001B[0m\u001B[1;2m0001013762-25-0013…\u001B[0m\u001B[1;2m \u001B[0m  \u001B[1;38;5;245m│\u001B[0m\n",
       "\u001B[1;38;5;245m│\u001B[0m    424B2    \u001B[2m \u001B[0m\u001B[2m   1665650\u001B[0m\u001B[2m \u001B[0m \u001B[33m \u001B[0m\u001B[33m      \u001B[0m\u001B[33m \u001B[0m \u001B[1;32m \u001B[0m\u001B[1;32mJPMorgan Chase Financial Co. LLC      \u001B[0m\u001B[1;32m \u001B[0m  2025-03-24   \u001B[2m \u001B[0m\u001B[2m0001013762-25-0013…\u001B[0m\u001B[2m \u001B[0m  \u001B[1;38;5;245m│\u001B[0m\n",
       "\u001B[1;38;5;245m│\u001B[0m   \u001B[1m \u001B[0m\u001B[1m424B2  \u001B[0m\u001B[1m \u001B[0m \u001B[1;2m \u001B[0m\u001B[1;2m   1665650\u001B[0m\u001B[1;2m \u001B[0m \u001B[1;33m \u001B[0m\u001B[1;33m      \u001B[0m\u001B[1;33m \u001B[0m \u001B[1;32m \u001B[0m\u001B[1;32mJPMorgan Chase Financial Co. LLC      \u001B[0m\u001B[1;32m \u001B[0m \u001B[1m \u001B[0m\u001B[1m2025-03-24 \u001B[0m\u001B[1m \u001B[0m \u001B[1;2m \u001B[0m\u001B[1;2m0001013762-25-0013…\u001B[0m\u001B[1;2m \u001B[0m  \u001B[1;38;5;245m│\u001B[0m\n",
       "\u001B[1;38;5;245m│\u001B[0m    424B2    \u001B[2m \u001B[0m\u001B[2m   1665650\u001B[0m\u001B[2m \u001B[0m \u001B[33m \u001B[0m\u001B[33m      \u001B[0m\u001B[33m \u001B[0m \u001B[1;32m \u001B[0m\u001B[1;32mJPMorgan Chase Financial Co. LLC      \u001B[0m\u001B[1;32m \u001B[0m  2025-03-24   \u001B[2m \u001B[0m\u001B[2m0001013762-25-0013…\u001B[0m\u001B[2m \u001B[0m  \u001B[1;38;5;245m│\u001B[0m\n",
       "\u001B[1;38;5;245m│\u001B[0m   \u001B[1m \u001B[0m\u001B[1m424B2  \u001B[0m\u001B[1m \u001B[0m \u001B[1;2m \u001B[0m\u001B[1;2m   1665650\u001B[0m\u001B[1;2m \u001B[0m \u001B[1;33m \u001B[0m\u001B[1;33m      \u001B[0m\u001B[1;33m \u001B[0m \u001B[1;32m \u001B[0m\u001B[1;32mJPMorgan Chase Financial Co. LLC      \u001B[0m\u001B[1;32m \u001B[0m \u001B[1m \u001B[0m\u001B[1m2025-03-24 \u001B[0m\u001B[1m \u001B[0m \u001B[1;2m \u001B[0m\u001B[1;2m0001013762-25-0014…\u001B[0m\u001B[1;2m \u001B[0m  \u001B[1;38;5;245m│\u001B[0m\n",
       "\u001B[1;38;5;245m│\u001B[0m    424B2    \u001B[2m \u001B[0m\u001B[2m   1665650\u001B[0m\u001B[2m \u001B[0m \u001B[33m \u001B[0m\u001B[33m      \u001B[0m\u001B[33m \u001B[0m \u001B[1;32m \u001B[0m\u001B[1;32mJPMorgan Chase Financial Co. LLC      \u001B[0m\u001B[1;32m \u001B[0m  2025-03-24   \u001B[2m \u001B[0m\u001B[2m0001013762-25-0014…\u001B[0m\u001B[2m \u001B[0m  \u001B[1;38;5;245m│\u001B[0m\n",
       "\u001B[1;38;5;245m│\u001B[0m   \u001B[1m \u001B[0m\u001B[1m424B2  \u001B[0m\u001B[1m \u001B[0m \u001B[1;2m \u001B[0m\u001B[1;2m   1665650\u001B[0m\u001B[1;2m \u001B[0m \u001B[1;33m \u001B[0m\u001B[1;33m      \u001B[0m\u001B[1;33m \u001B[0m \u001B[1;32m \u001B[0m\u001B[1;32mJPMorgan Chase Financial Co. LLC      \u001B[0m\u001B[1;32m \u001B[0m \u001B[1m \u001B[0m\u001B[1m2025-03-24 \u001B[0m\u001B[1m \u001B[0m \u001B[1;2m \u001B[0m\u001B[1;2m0001013762-25-0015…\u001B[0m\u001B[1;2m \u001B[0m  \u001B[1;38;5;245m│\u001B[0m\n",
       "\u001B[1;38;5;245m│\u001B[0m    424B2    \u001B[2m \u001B[0m\u001B[2m   1665650\u001B[0m\u001B[2m \u001B[0m \u001B[33m \u001B[0m\u001B[33m      \u001B[0m\u001B[33m \u001B[0m \u001B[1;32m \u001B[0m\u001B[1;32mJPMorgan Chase Financial Co. LLC      \u001B[0m\u001B[1;32m \u001B[0m  2025-03-24   \u001B[2m \u001B[0m\u001B[2m0001013762-25-0015…\u001B[0m\u001B[2m \u001B[0m  \u001B[1;38;5;245m│\u001B[0m\n",
       "\u001B[1;38;5;245m│\u001B[0m   \u001B[1m \u001B[0m\u001B[1m424B2  \u001B[0m\u001B[1m \u001B[0m \u001B[1;2m \u001B[0m\u001B[1;2m   1665650\u001B[0m\u001B[1;2m \u001B[0m \u001B[1;33m \u001B[0m\u001B[1;33m      \u001B[0m\u001B[1;33m \u001B[0m \u001B[1;32m \u001B[0m\u001B[1;32mJPMorgan Chase Financial Co. LLC      \u001B[0m\u001B[1;32m \u001B[0m \u001B[1m \u001B[0m\u001B[1m2025-03-24 \u001B[0m\u001B[1m \u001B[0m \u001B[1;2m \u001B[0m\u001B[1;2m0001013762-25-0015…\u001B[0m\u001B[1;2m \u001B[0m  \u001B[1;38;5;245m│\u001B[0m\n",
       "\u001B[1;38;5;245m│\u001B[0m    424B2    \u001B[2m \u001B[0m\u001B[2m   1665650\u001B[0m\u001B[2m \u001B[0m \u001B[33m \u001B[0m\u001B[33m      \u001B[0m\u001B[33m \u001B[0m \u001B[1;32m \u001B[0m\u001B[1;32mJPMorgan Chase Financial Co. LLC      \u001B[0m\u001B[1;32m \u001B[0m  2025-03-24   \u001B[2m \u001B[0m\u001B[2m0001013762-25-0015…\u001B[0m\u001B[2m \u001B[0m  \u001B[1;38;5;245m│\u001B[0m\n",
       "\u001B[1;38;5;245m│\u001B[0m   \u001B[1m \u001B[0m\u001B[1m424B2  \u001B[0m\u001B[1m \u001B[0m \u001B[1;2m \u001B[0m\u001B[1;2m   1665650\u001B[0m\u001B[1;2m \u001B[0m \u001B[1;33m \u001B[0m\u001B[1;33m      \u001B[0m\u001B[1;33m \u001B[0m \u001B[1;32m \u001B[0m\u001B[1;32mJPMorgan Chase Financial Co. LLC      \u001B[0m\u001B[1;32m \u001B[0m \u001B[1m \u001B[0m\u001B[1m2025-03-24 \u001B[0m\u001B[1m \u001B[0m \u001B[1;2m \u001B[0m\u001B[1;2m0001013762-25-0015…\u001B[0m\u001B[1;2m \u001B[0m  \u001B[1;38;5;245m│\u001B[0m\n",
       "\u001B[1;38;5;245m│\u001B[0m    424B2    \u001B[2m \u001B[0m\u001B[2m   1665650\u001B[0m\u001B[2m \u001B[0m \u001B[33m \u001B[0m\u001B[33m      \u001B[0m\u001B[33m \u001B[0m \u001B[1;32m \u001B[0m\u001B[1;32mJPMorgan Chase Financial Co. LLC      \u001B[0m\u001B[1;32m \u001B[0m  2025-03-24   \u001B[2m \u001B[0m\u001B[2m0001013762-25-0015…\u001B[0m\u001B[2m \u001B[0m  \u001B[1;38;5;245m│\u001B[0m\n",
       "\u001B[1;38;5;245m│\u001B[0m   \u001B[1m \u001B[0m\u001B[1m424B2  \u001B[0m\u001B[1m \u001B[0m \u001B[1;2m \u001B[0m\u001B[1;2m   1665650\u001B[0m\u001B[1;2m \u001B[0m \u001B[1;33m \u001B[0m\u001B[1;33m      \u001B[0m\u001B[1;33m \u001B[0m \u001B[1;32m \u001B[0m\u001B[1;32mJPMorgan Chase Financial Co. LLC      \u001B[0m\u001B[1;32m \u001B[0m \u001B[1m \u001B[0m\u001B[1m2025-03-24 \u001B[0m\u001B[1m \u001B[0m \u001B[1;2m \u001B[0m\u001B[1;2m0001013762-25-0015…\u001B[0m\u001B[1;2m \u001B[0m  \u001B[1;38;5;245m│\u001B[0m\n",
       "\u001B[1;38;5;245m│\u001B[0m    424B2    \u001B[2m \u001B[0m\u001B[2m   1665650\u001B[0m\u001B[2m \u001B[0m \u001B[33m \u001B[0m\u001B[33m      \u001B[0m\u001B[33m \u001B[0m \u001B[1;32m \u001B[0m\u001B[1;32mJPMorgan Chase Financial Co. LLC      \u001B[0m\u001B[1;32m \u001B[0m  2025-03-24   \u001B[2m \u001B[0m\u001B[2m0001013762-25-0015…\u001B[0m\u001B[2m \u001B[0m  \u001B[1;38;5;245m│\u001B[0m\n",
       "\u001B[1;38;5;245m│\u001B[0m   \u001B[1m \u001B[0m\u001B[1m424B2  \u001B[0m\u001B[1m \u001B[0m \u001B[1;2m \u001B[0m\u001B[1;2m   1665650\u001B[0m\u001B[1;2m \u001B[0m \u001B[1;33m \u001B[0m\u001B[1;33m      \u001B[0m\u001B[1;33m \u001B[0m \u001B[1;32m \u001B[0m\u001B[1;32mJPMorgan Chase Financial Co. LLC      \u001B[0m\u001B[1;32m \u001B[0m \u001B[1m \u001B[0m\u001B[1m2025-03-24 \u001B[0m\u001B[1m \u001B[0m \u001B[1;2m \u001B[0m\u001B[1;2m0001013762-25-0015…\u001B[0m\u001B[1;2m \u001B[0m  \u001B[1;38;5;245m│\u001B[0m\n",
       "\u001B[1;38;5;245m│\u001B[0m    424B2    \u001B[2m \u001B[0m\u001B[2m   1665650\u001B[0m\u001B[2m \u001B[0m \u001B[33m \u001B[0m\u001B[33m      \u001B[0m\u001B[33m \u001B[0m \u001B[1;32m \u001B[0m\u001B[1;32mJPMorgan Chase Financial Co. LLC      \u001B[0m\u001B[1;32m \u001B[0m  2025-03-24   \u001B[2m \u001B[0m\u001B[2m0001013762-25-0015…\u001B[0m\u001B[2m \u001B[0m  \u001B[1;38;5;245m│\u001B[0m\n",
       "\u001B[1;38;5;245m│\u001B[0m   \u001B[1m \u001B[0m\u001B[1m424B2  \u001B[0m\u001B[1m \u001B[0m \u001B[1;2m \u001B[0m\u001B[1;2m   1665650\u001B[0m\u001B[1;2m \u001B[0m \u001B[1;33m \u001B[0m\u001B[1;33m      \u001B[0m\u001B[1;33m \u001B[0m \u001B[1;32m \u001B[0m\u001B[1;32mJPMorgan Chase Financial Co. LLC      \u001B[0m\u001B[1;32m \u001B[0m \u001B[1m \u001B[0m\u001B[1m2025-03-24 \u001B[0m\u001B[1m \u001B[0m \u001B[1;2m \u001B[0m\u001B[1;2m0001013762-25-0015…\u001B[0m\u001B[1;2m \u001B[0m  \u001B[1;38;5;245m│\u001B[0m\n",
       "\u001B[1;38;5;245m│\u001B[0m    424B2    \u001B[2m \u001B[0m\u001B[2m   1665650\u001B[0m\u001B[2m \u001B[0m \u001B[33m \u001B[0m\u001B[33m      \u001B[0m\u001B[33m \u001B[0m \u001B[1;32m \u001B[0m\u001B[1;32mJPMorgan Chase Financial Co. LLC      \u001B[0m\u001B[1;32m \u001B[0m  2025-03-24   \u001B[2m \u001B[0m\u001B[2m0001013762-25-0015…\u001B[0m\u001B[2m \u001B[0m  \u001B[1;38;5;245m│\u001B[0m\n",
       "\u001B[1;38;5;245m│\u001B[0m   \u001B[1m \u001B[0m\u001B[1m424B2  \u001B[0m\u001B[1m \u001B[0m \u001B[1;2m \u001B[0m\u001B[1;2m   1665650\u001B[0m\u001B[1;2m \u001B[0m \u001B[1;33m \u001B[0m\u001B[1;33m      \u001B[0m\u001B[1;33m \u001B[0m \u001B[1;32m \u001B[0m\u001B[1;32mJPMorgan Chase Financial Co. LLC      \u001B[0m\u001B[1;32m \u001B[0m \u001B[1m \u001B[0m\u001B[1m2025-03-24 \u001B[0m\u001B[1m \u001B[0m \u001B[1;2m \u001B[0m\u001B[1;2m0001013762-25-0015…\u001B[0m\u001B[1;2m \u001B[0m  \u001B[1;38;5;245m│\u001B[0m\n",
       "\u001B[1;38;5;245m│\u001B[0m    424B2    \u001B[2m \u001B[0m\u001B[2m   1665650\u001B[0m\u001B[2m \u001B[0m \u001B[33m \u001B[0m\u001B[33m      \u001B[0m\u001B[33m \u001B[0m \u001B[1;32m \u001B[0m\u001B[1;32mJPMorgan Chase Financial Co. LLC      \u001B[0m\u001B[1;32m \u001B[0m  2025-03-24   \u001B[2m \u001B[0m\u001B[2m0001013762-25-0015…\u001B[0m\u001B[2m \u001B[0m  \u001B[1;38;5;245m│\u001B[0m\n",
       "\u001B[1;38;5;245m│\u001B[0m   \u001B[1m \u001B[0m\u001B[1m424B2  \u001B[0m\u001B[1m \u001B[0m \u001B[1;2m \u001B[0m\u001B[1;2m   1665650\u001B[0m\u001B[1;2m \u001B[0m \u001B[1;33m \u001B[0m\u001B[1;33m      \u001B[0m\u001B[1;33m \u001B[0m \u001B[1;32m \u001B[0m\u001B[1;32mJPMorgan Chase Financial Co. LLC      \u001B[0m\u001B[1;32m \u001B[0m \u001B[1m \u001B[0m\u001B[1m2025-03-24 \u001B[0m\u001B[1m \u001B[0m \u001B[1;2m \u001B[0m\u001B[1;2m0001013762-25-0015…\u001B[0m\u001B[1;2m \u001B[0m  \u001B[1;38;5;245m│\u001B[0m\n",
       "\u001B[1;38;5;245m│\u001B[0m    424B2    \u001B[2m \u001B[0m\u001B[2m   1665650\u001B[0m\u001B[2m \u001B[0m \u001B[33m \u001B[0m\u001B[33m      \u001B[0m\u001B[33m \u001B[0m \u001B[1;32m \u001B[0m\u001B[1;32mJPMorgan Chase Financial Co. LLC      \u001B[0m\u001B[1;32m \u001B[0m  2025-03-24   \u001B[2m \u001B[0m\u001B[2m0001013762-25-0015…\u001B[0m\u001B[2m \u001B[0m  \u001B[1;38;5;245m│\u001B[0m\n",
       "\u001B[1;38;5;245m│\u001B[0m   \u001B[1m \u001B[0m\u001B[1m424B2  \u001B[0m\u001B[1m \u001B[0m \u001B[1;2m \u001B[0m\u001B[1;2m   1665650\u001B[0m\u001B[1;2m \u001B[0m \u001B[1;33m \u001B[0m\u001B[1;33m      \u001B[0m\u001B[1;33m \u001B[0m \u001B[1;32m \u001B[0m\u001B[1;32mJPMorgan Chase Financial Co. LLC      \u001B[0m\u001B[1;32m \u001B[0m \u001B[1m \u001B[0m\u001B[1m2025-03-24 \u001B[0m\u001B[1m \u001B[0m \u001B[1;2m \u001B[0m\u001B[1;2m0001013762-25-0015…\u001B[0m\u001B[1;2m \u001B[0m  \u001B[1;38;5;245m│\u001B[0m\n",
       "\u001B[1;38;5;245m│\u001B[0m    424B2    \u001B[2m \u001B[0m\u001B[2m   1665650\u001B[0m\u001B[2m \u001B[0m \u001B[33m \u001B[0m\u001B[33m      \u001B[0m\u001B[33m \u001B[0m \u001B[1;32m \u001B[0m\u001B[1;32mJPMorgan Chase Financial Co. LLC      \u001B[0m\u001B[1;32m \u001B[0m  2025-03-24   \u001B[2m \u001B[0m\u001B[2m0001013762-25-0015…\u001B[0m\u001B[2m \u001B[0m  \u001B[1;38;5;245m│\u001B[0m\n",
       "\u001B[1;38;5;245m│\u001B[0m   \u001B[1m \u001B[0m\u001B[1m424B2  \u001B[0m\u001B[1m \u001B[0m \u001B[1;2m \u001B[0m\u001B[1;2m   1665650\u001B[0m\u001B[1;2m \u001B[0m \u001B[1;33m \u001B[0m\u001B[1;33m      \u001B[0m\u001B[1;33m \u001B[0m \u001B[1;32m \u001B[0m\u001B[1;32mJPMorgan Chase Financial Co. LLC      \u001B[0m\u001B[1;32m \u001B[0m \u001B[1m \u001B[0m\u001B[1m2025-03-24 \u001B[0m\u001B[1m \u001B[0m \u001B[1;2m \u001B[0m\u001B[1;2m0001013762-25-0015…\u001B[0m\u001B[1;2m \u001B[0m  \u001B[1;38;5;245m│\u001B[0m\n",
       "\u001B[1;38;5;245m│\u001B[0m    424B2    \u001B[2m \u001B[0m\u001B[2m   1665650\u001B[0m\u001B[2m \u001B[0m \u001B[33m \u001B[0m\u001B[33m      \u001B[0m\u001B[33m \u001B[0m \u001B[1;32m \u001B[0m\u001B[1;32mJPMorgan Chase Financial Co. LLC      \u001B[0m\u001B[1;32m \u001B[0m  2025-03-24   \u001B[2m \u001B[0m\u001B[2m0001013762-25-0015…\u001B[0m\u001B[2m \u001B[0m  \u001B[1;38;5;245m│\u001B[0m\n",
       "\u001B[1;38;5;245m│\u001B[0m   \u001B[1m \u001B[0m\u001B[1m424B2  \u001B[0m\u001B[1m \u001B[0m \u001B[1;2m \u001B[0m\u001B[1;2m   1665650\u001B[0m\u001B[1;2m \u001B[0m \u001B[1;33m \u001B[0m\u001B[1;33m      \u001B[0m\u001B[1;33m \u001B[0m \u001B[1;32m \u001B[0m\u001B[1;32mJPMorgan Chase Financial Co. LLC      \u001B[0m\u001B[1;32m \u001B[0m \u001B[1m \u001B[0m\u001B[1m2025-03-24 \u001B[0m\u001B[1m \u001B[0m \u001B[1;2m \u001B[0m\u001B[1;2m0001013762-25-0015…\u001B[0m\u001B[1;2m \u001B[0m  \u001B[1;38;5;245m│\u001B[0m\n",
       "\u001B[1;38;5;245m│\u001B[0m    424B2    \u001B[2m \u001B[0m\u001B[2m   1665650\u001B[0m\u001B[2m \u001B[0m \u001B[33m \u001B[0m\u001B[33m      \u001B[0m\u001B[33m \u001B[0m \u001B[1;32m \u001B[0m\u001B[1;32mJPMorgan Chase Financial Co. LLC      \u001B[0m\u001B[1;32m \u001B[0m  2025-03-24   \u001B[2m \u001B[0m\u001B[2m0001013762-25-0015…\u001B[0m\u001B[2m \u001B[0m  \u001B[1;38;5;245m│\u001B[0m\n",
       "\u001B[1;38;5;245m│\u001B[0m   \u001B[1m \u001B[0m\u001B[1m424B2  \u001B[0m\u001B[1m \u001B[0m \u001B[1;2m \u001B[0m\u001B[1;2m   1665650\u001B[0m\u001B[1;2m \u001B[0m \u001B[1;33m \u001B[0m\u001B[1;33m      \u001B[0m\u001B[1;33m \u001B[0m \u001B[1;32m \u001B[0m\u001B[1;32mJPMorgan Chase Financial Co. LLC      \u001B[0m\u001B[1;32m \u001B[0m \u001B[1m \u001B[0m\u001B[1m2025-03-24 \u001B[0m\u001B[1m \u001B[0m \u001B[1;2m \u001B[0m\u001B[1;2m0001013762-25-0016…\u001B[0m\u001B[1;2m \u001B[0m  \u001B[1;38;5;245m│\u001B[0m\n",
       "\u001B[1;38;5;245m│\u001B[0m    424B2    \u001B[2m \u001B[0m\u001B[2m   1665650\u001B[0m\u001B[2m \u001B[0m \u001B[33m \u001B[0m\u001B[33m      \u001B[0m\u001B[33m \u001B[0m \u001B[1;32m \u001B[0m\u001B[1;32mJPMorgan Chase Financial Co. LLC      \u001B[0m\u001B[1;32m \u001B[0m  2025-03-24   \u001B[2m \u001B[0m\u001B[2m0001839882-25-0173…\u001B[0m\u001B[2m \u001B[0m  \u001B[1;38;5;245m│\u001B[0m\n",
       "\u001B[1;38;5;245m│\u001B[0m   \u001B[1m \u001B[0m\u001B[1m424B2  \u001B[0m\u001B[1m \u001B[0m \u001B[1;2m \u001B[0m\u001B[1;2m   1665650\u001B[0m\u001B[1;2m \u001B[0m \u001B[1;33m \u001B[0m\u001B[1;33m      \u001B[0m\u001B[1;33m \u001B[0m \u001B[1;32m \u001B[0m\u001B[1;32mJPMorgan Chase Financial Co. LLC      \u001B[0m\u001B[1;32m \u001B[0m \u001B[1m \u001B[0m\u001B[1m2025-03-24 \u001B[0m\u001B[1m \u001B[0m \u001B[1;2m \u001B[0m\u001B[1;2m0001839882-25-0173…\u001B[0m\u001B[1;2m \u001B[0m  \u001B[1;38;5;245m│\u001B[0m\n",
       "\u001B[1;38;5;245m│\u001B[0m    424B2    \u001B[2m \u001B[0m\u001B[2m   1665650\u001B[0m\u001B[2m \u001B[0m \u001B[33m \u001B[0m\u001B[33m      \u001B[0m\u001B[33m \u001B[0m \u001B[1;32m \u001B[0m\u001B[1;32mJPMorgan Chase Financial Co. LLC      \u001B[0m\u001B[1;32m \u001B[0m  2025-03-24   \u001B[2m \u001B[0m\u001B[2m0001839882-25-0173…\u001B[0m\u001B[2m \u001B[0m  \u001B[1;38;5;245m│\u001B[0m\n",
       "\u001B[1;38;5;245m│\u001B[0m   \u001B[1m \u001B[0m\u001B[1m424B2  \u001B[0m\u001B[1m \u001B[0m \u001B[1;2m \u001B[0m\u001B[1;2m   1665650\u001B[0m\u001B[1;2m \u001B[0m \u001B[1;33m \u001B[0m\u001B[1;33m      \u001B[0m\u001B[1;33m \u001B[0m \u001B[1;32m \u001B[0m\u001B[1;32mJPMorgan Chase Financial Co. LLC      \u001B[0m\u001B[1;32m \u001B[0m \u001B[1m \u001B[0m\u001B[1m2025-03-24 \u001B[0m\u001B[1m \u001B[0m \u001B[1;2m \u001B[0m\u001B[1;2m0001839882-25-0173…\u001B[0m\u001B[1;2m \u001B[0m  \u001B[1;38;5;245m│\u001B[0m\n",
       "\u001B[1;38;5;245m│\u001B[0m    424B2    \u001B[2m \u001B[0m\u001B[2m   1665650\u001B[0m\u001B[2m \u001B[0m \u001B[33m \u001B[0m\u001B[33m      \u001B[0m\u001B[33m \u001B[0m \u001B[1;32m \u001B[0m\u001B[1;32mJPMorgan Chase Financial Co. LLC      \u001B[0m\u001B[1;32m \u001B[0m  2025-03-24   \u001B[2m \u001B[0m\u001B[2m0001839882-25-0173…\u001B[0m\u001B[2m \u001B[0m  \u001B[1;38;5;245m│\u001B[0m\n",
       "\u001B[1;38;5;245m│\u001B[0m   \u001B[1m \u001B[0m\u001B[1m424B2  \u001B[0m\u001B[1m \u001B[0m \u001B[1;2m \u001B[0m\u001B[1;2m   1665650\u001B[0m\u001B[1;2m \u001B[0m \u001B[1;33m \u001B[0m\u001B[1;33m      \u001B[0m\u001B[1;33m \u001B[0m \u001B[1;32m \u001B[0m\u001B[1;32mJPMorgan Chase Financial Co. LLC      \u001B[0m\u001B[1;32m \u001B[0m \u001B[1m \u001B[0m\u001B[1m2025-03-24 \u001B[0m\u001B[1m \u001B[0m \u001B[1;2m \u001B[0m\u001B[1;2m0001839882-25-0173…\u001B[0m\u001B[1;2m \u001B[0m  \u001B[1;38;5;245m│\u001B[0m\n",
       "\u001B[1;38;5;245m│\u001B[0m    424B2    \u001B[2m \u001B[0m\u001B[2m   1665650\u001B[0m\u001B[2m \u001B[0m \u001B[33m \u001B[0m\u001B[33m      \u001B[0m\u001B[33m \u001B[0m \u001B[1;32m \u001B[0m\u001B[1;32mJPMorgan Chase Financial Co. LLC      \u001B[0m\u001B[1;32m \u001B[0m  2025-03-24   \u001B[2m \u001B[0m\u001B[2m0001839882-25-0173…\u001B[0m\u001B[2m \u001B[0m  \u001B[1;38;5;245m│\u001B[0m\n",
       "\u001B[1;38;5;245m│\u001B[0m   \u001B[1m \u001B[0m\u001B[1m424B2  \u001B[0m\u001B[1m \u001B[0m \u001B[1;2m \u001B[0m\u001B[1;2m   1666268\u001B[0m\u001B[1;2m \u001B[0m \u001B[1;33m \u001B[0m\u001B[1;33m      \u001B[0m\u001B[1;33m \u001B[0m \u001B[1;32m \u001B[0m\u001B[1;32mMorgan Stanley Finance LLC            \u001B[0m\u001B[1;32m \u001B[0m \u001B[1m \u001B[0m\u001B[1m2025-03-24 \u001B[0m\u001B[1m \u001B[0m \u001B[1;2m \u001B[0m\u001B[1;2m0001839882-25-0171…\u001B[0m\u001B[1;2m \u001B[0m  \u001B[1;38;5;245m│\u001B[0m\n",
       "\u001B[1;38;5;245m│\u001B[0m    424B2    \u001B[2m \u001B[0m\u001B[2m   1666268\u001B[0m\u001B[2m \u001B[0m \u001B[33m \u001B[0m\u001B[33m      \u001B[0m\u001B[33m \u001B[0m \u001B[1;32m \u001B[0m\u001B[1;32mMorgan Stanley Finance LLC            \u001B[0m\u001B[1;32m \u001B[0m  2025-03-24   \u001B[2m \u001B[0m\u001B[2m0001839882-25-0171…\u001B[0m\u001B[2m \u001B[0m  \u001B[1;38;5;245m│\u001B[0m\n",
       "\u001B[1;38;5;245m│\u001B[0m   \u001B[1m \u001B[0m\u001B[1m424B2  \u001B[0m\u001B[1m \u001B[0m \u001B[1;2m \u001B[0m\u001B[1;2m   1666268\u001B[0m\u001B[1;2m \u001B[0m \u001B[1;33m \u001B[0m\u001B[1;33m      \u001B[0m\u001B[1;33m \u001B[0m \u001B[1;32m \u001B[0m\u001B[1;32mMorgan Stanley Finance LLC            \u001B[0m\u001B[1;32m \u001B[0m \u001B[1m \u001B[0m\u001B[1m2025-03-24 \u001B[0m\u001B[1m \u001B[0m \u001B[1;2m \u001B[0m\u001B[1;2m0001839882-25-0172…\u001B[0m\u001B[1;2m \u001B[0m  \u001B[1;38;5;245m│\u001B[0m\n",
       "\u001B[1;38;5;245m│\u001B[0m    424B2    \u001B[2m \u001B[0m\u001B[2m   1666268\u001B[0m\u001B[2m \u001B[0m \u001B[33m \u001B[0m\u001B[33m      \u001B[0m\u001B[33m \u001B[0m \u001B[1;32m \u001B[0m\u001B[1;32mMorgan Stanley Finance LLC            \u001B[0m\u001B[1;32m \u001B[0m  2025-03-24   \u001B[2m \u001B[0m\u001B[2m0001839882-25-0172…\u001B[0m\u001B[2m \u001B[0m  \u001B[1;38;5;245m│\u001B[0m\n",
       "\u001B[1;38;5;245m│\u001B[0m   \u001B[1m \u001B[0m\u001B[1m424B2  \u001B[0m\u001B[1m \u001B[0m \u001B[1;2m \u001B[0m\u001B[1;2m   1666268\u001B[0m\u001B[1;2m \u001B[0m \u001B[1;33m \u001B[0m\u001B[1;33m      \u001B[0m\u001B[1;33m \u001B[0m \u001B[1;32m \u001B[0m\u001B[1;32mMorgan Stanley Finance LLC            \u001B[0m\u001B[1;32m \u001B[0m \u001B[1m \u001B[0m\u001B[1m2025-03-24 \u001B[0m\u001B[1m \u001B[0m \u001B[1;2m \u001B[0m\u001B[1;2m0001839882-25-0172…\u001B[0m\u001B[1;2m \u001B[0m  \u001B[1;38;5;245m│\u001B[0m\n",
       "\u001B[1;38;5;245m│\u001B[0m    424B2    \u001B[2m \u001B[0m\u001B[2m   1666268\u001B[0m\u001B[2m \u001B[0m \u001B[33m \u001B[0m\u001B[33m      \u001B[0m\u001B[33m \u001B[0m \u001B[1;32m \u001B[0m\u001B[1;32mMorgan Stanley Finance LLC            \u001B[0m\u001B[1;32m \u001B[0m  2025-03-24   \u001B[2m \u001B[0m\u001B[2m0001839882-25-0172…\u001B[0m\u001B[2m \u001B[0m  \u001B[1;38;5;245m│\u001B[0m\n",
       "\u001B[1;38;5;245m│\u001B[0m   \u001B[1m \u001B[0m\u001B[1m424B2  \u001B[0m\u001B[1m \u001B[0m \u001B[1;2m \u001B[0m\u001B[1;2m   1666268\u001B[0m\u001B[1;2m \u001B[0m \u001B[1;33m \u001B[0m\u001B[1;33m      \u001B[0m\u001B[1;33m \u001B[0m \u001B[1;32m \u001B[0m\u001B[1;32mMorgan Stanley Finance LLC            \u001B[0m\u001B[1;32m \u001B[0m \u001B[1m \u001B[0m\u001B[1m2025-03-24 \u001B[0m\u001B[1m \u001B[0m \u001B[1;2m \u001B[0m\u001B[1;2m0001839882-25-0172…\u001B[0m\u001B[1;2m \u001B[0m  \u001B[1;38;5;245m│\u001B[0m\n",
       "\u001B[1;38;5;245m│\u001B[0m    424B2    \u001B[2m \u001B[0m\u001B[2m   1666268\u001B[0m\u001B[2m \u001B[0m \u001B[33m \u001B[0m\u001B[33m      \u001B[0m\u001B[33m \u001B[0m \u001B[1;32m \u001B[0m\u001B[1;32mMorgan Stanley Finance LLC            \u001B[0m\u001B[1;32m \u001B[0m  2025-03-24   \u001B[2m \u001B[0m\u001B[2m0001839882-25-0172…\u001B[0m\u001B[2m \u001B[0m  \u001B[1;38;5;245m│\u001B[0m\n",
       "\u001B[1;38;5;245m│\u001B[0m   \u001B[1m \u001B[0m\u001B[1m424B2  \u001B[0m\u001B[1m \u001B[0m \u001B[1;2m \u001B[0m\u001B[1;2m   1666268\u001B[0m\u001B[1;2m \u001B[0m \u001B[1;33m \u001B[0m\u001B[1;33m      \u001B[0m\u001B[1;33m \u001B[0m \u001B[1;32m \u001B[0m\u001B[1;32mMorgan Stanley Finance LLC            \u001B[0m\u001B[1;32m \u001B[0m \u001B[1m \u001B[0m\u001B[1m2025-03-24 \u001B[0m\u001B[1m \u001B[0m \u001B[1;2m \u001B[0m\u001B[1;2m0001839882-25-0172…\u001B[0m\u001B[1;2m \u001B[0m  \u001B[1;38;5;245m│\u001B[0m\n",
       "\u001B[1;38;5;245m│\u001B[0m    424B2    \u001B[2m \u001B[0m\u001B[2m   1666268\u001B[0m\u001B[2m \u001B[0m \u001B[33m \u001B[0m\u001B[33m      \u001B[0m\u001B[33m \u001B[0m \u001B[1;32m \u001B[0m\u001B[1;32mMorgan Stanley Finance LLC            \u001B[0m\u001B[1;32m \u001B[0m  2025-03-24   \u001B[2m \u001B[0m\u001B[2m0001839882-25-0172…\u001B[0m\u001B[2m \u001B[0m  \u001B[1;38;5;245m│\u001B[0m\n",
       "\u001B[1;38;5;245m│\u001B[0m   \u001B[1m \u001B[0m\u001B[1m424B2  \u001B[0m\u001B[1m \u001B[0m \u001B[1;2m \u001B[0m\u001B[1;2m   1666268\u001B[0m\u001B[1;2m \u001B[0m \u001B[1;33m \u001B[0m\u001B[1;33m      \u001B[0m\u001B[1;33m \u001B[0m \u001B[1;32m \u001B[0m\u001B[1;32mMorgan Stanley Finance LLC            \u001B[0m\u001B[1;32m \u001B[0m \u001B[1m \u001B[0m\u001B[1m2025-03-24 \u001B[0m\u001B[1m \u001B[0m \u001B[1;2m \u001B[0m\u001B[1;2m0001839882-25-0172…\u001B[0m\u001B[1;2m \u001B[0m  \u001B[1;38;5;245m│\u001B[0m\n",
       "\u001B[1;38;5;245m│\u001B[0m                                                                                                                 \u001B[1;38;5;245m│\u001B[0m\n",
       "\u001B[1;38;5;245m│\u001B[0m                                                                                                                 \u001B[1;38;5;245m│\u001B[0m\n",
       "\u001B[1;38;5;245m│\u001B[0m                                                                                                                 \u001B[1;38;5;245m│\u001B[0m\n",
       "\u001B[1;38;5;245m│\u001B[0m \u001B[2mShowing \u001B[0m\u001B[1;31m1\u001B[0m\u001B[2m to \u001B[0m\u001B[1;31m50\u001B[0m\u001B[2m of \u001B[0m\u001B[1m40,000\u001B[0m\u001B[2m filings.\u001B[0m\u001B[2m Page using \u001B[0m\u001B[1;38;5;245m← prev()\u001B[0m\u001B[2m and \u001B[0m\u001B[1;38;5;245mnext() →\u001B[0m                                             \u001B[1;38;5;245m│\u001B[0m\n",
       "\u001B[1;38;5;245m╰─\u001B[0m\u001B[1;38;5;245m────────────────────────────────\u001B[0m\u001B[1;38;5;245m SEC Filings between 2025-01-02 and 2025-03-24 \u001B[0m\u001B[1;38;5;245m────────────────────────────────\u001B[0m\u001B[1;38;5;245m─╯\u001B[0m"
      ]
     },
     "execution_count": 2,
     "metadata": {},
     "output_type": "execute_result"
    }
   ],
   "execution_count": 2
  },
  {
   "metadata": {
    "ExecuteTime": {
     "end_time": "2025-03-26T12:30:30.928639Z",
     "start_time": "2025-03-26T12:30:30.798938Z"
    }
   },
   "cell_type": "code",
   "source": [
    "filing = filings[0]\n",
    "filing"
   ],
   "id": "f9f0db804383d3f2",
   "outputs": [
    {
     "data": {
      "text/plain": [],
      "text/html": [
       "<pre style=\"white-space:pre;overflow-x:auto;line-height:normal;font-family:Menlo,'DejaVu Sans Mono',consolas,'Courier New',monospace\"></pre>\n"
      ]
     },
     "metadata": {},
     "output_type": "display_data"
    },
    {
     "data": {
      "text/plain": [
       "╭─────── \u001B[1mForm 424B2 \u001B[0m\u001B[1;32mJPMorgan Chase Financial Co. LLC\u001B[0m \u001B[2m[1665650] \u001B[0m ────────╮\n",
       "│                                                                       │\n",
       "│  \u001B[2m \u001B[0m\u001B[2mAccession Number    \u001B[0m\u001B[2m \u001B[0m \u001B[2m \u001B[0m\u001B[2mFiling Date\u001B[0m\u001B[2m \u001B[0m \u001B[2m \u001B[0m\u001B[2mPeriod of Report\u001B[0m\u001B[2m \u001B[0m \u001B[2m \u001B[0m\u001B[2mDocuments\u001B[0m\u001B[2m \u001B[0m  │\n",
       "│  ───────────────────────────────────────────────────────────────────  │\n",
       "│   \u001B[1;38;5;39m0001013762-25-001381\u001B[0m   \u001B[1m2025-03-24 \u001B[0m   \u001B[1m-               \u001B[0m   12          │\n",
       "│                                                                       │\n",
       "│                                                                       │\n",
       "│                                                                       │\n",
       "│                                                                       │\n",
       "╰─────────────────────\u001B[2m Primary offering prospectus \u001B[0m─────────────────────╯"
      ]
     },
     "execution_count": 3,
     "metadata": {},
     "output_type": "execute_result"
    }
   ],
   "execution_count": 3
  },
  {
   "metadata": {
    "ExecuteTime": {
     "end_time": "2025-03-26T12:30:32.768405Z",
     "start_time": "2025-03-26T12:30:32.758231Z"
    }
   },
   "cell_type": "code",
   "source": [
    "xbrl = XBRL.from_filing(filing)\n",
    "xbrl"
   ],
   "id": "b77466553326aaa1",
   "outputs": [
    {
     "data": {
      "text/plain": [],
      "text/html": [
       "<pre style=\"white-space:pre;overflow-x:auto;line-height:normal;font-family:Menlo,'DejaVu Sans Mono',consolas,'Courier New',monospace\"></pre>\n"
      ]
     },
     "metadata": {},
     "output_type": "display_data"
    },
    {
     "data": {
      "text/plain": [
       "\u001B[32m╭─\u001B[0m\u001B[32m────────────────────────────────────────────────\u001B[0m\u001B[32m XBRL Document \u001B[0m\u001B[32m────────────────────────────────────────────────\u001B[0m\u001B[32m─╮\u001B[0m\n",
       "\u001B[32m│\u001B[0m \u001B[3m                Entity Information                \u001B[0m                                                              \u001B[32m│\u001B[0m\n",
       "\u001B[32m│\u001B[0m                                                                                                                 \u001B[32m│\u001B[0m\n",
       "\u001B[32m│\u001B[0m  \u001B[1m \u001B[0m\u001B[1mProperty                \u001B[0m\u001B[1m \u001B[0m \u001B[1m \u001B[0m\u001B[1mValue              \u001B[0m\u001B[1m \u001B[0m                                                               \u001B[32m│\u001B[0m\n",
       "\u001B[32m│\u001B[0m  ────────────────────────────────────────────────                                                               \u001B[32m│\u001B[0m\n",
       "\u001B[32m│\u001B[0m   entity_name                JPMORGAN CHASE & CO                                                                \u001B[32m│\u001B[0m\n",
       "\u001B[32m│\u001B[0m   ticker                     None                                                                               \u001B[32m│\u001B[0m\n",
       "\u001B[32m│\u001B[0m   identifier                 19617                                                                              \u001B[32m│\u001B[0m\n",
       "\u001B[32m│\u001B[0m   document_type              None                                                                               \u001B[32m│\u001B[0m\n",
       "\u001B[32m│\u001B[0m   reporting_end_date         None                                                                               \u001B[32m│\u001B[0m\n",
       "\u001B[32m│\u001B[0m   document_period_end_date   None                                                                               \u001B[32m│\u001B[0m\n",
       "\u001B[32m│\u001B[0m   fiscal_year                None                                                                               \u001B[32m│\u001B[0m\n",
       "\u001B[32m│\u001B[0m   fiscal_period              None                                                                               \u001B[32m│\u001B[0m\n",
       "\u001B[32m│\u001B[0m   fiscal_year_end_month      None                                                                               \u001B[32m│\u001B[0m\n",
       "\u001B[32m│\u001B[0m   fiscal_year_end_day        None                                                                               \u001B[32m│\u001B[0m\n",
       "\u001B[32m│\u001B[0m   annual_report              False                                                                              \u001B[32m│\u001B[0m\n",
       "\u001B[32m│\u001B[0m   quarterly_report           False                                                                              \u001B[32m│\u001B[0m\n",
       "\u001B[32m│\u001B[0m   amendment                  False                                                                              \u001B[32m│\u001B[0m\n",
       "\u001B[32m│\u001B[0m                                                                                                                 \u001B[32m│\u001B[0m\n",
       "\u001B[32m│\u001B[0m \u001B[3m     Facts Summary     \u001B[0m                                                                                         \u001B[32m│\u001B[0m\n",
       "\u001B[32m│\u001B[0m                                                                                                                 \u001B[32m│\u001B[0m\n",
       "\u001B[32m│\u001B[0m  \u001B[1m \u001B[0m\u001B[1mCategory   \u001B[0m\u001B[1m \u001B[0m \u001B[1m \u001B[0m\u001B[1mCount\u001B[0m\u001B[1m \u001B[0m                                                                                          \u001B[32m│\u001B[0m\n",
       "\u001B[32m│\u001B[0m  ─────────────────────                                                                                          \u001B[32m│\u001B[0m\n",
       "\u001B[32m│\u001B[0m   Total Facts   9                                                                                               \u001B[32m│\u001B[0m\n",
       "\u001B[32m│\u001B[0m   Contexts      1                                                                                               \u001B[32m│\u001B[0m\n",
       "\u001B[32m│\u001B[0m   Units         3                                                                                               \u001B[32m│\u001B[0m\n",
       "\u001B[32m│\u001B[0m   Elements      0                                                                                               \u001B[32m│\u001B[0m\n",
       "\u001B[32m│\u001B[0m                                                                                                                 \u001B[32m│\u001B[0m\n",
       "\u001B[32m│\u001B[0m \u001B[3m           Reporting Periods           \u001B[0m                                                                         \u001B[32m│\u001B[0m\n",
       "\u001B[32m│\u001B[0m                                                                                                                 \u001B[32m│\u001B[0m\n",
       "\u001B[32m│\u001B[0m  \u001B[1m \u001B[0m\u001B[1mType    \u001B[0m\u001B[1m \u001B[0m \u001B[1m \u001B[0m\u001B[1mPeriod                  \u001B[0m\u001B[1m \u001B[0m                                                                          \u001B[32m│\u001B[0m\n",
       "\u001B[32m│\u001B[0m  ─────────────────────────────────────                                                                          \u001B[32m│\u001B[0m\n",
       "\u001B[32m│\u001B[0m   Duration   2025-03-24 to 2025-03-24                                                                           \u001B[32m│\u001B[0m\n",
       "\u001B[32m│\u001B[0m                                                                                                                 \u001B[32m│\u001B[0m\n",
       "\u001B[32m╰─────────────────────────────────────────────────────────────────────────────────────────────────────────────────╯\u001B[0m"
      ]
     },
     "execution_count": 4,
     "metadata": {},
     "output_type": "execute_result"
    }
   ],
   "execution_count": 4
  },
  {
   "metadata": {
    "ExecuteTime": {
     "end_time": "2025-03-26T12:30:35.915924Z",
     "start_time": "2025-03-26T12:30:35.904386Z"
    }
   },
   "cell_type": "code",
   "source": [
    "(xbrl.query()\n",
    " .to_dataframe()\n",
    " )\n"
   ],
   "id": "a1030652f5e261ce",
   "outputs": [
    {
     "data": {
      "text/plain": [
       "                     concept                value  numeric_value period_start  \\\n",
       "0                     FormTp                  S-3            NaN   2025-03-24   \n",
       "1                 SubmissnTp                424B2            NaN   2025-03-24   \n",
       "2               FeeExhibitTp       EX-FILING FEES            NaN   2025-03-24   \n",
       "3                 RegnFileNb           333-270004            NaN   2025-03-24   \n",
       "4  dei:EntityCentralIndexKey           0000019617        19617.0   2025-03-24   \n",
       "5   dei:EntityRegistrantName  JPMORGAN CHASE & CO            NaN   2025-03-24   \n",
       "6   NrrtvMaxAggtOfferingPric              4000000      4000000.0   2025-03-24   \n",
       "7              FnlPrspctsFlg                 true            NaN   2025-03-24   \n",
       "8                NrrtvDsclsr                                 NaN   2025-03-24   \n",
       "\n",
       "   period_end unit_ref decimals footnotes  \n",
       "0  2025-03-24     None     None        []  \n",
       "1  2025-03-24     None     None        []  \n",
       "2  2025-03-24     None     None        []  \n",
       "3  2025-03-24     None     None        []  \n",
       "4  2025-03-24     None     None        []  \n",
       "5  2025-03-24     None     None        []  \n",
       "6  2025-03-24      USD      INF        []  \n",
       "7  2025-03-24     None     None        []  \n",
       "8  2025-03-24     None     None        []  "
      ],
      "text/html": [
       "<div>\n",
       "<style scoped>\n",
       "    .dataframe tbody tr th:only-of-type {\n",
       "        vertical-align: middle;\n",
       "    }\n",
       "\n",
       "    .dataframe tbody tr th {\n",
       "        vertical-align: top;\n",
       "    }\n",
       "\n",
       "    .dataframe thead th {\n",
       "        text-align: right;\n",
       "    }\n",
       "</style>\n",
       "<table border=\"1\" class=\"dataframe\">\n",
       "  <thead>\n",
       "    <tr style=\"text-align: right;\">\n",
       "      <th></th>\n",
       "      <th>concept</th>\n",
       "      <th>value</th>\n",
       "      <th>numeric_value</th>\n",
       "      <th>period_start</th>\n",
       "      <th>period_end</th>\n",
       "      <th>unit_ref</th>\n",
       "      <th>decimals</th>\n",
       "      <th>footnotes</th>\n",
       "    </tr>\n",
       "  </thead>\n",
       "  <tbody>\n",
       "    <tr>\n",
       "      <th>0</th>\n",
       "      <td>FormTp</td>\n",
       "      <td>S-3</td>\n",
       "      <td>NaN</td>\n",
       "      <td>2025-03-24</td>\n",
       "      <td>2025-03-24</td>\n",
       "      <td>None</td>\n",
       "      <td>None</td>\n",
       "      <td>[]</td>\n",
       "    </tr>\n",
       "    <tr>\n",
       "      <th>1</th>\n",
       "      <td>SubmissnTp</td>\n",
       "      <td>424B2</td>\n",
       "      <td>NaN</td>\n",
       "      <td>2025-03-24</td>\n",
       "      <td>2025-03-24</td>\n",
       "      <td>None</td>\n",
       "      <td>None</td>\n",
       "      <td>[]</td>\n",
       "    </tr>\n",
       "    <tr>\n",
       "      <th>2</th>\n",
       "      <td>FeeExhibitTp</td>\n",
       "      <td>EX-FILING FEES</td>\n",
       "      <td>NaN</td>\n",
       "      <td>2025-03-24</td>\n",
       "      <td>2025-03-24</td>\n",
       "      <td>None</td>\n",
       "      <td>None</td>\n",
       "      <td>[]</td>\n",
       "    </tr>\n",
       "    <tr>\n",
       "      <th>3</th>\n",
       "      <td>RegnFileNb</td>\n",
       "      <td>333-270004</td>\n",
       "      <td>NaN</td>\n",
       "      <td>2025-03-24</td>\n",
       "      <td>2025-03-24</td>\n",
       "      <td>None</td>\n",
       "      <td>None</td>\n",
       "      <td>[]</td>\n",
       "    </tr>\n",
       "    <tr>\n",
       "      <th>4</th>\n",
       "      <td>dei:EntityCentralIndexKey</td>\n",
       "      <td>0000019617</td>\n",
       "      <td>19617.0</td>\n",
       "      <td>2025-03-24</td>\n",
       "      <td>2025-03-24</td>\n",
       "      <td>None</td>\n",
       "      <td>None</td>\n",
       "      <td>[]</td>\n",
       "    </tr>\n",
       "    <tr>\n",
       "      <th>5</th>\n",
       "      <td>dei:EntityRegistrantName</td>\n",
       "      <td>JPMORGAN CHASE &amp; CO</td>\n",
       "      <td>NaN</td>\n",
       "      <td>2025-03-24</td>\n",
       "      <td>2025-03-24</td>\n",
       "      <td>None</td>\n",
       "      <td>None</td>\n",
       "      <td>[]</td>\n",
       "    </tr>\n",
       "    <tr>\n",
       "      <th>6</th>\n",
       "      <td>NrrtvMaxAggtOfferingPric</td>\n",
       "      <td>4000000</td>\n",
       "      <td>4000000.0</td>\n",
       "      <td>2025-03-24</td>\n",
       "      <td>2025-03-24</td>\n",
       "      <td>USD</td>\n",
       "      <td>INF</td>\n",
       "      <td>[]</td>\n",
       "    </tr>\n",
       "    <tr>\n",
       "      <th>7</th>\n",
       "      <td>FnlPrspctsFlg</td>\n",
       "      <td>true</td>\n",
       "      <td>NaN</td>\n",
       "      <td>2025-03-24</td>\n",
       "      <td>2025-03-24</td>\n",
       "      <td>None</td>\n",
       "      <td>None</td>\n",
       "      <td>[]</td>\n",
       "    </tr>\n",
       "    <tr>\n",
       "      <th>8</th>\n",
       "      <td>NrrtvDsclsr</td>\n",
       "      <td></td>\n",
       "      <td>NaN</td>\n",
       "      <td>2025-03-24</td>\n",
       "      <td>2025-03-24</td>\n",
       "      <td>None</td>\n",
       "      <td>None</td>\n",
       "      <td>[]</td>\n",
       "    </tr>\n",
       "  </tbody>\n",
       "</table>\n",
       "</div>"
      ]
     },
     "execution_count": 5,
     "metadata": {},
     "output_type": "execute_result"
    }
   ],
   "execution_count": 5
  }
 ],
 "metadata": {
  "kernelspec": {
   "display_name": "Python 3",
   "language": "python",
   "name": "python3"
  },
  "language_info": {
   "codemirror_mode": {
    "name": "ipython",
    "version": 2
   },
   "file_extension": ".py",
   "mimetype": "text/x-python",
   "name": "python",
   "nbconvert_exporter": "python",
   "pygments_lexer": "ipython2",
   "version": "2.7.6"
  }
 },
 "nbformat": 4,
 "nbformat_minor": 5
}
