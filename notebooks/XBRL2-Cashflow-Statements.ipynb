{
 "cells": [
  {
   "metadata": {},
   "cell_type": "markdown",
   "source": [
    "# Cash Flow Statements\n",
    "\n",
    "This notebook shows how to get cashflow statements using XBRL2. XBRL2 is an ongoing rewrite of XBRL parsing in edgartools. It is a work in  progress and gaps and bugs are to be expected\n",
    "\n",
    "**[Open this notebook in Google Colab](http://colab.research.google.com/github/dgunning/edgartools/blob/main/notebooks/XBRL2-Cashflow-Statements.ipynb)**"
   ],
   "id": "31e2b73159638242"
  },
  {
   "metadata": {},
   "cell_type": "markdown",
   "source": "## Setup edgartools",
   "id": "a0b33a94958833ea"
  },
  {
   "metadata": {},
   "cell_type": "code",
   "outputs": [],
   "execution_count": null,
   "source": "!pip install edgartools",
   "id": "cdac013ffd911626"
  },
  {
   "metadata": {
    "ExecuteTime": {
     "end_time": "2025-03-13T12:29:32.688878Z",
     "start_time": "2025-03-13T12:29:32.685620Z"
    }
   },
   "cell_type": "code",
   "outputs": [],
   "execution_count": 1,
   "source": [
    "from edgar import *\n",
    "set_identity(\"cash@hedgefund.com\")"
   ],
   "id": "a56aa6c12fc9de0b"
  },
  {
   "metadata": {},
   "cell_type": "markdown",
   "source": [
    "## Import XBRL2\n",
    "\n",
    "XBRL2 is a rewrite of XBRL in the package `edgar.xbrl2`"
   ],
   "id": "7fbe80118a8b577e"
  },
  {
   "metadata": {
    "ExecuteTime": {
     "end_time": "2025-03-13T12:29:46.493007Z",
     "start_time": "2025-03-13T12:29:46.475655Z"
    }
   },
   "cell_type": "code",
   "outputs": [],
   "execution_count": 2,
   "source": "from edgar.xbrl2 import *",
   "id": "75618615740aeb2e"
  },
  {
   "metadata": {
    "ExecuteTime": {
     "end_time": "2025-03-13T12:30:23.356648Z",
     "start_time": "2025-03-13T12:30:17.302128Z"
    }
   },
   "cell_type": "code",
   "outputs": [
    {
     "data": {
      "text/plain": [],
      "text/html": [
       "<pre style=\"white-space:pre;overflow-x:auto;line-height:normal;font-family:Menlo,'DejaVu Sans Mono',consolas,'Courier New',monospace\"></pre>\n"
      ]
     },
     "metadata": {},
     "output_type": "display_data"
    },
    {
     "data": {
      "text/plain": [
       "\u001B[3m                                            Available Statements                                            \u001B[0m\n",
       "                                                                                                            \n",
       " \u001B[1m \u001B[0m\u001B[1m# \u001B[0m\u001B[1m \u001B[0m \u001B[1m \u001B[0m\u001B[1mStatement                                                           \u001B[0m\u001B[1m \u001B[0m \u001B[1m \u001B[0m\u001B[1mType             \u001B[0m\u001B[1m \u001B[0m \u001B[1m \u001B[0m\u001B[1mElements\u001B[0m\u001B[1m \u001B[0m \n",
       " ────────────────────────────────────────────────────────────────────────────────────────────────────────── \n",
       "  0    DocumentDocumentAndEntityInformation                                                       38        \n",
       "  1    StatementConsolidatedStatementsOfEarnings                              IncomeStatement     26        \n",
       "  2    StatementConsolidatedStatementsOfComprehensiveIncome                   IncomeStatement     11        \n",
       "  3    StatementConsolidatedStatementsOfComprehensiveIncomeParenthetical      IncomeStatement     3         \n",
       "  4    StatementConsolidatedBalanceSheets                                     BalanceSheet        47        \n",
       "  5    StatementConsolidatedBalanceSheetsParenthetical                        BalanceSheet        11        \n",
       "  6    StatementConsolidatedStatementsOfCashFlows                             CashFlowStatement   39        \n",
       "  7    StatementConsolidatedStatementsOfChangesInEquity                       StatementOfEquity   25        \n",
       "  8    StatementConsolidatedStatementsOfChangesInEquityParenthetical          StatementOfEquity   2         \n",
       "  9    DisclosureDescriptionOfBusiness                                                            2         \n",
       "  10   DisclosureSummaryOfSignificantAccountingPolicies                                           2         \n",
       "  11   DisclosureShortTermInvestments                                                             2         \n",
       "  12   DisclosureInventories                                                                      2         \n",
       "  13   DisclosureProperty                                                                         2         \n",
       "  14   DisclosureIntangibleAssets                                                                 2         \n",
       "  15   DisclosureIncomeTaxes                                                  IncomeStatement     2         \n",
       "  16   DisclosureWorkersParticipation                                                             2         \n",
       "  17   DisclosureLeases                                                                           2         \n",
       "  18   DisclosureAssetRetirementObligation                                                        2         \n",
       "  19   DisclosureFinancing                                                                        2         \n",
       "  20   DisclosureBenefitPlans                                                                     2         \n",
       "  21   DisclosureCommitmentsAndContingencies                                                      2         \n",
       "  22   DisclosureStockholdersEquity                                           StatementOfEquity   2         \n",
       "  23   DisclosureDerivativeInstruments                                                            2         \n",
       "  24   DisclosureFairValueMeasurement                                                             2         \n",
       "  25   DisclosureConcentrationOfRisk                                                              2         \n",
       "  26   DisclosureRelatedPartyTransactions                                                         2         \n",
       "  27   DisclosureSegmentAndRelatedInformation                                                     2         \n",
       "  28   DisclosureSubsequentEvents                                                                 2         \n",
       "  29   DisclosureScheduleIiValuationAndQualifyingAccountsAndReserves                              2         \n",
       "  30   DisclosureSummaryOfSignificantAccountingPoliciesPolicies                                   22        \n",
       "  31   DisclosureShortTermInvestmentsTables                                                       4         \n",
       "  32   DisclosureInventoriesTables                                                                2         \n",
       "  33   DisclosurePropertyTables                                                                   2         \n",
       "  34   DisclosureIntangibleAssetsTables                                                           3         \n",
       "  35   DisclosureIncomeTaxesTables                                            IncomeStatement     8         \n",
       "  36   DisclosureWorkersParticipationTables                                                       2         \n",
       "  37   DisclosureLeasesTables                                                                     3         \n",
       "  38   DisclosureAssetRetirementObligationTables                                                  2         \n",
       "  39   DisclosureFinancingTables                                                                  3         \n",
       "  40   DisclosureBenefitPlansTables                                                               18        \n",
       "  41   DisclosureCommitmentsAndContingenciesTables                                                2         \n",
       "  42   DisclosureStockholdersEquityTables                                     StatementOfEquity   12        \n",
       "  43   DisclosureFairValueMeasurementTables                                                       3         \n",
       "  44   DisclosureConcentrationOfRiskTables                                                        3         \n",
       "  45   DisclosureRelatedPartyTransactionsTables                                                   9         \n",
       "  46   DisclosureSegmentAndRelatedInformationTables                                               7         \n",
       "  47   DisclosureDescriptionOfBusinessDetails                                                     7         \n",
       "  48   DisclosureSummaryOfSignificantAccountingPoliciesDetails                                    28        \n",
       "  49   DisclosureShortTermInvestmentsDetails                                                      19        \n",
       "  50   DisclosureInventoriesDetails                                                               12        \n",
       "  51   DisclosurePropertyDetails                                                                  14        \n",
       "  52   DisclosureIntangibleAssetsDetails                                                          26        \n",
       "  53   DisclosureIncomeTaxesTcjaDetails                                       IncomeStatement     17        \n",
       "  54   DisclosureIncomeTaxesProvisionDetails                                  IncomeStatement     18        \n",
       "  55   DisclosureIncomeTaxesEffectiveTaxRateDetails                           IncomeStatement     19        \n",
       "  56   DisclosureIncomeTaxesTaxAssetsAndLiabilitiesDetails                    IncomeStatement     25        \n",
       "  57   DisclosureIncomeTaxesCarryforwardDetails                               IncomeStatement     28        \n",
       "  58   DisclosureIncomeTaxesOtherDetails                                      IncomeStatement     48        \n",
       "  59   DisclosureWorkersParticipationDetails                                                      14        \n",
       "  60   DisclosureLeasesDetails                                                                    28        \n",
       "  61   DisclosureAssetRetirementObligationDetails                                                 20        \n",
       "  62   DisclosureFinancingDetails                                                                 30        \n",
       "  63   DisclosureFinancingOutstandingBorrowingDetails                                             7         \n",
       "  64   DisclosureBenefitPlansOtherDetails                                                         77        \n",
       "  65   DisclosureBenefitPlansPostRetirementDetails                                                21        \n",
       "  66   DisclosureCommitmentsAndContingenciesEnvironmentalMattersDetails                           10        \n",
       "  67   DisclosureCommitmentsAndContingenciesGuaymasSulfuricAcidSpillDetails                       24        \n",
       "  68   DisclosureCommitmentsAndContingenciesLitigationMattersDetails                              30        \n",
       "  69   DisclosureCommitmentsAndContingenciesLaborMattersDetails                                   30        \n",
       "  70   DisclosureCommitmentsAndContingenciesOthersDetails                                         70        \n",
       "  71   DisclosureStockholdersEquityTreasuryStockDetails                       StatementOfEquity   16        \n",
       "  72   DisclosureStockholdersEquityDividendsPaidInCommonStockDetails          StatementOfEquity   24        \n",
       "  73   DisclosureStockholdersEquityRepurchaseProgramDetails                   StatementOfEquity   8         \n",
       "  74   DisclosureStockholdersEquityDirectorsStockAwardPlanDetails             StatementOfEquity   17        \n",
       "  75   DisclosureStockholdersEquityEmployeeStockPurchasePlanDetails           StatementOfEquity   26        \n",
       "  76   DisclosureDerivativeInstrumentsDetails                                                     3         \n",
       "  77   DisclosureFairValueMeasurementDetails                                                      37        \n",
       "  78   DisclosureConcentrationOfRiskDetails                                                       32        \n",
       "  79   DisclosureRelatedPartyTransactionsDetails                                                  55        \n",
       "  80   DisclosureSegmentAndRelatedInformationFinancialDetails                                     34        \n",
       "  81   DisclosureSegmentAndRelatedInformationReceivablesDetails                                   17        \n",
       "  82   DisclosureSegmentAndRelatedInformationSalesDetails                                         20        \n",
       "  83   DisclosureSegmentAndRelatedInformationGeographicalDetails                                  32        \n",
       "  84   DisclosureSegmentAndRelatedInformationProvisionalSaleDetails                               14        \n",
       "  85   DisclosureSegmentAndRelatedInformationLongTermSalesContractDetails                         17        \n",
       "  86   DisclosureSubsequentEventsDetails                                                          38        \n",
       "  87   DisclosureScheduleIiValuationAndQualifyingAccountsAndReservesDetails                       11        \n",
       "                                                                                                            "
      ]
     },
     "execution_count": 3,
     "metadata": {},
     "output_type": "execute_result"
    }
   ],
   "execution_count": 3,
   "source": [
    "c = Company(\"SCCO\")\n",
    "filing = c.latest(\"10-K\")\n",
    "xbrl = XBRL.from_filing(filing)\n"
   ],
   "id": "f33612e468801736"
  },
  {
   "metadata": {},
   "cell_type": "markdown",
   "source": "## Cash Flow Statement",
   "id": "70f57edf64fea8c8"
  },
  {
   "metadata": {
    "ExecuteTime": {
     "end_time": "2025-03-13T12:33:51.928593Z",
     "start_time": "2025-03-13T12:33:51.840067Z"
    }
   },
   "cell_type": "code",
   "source": [
    "statement = xbrl.statements.cash_flow_statement()\n",
    "statement"
   ],
   "id": "199d822b282489c2",
   "outputs": [
    {
     "data": {
      "text/plain": [],
      "text/html": [
       "<pre style=\"white-space:pre;overflow-x:auto;line-height:normal;font-family:Menlo,'DejaVu Sans Mono',consolas,'Courier New',monospace\"></pre>\n"
      ]
     },
     "metadata": {},
     "output_type": "display_data"
    },
    {
     "data": {
      "text/plain": [
       "\u001B[3m                             StatementConsolidatedStatementsOfCashFlows (Standardized)                             \u001B[0m\n",
       "\u001B[3m                                 \u001B[0m\u001B[1;3mYear Ended\u001B[0m\u001B[3m \u001B[0m\u001B[3m(In thousands, except per share data)\u001B[0m\u001B[3m                                  \u001B[0m\n",
       "                                                                                                                   \n",
       " \u001B[1m \u001B[0m\u001B[1mLine Item                                                         \u001B[0m\u001B[1m \u001B[0m \u001B[1m \u001B[0m\u001B[1mDec 31, 2024\u001B[0m\u001B[1m \u001B[0m \u001B[1m \u001B[0m\u001B[1mDec 31, 2023\u001B[0m\u001B[1m \u001B[0m \u001B[1m \u001B[0m\u001B[1mDec 31, 2022\u001B[0m\u001B[1m \u001B[0m \n",
       " ───────────────────────────────────────────────────────────────────────────────────────────────────────────────── \n",
       "  CONSOLIDATED STATEMENTS OF CASH FLOWS                                                                            \n",
       "    OPERATING ACTIVITIES                                                                                           \n",
       "      Net Income                                                         $3,388,600     $2,434,700     $2,648,000  \n",
       "      Adjustments to reconcile net earnings to net cash provided                                                   \n",
       "  from operating activities:                                                                                       \n",
       "        Depreciation, amortization and depletion                           $845,900       $833,600       $796,300  \n",
       "        Equity earnings of affiliate, net of dividends received              $3,700       $(2,600)       $(4,600)  \n",
       "        Loss on foreign currency transaction effect                       $(13,700)      $(10,400)      $(41,900)  \n",
       "        (Benefit) provision for deferred income taxes                     $(52,200)      $(59,100)       $118,600  \n",
       "        Net charges for asset retirement obligations, including           $(24,400)        $26,100        $16,400  \n",
       "  accretion                                                                                                        \n",
       "        Other, net                                                        $(15,200)      $(14,800)      $(16,900)  \n",
       "      Change in operating assets and liabilities:                                                                  \n",
       "        (Increase) decrease in accounts receivable trade                    $48,500     $(253,000)        $35,400  \n",
       "        Increase in inventories                                             $56,100        $60,400         $7,700  \n",
       "        Increase (decrease) in accounts payable and accrued                $385,700       $152,100     $(718,000)  \n",
       "  liabilities                                                                                                      \n",
       "        Decrease (increase) in other operating assets and                   $42,400        $34,700        $79,100  \n",
       "  liabilities                                                                                                      \n",
       "      Net cash provided by operating activities                          $4,421,700     $3,573,100     $2,802,500  \n",
       "    INVESTING ACTIVITIES                                                                                           \n",
       "      Capital expenditures                                               $1,027,300     $1,008,600       $948,500  \n",
       "      Purchase of short-term investments                                   $611,800       $808,700       $486,200  \n",
       "      Proceeds on sale of short-term investments                           $965,800       $417,700       $764,700  \n",
       "      Other, net                                                                          $(1,200)       $(3,200)  \n",
       "      Net cash used in investing activities                              $(673,300)   $(1,398,400)     $(666,800)  \n",
       "    FINANCING ACTIVITIES                                                                                           \n",
       "      Repayments of debt                                                                                 $300,000  \n",
       "      Cash dividends paid to common stockholders                         $1,637,200     $3,092,400     $2,705,800  \n",
       "      Distributions to non-controlling interest                              $8,300         $9,100         $5,500  \n",
       "      Other, net                                                               $400           $300           $300  \n",
       "      Net cash used in financing activities                            $(1,645,200)   $(3,101,200)   $(3,011,000)  \n",
       "    Effect of exchange rate changes on cash and cash equivalents             $3,400         $8,300      $(57,000)  \n",
       "    Increase (decrease) in cash and cash equivalents                     $2,106,600     $(918,200)     $(932,300)  \n",
       "    Cash and cash equivalents, at end of year                                                                      \n",
       "    Cash and cash equivalents, at end of year                                                                      \n",
       "    Supplemental disclosure of cash flow information:                                                              \n",
       "  \u001B[1m  Cash paid during the year for:\u001B[0m                                                                                 \n",
       "        Interest                                                           $369,700       $369,700       $380,200  \n",
       "        Income taxes                                                     $1,590,800     $1,434,000     $2,391,500  \n",
       "        Workers' participation                                             $262,200       $258,200       $450,600  \n",
       "      Supplemental schedule of non-cash operating, investing and                                                   \n",
       "  financing activities:                                                                                            \n",
       "        Decrease in pension and other post-retirement benefits               $5,800         $1,000         $1,000  \n",
       "        Capital expenditures incurred but not yet paid                      $19,800        $16,100        $18,500  \n",
       "                                                                                                                   "
      ]
     },
     "execution_count": 5,
     "metadata": {},
     "output_type": "execute_result"
    }
   ],
   "execution_count": 5
  }
 ],
 "metadata": {
  "kernelspec": {
   "display_name": "Python 3 (ipykernel)",
   "name": "python3",
   "language": "python"
  },
  "language_info": {
   "name": ""
  }
 },
 "nbformat": 4,
 "nbformat_minor": 5
}
