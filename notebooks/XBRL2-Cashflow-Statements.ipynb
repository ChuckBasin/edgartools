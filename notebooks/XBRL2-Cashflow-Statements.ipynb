{
 "cells": [
  {
   "metadata": {},
   "cell_type": "markdown",
   "source": [
    "# Cash Flow Statements\n",
    "\n",
    "This notebook shows how to get cashflow statements using XBRL2. XBRL2 is an ongoing rewrite of XBRL parsing in edgartools. It is a work in  progress and gaps and bugs are to be expected\n",
    "\n",
    "**[Open this notebook in Google Colab](http://colab.research.google.com/github/dgunning/edgartools/blob/main/notebooks/XBRL2-Cashflow-Statements.ipynb)**"
   ],
   "id": "31e2b73159638242"
  },
  {
   "metadata": {},
   "cell_type": "markdown",
   "source": "## Setup edgartools",
   "id": "a0b33a94958833ea"
  },
  {
   "metadata": {},
   "cell_type": "code",
   "outputs": [],
   "execution_count": null,
   "source": "!pip install edgartools",
   "id": "cdac013ffd911626"
  },
  {
   "metadata": {
    "ExecuteTime": {
     "end_time": "2025-03-15T14:57:53.291442Z",
     "start_time": "2025-03-15T14:57:53.286451Z"
    }
   },
   "cell_type": "code",
   "source": [
    "from edgar import *\n",
    "set_identity(\"cash@hedgefund.com\")"
   ],
   "id": "a56aa6c12fc9de0b",
   "outputs": [],
   "execution_count": 7
  },
  {
   "metadata": {},
   "cell_type": "markdown",
   "source": [
    "## Import XBRL2\n",
    "\n",
    "XBRL2 is a rewrite of XBRL in the package `edgar.xbrl2`"
   ],
   "id": "7fbe80118a8b577e"
  },
  {
   "metadata": {
    "ExecuteTime": {
     "end_time": "2025-03-15T14:57:55.641743Z",
     "start_time": "2025-03-15T14:57:55.638741Z"
    }
   },
   "cell_type": "code",
   "source": "from edgar.xbrl2 import *",
   "id": "75618615740aeb2e",
   "outputs": [],
   "execution_count": 8
  },
  {
   "metadata": {
    "ExecuteTime": {
     "end_time": "2025-03-15T14:57:57.976004Z",
     "start_time": "2025-03-15T14:57:57.233536Z"
    }
   },
   "cell_type": "code",
   "source": [
    "c = Company(\"SCCO\")\n",
    "filing = c.latest(\"10-K\")\n",
    "xbrl = XBRL.from_filing(filing)\n"
   ],
   "id": "f33612e468801736",
   "outputs": [],
   "execution_count": 9
  },
  {
   "metadata": {},
   "cell_type": "markdown",
   "source": "## Cash Flow Statement",
   "id": "70f57edf64fea8c8"
  },
  {
   "metadata": {
    "ExecuteTime": {
     "end_time": "2025-03-15T14:58:00.206538Z",
     "start_time": "2025-03-15T14:58:00.111476Z"
    }
   },
   "cell_type": "code",
   "source": [
    "statement = xbrl.statements.cash_flow_statement()\n",
    "statement"
   ],
   "id": "199d822b282489c2",
   "outputs": [
    {
     "data": {
      "text/plain": [],
      "text/html": [
       "<pre style=\"white-space:pre;overflow-x:auto;line-height:normal;font-family:Menlo,'DejaVu Sans Mono',consolas,'Courier New',monospace\"></pre>\n"
      ]
     },
     "metadata": {},
     "output_type": "display_data"
    },
    {
     "data": {
      "text/plain": [
       "\u001B[3m                             StatementConsolidatedStatementsOfCashFlows (Standardized)                             \u001B[0m\n",
       "\u001B[3m                                 \u001B[0m\u001B[1;3mYear Ended\u001B[0m\u001B[3m \u001B[0m\u001B[3m(In thousands, except per share data)\u001B[0m\u001B[3m                                  \u001B[0m\n",
       "                                                                                                                   \n",
       " \u001B[1m \u001B[0m\u001B[1mLine Item                                                         \u001B[0m\u001B[1m \u001B[0m \u001B[1m \u001B[0m\u001B[1mDec 31, 2024\u001B[0m\u001B[1m \u001B[0m \u001B[1m \u001B[0m\u001B[1mDec 31, 2023\u001B[0m\u001B[1m \u001B[0m \u001B[1m \u001B[0m\u001B[1mDec 31, 2022\u001B[0m\u001B[1m \u001B[0m \n",
       " ───────────────────────────────────────────────────────────────────────────────────────────────────────────────── \n",
       "  CONSOLIDATED STATEMENTS OF CASH FLOWS                                                                            \n",
       "    OPERATING ACTIVITIES                                                                                           \n",
       "      Net Income                                                         $3,388,600     $2,434,700     $2,648,000  \n",
       "      Adjustments to reconcile net earnings to net cash provided                                                   \n",
       "  from operating activities:                                                                                       \n",
       "        Depreciation, amortization and depletion                           $845,900       $833,600       $796,300  \n",
       "        Equity earnings of affiliate, net of dividends received              $3,700       $(2,600)       $(4,600)  \n",
       "        Loss on foreign currency transaction effect                       $(13,700)      $(10,400)      $(41,900)  \n",
       "        (Benefit) provision for deferred income taxes                     $(52,200)      $(59,100)       $118,600  \n",
       "        Net charges for asset retirement obligations, including           $(24,400)        $26,100        $16,400  \n",
       "  accretion                                                                                                        \n",
       "        Other, net                                                        $(15,200)      $(14,800)      $(16,900)  \n",
       "      Change in operating assets and liabilities:                                                                  \n",
       "        (Increase) decrease in accounts receivable trade                    $48,500     $(253,000)        $35,400  \n",
       "        Increase in inventories                                             $56,100        $60,400         $7,700  \n",
       "        Increase (decrease) in accounts payable and accrued                $385,700       $152,100     $(718,000)  \n",
       "  liabilities                                                                                                      \n",
       "        Decrease (increase) in other operating assets and                   $42,400        $34,700        $79,100  \n",
       "  liabilities                                                                                                      \n",
       "      Net Cash from Operating Activities                                 $4,421,700     $3,573,100     $2,802,500  \n",
       "    INVESTING ACTIVITIES                                                                                           \n",
       "      Payments for Property, Plant and Equipment                         $1,027,300     $1,008,600       $948,500  \n",
       "      Purchase of short-term investments                                   $611,800       $808,700       $486,200  \n",
       "      Proceeds on sale of short-term investments                           $965,800       $417,700       $764,700  \n",
       "      Other, net                                                                          $(1,200)       $(3,200)  \n",
       "      Net Cash from Investing Activities                                 $(673,300)   $(1,398,400)     $(666,800)  \n",
       "    FINANCING ACTIVITIES                                                                                           \n",
       "      Repayments of debt                                                                                 $300,000  \n",
       "      Cash dividends paid to common stockholders                         $1,637,200     $3,092,400     $2,705,800  \n",
       "      Distributions to non-controlling interest                              $8,300         $9,100         $5,500  \n",
       "      Other, net                                                               $400           $300           $300  \n",
       "      Net Cash from Financing Activities                               $(1,645,200)   $(3,101,200)   $(3,011,000)  \n",
       "    Effect of exchange rate changes on cash and cash equivalents             $3,400         $8,300      $(57,000)  \n",
       "    Net Change in Cash                                                   $2,106,600     $(918,200)     $(932,300)  \n",
       "    Cash and cash equivalents, at end of year                                                                      \n",
       "    Cash and cash equivalents, at end of year                                                                      \n",
       "    Supplemental disclosure of cash flow information:                                                              \n",
       "  \u001B[1m  Cash paid during the year for:\u001B[0m                                                                                 \n",
       "        Interest                                                           $369,700       $369,700       $380,200  \n",
       "        Income Tax Expense                                               $1,590,800     $1,434,000     $2,391,500  \n",
       "        Workers' participation                                             $262,200       $258,200       $450,600  \n",
       "      Supplemental schedule of non-cash operating, investing and                                                   \n",
       "  financing activities:                                                                                            \n",
       "        Decrease in pension and other post-retirement benefits               $5,800         $1,000         $1,000  \n",
       "        Capital expenditures incurred but not yet paid                      $19,800        $16,100        $18,500  \n",
       "                                                                                                                   "
      ]
     },
     "execution_count": 10,
     "metadata": {},
     "output_type": "execute_result"
    }
   ],
   "execution_count": 10
  }
 ],
 "metadata": {
  "kernelspec": {
   "display_name": "Python 3 (ipykernel)",
   "name": "python3",
   "language": "python"
  },
  "language_info": {
   "name": ""
  }
 },
 "nbformat": 4,
 "nbformat_minor": 5
}
