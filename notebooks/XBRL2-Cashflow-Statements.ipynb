{
 "cells": [
  {
   "metadata": {},
   "cell_type": "markdown",
   "source": [
    "# Cash Flow Statements\n",
    "\n",
    "This notebook shows how to get cashflow statements using XBRL2. XBRL2 is an ongoing rewrite of XBRL parsing in edgartools. It is a work in  progress and gaps and bugs are to be expected\n",
    "\n",
    "**[Open this notebook in Google Colab](http://colab.research.google.com/github/dgunning/edgartools/blob/main/notebooks/XBRL2-Cashflow-Statements.ipynb)**"
   ],
   "id": "31e2b73159638242"
  },
  {
   "metadata": {},
   "cell_type": "markdown",
   "source": "## Setup edgartools",
   "id": "a0b33a94958833ea"
  },
  {
   "metadata": {},
   "cell_type": "code",
   "outputs": [],
   "execution_count": null,
   "source": "!pip install edgartools",
   "id": "cdac013ffd911626"
  },
  {
   "metadata": {
    "ExecuteTime": {
     "end_time": "2025-03-19T17:41:21.588392Z",
     "start_time": "2025-03-19T17:41:21.584267Z"
    }
   },
   "cell_type": "code",
   "source": [
    "from edgar import *\n",
    "set_identity(\"cash@hedgefund.com\")"
   ],
   "id": "a56aa6c12fc9de0b",
   "outputs": [],
   "execution_count": 1
  },
  {
   "metadata": {},
   "cell_type": "markdown",
   "source": [
    "## Import XBRL2\n",
    "\n",
    "XBRL2 is a rewrite of XBRL in the package `edgar.xbrl2`"
   ],
   "id": "7fbe80118a8b577e"
  },
  {
   "metadata": {
    "ExecuteTime": {
     "end_time": "2025-03-19T17:41:23.681238Z",
     "start_time": "2025-03-19T17:41:23.669404Z"
    }
   },
   "cell_type": "code",
   "source": "from edgar.xbrl2 import *",
   "id": "75618615740aeb2e",
   "outputs": [],
   "execution_count": 2
  },
  {
   "metadata": {
    "ExecuteTime": {
     "end_time": "2025-03-19T17:41:26.089879Z",
     "start_time": "2025-03-19T17:41:24.827428Z"
    }
   },
   "cell_type": "code",
   "source": [
    "c = Company(\"CRSR\")\n",
    "filing = c.latest(\"10-K\")\n",
    "xbrl = XBRL.from_filing(filing)\n"
   ],
   "id": "f33612e468801736",
   "outputs": [],
   "execution_count": 3
  },
  {
   "metadata": {},
   "cell_type": "markdown",
   "source": "## Cash Flow Statement",
   "id": "70f57edf64fea8c8"
  },
  {
   "metadata": {
    "ExecuteTime": {
     "end_time": "2025-03-19T17:41:26.637435Z",
     "start_time": "2025-03-19T17:41:26.570027Z"
    }
   },
   "cell_type": "code",
   "source": [
    "statement = xbrl.statements.cash_flow_statement()\n",
    "statement"
   ],
   "id": "199d822b282489c2",
   "outputs": [
    {
     "data": {
      "text/plain": [],
      "text/html": [
       "<pre style=\"white-space:pre;overflow-x:auto;line-height:normal;font-family:Menlo,'DejaVu Sans Mono',consolas,'Courier New',monospace\"></pre>\n"
      ]
     },
     "metadata": {},
     "output_type": "display_data"
    },
    {
     "data": {
      "text/plain": [
       "\u001B[3m                          Role StatementConsolidatedStatementsOfCashFlows (Standardized)                           \u001B[0m\n",
       "\u001B[3m                                 \u001B[0m\u001B[1;3mYear Ended\u001B[0m\u001B[3m \u001B[0m\u001B[3m(In thousands, except per share data)\u001B[0m\u001B[3m                                  \u001B[0m\n",
       "                                                                                                                   \n",
       " \u001B[1m \u001B[0m\u001B[1mLine Item                                                         \u001B[0m\u001B[1m \u001B[0m \u001B[1m \u001B[0m\u001B[1mDec 31, 2024\u001B[0m\u001B[1m \u001B[0m \u001B[1m \u001B[0m\u001B[1mDec 31, 2023\u001B[0m\u001B[1m \u001B[0m \u001B[1m \u001B[0m\u001B[1mDec 31, 2022\u001B[0m\u001B[1m \u001B[0m \n",
       " ───────────────────────────────────────────────────────────────────────────────────────────────────────────────── \n",
       "      Cash flows from operating activities:                                                                        \n",
       "        Net Income                                                        $(83,394)       $(1,037)      $(53,946)  \n",
       "        Adjustments to reconcile net income (loss) to net cash                                                     \n",
       "  provided by operating activities:                                                                                \n",
       "          Stock-based compensation                                          $30,591        $30,873        $22,158  \n",
       "          Depreciation and Amortization                                     $13,449        $12,210        $10,728  \n",
       "          Amortization                                                      $38,448        $38,488        $42,795  \n",
       "          Bargain purchase gain on business acquisition                      $2,581                                \n",
       "          Deferred income taxes, net of valuation allowance                 $11,416       $(6,332)      $(21,736)  \n",
       "          Other                                                              $5,661         $4,263         $4,867  \n",
       "        Changes in operating assets and liabilities:                                                               \n",
       "          Accounts Receivable                                               $32,285      $(17,686)        $55,845  \n",
       "          Inventories                                                       $18,315      $(39,470)       $111,288  \n",
       "          Prepaid expenses and other assets                                  $5,897         $1,902         $1,268  \n",
       "          Accounts Payable                                                $(39,507)        $62,150      $(65,928)  \n",
       "          Other liabilities and accrued expenses                             $5,297         $3,792      $(40,950)  \n",
       "        Net Cash from Operating Activities                                  $35,877        $89,153        $66,389  \n",
       "      Cash flows from investing activities:                                                                        \n",
       "        Payments to Acquire Businesses                                    $(43,131)      $(14,220)      $(19,534)  \n",
       "        Payments for Property, Plant and Equipment                         $(9,849)      $(12,761)      $(26,315)  \n",
       "        Purchase of intangible asset                                         $(100)                                \n",
       "        Payment of deferred and contingent consideration                                                   $(185)  \n",
       "        Purchase price adjustment related to business acquisition            $1,041                                \n",
       "        Payment of bridge loan origination costs related to business         $(666)                                \n",
       "  acquisition                                                                                                      \n",
       "        Investment in available-for-sale convertible note                                                $(1,000)  \n",
       "        Net Cash from Investing Activities                                $(52,705)      $(26,981)      $(47,034)  \n",
       "      Cash flows from financing activities:                                                                        \n",
       "        Repayment of debt and debt issuance costs                           $25,000        $41,000         $9,483  \n",
       "        Borrowings from line of credit                                      $25,000                      $701,500  \n",
       "        Repayment of line of credit                                       $(25,000)                    $(701,500)  \n",
       "        Purchase of additional ownership interest                         $(19,750)                                \n",
       "        Proceeds from public offering, net of underwriting discounts                                      $81,655  \n",
       "  and commissions                                                                                                  \n",
       "        Payment of other offering costs                                                     $(497)         $(296)  \n",
       "        Proceeds from issuance of shares through employee equity             $5,377         $7,449         $7,015  \n",
       "  incentive plans                                                                                                  \n",
       "        Tax Withholding for Share-Based Compensation                         $(573)       $(1,409)       $(1,532)  \n",
       "        Dividend paid to noncontrolling interest                           $(5,792)         $(980)       $(4,312)  \n",
       "        Payment of deferred and contingent consideration                     $4,942           $950           $438  \n",
       "        Net Cash from Financing Activities                                $(50,680)      $(37,387)        $72,609  \n",
       "      Effect of exchange rate changes on cash                              $(1,425)         $(281)       $(3,284)  \n",
       "      Net Change in Cash                                                  $(68,933)        $24,504        $88,680  \n",
       "      Cash and restricted cash at the end of the year                                                              \n",
       "      Cash and restricted cash at the end of the year                                                              \n",
       "      Supplemental cash flow disclosures:                                                                          \n",
       "        Cash paid for interest                                              $12,793        $16,772         $9,019  \n",
       "        Income Tax Expense                                                   $5,100         $7,375        $14,221  \n",
       "      Supplemental disclosure of non-cash investing and financing                                                  \n",
       "  activities:                                                                                                      \n",
       "        Equipment purchased and unpaid at period end                         $2,493         $1,420         $4,985  \n",
       "        Issuance of common stock relating to business acquisition                                         $14,505  \n",
       "        Purchase Consideration Related To Business Combination                 $592                                \n",
       "        Receivable for business acquisition purchase price                                  $1,041                 \n",
       "  adjustment                                                                                                       \n",
       "                                                                                                                   "
      ]
     },
     "execution_count": 4,
     "metadata": {},
     "output_type": "execute_result"
    }
   ],
   "execution_count": 4
  },
  {
   "metadata": {},
   "cell_type": "markdown",
   "source": "## Compare with Cashflow Statement extracted from the attachment",
   "id": "1d9805c4f8f2eb5c"
  },
  {
   "metadata": {
    "ExecuteTime": {
     "end_time": "2025-03-19T19:02:40.642741Z",
     "start_time": "2025-03-19T19:02:40.538545Z"
    }
   },
   "cell_type": "code",
   "source": "filing.statements.cash_flow_statement.view()",
   "id": "a05a1d530b8c363f",
   "outputs": [
    {
     "data": {
      "text/plain": [
       "\u001B[34m                                                                                                    \u001B[0m\n",
       "\u001B[34m \u001B[0m\u001B[1m \u001B[0m\u001B[1mCONSOLIDATED STATEMENTS OF CASH FLOWS - USD ($)$ \u001B[0m\u001B[1m \u001B[0m\u001B[34m \u001B[0m\u001B[1m              \u001B[0m\u001B[34m \u001B[0m\u001B[1m12 Months Ended\u001B[0m\u001B[1m \u001B[0m\u001B[34m \u001B[0m\u001B[1m              \u001B[0m\u001B[34m \u001B[0m\n",
       "\u001B[34m \u001B[0m\u001B[1m \u001B[0m\u001B[1min Millions                                      \u001B[0m\u001B[1m \u001B[0m\u001B[34m \u001B[0m\u001B[1mDec. 31, 2024\u001B[0m\u001B[1m \u001B[0m\u001B[34m \u001B[0m\u001B[1m  Dec. 31, 2023\u001B[0m\u001B[1m \u001B[0m\u001B[34m \u001B[0m\u001B[1mDec. 31, 2022\u001B[0m\u001B[1m \u001B[0m\u001B[34m \u001B[0m\n",
       "\u001B[34m ────────────────────────────────────────────────────────────────────────────────────────────────── \u001B[0m\n",
       "\u001B[34m \u001B[0m OPERATING ACTIVITIES                              \u001B[34m \u001B[0m              \u001B[34m \u001B[0m                \u001B[34m \u001B[0m              \u001B[34m \u001B[0m\n",
       "\u001B[34m \u001B[0m\u001B[38;5;245m \u001B[0m\u001B[38;5;245mNet income                                       \u001B[0m\u001B[38;5;245m \u001B[0m\u001B[34m \u001B[0m\u001B[38;5;245m    $ 3,388.6\u001B[0m\u001B[38;5;245m \u001B[0m\u001B[34m \u001B[0m\u001B[38;5;245m      $ 2,434.7\u001B[0m\u001B[38;5;245m \u001B[0m\u001B[34m \u001B[0m\u001B[38;5;245m    $ 2,648.0\u001B[0m\u001B[38;5;245m \u001B[0m\u001B[34m \u001B[0m\n",
       "\u001B[34m \u001B[0m Adjustments to reconcile net earnings to net cash \u001B[34m \u001B[0m              \u001B[34m \u001B[0m                \u001B[34m \u001B[0m              \u001B[34m \u001B[0m\n",
       "\u001B[34m \u001B[0m provided from operating activities:               \u001B[34m \u001B[0m              \u001B[34m \u001B[0m                \u001B[34m \u001B[0m              \u001B[34m \u001B[0m\n",
       "\u001B[34m \u001B[0m\u001B[38;5;245m \u001B[0m\u001B[38;5;245mDepreciation, amortization and depletion         \u001B[0m\u001B[38;5;245m \u001B[0m\u001B[34m \u001B[0m\u001B[38;5;245m        845.9\u001B[0m\u001B[38;5;245m \u001B[0m\u001B[34m \u001B[0m\u001B[38;5;245m          833.6\u001B[0m\u001B[38;5;245m \u001B[0m\u001B[34m \u001B[0m\u001B[38;5;245m        796.3\u001B[0m\u001B[38;5;245m \u001B[0m\u001B[34m \u001B[0m\n",
       "\u001B[34m \u001B[0m Equity earnings of affiliate, net of dividends    \u001B[34m \u001B[0m         -3.7 \u001B[34m \u001B[0m            2.6 \u001B[34m \u001B[0m          4.6 \u001B[34m \u001B[0m\n",
       "\u001B[34m \u001B[0m received                                          \u001B[34m \u001B[0m              \u001B[34m \u001B[0m                \u001B[34m \u001B[0m              \u001B[34m \u001B[0m\n",
       "\u001B[34m \u001B[0m\u001B[38;5;245m \u001B[0m\u001B[38;5;245mLoss on foreign currency transaction effect      \u001B[0m\u001B[38;5;245m \u001B[0m\u001B[34m \u001B[0m\u001B[38;5;245m         13.7\u001B[0m\u001B[38;5;245m \u001B[0m\u001B[34m \u001B[0m\u001B[38;5;245m           10.4\u001B[0m\u001B[38;5;245m \u001B[0m\u001B[34m \u001B[0m\u001B[38;5;245m         41.9\u001B[0m\u001B[38;5;245m \u001B[0m\u001B[34m \u001B[0m\n",
       "\u001B[34m \u001B[0m (Benefit) provision for deferred income taxes     \u001B[34m \u001B[0m        -52.2 \u001B[34m \u001B[0m          -59.1 \u001B[34m \u001B[0m        118.6 \u001B[34m \u001B[0m\n",
       "\u001B[34m \u001B[0m\u001B[38;5;245m \u001B[0m\u001B[38;5;245mNet charges for asset retirement obligations,    \u001B[0m\u001B[38;5;245m \u001B[0m\u001B[34m \u001B[0m\u001B[38;5;245m        -24.4\u001B[0m\u001B[38;5;245m \u001B[0m\u001B[34m \u001B[0m\u001B[38;5;245m           26.1\u001B[0m\u001B[38;5;245m \u001B[0m\u001B[34m \u001B[0m\u001B[38;5;245m         16.4\u001B[0m\u001B[38;5;245m \u001B[0m\u001B[34m \u001B[0m\n",
       "\u001B[34m \u001B[0m\u001B[38;5;245m \u001B[0m\u001B[38;5;245mincluding accretion                              \u001B[0m\u001B[38;5;245m \u001B[0m\u001B[34m \u001B[0m\u001B[38;5;245m              \u001B[0m\u001B[34m \u001B[0m\u001B[38;5;245m                \u001B[0m\u001B[34m \u001B[0m\u001B[38;5;245m              \u001B[0m\u001B[34m \u001B[0m\n",
       "\u001B[34m \u001B[0m Other, net                                        \u001B[34m \u001B[0m         15.2 \u001B[34m \u001B[0m           14.8 \u001B[34m \u001B[0m         16.9 \u001B[34m \u001B[0m\n",
       "\u001B[34m \u001B[0m\u001B[38;5;245m \u001B[0m\u001B[38;5;245mChange in operating assets and liabilities:      \u001B[0m\u001B[38;5;245m \u001B[0m\u001B[34m \u001B[0m\u001B[38;5;245m             \u001B[0m\u001B[38;5;245m \u001B[0m\u001B[34m \u001B[0m\u001B[38;5;245m               \u001B[0m\u001B[38;5;245m \u001B[0m\u001B[34m \u001B[0m\u001B[38;5;245m             \u001B[0m\u001B[38;5;245m \u001B[0m\u001B[34m \u001B[0m\n",
       "\u001B[34m \u001B[0m (Increase) decrease in accounts receivable trade  \u001B[34m \u001B[0m        -48.5 \u001B[34m \u001B[0m          253.0 \u001B[34m \u001B[0m        -35.4 \u001B[34m \u001B[0m\n",
       "\u001B[34m \u001B[0m\u001B[38;5;245m \u001B[0m\u001B[38;5;245mIncrease in inventories                          \u001B[0m\u001B[38;5;245m \u001B[0m\u001B[34m \u001B[0m\u001B[38;5;245m        -56.1\u001B[0m\u001B[38;5;245m \u001B[0m\u001B[34m \u001B[0m\u001B[38;5;245m          -60.4\u001B[0m\u001B[38;5;245m \u001B[0m\u001B[34m \u001B[0m\u001B[38;5;245m         -7.7\u001B[0m\u001B[38;5;245m \u001B[0m\u001B[34m \u001B[0m\n",
       "\u001B[34m \u001B[0m Increase (decrease) in accounts payable and       \u001B[34m \u001B[0m        385.7 \u001B[34m \u001B[0m          152.1 \u001B[34m \u001B[0m       -718.0 \u001B[34m \u001B[0m\n",
       "\u001B[34m \u001B[0m accrued liabilities                               \u001B[34m \u001B[0m              \u001B[34m \u001B[0m                \u001B[34m \u001B[0m              \u001B[34m \u001B[0m\n",
       "\u001B[34m \u001B[0m\u001B[38;5;245m \u001B[0m\u001B[38;5;245mDecrease (increase) in other operating assets and\u001B[0m\u001B[38;5;245m \u001B[0m\u001B[34m \u001B[0m\u001B[38;5;245m        -42.4\u001B[0m\u001B[38;5;245m \u001B[0m\u001B[34m \u001B[0m\u001B[38;5;245m          -34.7\u001B[0m\u001B[38;5;245m \u001B[0m\u001B[34m \u001B[0m\u001B[38;5;245m        -79.1\u001B[0m\u001B[38;5;245m \u001B[0m\u001B[34m \u001B[0m\n",
       "\u001B[34m \u001B[0m\u001B[38;5;245m \u001B[0m\u001B[38;5;245mliabilities                                      \u001B[0m\u001B[38;5;245m \u001B[0m\u001B[34m \u001B[0m\u001B[38;5;245m              \u001B[0m\u001B[34m \u001B[0m\u001B[38;5;245m                \u001B[0m\u001B[34m \u001B[0m\u001B[38;5;245m              \u001B[0m\u001B[34m \u001B[0m\n",
       "\u001B[34m \u001B[0m Net cash provided by operating activities         \u001B[34m \u001B[0m      4,421.7 \u001B[34m \u001B[0m        3,573.1 \u001B[34m \u001B[0m      2,802.5 \u001B[34m \u001B[0m\n",
       "\u001B[34m \u001B[0m\u001B[38;5;245m \u001B[0m\u001B[38;5;245mINVESTING ACTIVITIES                             \u001B[0m\u001B[38;5;245m \u001B[0m\u001B[34m \u001B[0m\u001B[38;5;245m             \u001B[0m\u001B[38;5;245m \u001B[0m\u001B[34m \u001B[0m\u001B[38;5;245m               \u001B[0m\u001B[38;5;245m \u001B[0m\u001B[34m \u001B[0m\u001B[38;5;245m             \u001B[0m\u001B[38;5;245m \u001B[0m\u001B[34m \u001B[0m\n",
       "\u001B[34m \u001B[0m Capital expenditures                              \u001B[34m \u001B[0m     -1,027.3 \u001B[34m \u001B[0m       -1,008.6 \u001B[34m \u001B[0m       -948.5 \u001B[34m \u001B[0m\n",
       "\u001B[34m \u001B[0m\u001B[38;5;245m \u001B[0m\u001B[38;5;245mPurchase of short-term investments               \u001B[0m\u001B[38;5;245m \u001B[0m\u001B[34m \u001B[0m\u001B[38;5;245m       -611.8\u001B[0m\u001B[38;5;245m \u001B[0m\u001B[34m \u001B[0m\u001B[38;5;245m         -808.7\u001B[0m\u001B[38;5;245m \u001B[0m\u001B[34m \u001B[0m\u001B[38;5;245m       -486.2\u001B[0m\u001B[38;5;245m \u001B[0m\u001B[34m \u001B[0m\n",
       "\u001B[34m \u001B[0m Proceeds on sale of short-term investments        \u001B[34m \u001B[0m        965.8 \u001B[34m \u001B[0m          417.7 \u001B[34m \u001B[0m        764.7 \u001B[34m \u001B[0m\n",
       "\u001B[34m \u001B[0m\u001B[38;5;245m \u001B[0m\u001B[38;5;245mOther, net                                       \u001B[0m\u001B[38;5;245m \u001B[0m\u001B[34m \u001B[0m\u001B[38;5;245m             \u001B[0m\u001B[38;5;245m \u001B[0m\u001B[34m \u001B[0m\u001B[38;5;245m            1.2\u001B[0m\u001B[38;5;245m \u001B[0m\u001B[34m \u001B[0m\u001B[38;5;245m          3.2\u001B[0m\u001B[38;5;245m \u001B[0m\u001B[34m \u001B[0m\n",
       "\u001B[34m \u001B[0m Net cash used in investing activities             \u001B[34m \u001B[0m       -673.3 \u001B[34m \u001B[0m       -1,398.4 \u001B[34m \u001B[0m       -666.8 \u001B[34m \u001B[0m\n",
       "\u001B[34m \u001B[0m\u001B[38;5;245m \u001B[0m\u001B[38;5;245mFINANCING ACTIVITIES                             \u001B[0m\u001B[38;5;245m \u001B[0m\u001B[34m \u001B[0m\u001B[38;5;245m             \u001B[0m\u001B[38;5;245m \u001B[0m\u001B[34m \u001B[0m\u001B[38;5;245m               \u001B[0m\u001B[38;5;245m \u001B[0m\u001B[34m \u001B[0m\u001B[38;5;245m             \u001B[0m\u001B[38;5;245m \u001B[0m\u001B[34m \u001B[0m\n",
       "\u001B[34m \u001B[0m Repayments of debt                                \u001B[34m \u001B[0m              \u001B[34m \u001B[0m                \u001B[34m \u001B[0m       -300.0 \u001B[34m \u001B[0m\n",
       "\u001B[34m \u001B[0m\u001B[38;5;245m \u001B[0m\u001B[38;5;245mCash dividends paid to common stockholders       \u001B[0m\u001B[38;5;245m \u001B[0m\u001B[34m \u001B[0m\u001B[38;5;245m     -1,637.2\u001B[0m\u001B[38;5;245m \u001B[0m\u001B[34m \u001B[0m\u001B[38;5;245m       -3,092.4\u001B[0m\u001B[38;5;245m \u001B[0m\u001B[34m \u001B[0m\u001B[38;5;245m     -2,705.8\u001B[0m\u001B[38;5;245m \u001B[0m\u001B[34m \u001B[0m\n",
       "\u001B[34m \u001B[0m Distributions to non-controlling interest         \u001B[34m \u001B[0m         -8.3 \u001B[34m \u001B[0m           -9.1 \u001B[34m \u001B[0m         -5.5 \u001B[34m \u001B[0m\n",
       "\u001B[34m \u001B[0m\u001B[38;5;245m \u001B[0m\u001B[38;5;245mOther, net                                       \u001B[0m\u001B[38;5;245m \u001B[0m\u001B[34m \u001B[0m\u001B[38;5;245m          0.4\u001B[0m\u001B[38;5;245m \u001B[0m\u001B[34m \u001B[0m\u001B[38;5;245m            0.3\u001B[0m\u001B[38;5;245m \u001B[0m\u001B[34m \u001B[0m\u001B[38;5;245m          0.3\u001B[0m\u001B[38;5;245m \u001B[0m\u001B[34m \u001B[0m\n",
       "\u001B[34m \u001B[0m Net cash used in financing activities             \u001B[34m \u001B[0m     -1,645.2 \u001B[34m \u001B[0m       -3,101.2 \u001B[34m \u001B[0m     -3,011.0 \u001B[34m \u001B[0m\n",
       "\u001B[34m \u001B[0m\u001B[38;5;245m \u001B[0m\u001B[38;5;245mEffect of exchange rate changes on cash and cash \u001B[0m\u001B[38;5;245m \u001B[0m\u001B[34m \u001B[0m\u001B[38;5;245m          3.4\u001B[0m\u001B[38;5;245m \u001B[0m\u001B[34m \u001B[0m\u001B[38;5;245m            8.3\u001B[0m\u001B[38;5;245m \u001B[0m\u001B[34m \u001B[0m\u001B[38;5;245m        -57.0\u001B[0m\u001B[38;5;245m \u001B[0m\u001B[34m \u001B[0m\n",
       "\u001B[34m \u001B[0m\u001B[38;5;245m \u001B[0m\u001B[38;5;245mequivalents                                      \u001B[0m\u001B[38;5;245m \u001B[0m\u001B[34m \u001B[0m\u001B[38;5;245m              \u001B[0m\u001B[34m \u001B[0m\u001B[38;5;245m                \u001B[0m\u001B[34m \u001B[0m\u001B[38;5;245m              \u001B[0m\u001B[34m \u001B[0m\n",
       "\u001B[34m \u001B[0m Increase (decrease) in cash and cash equivalents  \u001B[34m \u001B[0m      2,106.6 \u001B[34m \u001B[0m         -918.2 \u001B[34m \u001B[0m       -932.3 \u001B[34m \u001B[0m\n",
       "\u001B[34m \u001B[0m\u001B[38;5;245m \u001B[0m\u001B[38;5;245mCash and cash equivalents, at beginning of year  \u001B[0m\u001B[38;5;245m \u001B[0m\u001B[34m \u001B[0m\u001B[38;5;245m      1,151.5\u001B[0m\u001B[38;5;245m \u001B[0m\u001B[34m \u001B[0m\u001B[38;5;245m        2,069.7\u001B[0m\u001B[38;5;245m \u001B[0m\u001B[34m \u001B[0m\u001B[38;5;245m      3,002.0\u001B[0m\u001B[38;5;245m \u001B[0m\u001B[34m \u001B[0m\n",
       "\u001B[34m \u001B[0m Cash and cash equivalents, at end of year         \u001B[34m \u001B[0m      3,258.1 \u001B[34m \u001B[0m        1,151.5 \u001B[34m \u001B[0m      2,069.7 \u001B[34m \u001B[0m\n",
       "\u001B[34m \u001B[0m\u001B[38;5;245m \u001B[0m\u001B[38;5;245mCash paid during the year for:                   \u001B[0m\u001B[38;5;245m \u001B[0m\u001B[34m \u001B[0m\u001B[38;5;245m             \u001B[0m\u001B[38;5;245m \u001B[0m\u001B[34m \u001B[0m\u001B[38;5;245m               \u001B[0m\u001B[38;5;245m \u001B[0m\u001B[34m \u001B[0m\u001B[38;5;245m             \u001B[0m\u001B[38;5;245m \u001B[0m\u001B[34m \u001B[0m\n",
       "\u001B[34m \u001B[0m Interest                                          \u001B[34m \u001B[0m        369.7 \u001B[34m \u001B[0m          369.7 \u001B[34m \u001B[0m        380.2 \u001B[34m \u001B[0m\n",
       "\u001B[34m \u001B[0m\u001B[38;5;245m \u001B[0m\u001B[38;5;245mIncome taxes                                     \u001B[0m\u001B[38;5;245m \u001B[0m\u001B[34m \u001B[0m\u001B[38;5;245m      1,590.8\u001B[0m\u001B[38;5;245m \u001B[0m\u001B[34m \u001B[0m\u001B[38;5;245m        1,434.0\u001B[0m\u001B[38;5;245m \u001B[0m\u001B[34m \u001B[0m\u001B[38;5;245m      2,391.5\u001B[0m\u001B[38;5;245m \u001B[0m\u001B[34m \u001B[0m\n",
       "\u001B[34m \u001B[0m Workers' participation                            \u001B[34m \u001B[0m        262.2 \u001B[34m \u001B[0m          258.2 \u001B[34m \u001B[0m        450.6 \u001B[34m \u001B[0m\n",
       "\u001B[34m \u001B[0m\u001B[38;5;245m \u001B[0m\u001B[38;5;245mSupplemental schedule of non-cash operating,     \u001B[0m\u001B[38;5;245m \u001B[0m\u001B[34m \u001B[0m\u001B[38;5;245m              \u001B[0m\u001B[34m \u001B[0m\u001B[38;5;245m                \u001B[0m\u001B[34m \u001B[0m\u001B[38;5;245m              \u001B[0m\u001B[34m \u001B[0m\n",
       "\u001B[34m \u001B[0m\u001B[38;5;245m \u001B[0m\u001B[38;5;245minvesting and financing activities:              \u001B[0m\u001B[38;5;245m \u001B[0m\u001B[34m \u001B[0m\u001B[38;5;245m             \u001B[0m\u001B[38;5;245m \u001B[0m\u001B[34m \u001B[0m\u001B[38;5;245m               \u001B[0m\u001B[38;5;245m \u001B[0m\u001B[34m \u001B[0m\u001B[38;5;245m             \u001B[0m\u001B[38;5;245m \u001B[0m\u001B[34m \u001B[0m\n",
       "\u001B[34m \u001B[0m\u001B[38;5;245m \u001B[0m\u001B[38;5;245m                                                 \u001B[0m\u001B[38;5;245m \u001B[0m\u001B[34m \u001B[0m\u001B[38;5;245m              \u001B[0m\u001B[34m \u001B[0m\u001B[38;5;245m                \u001B[0m\u001B[34m \u001B[0m\u001B[38;5;245m              \u001B[0m\u001B[34m \u001B[0m\n",
       "\u001B[34m \u001B[0m Decrease in pension and other post-retirement     \u001B[34m \u001B[0m          5.8 \u001B[34m \u001B[0m            1.0 \u001B[34m \u001B[0m          1.0 \u001B[34m \u001B[0m\n",
       "\u001B[34m \u001B[0m benefits                                          \u001B[34m \u001B[0m              \u001B[34m \u001B[0m                \u001B[34m \u001B[0m              \u001B[34m \u001B[0m\n",
       "\u001B[34m \u001B[0m\u001B[38;5;245m \u001B[0m\u001B[38;5;245mCapital expenditures incurred but not yet paid   \u001B[0m\u001B[38;5;245m \u001B[0m\u001B[34m \u001B[0m\u001B[38;5;245m       $ 19.8\u001B[0m\u001B[38;5;245m \u001B[0m\u001B[34m \u001B[0m\u001B[38;5;245m         $ 16.1\u001B[0m\u001B[38;5;245m \u001B[0m\u001B[34m \u001B[0m\u001B[38;5;245m       $ 18.5\u001B[0m\u001B[38;5;245m \u001B[0m\u001B[34m \u001B[0m\n",
       "\u001B[34m                                                                                                    \u001B[0m\n"
      ],
      "text/html": [
       "<pre style=\"white-space:pre;overflow-x:auto;line-height:normal;font-family:Menlo,'DejaVu Sans Mono',consolas,'Courier New',monospace\"><span style=\"color: #000080; text-decoration-color: #000080\">                                                                                                    </span>\n",
       "<span style=\"color: #000080; text-decoration-color: #000080\"> </span><span style=\"font-weight: bold\"> CONSOLIDATED STATEMENTS OF CASH FLOWS - USD ($)$  </span><span style=\"color: #000080; text-decoration-color: #000080\"> </span><span style=\"font-weight: bold\">              </span><span style=\"color: #000080; text-decoration-color: #000080\"> </span><span style=\"font-weight: bold\">12 Months Ended </span><span style=\"color: #000080; text-decoration-color: #000080\"> </span><span style=\"font-weight: bold\">              </span><span style=\"color: #000080; text-decoration-color: #000080\"> </span>\n",
       "<span style=\"color: #000080; text-decoration-color: #000080\"> </span><span style=\"font-weight: bold\"> in Millions                                       </span><span style=\"color: #000080; text-decoration-color: #000080\"> </span><span style=\"font-weight: bold\">Dec. 31, 2024 </span><span style=\"color: #000080; text-decoration-color: #000080\"> </span><span style=\"font-weight: bold\">  Dec. 31, 2023 </span><span style=\"color: #000080; text-decoration-color: #000080\"> </span><span style=\"font-weight: bold\">Dec. 31, 2022 </span><span style=\"color: #000080; text-decoration-color: #000080\"> </span>\n",
       "<span style=\"color: #000080; text-decoration-color: #000080\"> ────────────────────────────────────────────────────────────────────────────────────────────────── </span>\n",
       "<span style=\"color: #000080; text-decoration-color: #000080\"> </span> OPERATING ACTIVITIES                              <span style=\"color: #000080; text-decoration-color: #000080\"> </span>              <span style=\"color: #000080; text-decoration-color: #000080\"> </span>                <span style=\"color: #000080; text-decoration-color: #000080\"> </span>              <span style=\"color: #000080; text-decoration-color: #000080\"> </span>\n",
       "<span style=\"color: #000080; text-decoration-color: #000080\"> </span><span style=\"color: #8a8a8a; text-decoration-color: #8a8a8a\"> Net income                                        </span><span style=\"color: #000080; text-decoration-color: #000080\"> </span><span style=\"color: #8a8a8a; text-decoration-color: #8a8a8a\">    $ 3,388.6 </span><span style=\"color: #000080; text-decoration-color: #000080\"> </span><span style=\"color: #8a8a8a; text-decoration-color: #8a8a8a\">      $ 2,434.7 </span><span style=\"color: #000080; text-decoration-color: #000080\"> </span><span style=\"color: #8a8a8a; text-decoration-color: #8a8a8a\">    $ 2,648.0 </span><span style=\"color: #000080; text-decoration-color: #000080\"> </span>\n",
       "<span style=\"color: #000080; text-decoration-color: #000080\"> </span> Adjustments to reconcile net earnings to net cash <span style=\"color: #000080; text-decoration-color: #000080\"> </span>              <span style=\"color: #000080; text-decoration-color: #000080\"> </span>                <span style=\"color: #000080; text-decoration-color: #000080\"> </span>              <span style=\"color: #000080; text-decoration-color: #000080\"> </span>\n",
       "<span style=\"color: #000080; text-decoration-color: #000080\"> </span> provided from operating activities:               <span style=\"color: #000080; text-decoration-color: #000080\"> </span>              <span style=\"color: #000080; text-decoration-color: #000080\"> </span>                <span style=\"color: #000080; text-decoration-color: #000080\"> </span>              <span style=\"color: #000080; text-decoration-color: #000080\"> </span>\n",
       "<span style=\"color: #000080; text-decoration-color: #000080\"> </span><span style=\"color: #8a8a8a; text-decoration-color: #8a8a8a\"> Depreciation, amortization and depletion          </span><span style=\"color: #000080; text-decoration-color: #000080\"> </span><span style=\"color: #8a8a8a; text-decoration-color: #8a8a8a\">        845.9 </span><span style=\"color: #000080; text-decoration-color: #000080\"> </span><span style=\"color: #8a8a8a; text-decoration-color: #8a8a8a\">          833.6 </span><span style=\"color: #000080; text-decoration-color: #000080\"> </span><span style=\"color: #8a8a8a; text-decoration-color: #8a8a8a\">        796.3 </span><span style=\"color: #000080; text-decoration-color: #000080\"> </span>\n",
       "<span style=\"color: #000080; text-decoration-color: #000080\"> </span> Equity earnings of affiliate, net of dividends    <span style=\"color: #000080; text-decoration-color: #000080\"> </span>         -3.7 <span style=\"color: #000080; text-decoration-color: #000080\"> </span>            2.6 <span style=\"color: #000080; text-decoration-color: #000080\"> </span>          4.6 <span style=\"color: #000080; text-decoration-color: #000080\"> </span>\n",
       "<span style=\"color: #000080; text-decoration-color: #000080\"> </span> received                                          <span style=\"color: #000080; text-decoration-color: #000080\"> </span>              <span style=\"color: #000080; text-decoration-color: #000080\"> </span>                <span style=\"color: #000080; text-decoration-color: #000080\"> </span>              <span style=\"color: #000080; text-decoration-color: #000080\"> </span>\n",
       "<span style=\"color: #000080; text-decoration-color: #000080\"> </span><span style=\"color: #8a8a8a; text-decoration-color: #8a8a8a\"> Loss on foreign currency transaction effect       </span><span style=\"color: #000080; text-decoration-color: #000080\"> </span><span style=\"color: #8a8a8a; text-decoration-color: #8a8a8a\">         13.7 </span><span style=\"color: #000080; text-decoration-color: #000080\"> </span><span style=\"color: #8a8a8a; text-decoration-color: #8a8a8a\">           10.4 </span><span style=\"color: #000080; text-decoration-color: #000080\"> </span><span style=\"color: #8a8a8a; text-decoration-color: #8a8a8a\">         41.9 </span><span style=\"color: #000080; text-decoration-color: #000080\"> </span>\n",
       "<span style=\"color: #000080; text-decoration-color: #000080\"> </span> (Benefit) provision for deferred income taxes     <span style=\"color: #000080; text-decoration-color: #000080\"> </span>        -52.2 <span style=\"color: #000080; text-decoration-color: #000080\"> </span>          -59.1 <span style=\"color: #000080; text-decoration-color: #000080\"> </span>        118.6 <span style=\"color: #000080; text-decoration-color: #000080\"> </span>\n",
       "<span style=\"color: #000080; text-decoration-color: #000080\"> </span><span style=\"color: #8a8a8a; text-decoration-color: #8a8a8a\"> Net charges for asset retirement obligations,     </span><span style=\"color: #000080; text-decoration-color: #000080\"> </span><span style=\"color: #8a8a8a; text-decoration-color: #8a8a8a\">        -24.4 </span><span style=\"color: #000080; text-decoration-color: #000080\"> </span><span style=\"color: #8a8a8a; text-decoration-color: #8a8a8a\">           26.1 </span><span style=\"color: #000080; text-decoration-color: #000080\"> </span><span style=\"color: #8a8a8a; text-decoration-color: #8a8a8a\">         16.4 </span><span style=\"color: #000080; text-decoration-color: #000080\"> </span>\n",
       "<span style=\"color: #000080; text-decoration-color: #000080\"> </span><span style=\"color: #8a8a8a; text-decoration-color: #8a8a8a\"> including accretion                               </span><span style=\"color: #000080; text-decoration-color: #000080\"> </span><span style=\"color: #8a8a8a; text-decoration-color: #8a8a8a\">              </span><span style=\"color: #000080; text-decoration-color: #000080\"> </span><span style=\"color: #8a8a8a; text-decoration-color: #8a8a8a\">                </span><span style=\"color: #000080; text-decoration-color: #000080\"> </span><span style=\"color: #8a8a8a; text-decoration-color: #8a8a8a\">              </span><span style=\"color: #000080; text-decoration-color: #000080\"> </span>\n",
       "<span style=\"color: #000080; text-decoration-color: #000080\"> </span> Other, net                                        <span style=\"color: #000080; text-decoration-color: #000080\"> </span>         15.2 <span style=\"color: #000080; text-decoration-color: #000080\"> </span>           14.8 <span style=\"color: #000080; text-decoration-color: #000080\"> </span>         16.9 <span style=\"color: #000080; text-decoration-color: #000080\"> </span>\n",
       "<span style=\"color: #000080; text-decoration-color: #000080\"> </span><span style=\"color: #8a8a8a; text-decoration-color: #8a8a8a\"> Change in operating assets and liabilities:       </span><span style=\"color: #000080; text-decoration-color: #000080\"> </span><span style=\"color: #8a8a8a; text-decoration-color: #8a8a8a\">              </span><span style=\"color: #000080; text-decoration-color: #000080\"> </span><span style=\"color: #8a8a8a; text-decoration-color: #8a8a8a\">                </span><span style=\"color: #000080; text-decoration-color: #000080\"> </span><span style=\"color: #8a8a8a; text-decoration-color: #8a8a8a\">              </span><span style=\"color: #000080; text-decoration-color: #000080\"> </span>\n",
       "<span style=\"color: #000080; text-decoration-color: #000080\"> </span> (Increase) decrease in accounts receivable trade  <span style=\"color: #000080; text-decoration-color: #000080\"> </span>        -48.5 <span style=\"color: #000080; text-decoration-color: #000080\"> </span>          253.0 <span style=\"color: #000080; text-decoration-color: #000080\"> </span>        -35.4 <span style=\"color: #000080; text-decoration-color: #000080\"> </span>\n",
       "<span style=\"color: #000080; text-decoration-color: #000080\"> </span><span style=\"color: #8a8a8a; text-decoration-color: #8a8a8a\"> Increase in inventories                           </span><span style=\"color: #000080; text-decoration-color: #000080\"> </span><span style=\"color: #8a8a8a; text-decoration-color: #8a8a8a\">        -56.1 </span><span style=\"color: #000080; text-decoration-color: #000080\"> </span><span style=\"color: #8a8a8a; text-decoration-color: #8a8a8a\">          -60.4 </span><span style=\"color: #000080; text-decoration-color: #000080\"> </span><span style=\"color: #8a8a8a; text-decoration-color: #8a8a8a\">         -7.7 </span><span style=\"color: #000080; text-decoration-color: #000080\"> </span>\n",
       "<span style=\"color: #000080; text-decoration-color: #000080\"> </span> Increase (decrease) in accounts payable and       <span style=\"color: #000080; text-decoration-color: #000080\"> </span>        385.7 <span style=\"color: #000080; text-decoration-color: #000080\"> </span>          152.1 <span style=\"color: #000080; text-decoration-color: #000080\"> </span>       -718.0 <span style=\"color: #000080; text-decoration-color: #000080\"> </span>\n",
       "<span style=\"color: #000080; text-decoration-color: #000080\"> </span> accrued liabilities                               <span style=\"color: #000080; text-decoration-color: #000080\"> </span>              <span style=\"color: #000080; text-decoration-color: #000080\"> </span>                <span style=\"color: #000080; text-decoration-color: #000080\"> </span>              <span style=\"color: #000080; text-decoration-color: #000080\"> </span>\n",
       "<span style=\"color: #000080; text-decoration-color: #000080\"> </span><span style=\"color: #8a8a8a; text-decoration-color: #8a8a8a\"> Decrease (increase) in other operating assets and </span><span style=\"color: #000080; text-decoration-color: #000080\"> </span><span style=\"color: #8a8a8a; text-decoration-color: #8a8a8a\">        -42.4 </span><span style=\"color: #000080; text-decoration-color: #000080\"> </span><span style=\"color: #8a8a8a; text-decoration-color: #8a8a8a\">          -34.7 </span><span style=\"color: #000080; text-decoration-color: #000080\"> </span><span style=\"color: #8a8a8a; text-decoration-color: #8a8a8a\">        -79.1 </span><span style=\"color: #000080; text-decoration-color: #000080\"> </span>\n",
       "<span style=\"color: #000080; text-decoration-color: #000080\"> </span><span style=\"color: #8a8a8a; text-decoration-color: #8a8a8a\"> liabilities                                       </span><span style=\"color: #000080; text-decoration-color: #000080\"> </span><span style=\"color: #8a8a8a; text-decoration-color: #8a8a8a\">              </span><span style=\"color: #000080; text-decoration-color: #000080\"> </span><span style=\"color: #8a8a8a; text-decoration-color: #8a8a8a\">                </span><span style=\"color: #000080; text-decoration-color: #000080\"> </span><span style=\"color: #8a8a8a; text-decoration-color: #8a8a8a\">              </span><span style=\"color: #000080; text-decoration-color: #000080\"> </span>\n",
       "<span style=\"color: #000080; text-decoration-color: #000080\"> </span> Net cash provided by operating activities         <span style=\"color: #000080; text-decoration-color: #000080\"> </span>      4,421.7 <span style=\"color: #000080; text-decoration-color: #000080\"> </span>        3,573.1 <span style=\"color: #000080; text-decoration-color: #000080\"> </span>      2,802.5 <span style=\"color: #000080; text-decoration-color: #000080\"> </span>\n",
       "<span style=\"color: #000080; text-decoration-color: #000080\"> </span><span style=\"color: #8a8a8a; text-decoration-color: #8a8a8a\"> INVESTING ACTIVITIES                              </span><span style=\"color: #000080; text-decoration-color: #000080\"> </span><span style=\"color: #8a8a8a; text-decoration-color: #8a8a8a\">              </span><span style=\"color: #000080; text-decoration-color: #000080\"> </span><span style=\"color: #8a8a8a; text-decoration-color: #8a8a8a\">                </span><span style=\"color: #000080; text-decoration-color: #000080\"> </span><span style=\"color: #8a8a8a; text-decoration-color: #8a8a8a\">              </span><span style=\"color: #000080; text-decoration-color: #000080\"> </span>\n",
       "<span style=\"color: #000080; text-decoration-color: #000080\"> </span> Capital expenditures                              <span style=\"color: #000080; text-decoration-color: #000080\"> </span>     -1,027.3 <span style=\"color: #000080; text-decoration-color: #000080\"> </span>       -1,008.6 <span style=\"color: #000080; text-decoration-color: #000080\"> </span>       -948.5 <span style=\"color: #000080; text-decoration-color: #000080\"> </span>\n",
       "<span style=\"color: #000080; text-decoration-color: #000080\"> </span><span style=\"color: #8a8a8a; text-decoration-color: #8a8a8a\"> Purchase of short-term investments                </span><span style=\"color: #000080; text-decoration-color: #000080\"> </span><span style=\"color: #8a8a8a; text-decoration-color: #8a8a8a\">       -611.8 </span><span style=\"color: #000080; text-decoration-color: #000080\"> </span><span style=\"color: #8a8a8a; text-decoration-color: #8a8a8a\">         -808.7 </span><span style=\"color: #000080; text-decoration-color: #000080\"> </span><span style=\"color: #8a8a8a; text-decoration-color: #8a8a8a\">       -486.2 </span><span style=\"color: #000080; text-decoration-color: #000080\"> </span>\n",
       "<span style=\"color: #000080; text-decoration-color: #000080\"> </span> Proceeds on sale of short-term investments        <span style=\"color: #000080; text-decoration-color: #000080\"> </span>        965.8 <span style=\"color: #000080; text-decoration-color: #000080\"> </span>          417.7 <span style=\"color: #000080; text-decoration-color: #000080\"> </span>        764.7 <span style=\"color: #000080; text-decoration-color: #000080\"> </span>\n",
       "<span style=\"color: #000080; text-decoration-color: #000080\"> </span><span style=\"color: #8a8a8a; text-decoration-color: #8a8a8a\"> Other, net                                        </span><span style=\"color: #000080; text-decoration-color: #000080\"> </span><span style=\"color: #8a8a8a; text-decoration-color: #8a8a8a\">              </span><span style=\"color: #000080; text-decoration-color: #000080\"> </span><span style=\"color: #8a8a8a; text-decoration-color: #8a8a8a\">            1.2 </span><span style=\"color: #000080; text-decoration-color: #000080\"> </span><span style=\"color: #8a8a8a; text-decoration-color: #8a8a8a\">          3.2 </span><span style=\"color: #000080; text-decoration-color: #000080\"> </span>\n",
       "<span style=\"color: #000080; text-decoration-color: #000080\"> </span> Net cash used in investing activities             <span style=\"color: #000080; text-decoration-color: #000080\"> </span>       -673.3 <span style=\"color: #000080; text-decoration-color: #000080\"> </span>       -1,398.4 <span style=\"color: #000080; text-decoration-color: #000080\"> </span>       -666.8 <span style=\"color: #000080; text-decoration-color: #000080\"> </span>\n",
       "<span style=\"color: #000080; text-decoration-color: #000080\"> </span><span style=\"color: #8a8a8a; text-decoration-color: #8a8a8a\"> FINANCING ACTIVITIES                              </span><span style=\"color: #000080; text-decoration-color: #000080\"> </span><span style=\"color: #8a8a8a; text-decoration-color: #8a8a8a\">              </span><span style=\"color: #000080; text-decoration-color: #000080\"> </span><span style=\"color: #8a8a8a; text-decoration-color: #8a8a8a\">                </span><span style=\"color: #000080; text-decoration-color: #000080\"> </span><span style=\"color: #8a8a8a; text-decoration-color: #8a8a8a\">              </span><span style=\"color: #000080; text-decoration-color: #000080\"> </span>\n",
       "<span style=\"color: #000080; text-decoration-color: #000080\"> </span> Repayments of debt                                <span style=\"color: #000080; text-decoration-color: #000080\"> </span>              <span style=\"color: #000080; text-decoration-color: #000080\"> </span>                <span style=\"color: #000080; text-decoration-color: #000080\"> </span>       -300.0 <span style=\"color: #000080; text-decoration-color: #000080\"> </span>\n",
       "<span style=\"color: #000080; text-decoration-color: #000080\"> </span><span style=\"color: #8a8a8a; text-decoration-color: #8a8a8a\"> Cash dividends paid to common stockholders        </span><span style=\"color: #000080; text-decoration-color: #000080\"> </span><span style=\"color: #8a8a8a; text-decoration-color: #8a8a8a\">     -1,637.2 </span><span style=\"color: #000080; text-decoration-color: #000080\"> </span><span style=\"color: #8a8a8a; text-decoration-color: #8a8a8a\">       -3,092.4 </span><span style=\"color: #000080; text-decoration-color: #000080\"> </span><span style=\"color: #8a8a8a; text-decoration-color: #8a8a8a\">     -2,705.8 </span><span style=\"color: #000080; text-decoration-color: #000080\"> </span>\n",
       "<span style=\"color: #000080; text-decoration-color: #000080\"> </span> Distributions to non-controlling interest         <span style=\"color: #000080; text-decoration-color: #000080\"> </span>         -8.3 <span style=\"color: #000080; text-decoration-color: #000080\"> </span>           -9.1 <span style=\"color: #000080; text-decoration-color: #000080\"> </span>         -5.5 <span style=\"color: #000080; text-decoration-color: #000080\"> </span>\n",
       "<span style=\"color: #000080; text-decoration-color: #000080\"> </span><span style=\"color: #8a8a8a; text-decoration-color: #8a8a8a\"> Other, net                                        </span><span style=\"color: #000080; text-decoration-color: #000080\"> </span><span style=\"color: #8a8a8a; text-decoration-color: #8a8a8a\">          0.4 </span><span style=\"color: #000080; text-decoration-color: #000080\"> </span><span style=\"color: #8a8a8a; text-decoration-color: #8a8a8a\">            0.3 </span><span style=\"color: #000080; text-decoration-color: #000080\"> </span><span style=\"color: #8a8a8a; text-decoration-color: #8a8a8a\">          0.3 </span><span style=\"color: #000080; text-decoration-color: #000080\"> </span>\n",
       "<span style=\"color: #000080; text-decoration-color: #000080\"> </span> Net cash used in financing activities             <span style=\"color: #000080; text-decoration-color: #000080\"> </span>     -1,645.2 <span style=\"color: #000080; text-decoration-color: #000080\"> </span>       -3,101.2 <span style=\"color: #000080; text-decoration-color: #000080\"> </span>     -3,011.0 <span style=\"color: #000080; text-decoration-color: #000080\"> </span>\n",
       "<span style=\"color: #000080; text-decoration-color: #000080\"> </span><span style=\"color: #8a8a8a; text-decoration-color: #8a8a8a\"> Effect of exchange rate changes on cash and cash  </span><span style=\"color: #000080; text-decoration-color: #000080\"> </span><span style=\"color: #8a8a8a; text-decoration-color: #8a8a8a\">          3.4 </span><span style=\"color: #000080; text-decoration-color: #000080\"> </span><span style=\"color: #8a8a8a; text-decoration-color: #8a8a8a\">            8.3 </span><span style=\"color: #000080; text-decoration-color: #000080\"> </span><span style=\"color: #8a8a8a; text-decoration-color: #8a8a8a\">        -57.0 </span><span style=\"color: #000080; text-decoration-color: #000080\"> </span>\n",
       "<span style=\"color: #000080; text-decoration-color: #000080\"> </span><span style=\"color: #8a8a8a; text-decoration-color: #8a8a8a\"> equivalents                                       </span><span style=\"color: #000080; text-decoration-color: #000080\"> </span><span style=\"color: #8a8a8a; text-decoration-color: #8a8a8a\">              </span><span style=\"color: #000080; text-decoration-color: #000080\"> </span><span style=\"color: #8a8a8a; text-decoration-color: #8a8a8a\">                </span><span style=\"color: #000080; text-decoration-color: #000080\"> </span><span style=\"color: #8a8a8a; text-decoration-color: #8a8a8a\">              </span><span style=\"color: #000080; text-decoration-color: #000080\"> </span>\n",
       "<span style=\"color: #000080; text-decoration-color: #000080\"> </span> Increase (decrease) in cash and cash equivalents  <span style=\"color: #000080; text-decoration-color: #000080\"> </span>      2,106.6 <span style=\"color: #000080; text-decoration-color: #000080\"> </span>         -918.2 <span style=\"color: #000080; text-decoration-color: #000080\"> </span>       -932.3 <span style=\"color: #000080; text-decoration-color: #000080\"> </span>\n",
       "<span style=\"color: #000080; text-decoration-color: #000080\"> </span><span style=\"color: #8a8a8a; text-decoration-color: #8a8a8a\"> Cash and cash equivalents, at beginning of year   </span><span style=\"color: #000080; text-decoration-color: #000080\"> </span><span style=\"color: #8a8a8a; text-decoration-color: #8a8a8a\">      1,151.5 </span><span style=\"color: #000080; text-decoration-color: #000080\"> </span><span style=\"color: #8a8a8a; text-decoration-color: #8a8a8a\">        2,069.7 </span><span style=\"color: #000080; text-decoration-color: #000080\"> </span><span style=\"color: #8a8a8a; text-decoration-color: #8a8a8a\">      3,002.0 </span><span style=\"color: #000080; text-decoration-color: #000080\"> </span>\n",
       "<span style=\"color: #000080; text-decoration-color: #000080\"> </span> Cash and cash equivalents, at end of year         <span style=\"color: #000080; text-decoration-color: #000080\"> </span>      3,258.1 <span style=\"color: #000080; text-decoration-color: #000080\"> </span>        1,151.5 <span style=\"color: #000080; text-decoration-color: #000080\"> </span>      2,069.7 <span style=\"color: #000080; text-decoration-color: #000080\"> </span>\n",
       "<span style=\"color: #000080; text-decoration-color: #000080\"> </span><span style=\"color: #8a8a8a; text-decoration-color: #8a8a8a\"> Cash paid during the year for:                    </span><span style=\"color: #000080; text-decoration-color: #000080\"> </span><span style=\"color: #8a8a8a; text-decoration-color: #8a8a8a\">              </span><span style=\"color: #000080; text-decoration-color: #000080\"> </span><span style=\"color: #8a8a8a; text-decoration-color: #8a8a8a\">                </span><span style=\"color: #000080; text-decoration-color: #000080\"> </span><span style=\"color: #8a8a8a; text-decoration-color: #8a8a8a\">              </span><span style=\"color: #000080; text-decoration-color: #000080\"> </span>\n",
       "<span style=\"color: #000080; text-decoration-color: #000080\"> </span> Interest                                          <span style=\"color: #000080; text-decoration-color: #000080\"> </span>        369.7 <span style=\"color: #000080; text-decoration-color: #000080\"> </span>          369.7 <span style=\"color: #000080; text-decoration-color: #000080\"> </span>        380.2 <span style=\"color: #000080; text-decoration-color: #000080\"> </span>\n",
       "<span style=\"color: #000080; text-decoration-color: #000080\"> </span><span style=\"color: #8a8a8a; text-decoration-color: #8a8a8a\"> Income taxes                                      </span><span style=\"color: #000080; text-decoration-color: #000080\"> </span><span style=\"color: #8a8a8a; text-decoration-color: #8a8a8a\">      1,590.8 </span><span style=\"color: #000080; text-decoration-color: #000080\"> </span><span style=\"color: #8a8a8a; text-decoration-color: #8a8a8a\">        1,434.0 </span><span style=\"color: #000080; text-decoration-color: #000080\"> </span><span style=\"color: #8a8a8a; text-decoration-color: #8a8a8a\">      2,391.5 </span><span style=\"color: #000080; text-decoration-color: #000080\"> </span>\n",
       "<span style=\"color: #000080; text-decoration-color: #000080\"> </span> Workers' participation                            <span style=\"color: #000080; text-decoration-color: #000080\"> </span>        262.2 <span style=\"color: #000080; text-decoration-color: #000080\"> </span>          258.2 <span style=\"color: #000080; text-decoration-color: #000080\"> </span>        450.6 <span style=\"color: #000080; text-decoration-color: #000080\"> </span>\n",
       "<span style=\"color: #000080; text-decoration-color: #000080\"> </span><span style=\"color: #8a8a8a; text-decoration-color: #8a8a8a\"> Supplemental schedule of non-cash operating,      </span><span style=\"color: #000080; text-decoration-color: #000080\"> </span><span style=\"color: #8a8a8a; text-decoration-color: #8a8a8a\">              </span><span style=\"color: #000080; text-decoration-color: #000080\"> </span><span style=\"color: #8a8a8a; text-decoration-color: #8a8a8a\">                </span><span style=\"color: #000080; text-decoration-color: #000080\"> </span><span style=\"color: #8a8a8a; text-decoration-color: #8a8a8a\">              </span><span style=\"color: #000080; text-decoration-color: #000080\"> </span>\n",
       "<span style=\"color: #000080; text-decoration-color: #000080\"> </span><span style=\"color: #8a8a8a; text-decoration-color: #8a8a8a\"> investing and financing activities:               </span><span style=\"color: #000080; text-decoration-color: #000080\"> </span><span style=\"color: #8a8a8a; text-decoration-color: #8a8a8a\">              </span><span style=\"color: #000080; text-decoration-color: #000080\"> </span><span style=\"color: #8a8a8a; text-decoration-color: #8a8a8a\">                </span><span style=\"color: #000080; text-decoration-color: #000080\"> </span><span style=\"color: #8a8a8a; text-decoration-color: #8a8a8a\">              </span><span style=\"color: #000080; text-decoration-color: #000080\"> </span>\n",
       "<span style=\"color: #000080; text-decoration-color: #000080\"> </span><span style=\"color: #8a8a8a; text-decoration-color: #8a8a8a\">                                                   </span><span style=\"color: #000080; text-decoration-color: #000080\"> </span><span style=\"color: #8a8a8a; text-decoration-color: #8a8a8a\">              </span><span style=\"color: #000080; text-decoration-color: #000080\"> </span><span style=\"color: #8a8a8a; text-decoration-color: #8a8a8a\">                </span><span style=\"color: #000080; text-decoration-color: #000080\"> </span><span style=\"color: #8a8a8a; text-decoration-color: #8a8a8a\">              </span><span style=\"color: #000080; text-decoration-color: #000080\"> </span>\n",
       "<span style=\"color: #000080; text-decoration-color: #000080\"> </span> Decrease in pension and other post-retirement     <span style=\"color: #000080; text-decoration-color: #000080\"> </span>          5.8 <span style=\"color: #000080; text-decoration-color: #000080\"> </span>            1.0 <span style=\"color: #000080; text-decoration-color: #000080\"> </span>          1.0 <span style=\"color: #000080; text-decoration-color: #000080\"> </span>\n",
       "<span style=\"color: #000080; text-decoration-color: #000080\"> </span> benefits                                          <span style=\"color: #000080; text-decoration-color: #000080\"> </span>              <span style=\"color: #000080; text-decoration-color: #000080\"> </span>                <span style=\"color: #000080; text-decoration-color: #000080\"> </span>              <span style=\"color: #000080; text-decoration-color: #000080\"> </span>\n",
       "<span style=\"color: #000080; text-decoration-color: #000080\"> </span><span style=\"color: #8a8a8a; text-decoration-color: #8a8a8a\"> Capital expenditures incurred but not yet paid    </span><span style=\"color: #000080; text-decoration-color: #000080\"> </span><span style=\"color: #8a8a8a; text-decoration-color: #8a8a8a\">       $ 19.8 </span><span style=\"color: #000080; text-decoration-color: #000080\"> </span><span style=\"color: #8a8a8a; text-decoration-color: #8a8a8a\">         $ 16.1 </span><span style=\"color: #000080; text-decoration-color: #000080\"> </span><span style=\"color: #8a8a8a; text-decoration-color: #8a8a8a\">       $ 18.5 </span><span style=\"color: #000080; text-decoration-color: #000080\"> </span>\n",
       "<span style=\"color: #000080; text-decoration-color: #000080\">                                                                                                    </span>\n",
       "</pre>\n"
      ]
     },
     "metadata": {},
     "output_type": "display_data"
    }
   ],
   "execution_count": 11
  },
  {
   "metadata": {},
   "cell_type": "markdown",
   "source": "## SCCO",
   "id": "36edcb5451088d58"
  },
  {
   "metadata": {
    "ExecuteTime": {
     "end_time": "2025-03-19T19:01:32.392388Z",
     "start_time": "2025-03-19T19:01:25.942665Z"
    }
   },
   "cell_type": "code",
   "source": [
    "c = Company(\"SCCO\")\n",
    "filing = c.latest(\"10-K\")\n",
    "xbrl = XBRL.from_filing(filing)\n",
    "statement = xbrl.statements.cash_flow_statement()"
   ],
   "id": "ac8cf0eaeaf0f596",
   "outputs": [],
   "execution_count": 8
  },
  {
   "metadata": {
    "ExecuteTime": {
     "end_time": "2025-03-19T19:01:33.990087Z",
     "start_time": "2025-03-19T19:01:33.929392Z"
    }
   },
   "cell_type": "code",
   "source": "statement",
   "id": "5ced2ca1018ab8c1",
   "outputs": [
    {
     "data": {
      "text/plain": [],
      "text/html": [
       "<pre style=\"white-space:pre;overflow-x:auto;line-height:normal;font-family:Menlo,'DejaVu Sans Mono',consolas,'Courier New',monospace\"></pre>\n"
      ]
     },
     "metadata": {},
     "output_type": "display_data"
    },
    {
     "data": {
      "text/plain": [
       "\u001B[3m                             StatementConsolidatedStatementsOfCashFlows (Standardized)                             \u001B[0m\n",
       "\u001B[3m                                 \u001B[0m\u001B[1;3mYear Ended\u001B[0m\u001B[3m \u001B[0m\u001B[3m(In thousands, except per share data)\u001B[0m\u001B[3m                                  \u001B[0m\n",
       "                                                                                                                   \n",
       " \u001B[1m \u001B[0m\u001B[1mLine Item                                                         \u001B[0m\u001B[1m \u001B[0m \u001B[1m \u001B[0m\u001B[1mDec 31, 2024\u001B[0m\u001B[1m \u001B[0m \u001B[1m \u001B[0m\u001B[1mDec 31, 2023\u001B[0m\u001B[1m \u001B[0m \u001B[1m \u001B[0m\u001B[1mDec 31, 2022\u001B[0m\u001B[1m \u001B[0m \n",
       " ───────────────────────────────────────────────────────────────────────────────────────────────────────────────── \n",
       "  CONSOLIDATED STATEMENTS OF CASH FLOWS                                                                            \n",
       "    OPERATING ACTIVITIES                                                                                           \n",
       "      Net Income                                                         $3,388,600     $2,434,700     $2,648,000  \n",
       "      Adjustments to reconcile net earnings to net cash provided                                                   \n",
       "  from operating activities:                                                                                       \n",
       "        Depreciation, amortization and depletion                           $845,900       $833,600       $796,300  \n",
       "        Equity earnings of affiliate, net of dividends received            $(3,700)         $2,600         $4,600  \n",
       "        Loss on foreign currency transaction effect                         $13,700        $10,400        $41,900  \n",
       "        (Benefit) provision for deferred income taxes                     $(52,200)      $(59,100)       $118,600  \n",
       "        Net charges for asset retirement obligations, including           $(24,400)        $26,100        $16,400  \n",
       "  accretion                                                                                                        \n",
       "        Other, net                                                          $15,200        $14,800        $16,900  \n",
       "      Change in operating assets and liabilities:                                                                  \n",
       "        (Increase) decrease in accounts receivable trade                  $(48,500)       $253,000      $(35,400)  \n",
       "        Increase in inventories                                           $(56,100)      $(60,400)       $(7,700)  \n",
       "        Increase (decrease) in accounts payable and accrued                $385,700       $152,100     $(718,000)  \n",
       "  liabilities                                                                                                      \n",
       "        Decrease (increase) in other operating assets and                 $(42,400)      $(34,700)      $(79,100)  \n",
       "  liabilities                                                                                                      \n",
       "      Net Cash from Operating Activities                                 $4,421,700     $3,573,100     $2,802,500  \n",
       "    INVESTING ACTIVITIES                                                                                           \n",
       "      Payments for Property, Plant and Equipment                       $(1,027,300)   $(1,008,600)     $(948,500)  \n",
       "      Purchase of short-term investments                                 $(611,800)     $(808,700)     $(486,200)  \n",
       "      Proceeds on sale of short-term investments                           $965,800       $417,700       $764,700  \n",
       "      Other, net                                                                            $1,200         $3,200  \n",
       "      Net Cash from Investing Activities                                 $(673,300)   $(1,398,400)     $(666,800)  \n",
       "    FINANCING ACTIVITIES                                                                                           \n",
       "      Repayments of debt                                                                               $(300,000)  \n",
       "      Cash dividends paid to common stockholders                       $(1,637,200)   $(3,092,400)   $(2,705,800)  \n",
       "      Distributions to non-controlling interest                            $(8,300)       $(9,100)       $(5,500)  \n",
       "      Other, net                                                               $400           $300           $300  \n",
       "      Net Cash from Financing Activities                               $(1,645,200)   $(3,101,200)   $(3,011,000)  \n",
       "    Effect of exchange rate changes on cash and cash equivalents             $3,400         $8,300      $(57,000)  \n",
       "    Net Change in Cash                                                   $2,106,600     $(918,200)     $(932,300)  \n",
       "    Cash and cash equivalents, at end of year                                                                      \n",
       "    Cash and cash equivalents, at end of year                                                                      \n",
       "    Supplemental disclosure of cash flow information:                                                              \n",
       "  \u001B[1m  Cash paid during the year for:\u001B[0m                                                                                 \n",
       "        Interest                                                           $369,700       $369,700       $380,200  \n",
       "        Income Tax Expense                                               $1,590,800     $1,434,000     $2,391,500  \n",
       "        Workers' participation                                             $262,200       $258,200       $450,600  \n",
       "      Supplemental schedule of non-cash operating, investing and                                                   \n",
       "  financing activities:                                                                                            \n",
       "        Decrease in pension and other post-retirement benefits               $5,800         $1,000         $1,000  \n",
       "        Capital expenditures incurred but not yet paid                      $19,800        $16,100        $18,500  \n",
       "                                                                                                                   "
      ]
     },
     "execution_count": 9,
     "metadata": {},
     "output_type": "execute_result"
    }
   ],
   "execution_count": 9
  },
  {
   "metadata": {
    "ExecuteTime": {
     "end_time": "2025-03-19T19:01:41.281619Z",
     "start_time": "2025-03-19T19:01:41.236643Z"
    }
   },
   "cell_type": "code",
   "source": "filing.statements.cash_flow_statement.view()",
   "id": "bba6421c826217a6",
   "outputs": [
    {
     "data": {
      "text/plain": [
       "\u001B[34m                                                                                                    \u001B[0m\n",
       "\u001B[34m \u001B[0m\u001B[1m \u001B[0m\u001B[1mCONSOLIDATED STATEMENTS OF CASH FLOWS - USD ($)$ \u001B[0m\u001B[1m \u001B[0m\u001B[34m \u001B[0m\u001B[1m              \u001B[0m\u001B[34m \u001B[0m\u001B[1m12 Months Ended\u001B[0m\u001B[1m \u001B[0m\u001B[34m \u001B[0m\u001B[1m              \u001B[0m\u001B[34m \u001B[0m\n",
       "\u001B[34m \u001B[0m\u001B[1m \u001B[0m\u001B[1min Millions                                      \u001B[0m\u001B[1m \u001B[0m\u001B[34m \u001B[0m\u001B[1mDec. 31, 2024\u001B[0m\u001B[1m \u001B[0m\u001B[34m \u001B[0m\u001B[1m  Dec. 31, 2023\u001B[0m\u001B[1m \u001B[0m\u001B[34m \u001B[0m\u001B[1mDec. 31, 2022\u001B[0m\u001B[1m \u001B[0m\u001B[34m \u001B[0m\n",
       "\u001B[34m ────────────────────────────────────────────────────────────────────────────────────────────────── \u001B[0m\n",
       "\u001B[34m \u001B[0m OPERATING ACTIVITIES                              \u001B[34m \u001B[0m              \u001B[34m \u001B[0m                \u001B[34m \u001B[0m              \u001B[34m \u001B[0m\n",
       "\u001B[34m \u001B[0m\u001B[38;5;245m \u001B[0m\u001B[38;5;245mNet income                                       \u001B[0m\u001B[38;5;245m \u001B[0m\u001B[34m \u001B[0m\u001B[38;5;245m    $ 3,388.6\u001B[0m\u001B[38;5;245m \u001B[0m\u001B[34m \u001B[0m\u001B[38;5;245m      $ 2,434.7\u001B[0m\u001B[38;5;245m \u001B[0m\u001B[34m \u001B[0m\u001B[38;5;245m    $ 2,648.0\u001B[0m\u001B[38;5;245m \u001B[0m\u001B[34m \u001B[0m\n",
       "\u001B[34m \u001B[0m Adjustments to reconcile net earnings to net cash \u001B[34m \u001B[0m              \u001B[34m \u001B[0m                \u001B[34m \u001B[0m              \u001B[34m \u001B[0m\n",
       "\u001B[34m \u001B[0m provided from operating activities:               \u001B[34m \u001B[0m              \u001B[34m \u001B[0m                \u001B[34m \u001B[0m              \u001B[34m \u001B[0m\n",
       "\u001B[34m \u001B[0m\u001B[38;5;245m \u001B[0m\u001B[38;5;245mDepreciation, amortization and depletion         \u001B[0m\u001B[38;5;245m \u001B[0m\u001B[34m \u001B[0m\u001B[38;5;245m        845.9\u001B[0m\u001B[38;5;245m \u001B[0m\u001B[34m \u001B[0m\u001B[38;5;245m          833.6\u001B[0m\u001B[38;5;245m \u001B[0m\u001B[34m \u001B[0m\u001B[38;5;245m        796.3\u001B[0m\u001B[38;5;245m \u001B[0m\u001B[34m \u001B[0m\n",
       "\u001B[34m \u001B[0m Equity earnings of affiliate, net of dividends    \u001B[34m \u001B[0m         -3.7 \u001B[34m \u001B[0m            2.6 \u001B[34m \u001B[0m          4.6 \u001B[34m \u001B[0m\n",
       "\u001B[34m \u001B[0m received                                          \u001B[34m \u001B[0m              \u001B[34m \u001B[0m                \u001B[34m \u001B[0m              \u001B[34m \u001B[0m\n",
       "\u001B[34m \u001B[0m\u001B[38;5;245m \u001B[0m\u001B[38;5;245mLoss on foreign currency transaction effect      \u001B[0m\u001B[38;5;245m \u001B[0m\u001B[34m \u001B[0m\u001B[38;5;245m         13.7\u001B[0m\u001B[38;5;245m \u001B[0m\u001B[34m \u001B[0m\u001B[38;5;245m           10.4\u001B[0m\u001B[38;5;245m \u001B[0m\u001B[34m \u001B[0m\u001B[38;5;245m         41.9\u001B[0m\u001B[38;5;245m \u001B[0m\u001B[34m \u001B[0m\n",
       "\u001B[34m \u001B[0m (Benefit) provision for deferred income taxes     \u001B[34m \u001B[0m        -52.2 \u001B[34m \u001B[0m          -59.1 \u001B[34m \u001B[0m        118.6 \u001B[34m \u001B[0m\n",
       "\u001B[34m \u001B[0m\u001B[38;5;245m \u001B[0m\u001B[38;5;245mNet charges for asset retirement obligations,    \u001B[0m\u001B[38;5;245m \u001B[0m\u001B[34m \u001B[0m\u001B[38;5;245m        -24.4\u001B[0m\u001B[38;5;245m \u001B[0m\u001B[34m \u001B[0m\u001B[38;5;245m           26.1\u001B[0m\u001B[38;5;245m \u001B[0m\u001B[34m \u001B[0m\u001B[38;5;245m         16.4\u001B[0m\u001B[38;5;245m \u001B[0m\u001B[34m \u001B[0m\n",
       "\u001B[34m \u001B[0m\u001B[38;5;245m \u001B[0m\u001B[38;5;245mincluding accretion                              \u001B[0m\u001B[38;5;245m \u001B[0m\u001B[34m \u001B[0m\u001B[38;5;245m              \u001B[0m\u001B[34m \u001B[0m\u001B[38;5;245m                \u001B[0m\u001B[34m \u001B[0m\u001B[38;5;245m              \u001B[0m\u001B[34m \u001B[0m\n",
       "\u001B[34m \u001B[0m Other, net                                        \u001B[34m \u001B[0m         15.2 \u001B[34m \u001B[0m           14.8 \u001B[34m \u001B[0m         16.9 \u001B[34m \u001B[0m\n",
       "\u001B[34m \u001B[0m\u001B[38;5;245m \u001B[0m\u001B[38;5;245mChange in operating assets and liabilities:      \u001B[0m\u001B[38;5;245m \u001B[0m\u001B[34m \u001B[0m\u001B[38;5;245m             \u001B[0m\u001B[38;5;245m \u001B[0m\u001B[34m \u001B[0m\u001B[38;5;245m               \u001B[0m\u001B[38;5;245m \u001B[0m\u001B[34m \u001B[0m\u001B[38;5;245m             \u001B[0m\u001B[38;5;245m \u001B[0m\u001B[34m \u001B[0m\n",
       "\u001B[34m \u001B[0m (Increase) decrease in accounts receivable trade  \u001B[34m \u001B[0m        -48.5 \u001B[34m \u001B[0m          253.0 \u001B[34m \u001B[0m        -35.4 \u001B[34m \u001B[0m\n",
       "\u001B[34m \u001B[0m\u001B[38;5;245m \u001B[0m\u001B[38;5;245mIncrease in inventories                          \u001B[0m\u001B[38;5;245m \u001B[0m\u001B[34m \u001B[0m\u001B[38;5;245m        -56.1\u001B[0m\u001B[38;5;245m \u001B[0m\u001B[34m \u001B[0m\u001B[38;5;245m          -60.4\u001B[0m\u001B[38;5;245m \u001B[0m\u001B[34m \u001B[0m\u001B[38;5;245m         -7.7\u001B[0m\u001B[38;5;245m \u001B[0m\u001B[34m \u001B[0m\n",
       "\u001B[34m \u001B[0m Increase (decrease) in accounts payable and       \u001B[34m \u001B[0m        385.7 \u001B[34m \u001B[0m          152.1 \u001B[34m \u001B[0m       -718.0 \u001B[34m \u001B[0m\n",
       "\u001B[34m \u001B[0m accrued liabilities                               \u001B[34m \u001B[0m              \u001B[34m \u001B[0m                \u001B[34m \u001B[0m              \u001B[34m \u001B[0m\n",
       "\u001B[34m \u001B[0m\u001B[38;5;245m \u001B[0m\u001B[38;5;245mDecrease (increase) in other operating assets and\u001B[0m\u001B[38;5;245m \u001B[0m\u001B[34m \u001B[0m\u001B[38;5;245m        -42.4\u001B[0m\u001B[38;5;245m \u001B[0m\u001B[34m \u001B[0m\u001B[38;5;245m          -34.7\u001B[0m\u001B[38;5;245m \u001B[0m\u001B[34m \u001B[0m\u001B[38;5;245m        -79.1\u001B[0m\u001B[38;5;245m \u001B[0m\u001B[34m \u001B[0m\n",
       "\u001B[34m \u001B[0m\u001B[38;5;245m \u001B[0m\u001B[38;5;245mliabilities                                      \u001B[0m\u001B[38;5;245m \u001B[0m\u001B[34m \u001B[0m\u001B[38;5;245m              \u001B[0m\u001B[34m \u001B[0m\u001B[38;5;245m                \u001B[0m\u001B[34m \u001B[0m\u001B[38;5;245m              \u001B[0m\u001B[34m \u001B[0m\n",
       "\u001B[34m \u001B[0m Net cash provided by operating activities         \u001B[34m \u001B[0m      4,421.7 \u001B[34m \u001B[0m        3,573.1 \u001B[34m \u001B[0m      2,802.5 \u001B[34m \u001B[0m\n",
       "\u001B[34m \u001B[0m\u001B[38;5;245m \u001B[0m\u001B[38;5;245mINVESTING ACTIVITIES                             \u001B[0m\u001B[38;5;245m \u001B[0m\u001B[34m \u001B[0m\u001B[38;5;245m             \u001B[0m\u001B[38;5;245m \u001B[0m\u001B[34m \u001B[0m\u001B[38;5;245m               \u001B[0m\u001B[38;5;245m \u001B[0m\u001B[34m \u001B[0m\u001B[38;5;245m             \u001B[0m\u001B[38;5;245m \u001B[0m\u001B[34m \u001B[0m\n",
       "\u001B[34m \u001B[0m Capital expenditures                              \u001B[34m \u001B[0m     -1,027.3 \u001B[34m \u001B[0m       -1,008.6 \u001B[34m \u001B[0m       -948.5 \u001B[34m \u001B[0m\n",
       "\u001B[34m \u001B[0m\u001B[38;5;245m \u001B[0m\u001B[38;5;245mPurchase of short-term investments               \u001B[0m\u001B[38;5;245m \u001B[0m\u001B[34m \u001B[0m\u001B[38;5;245m       -611.8\u001B[0m\u001B[38;5;245m \u001B[0m\u001B[34m \u001B[0m\u001B[38;5;245m         -808.7\u001B[0m\u001B[38;5;245m \u001B[0m\u001B[34m \u001B[0m\u001B[38;5;245m       -486.2\u001B[0m\u001B[38;5;245m \u001B[0m\u001B[34m \u001B[0m\n",
       "\u001B[34m \u001B[0m Proceeds on sale of short-term investments        \u001B[34m \u001B[0m        965.8 \u001B[34m \u001B[0m          417.7 \u001B[34m \u001B[0m        764.7 \u001B[34m \u001B[0m\n",
       "\u001B[34m \u001B[0m\u001B[38;5;245m \u001B[0m\u001B[38;5;245mOther, net                                       \u001B[0m\u001B[38;5;245m \u001B[0m\u001B[34m \u001B[0m\u001B[38;5;245m             \u001B[0m\u001B[38;5;245m \u001B[0m\u001B[34m \u001B[0m\u001B[38;5;245m            1.2\u001B[0m\u001B[38;5;245m \u001B[0m\u001B[34m \u001B[0m\u001B[38;5;245m          3.2\u001B[0m\u001B[38;5;245m \u001B[0m\u001B[34m \u001B[0m\n",
       "\u001B[34m \u001B[0m Net cash used in investing activities             \u001B[34m \u001B[0m       -673.3 \u001B[34m \u001B[0m       -1,398.4 \u001B[34m \u001B[0m       -666.8 \u001B[34m \u001B[0m\n",
       "\u001B[34m \u001B[0m\u001B[38;5;245m \u001B[0m\u001B[38;5;245mFINANCING ACTIVITIES                             \u001B[0m\u001B[38;5;245m \u001B[0m\u001B[34m \u001B[0m\u001B[38;5;245m             \u001B[0m\u001B[38;5;245m \u001B[0m\u001B[34m \u001B[0m\u001B[38;5;245m               \u001B[0m\u001B[38;5;245m \u001B[0m\u001B[34m \u001B[0m\u001B[38;5;245m             \u001B[0m\u001B[38;5;245m \u001B[0m\u001B[34m \u001B[0m\n",
       "\u001B[34m \u001B[0m Repayments of debt                                \u001B[34m \u001B[0m              \u001B[34m \u001B[0m                \u001B[34m \u001B[0m       -300.0 \u001B[34m \u001B[0m\n",
       "\u001B[34m \u001B[0m\u001B[38;5;245m \u001B[0m\u001B[38;5;245mCash dividends paid to common stockholders       \u001B[0m\u001B[38;5;245m \u001B[0m\u001B[34m \u001B[0m\u001B[38;5;245m     -1,637.2\u001B[0m\u001B[38;5;245m \u001B[0m\u001B[34m \u001B[0m\u001B[38;5;245m       -3,092.4\u001B[0m\u001B[38;5;245m \u001B[0m\u001B[34m \u001B[0m\u001B[38;5;245m     -2,705.8\u001B[0m\u001B[38;5;245m \u001B[0m\u001B[34m \u001B[0m\n",
       "\u001B[34m \u001B[0m Distributions to non-controlling interest         \u001B[34m \u001B[0m         -8.3 \u001B[34m \u001B[0m           -9.1 \u001B[34m \u001B[0m         -5.5 \u001B[34m \u001B[0m\n",
       "\u001B[34m \u001B[0m\u001B[38;5;245m \u001B[0m\u001B[38;5;245mOther, net                                       \u001B[0m\u001B[38;5;245m \u001B[0m\u001B[34m \u001B[0m\u001B[38;5;245m          0.4\u001B[0m\u001B[38;5;245m \u001B[0m\u001B[34m \u001B[0m\u001B[38;5;245m            0.3\u001B[0m\u001B[38;5;245m \u001B[0m\u001B[34m \u001B[0m\u001B[38;5;245m          0.3\u001B[0m\u001B[38;5;245m \u001B[0m\u001B[34m \u001B[0m\n",
       "\u001B[34m \u001B[0m Net cash used in financing activities             \u001B[34m \u001B[0m     -1,645.2 \u001B[34m \u001B[0m       -3,101.2 \u001B[34m \u001B[0m     -3,011.0 \u001B[34m \u001B[0m\n",
       "\u001B[34m \u001B[0m\u001B[38;5;245m \u001B[0m\u001B[38;5;245mEffect of exchange rate changes on cash and cash \u001B[0m\u001B[38;5;245m \u001B[0m\u001B[34m \u001B[0m\u001B[38;5;245m          3.4\u001B[0m\u001B[38;5;245m \u001B[0m\u001B[34m \u001B[0m\u001B[38;5;245m            8.3\u001B[0m\u001B[38;5;245m \u001B[0m\u001B[34m \u001B[0m\u001B[38;5;245m        -57.0\u001B[0m\u001B[38;5;245m \u001B[0m\u001B[34m \u001B[0m\n",
       "\u001B[34m \u001B[0m\u001B[38;5;245m \u001B[0m\u001B[38;5;245mequivalents                                      \u001B[0m\u001B[38;5;245m \u001B[0m\u001B[34m \u001B[0m\u001B[38;5;245m              \u001B[0m\u001B[34m \u001B[0m\u001B[38;5;245m                \u001B[0m\u001B[34m \u001B[0m\u001B[38;5;245m              \u001B[0m\u001B[34m \u001B[0m\n",
       "\u001B[34m \u001B[0m Increase (decrease) in cash and cash equivalents  \u001B[34m \u001B[0m      2,106.6 \u001B[34m \u001B[0m         -918.2 \u001B[34m \u001B[0m       -932.3 \u001B[34m \u001B[0m\n",
       "\u001B[34m \u001B[0m\u001B[38;5;245m \u001B[0m\u001B[38;5;245mCash and cash equivalents, at beginning of year  \u001B[0m\u001B[38;5;245m \u001B[0m\u001B[34m \u001B[0m\u001B[38;5;245m      1,151.5\u001B[0m\u001B[38;5;245m \u001B[0m\u001B[34m \u001B[0m\u001B[38;5;245m        2,069.7\u001B[0m\u001B[38;5;245m \u001B[0m\u001B[34m \u001B[0m\u001B[38;5;245m      3,002.0\u001B[0m\u001B[38;5;245m \u001B[0m\u001B[34m \u001B[0m\n",
       "\u001B[34m \u001B[0m Cash and cash equivalents, at end of year         \u001B[34m \u001B[0m      3,258.1 \u001B[34m \u001B[0m        1,151.5 \u001B[34m \u001B[0m      2,069.7 \u001B[34m \u001B[0m\n",
       "\u001B[34m \u001B[0m\u001B[38;5;245m \u001B[0m\u001B[38;5;245mCash paid during the year for:                   \u001B[0m\u001B[38;5;245m \u001B[0m\u001B[34m \u001B[0m\u001B[38;5;245m             \u001B[0m\u001B[38;5;245m \u001B[0m\u001B[34m \u001B[0m\u001B[38;5;245m               \u001B[0m\u001B[38;5;245m \u001B[0m\u001B[34m \u001B[0m\u001B[38;5;245m             \u001B[0m\u001B[38;5;245m \u001B[0m\u001B[34m \u001B[0m\n",
       "\u001B[34m \u001B[0m Interest                                          \u001B[34m \u001B[0m        369.7 \u001B[34m \u001B[0m          369.7 \u001B[34m \u001B[0m        380.2 \u001B[34m \u001B[0m\n",
       "\u001B[34m \u001B[0m\u001B[38;5;245m \u001B[0m\u001B[38;5;245mIncome taxes                                     \u001B[0m\u001B[38;5;245m \u001B[0m\u001B[34m \u001B[0m\u001B[38;5;245m      1,590.8\u001B[0m\u001B[38;5;245m \u001B[0m\u001B[34m \u001B[0m\u001B[38;5;245m        1,434.0\u001B[0m\u001B[38;5;245m \u001B[0m\u001B[34m \u001B[0m\u001B[38;5;245m      2,391.5\u001B[0m\u001B[38;5;245m \u001B[0m\u001B[34m \u001B[0m\n",
       "\u001B[34m \u001B[0m Workers' participation                            \u001B[34m \u001B[0m        262.2 \u001B[34m \u001B[0m          258.2 \u001B[34m \u001B[0m        450.6 \u001B[34m \u001B[0m\n",
       "\u001B[34m \u001B[0m\u001B[38;5;245m \u001B[0m\u001B[38;5;245mSupplemental schedule of non-cash operating,     \u001B[0m\u001B[38;5;245m \u001B[0m\u001B[34m \u001B[0m\u001B[38;5;245m              \u001B[0m\u001B[34m \u001B[0m\u001B[38;5;245m                \u001B[0m\u001B[34m \u001B[0m\u001B[38;5;245m              \u001B[0m\u001B[34m \u001B[0m\n",
       "\u001B[34m \u001B[0m\u001B[38;5;245m \u001B[0m\u001B[38;5;245minvesting and financing activities:              \u001B[0m\u001B[38;5;245m \u001B[0m\u001B[34m \u001B[0m\u001B[38;5;245m             \u001B[0m\u001B[38;5;245m \u001B[0m\u001B[34m \u001B[0m\u001B[38;5;245m               \u001B[0m\u001B[38;5;245m \u001B[0m\u001B[34m \u001B[0m\u001B[38;5;245m             \u001B[0m\u001B[38;5;245m \u001B[0m\u001B[34m \u001B[0m\n",
       "\u001B[34m \u001B[0m\u001B[38;5;245m \u001B[0m\u001B[38;5;245m                                                 \u001B[0m\u001B[38;5;245m \u001B[0m\u001B[34m \u001B[0m\u001B[38;5;245m              \u001B[0m\u001B[34m \u001B[0m\u001B[38;5;245m                \u001B[0m\u001B[34m \u001B[0m\u001B[38;5;245m              \u001B[0m\u001B[34m \u001B[0m\n",
       "\u001B[34m \u001B[0m Decrease in pension and other post-retirement     \u001B[34m \u001B[0m          5.8 \u001B[34m \u001B[0m            1.0 \u001B[34m \u001B[0m          1.0 \u001B[34m \u001B[0m\n",
       "\u001B[34m \u001B[0m benefits                                          \u001B[34m \u001B[0m              \u001B[34m \u001B[0m                \u001B[34m \u001B[0m              \u001B[34m \u001B[0m\n",
       "\u001B[34m \u001B[0m\u001B[38;5;245m \u001B[0m\u001B[38;5;245mCapital expenditures incurred but not yet paid   \u001B[0m\u001B[38;5;245m \u001B[0m\u001B[34m \u001B[0m\u001B[38;5;245m       $ 19.8\u001B[0m\u001B[38;5;245m \u001B[0m\u001B[34m \u001B[0m\u001B[38;5;245m         $ 16.1\u001B[0m\u001B[38;5;245m \u001B[0m\u001B[34m \u001B[0m\u001B[38;5;245m       $ 18.5\u001B[0m\u001B[38;5;245m \u001B[0m\u001B[34m \u001B[0m\n",
       "\u001B[34m                                                                                                    \u001B[0m\n"
      ],
      "text/html": [
       "<pre style=\"white-space:pre;overflow-x:auto;line-height:normal;font-family:Menlo,'DejaVu Sans Mono',consolas,'Courier New',monospace\"><span style=\"color: #000080; text-decoration-color: #000080\">                                                                                                    </span>\n",
       "<span style=\"color: #000080; text-decoration-color: #000080\"> </span><span style=\"font-weight: bold\"> CONSOLIDATED STATEMENTS OF CASH FLOWS - USD ($)$  </span><span style=\"color: #000080; text-decoration-color: #000080\"> </span><span style=\"font-weight: bold\">              </span><span style=\"color: #000080; text-decoration-color: #000080\"> </span><span style=\"font-weight: bold\">12 Months Ended </span><span style=\"color: #000080; text-decoration-color: #000080\"> </span><span style=\"font-weight: bold\">              </span><span style=\"color: #000080; text-decoration-color: #000080\"> </span>\n",
       "<span style=\"color: #000080; text-decoration-color: #000080\"> </span><span style=\"font-weight: bold\"> in Millions                                       </span><span style=\"color: #000080; text-decoration-color: #000080\"> </span><span style=\"font-weight: bold\">Dec. 31, 2024 </span><span style=\"color: #000080; text-decoration-color: #000080\"> </span><span style=\"font-weight: bold\">  Dec. 31, 2023 </span><span style=\"color: #000080; text-decoration-color: #000080\"> </span><span style=\"font-weight: bold\">Dec. 31, 2022 </span><span style=\"color: #000080; text-decoration-color: #000080\"> </span>\n",
       "<span style=\"color: #000080; text-decoration-color: #000080\"> ────────────────────────────────────────────────────────────────────────────────────────────────── </span>\n",
       "<span style=\"color: #000080; text-decoration-color: #000080\"> </span> OPERATING ACTIVITIES                              <span style=\"color: #000080; text-decoration-color: #000080\"> </span>              <span style=\"color: #000080; text-decoration-color: #000080\"> </span>                <span style=\"color: #000080; text-decoration-color: #000080\"> </span>              <span style=\"color: #000080; text-decoration-color: #000080\"> </span>\n",
       "<span style=\"color: #000080; text-decoration-color: #000080\"> </span><span style=\"color: #8a8a8a; text-decoration-color: #8a8a8a\"> Net income                                        </span><span style=\"color: #000080; text-decoration-color: #000080\"> </span><span style=\"color: #8a8a8a; text-decoration-color: #8a8a8a\">    $ 3,388.6 </span><span style=\"color: #000080; text-decoration-color: #000080\"> </span><span style=\"color: #8a8a8a; text-decoration-color: #8a8a8a\">      $ 2,434.7 </span><span style=\"color: #000080; text-decoration-color: #000080\"> </span><span style=\"color: #8a8a8a; text-decoration-color: #8a8a8a\">    $ 2,648.0 </span><span style=\"color: #000080; text-decoration-color: #000080\"> </span>\n",
       "<span style=\"color: #000080; text-decoration-color: #000080\"> </span> Adjustments to reconcile net earnings to net cash <span style=\"color: #000080; text-decoration-color: #000080\"> </span>              <span style=\"color: #000080; text-decoration-color: #000080\"> </span>                <span style=\"color: #000080; text-decoration-color: #000080\"> </span>              <span style=\"color: #000080; text-decoration-color: #000080\"> </span>\n",
       "<span style=\"color: #000080; text-decoration-color: #000080\"> </span> provided from operating activities:               <span style=\"color: #000080; text-decoration-color: #000080\"> </span>              <span style=\"color: #000080; text-decoration-color: #000080\"> </span>                <span style=\"color: #000080; text-decoration-color: #000080\"> </span>              <span style=\"color: #000080; text-decoration-color: #000080\"> </span>\n",
       "<span style=\"color: #000080; text-decoration-color: #000080\"> </span><span style=\"color: #8a8a8a; text-decoration-color: #8a8a8a\"> Depreciation, amortization and depletion          </span><span style=\"color: #000080; text-decoration-color: #000080\"> </span><span style=\"color: #8a8a8a; text-decoration-color: #8a8a8a\">        845.9 </span><span style=\"color: #000080; text-decoration-color: #000080\"> </span><span style=\"color: #8a8a8a; text-decoration-color: #8a8a8a\">          833.6 </span><span style=\"color: #000080; text-decoration-color: #000080\"> </span><span style=\"color: #8a8a8a; text-decoration-color: #8a8a8a\">        796.3 </span><span style=\"color: #000080; text-decoration-color: #000080\"> </span>\n",
       "<span style=\"color: #000080; text-decoration-color: #000080\"> </span> Equity earnings of affiliate, net of dividends    <span style=\"color: #000080; text-decoration-color: #000080\"> </span>         -3.7 <span style=\"color: #000080; text-decoration-color: #000080\"> </span>            2.6 <span style=\"color: #000080; text-decoration-color: #000080\"> </span>          4.6 <span style=\"color: #000080; text-decoration-color: #000080\"> </span>\n",
       "<span style=\"color: #000080; text-decoration-color: #000080\"> </span> received                                          <span style=\"color: #000080; text-decoration-color: #000080\"> </span>              <span style=\"color: #000080; text-decoration-color: #000080\"> </span>                <span style=\"color: #000080; text-decoration-color: #000080\"> </span>              <span style=\"color: #000080; text-decoration-color: #000080\"> </span>\n",
       "<span style=\"color: #000080; text-decoration-color: #000080\"> </span><span style=\"color: #8a8a8a; text-decoration-color: #8a8a8a\"> Loss on foreign currency transaction effect       </span><span style=\"color: #000080; text-decoration-color: #000080\"> </span><span style=\"color: #8a8a8a; text-decoration-color: #8a8a8a\">         13.7 </span><span style=\"color: #000080; text-decoration-color: #000080\"> </span><span style=\"color: #8a8a8a; text-decoration-color: #8a8a8a\">           10.4 </span><span style=\"color: #000080; text-decoration-color: #000080\"> </span><span style=\"color: #8a8a8a; text-decoration-color: #8a8a8a\">         41.9 </span><span style=\"color: #000080; text-decoration-color: #000080\"> </span>\n",
       "<span style=\"color: #000080; text-decoration-color: #000080\"> </span> (Benefit) provision for deferred income taxes     <span style=\"color: #000080; text-decoration-color: #000080\"> </span>        -52.2 <span style=\"color: #000080; text-decoration-color: #000080\"> </span>          -59.1 <span style=\"color: #000080; text-decoration-color: #000080\"> </span>        118.6 <span style=\"color: #000080; text-decoration-color: #000080\"> </span>\n",
       "<span style=\"color: #000080; text-decoration-color: #000080\"> </span><span style=\"color: #8a8a8a; text-decoration-color: #8a8a8a\"> Net charges for asset retirement obligations,     </span><span style=\"color: #000080; text-decoration-color: #000080\"> </span><span style=\"color: #8a8a8a; text-decoration-color: #8a8a8a\">        -24.4 </span><span style=\"color: #000080; text-decoration-color: #000080\"> </span><span style=\"color: #8a8a8a; text-decoration-color: #8a8a8a\">           26.1 </span><span style=\"color: #000080; text-decoration-color: #000080\"> </span><span style=\"color: #8a8a8a; text-decoration-color: #8a8a8a\">         16.4 </span><span style=\"color: #000080; text-decoration-color: #000080\"> </span>\n",
       "<span style=\"color: #000080; text-decoration-color: #000080\"> </span><span style=\"color: #8a8a8a; text-decoration-color: #8a8a8a\"> including accretion                               </span><span style=\"color: #000080; text-decoration-color: #000080\"> </span><span style=\"color: #8a8a8a; text-decoration-color: #8a8a8a\">              </span><span style=\"color: #000080; text-decoration-color: #000080\"> </span><span style=\"color: #8a8a8a; text-decoration-color: #8a8a8a\">                </span><span style=\"color: #000080; text-decoration-color: #000080\"> </span><span style=\"color: #8a8a8a; text-decoration-color: #8a8a8a\">              </span><span style=\"color: #000080; text-decoration-color: #000080\"> </span>\n",
       "<span style=\"color: #000080; text-decoration-color: #000080\"> </span> Other, net                                        <span style=\"color: #000080; text-decoration-color: #000080\"> </span>         15.2 <span style=\"color: #000080; text-decoration-color: #000080\"> </span>           14.8 <span style=\"color: #000080; text-decoration-color: #000080\"> </span>         16.9 <span style=\"color: #000080; text-decoration-color: #000080\"> </span>\n",
       "<span style=\"color: #000080; text-decoration-color: #000080\"> </span><span style=\"color: #8a8a8a; text-decoration-color: #8a8a8a\"> Change in operating assets and liabilities:       </span><span style=\"color: #000080; text-decoration-color: #000080\"> </span><span style=\"color: #8a8a8a; text-decoration-color: #8a8a8a\">              </span><span style=\"color: #000080; text-decoration-color: #000080\"> </span><span style=\"color: #8a8a8a; text-decoration-color: #8a8a8a\">                </span><span style=\"color: #000080; text-decoration-color: #000080\"> </span><span style=\"color: #8a8a8a; text-decoration-color: #8a8a8a\">              </span><span style=\"color: #000080; text-decoration-color: #000080\"> </span>\n",
       "<span style=\"color: #000080; text-decoration-color: #000080\"> </span> (Increase) decrease in accounts receivable trade  <span style=\"color: #000080; text-decoration-color: #000080\"> </span>        -48.5 <span style=\"color: #000080; text-decoration-color: #000080\"> </span>          253.0 <span style=\"color: #000080; text-decoration-color: #000080\"> </span>        -35.4 <span style=\"color: #000080; text-decoration-color: #000080\"> </span>\n",
       "<span style=\"color: #000080; text-decoration-color: #000080\"> </span><span style=\"color: #8a8a8a; text-decoration-color: #8a8a8a\"> Increase in inventories                           </span><span style=\"color: #000080; text-decoration-color: #000080\"> </span><span style=\"color: #8a8a8a; text-decoration-color: #8a8a8a\">        -56.1 </span><span style=\"color: #000080; text-decoration-color: #000080\"> </span><span style=\"color: #8a8a8a; text-decoration-color: #8a8a8a\">          -60.4 </span><span style=\"color: #000080; text-decoration-color: #000080\"> </span><span style=\"color: #8a8a8a; text-decoration-color: #8a8a8a\">         -7.7 </span><span style=\"color: #000080; text-decoration-color: #000080\"> </span>\n",
       "<span style=\"color: #000080; text-decoration-color: #000080\"> </span> Increase (decrease) in accounts payable and       <span style=\"color: #000080; text-decoration-color: #000080\"> </span>        385.7 <span style=\"color: #000080; text-decoration-color: #000080\"> </span>          152.1 <span style=\"color: #000080; text-decoration-color: #000080\"> </span>       -718.0 <span style=\"color: #000080; text-decoration-color: #000080\"> </span>\n",
       "<span style=\"color: #000080; text-decoration-color: #000080\"> </span> accrued liabilities                               <span style=\"color: #000080; text-decoration-color: #000080\"> </span>              <span style=\"color: #000080; text-decoration-color: #000080\"> </span>                <span style=\"color: #000080; text-decoration-color: #000080\"> </span>              <span style=\"color: #000080; text-decoration-color: #000080\"> </span>\n",
       "<span style=\"color: #000080; text-decoration-color: #000080\"> </span><span style=\"color: #8a8a8a; text-decoration-color: #8a8a8a\"> Decrease (increase) in other operating assets and </span><span style=\"color: #000080; text-decoration-color: #000080\"> </span><span style=\"color: #8a8a8a; text-decoration-color: #8a8a8a\">        -42.4 </span><span style=\"color: #000080; text-decoration-color: #000080\"> </span><span style=\"color: #8a8a8a; text-decoration-color: #8a8a8a\">          -34.7 </span><span style=\"color: #000080; text-decoration-color: #000080\"> </span><span style=\"color: #8a8a8a; text-decoration-color: #8a8a8a\">        -79.1 </span><span style=\"color: #000080; text-decoration-color: #000080\"> </span>\n",
       "<span style=\"color: #000080; text-decoration-color: #000080\"> </span><span style=\"color: #8a8a8a; text-decoration-color: #8a8a8a\"> liabilities                                       </span><span style=\"color: #000080; text-decoration-color: #000080\"> </span><span style=\"color: #8a8a8a; text-decoration-color: #8a8a8a\">              </span><span style=\"color: #000080; text-decoration-color: #000080\"> </span><span style=\"color: #8a8a8a; text-decoration-color: #8a8a8a\">                </span><span style=\"color: #000080; text-decoration-color: #000080\"> </span><span style=\"color: #8a8a8a; text-decoration-color: #8a8a8a\">              </span><span style=\"color: #000080; text-decoration-color: #000080\"> </span>\n",
       "<span style=\"color: #000080; text-decoration-color: #000080\"> </span> Net cash provided by operating activities         <span style=\"color: #000080; text-decoration-color: #000080\"> </span>      4,421.7 <span style=\"color: #000080; text-decoration-color: #000080\"> </span>        3,573.1 <span style=\"color: #000080; text-decoration-color: #000080\"> </span>      2,802.5 <span style=\"color: #000080; text-decoration-color: #000080\"> </span>\n",
       "<span style=\"color: #000080; text-decoration-color: #000080\"> </span><span style=\"color: #8a8a8a; text-decoration-color: #8a8a8a\"> INVESTING ACTIVITIES                              </span><span style=\"color: #000080; text-decoration-color: #000080\"> </span><span style=\"color: #8a8a8a; text-decoration-color: #8a8a8a\">              </span><span style=\"color: #000080; text-decoration-color: #000080\"> </span><span style=\"color: #8a8a8a; text-decoration-color: #8a8a8a\">                </span><span style=\"color: #000080; text-decoration-color: #000080\"> </span><span style=\"color: #8a8a8a; text-decoration-color: #8a8a8a\">              </span><span style=\"color: #000080; text-decoration-color: #000080\"> </span>\n",
       "<span style=\"color: #000080; text-decoration-color: #000080\"> </span> Capital expenditures                              <span style=\"color: #000080; text-decoration-color: #000080\"> </span>     -1,027.3 <span style=\"color: #000080; text-decoration-color: #000080\"> </span>       -1,008.6 <span style=\"color: #000080; text-decoration-color: #000080\"> </span>       -948.5 <span style=\"color: #000080; text-decoration-color: #000080\"> </span>\n",
       "<span style=\"color: #000080; text-decoration-color: #000080\"> </span><span style=\"color: #8a8a8a; text-decoration-color: #8a8a8a\"> Purchase of short-term investments                </span><span style=\"color: #000080; text-decoration-color: #000080\"> </span><span style=\"color: #8a8a8a; text-decoration-color: #8a8a8a\">       -611.8 </span><span style=\"color: #000080; text-decoration-color: #000080\"> </span><span style=\"color: #8a8a8a; text-decoration-color: #8a8a8a\">         -808.7 </span><span style=\"color: #000080; text-decoration-color: #000080\"> </span><span style=\"color: #8a8a8a; text-decoration-color: #8a8a8a\">       -486.2 </span><span style=\"color: #000080; text-decoration-color: #000080\"> </span>\n",
       "<span style=\"color: #000080; text-decoration-color: #000080\"> </span> Proceeds on sale of short-term investments        <span style=\"color: #000080; text-decoration-color: #000080\"> </span>        965.8 <span style=\"color: #000080; text-decoration-color: #000080\"> </span>          417.7 <span style=\"color: #000080; text-decoration-color: #000080\"> </span>        764.7 <span style=\"color: #000080; text-decoration-color: #000080\"> </span>\n",
       "<span style=\"color: #000080; text-decoration-color: #000080\"> </span><span style=\"color: #8a8a8a; text-decoration-color: #8a8a8a\"> Other, net                                        </span><span style=\"color: #000080; text-decoration-color: #000080\"> </span><span style=\"color: #8a8a8a; text-decoration-color: #8a8a8a\">              </span><span style=\"color: #000080; text-decoration-color: #000080\"> </span><span style=\"color: #8a8a8a; text-decoration-color: #8a8a8a\">            1.2 </span><span style=\"color: #000080; text-decoration-color: #000080\"> </span><span style=\"color: #8a8a8a; text-decoration-color: #8a8a8a\">          3.2 </span><span style=\"color: #000080; text-decoration-color: #000080\"> </span>\n",
       "<span style=\"color: #000080; text-decoration-color: #000080\"> </span> Net cash used in investing activities             <span style=\"color: #000080; text-decoration-color: #000080\"> </span>       -673.3 <span style=\"color: #000080; text-decoration-color: #000080\"> </span>       -1,398.4 <span style=\"color: #000080; text-decoration-color: #000080\"> </span>       -666.8 <span style=\"color: #000080; text-decoration-color: #000080\"> </span>\n",
       "<span style=\"color: #000080; text-decoration-color: #000080\"> </span><span style=\"color: #8a8a8a; text-decoration-color: #8a8a8a\"> FINANCING ACTIVITIES                              </span><span style=\"color: #000080; text-decoration-color: #000080\"> </span><span style=\"color: #8a8a8a; text-decoration-color: #8a8a8a\">              </span><span style=\"color: #000080; text-decoration-color: #000080\"> </span><span style=\"color: #8a8a8a; text-decoration-color: #8a8a8a\">                </span><span style=\"color: #000080; text-decoration-color: #000080\"> </span><span style=\"color: #8a8a8a; text-decoration-color: #8a8a8a\">              </span><span style=\"color: #000080; text-decoration-color: #000080\"> </span>\n",
       "<span style=\"color: #000080; text-decoration-color: #000080\"> </span> Repayments of debt                                <span style=\"color: #000080; text-decoration-color: #000080\"> </span>              <span style=\"color: #000080; text-decoration-color: #000080\"> </span>                <span style=\"color: #000080; text-decoration-color: #000080\"> </span>       -300.0 <span style=\"color: #000080; text-decoration-color: #000080\"> </span>\n",
       "<span style=\"color: #000080; text-decoration-color: #000080\"> </span><span style=\"color: #8a8a8a; text-decoration-color: #8a8a8a\"> Cash dividends paid to common stockholders        </span><span style=\"color: #000080; text-decoration-color: #000080\"> </span><span style=\"color: #8a8a8a; text-decoration-color: #8a8a8a\">     -1,637.2 </span><span style=\"color: #000080; text-decoration-color: #000080\"> </span><span style=\"color: #8a8a8a; text-decoration-color: #8a8a8a\">       -3,092.4 </span><span style=\"color: #000080; text-decoration-color: #000080\"> </span><span style=\"color: #8a8a8a; text-decoration-color: #8a8a8a\">     -2,705.8 </span><span style=\"color: #000080; text-decoration-color: #000080\"> </span>\n",
       "<span style=\"color: #000080; text-decoration-color: #000080\"> </span> Distributions to non-controlling interest         <span style=\"color: #000080; text-decoration-color: #000080\"> </span>         -8.3 <span style=\"color: #000080; text-decoration-color: #000080\"> </span>           -9.1 <span style=\"color: #000080; text-decoration-color: #000080\"> </span>         -5.5 <span style=\"color: #000080; text-decoration-color: #000080\"> </span>\n",
       "<span style=\"color: #000080; text-decoration-color: #000080\"> </span><span style=\"color: #8a8a8a; text-decoration-color: #8a8a8a\"> Other, net                                        </span><span style=\"color: #000080; text-decoration-color: #000080\"> </span><span style=\"color: #8a8a8a; text-decoration-color: #8a8a8a\">          0.4 </span><span style=\"color: #000080; text-decoration-color: #000080\"> </span><span style=\"color: #8a8a8a; text-decoration-color: #8a8a8a\">            0.3 </span><span style=\"color: #000080; text-decoration-color: #000080\"> </span><span style=\"color: #8a8a8a; text-decoration-color: #8a8a8a\">          0.3 </span><span style=\"color: #000080; text-decoration-color: #000080\"> </span>\n",
       "<span style=\"color: #000080; text-decoration-color: #000080\"> </span> Net cash used in financing activities             <span style=\"color: #000080; text-decoration-color: #000080\"> </span>     -1,645.2 <span style=\"color: #000080; text-decoration-color: #000080\"> </span>       -3,101.2 <span style=\"color: #000080; text-decoration-color: #000080\"> </span>     -3,011.0 <span style=\"color: #000080; text-decoration-color: #000080\"> </span>\n",
       "<span style=\"color: #000080; text-decoration-color: #000080\"> </span><span style=\"color: #8a8a8a; text-decoration-color: #8a8a8a\"> Effect of exchange rate changes on cash and cash  </span><span style=\"color: #000080; text-decoration-color: #000080\"> </span><span style=\"color: #8a8a8a; text-decoration-color: #8a8a8a\">          3.4 </span><span style=\"color: #000080; text-decoration-color: #000080\"> </span><span style=\"color: #8a8a8a; text-decoration-color: #8a8a8a\">            8.3 </span><span style=\"color: #000080; text-decoration-color: #000080\"> </span><span style=\"color: #8a8a8a; text-decoration-color: #8a8a8a\">        -57.0 </span><span style=\"color: #000080; text-decoration-color: #000080\"> </span>\n",
       "<span style=\"color: #000080; text-decoration-color: #000080\"> </span><span style=\"color: #8a8a8a; text-decoration-color: #8a8a8a\"> equivalents                                       </span><span style=\"color: #000080; text-decoration-color: #000080\"> </span><span style=\"color: #8a8a8a; text-decoration-color: #8a8a8a\">              </span><span style=\"color: #000080; text-decoration-color: #000080\"> </span><span style=\"color: #8a8a8a; text-decoration-color: #8a8a8a\">                </span><span style=\"color: #000080; text-decoration-color: #000080\"> </span><span style=\"color: #8a8a8a; text-decoration-color: #8a8a8a\">              </span><span style=\"color: #000080; text-decoration-color: #000080\"> </span>\n",
       "<span style=\"color: #000080; text-decoration-color: #000080\"> </span> Increase (decrease) in cash and cash equivalents  <span style=\"color: #000080; text-decoration-color: #000080\"> </span>      2,106.6 <span style=\"color: #000080; text-decoration-color: #000080\"> </span>         -918.2 <span style=\"color: #000080; text-decoration-color: #000080\"> </span>       -932.3 <span style=\"color: #000080; text-decoration-color: #000080\"> </span>\n",
       "<span style=\"color: #000080; text-decoration-color: #000080\"> </span><span style=\"color: #8a8a8a; text-decoration-color: #8a8a8a\"> Cash and cash equivalents, at beginning of year   </span><span style=\"color: #000080; text-decoration-color: #000080\"> </span><span style=\"color: #8a8a8a; text-decoration-color: #8a8a8a\">      1,151.5 </span><span style=\"color: #000080; text-decoration-color: #000080\"> </span><span style=\"color: #8a8a8a; text-decoration-color: #8a8a8a\">        2,069.7 </span><span style=\"color: #000080; text-decoration-color: #000080\"> </span><span style=\"color: #8a8a8a; text-decoration-color: #8a8a8a\">      3,002.0 </span><span style=\"color: #000080; text-decoration-color: #000080\"> </span>\n",
       "<span style=\"color: #000080; text-decoration-color: #000080\"> </span> Cash and cash equivalents, at end of year         <span style=\"color: #000080; text-decoration-color: #000080\"> </span>      3,258.1 <span style=\"color: #000080; text-decoration-color: #000080\"> </span>        1,151.5 <span style=\"color: #000080; text-decoration-color: #000080\"> </span>      2,069.7 <span style=\"color: #000080; text-decoration-color: #000080\"> </span>\n",
       "<span style=\"color: #000080; text-decoration-color: #000080\"> </span><span style=\"color: #8a8a8a; text-decoration-color: #8a8a8a\"> Cash paid during the year for:                    </span><span style=\"color: #000080; text-decoration-color: #000080\"> </span><span style=\"color: #8a8a8a; text-decoration-color: #8a8a8a\">              </span><span style=\"color: #000080; text-decoration-color: #000080\"> </span><span style=\"color: #8a8a8a; text-decoration-color: #8a8a8a\">                </span><span style=\"color: #000080; text-decoration-color: #000080\"> </span><span style=\"color: #8a8a8a; text-decoration-color: #8a8a8a\">              </span><span style=\"color: #000080; text-decoration-color: #000080\"> </span>\n",
       "<span style=\"color: #000080; text-decoration-color: #000080\"> </span> Interest                                          <span style=\"color: #000080; text-decoration-color: #000080\"> </span>        369.7 <span style=\"color: #000080; text-decoration-color: #000080\"> </span>          369.7 <span style=\"color: #000080; text-decoration-color: #000080\"> </span>        380.2 <span style=\"color: #000080; text-decoration-color: #000080\"> </span>\n",
       "<span style=\"color: #000080; text-decoration-color: #000080\"> </span><span style=\"color: #8a8a8a; text-decoration-color: #8a8a8a\"> Income taxes                                      </span><span style=\"color: #000080; text-decoration-color: #000080\"> </span><span style=\"color: #8a8a8a; text-decoration-color: #8a8a8a\">      1,590.8 </span><span style=\"color: #000080; text-decoration-color: #000080\"> </span><span style=\"color: #8a8a8a; text-decoration-color: #8a8a8a\">        1,434.0 </span><span style=\"color: #000080; text-decoration-color: #000080\"> </span><span style=\"color: #8a8a8a; text-decoration-color: #8a8a8a\">      2,391.5 </span><span style=\"color: #000080; text-decoration-color: #000080\"> </span>\n",
       "<span style=\"color: #000080; text-decoration-color: #000080\"> </span> Workers' participation                            <span style=\"color: #000080; text-decoration-color: #000080\"> </span>        262.2 <span style=\"color: #000080; text-decoration-color: #000080\"> </span>          258.2 <span style=\"color: #000080; text-decoration-color: #000080\"> </span>        450.6 <span style=\"color: #000080; text-decoration-color: #000080\"> </span>\n",
       "<span style=\"color: #000080; text-decoration-color: #000080\"> </span><span style=\"color: #8a8a8a; text-decoration-color: #8a8a8a\"> Supplemental schedule of non-cash operating,      </span><span style=\"color: #000080; text-decoration-color: #000080\"> </span><span style=\"color: #8a8a8a; text-decoration-color: #8a8a8a\">              </span><span style=\"color: #000080; text-decoration-color: #000080\"> </span><span style=\"color: #8a8a8a; text-decoration-color: #8a8a8a\">                </span><span style=\"color: #000080; text-decoration-color: #000080\"> </span><span style=\"color: #8a8a8a; text-decoration-color: #8a8a8a\">              </span><span style=\"color: #000080; text-decoration-color: #000080\"> </span>\n",
       "<span style=\"color: #000080; text-decoration-color: #000080\"> </span><span style=\"color: #8a8a8a; text-decoration-color: #8a8a8a\"> investing and financing activities:               </span><span style=\"color: #000080; text-decoration-color: #000080\"> </span><span style=\"color: #8a8a8a; text-decoration-color: #8a8a8a\">              </span><span style=\"color: #000080; text-decoration-color: #000080\"> </span><span style=\"color: #8a8a8a; text-decoration-color: #8a8a8a\">                </span><span style=\"color: #000080; text-decoration-color: #000080\"> </span><span style=\"color: #8a8a8a; text-decoration-color: #8a8a8a\">              </span><span style=\"color: #000080; text-decoration-color: #000080\"> </span>\n",
       "<span style=\"color: #000080; text-decoration-color: #000080\"> </span><span style=\"color: #8a8a8a; text-decoration-color: #8a8a8a\">                                                   </span><span style=\"color: #000080; text-decoration-color: #000080\"> </span><span style=\"color: #8a8a8a; text-decoration-color: #8a8a8a\">              </span><span style=\"color: #000080; text-decoration-color: #000080\"> </span><span style=\"color: #8a8a8a; text-decoration-color: #8a8a8a\">                </span><span style=\"color: #000080; text-decoration-color: #000080\"> </span><span style=\"color: #8a8a8a; text-decoration-color: #8a8a8a\">              </span><span style=\"color: #000080; text-decoration-color: #000080\"> </span>\n",
       "<span style=\"color: #000080; text-decoration-color: #000080\"> </span> Decrease in pension and other post-retirement     <span style=\"color: #000080; text-decoration-color: #000080\"> </span>          5.8 <span style=\"color: #000080; text-decoration-color: #000080\"> </span>            1.0 <span style=\"color: #000080; text-decoration-color: #000080\"> </span>          1.0 <span style=\"color: #000080; text-decoration-color: #000080\"> </span>\n",
       "<span style=\"color: #000080; text-decoration-color: #000080\"> </span> benefits                                          <span style=\"color: #000080; text-decoration-color: #000080\"> </span>              <span style=\"color: #000080; text-decoration-color: #000080\"> </span>                <span style=\"color: #000080; text-decoration-color: #000080\"> </span>              <span style=\"color: #000080; text-decoration-color: #000080\"> </span>\n",
       "<span style=\"color: #000080; text-decoration-color: #000080\"> </span><span style=\"color: #8a8a8a; text-decoration-color: #8a8a8a\"> Capital expenditures incurred but not yet paid    </span><span style=\"color: #000080; text-decoration-color: #000080\"> </span><span style=\"color: #8a8a8a; text-decoration-color: #8a8a8a\">       $ 19.8 </span><span style=\"color: #000080; text-decoration-color: #000080\"> </span><span style=\"color: #8a8a8a; text-decoration-color: #8a8a8a\">         $ 16.1 </span><span style=\"color: #000080; text-decoration-color: #000080\"> </span><span style=\"color: #8a8a8a; text-decoration-color: #8a8a8a\">       $ 18.5 </span><span style=\"color: #000080; text-decoration-color: #000080\"> </span>\n",
       "<span style=\"color: #000080; text-decoration-color: #000080\">                                                                                                    </span>\n",
       "</pre>\n"
      ]
     },
     "metadata": {},
     "output_type": "display_data"
    }
   ],
   "execution_count": 10
  }
 ],
 "metadata": {
  "kernelspec": {
   "display_name": "Python 3 (ipykernel)",
   "name": "python3",
   "language": "python"
  },
  "language_info": {
   "name": ""
  }
 },
 "nbformat": 4,
 "nbformat_minor": 5
}
