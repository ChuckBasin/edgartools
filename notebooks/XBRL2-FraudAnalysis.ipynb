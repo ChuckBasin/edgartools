{
 "cells": [
  {
   "metadata": {},
   "cell_type": "markdown",
   "source": "# Fraud Analysis",
   "id": "ffd26d727ed5d0ec"
  },
  {
   "metadata": {
    "ExecuteTime": {
     "end_time": "2025-03-30T16:51:37.588536Z",
     "start_time": "2025-03-30T16:51:37.566355Z"
    }
   },
   "cell_type": "code",
   "source": [
    "from edgar import *\n",
    "from edgar.xbrl2 import *\n",
    "from edgar.xbrl2.analysis.ratios import *\n",
    "from edgar.xbrl2.analysis.metrics import *\n"
   ],
   "id": "7f96a435b6f3f207",
   "outputs": [],
   "execution_count": 1
  },
  {
   "metadata": {
    "ExecuteTime": {
     "end_time": "2025-03-30T16:51:40.381580Z",
     "start_time": "2025-03-30T16:51:38.532021Z"
    }
   },
   "cell_type": "code",
   "source": [
    "c = Company(\"CMCSA\")\n",
    "filing = c.latest(\"10-K\")\n",
    "xb = XBRL.from_filing(filing)"
   ],
   "id": "75ef07ed5909bd",
   "outputs": [],
   "execution_count": 2
  },
  {
   "metadata": {},
   "cell_type": "markdown",
   "source": "## Balance Sheet",
   "id": "9403abb4318bd93b"
  },
  {
   "metadata": {
    "ExecuteTime": {
     "end_time": "2025-03-30T19:19:22.432882Z",
     "start_time": "2025-03-30T19:19:22.389842Z"
    }
   },
   "cell_type": "code",
   "source": [
    "balance_sheet = xb.statements.balance_sheet()\n",
    "balance_sheet"
   ],
   "id": "4ebde77eb3a78b0b",
   "outputs": [
    {
     "data": {
      "text/plain": [],
      "text/html": [
       "<pre style=\"white-space:pre;overflow-x:auto;line-height:normal;font-family:Menlo,'DejaVu Sans Mono',consolas,'Courier New',monospace\"></pre>\n"
      ]
     },
     "metadata": {},
     "output_type": "display_data"
    },
    {
     "data": {
      "text/plain": [
       "\u001B[3m                      Consolidated Balance Sheets (Standardized)                       \u001B[0m\n",
       "\u001B[3m                \u001B[0m\u001B[1;3mFiscal Year Ended\u001B[0m\u001B[3m \u001B[0m\u001B[3m(In millions, except per share data)\u001B[0m\u001B[3m                 \u001B[0m\n",
       "                                                                                       \n",
       " \u001B[1m \u001B[0m\u001B[1m                                                     \u001B[0m\u001B[1m \u001B[0m \u001B[1m \u001B[0m\u001B[1mDec 31, 2023\u001B[0m\u001B[1m \u001B[0m \u001B[1m \u001B[0m\u001B[1mDec 31, 2024\u001B[0m\u001B[1m \u001B[0m \n",
       " ───────────────────────────────────────────────────────────────────────────────────── \n",
       "        Assets                                                                         \n",
       "          Current Assets:                                                              \n",
       "            Cash and Cash Equivalents                           $6,215         $7,322  \n",
       "            Accounts Receivable                                $13,813        $13,661  \n",
       "            Other Assets                                        $3,959         $5,817  \n",
       "            Total Current Assets                               $23,987        $26,801  \n",
       "          Film and television costs                            $12,920        $12,541  \n",
       "          Long-Term Investments                                 $9,385         $8,647  \n",
       "          Property, Plant and Equipment                        $59,700        $62,500  \n",
       "          Goodwill                                             $59,300        $58,200  \n",
       "          Franchise rights                                     $59,365        $59,365  \n",
       "          Other intangible assets, net                         $27,867        $25,599  \n",
       "          Other Assets                                         $12,333        $12,501  \n",
       "          Total Assets                                        $264,811       $266,211  \n",
       "        Liabilities and Equity                                                         \n",
       "          Current Liabilities:                                                         \n",
       "            Accounts Payable                                   $12,437        $11,321  \n",
       "            Deferred Revenue                                    $3,242         $3,507  \n",
       "            Accrued Liabilities                                $13,284        $10,679  \n",
       "            Short-Term Debt                                     $2,100         $4,900  \n",
       "            Advance on sale of investment                       $9,167         $9,167  \n",
       "            Total Current Liabilities                          $40,198        $39,581  \n",
       "          Long-Term Debt                                       $95,000        $94,200  \n",
       "          Deferred income taxes                                $26,003        $25,227  \n",
       "          Other Liabilities                                    $20,122        $20,942  \n",
       "          Commitments and contingencies                                                \n",
       "          Redeemable noncontrolling interests                     $241           $237  \n",
       "          Equity:                                                                      \n",
       "            Preferred Stock                                           \u0014               \u0014  \n",
       "            Common Stock                                           $48            $47  \n",
       "            Additional paid-in capital                         $38,533        $38,102  \n",
       "            Retained Earnings                                  $52,892        $56,972  \n",
       "            Treasury Stock Common Value                       $(7,517)       $(7,517)  \n",
       "            Accumulated Other Comprehensive Income/Loss       $(1,253)       $(2,043)  \n",
       "            Total Stockholders' Equity                         $82,703        $85,560  \n",
       "            Minority Interest                                     $523           $477  \n",
       "            Total Stockholders' Equity                         $83,226        $86,038  \n",
       "          Total Liabilities and Stockholders' Equity          $264,811       $266,211  \n",
       "                                                                                       "
      ]
     },
     "execution_count": 6,
     "metadata": {},
     "output_type": "execute_result"
    }
   ],
   "execution_count": 6
  },
  {
   "metadata": {},
   "cell_type": "markdown",
   "source": "## Income Statement",
   "id": "96ef69d503946f1f"
  },
  {
   "metadata": {
    "ExecuteTime": {
     "end_time": "2025-03-30T16:51:40.480301Z",
     "start_time": "2025-03-30T16:51:40.454796Z"
    }
   },
   "cell_type": "code",
   "source": [
    "income_statement = xb.statements.income_statement()\n",
    "df = income_statement.to_dataframe()\n",
    "income_statement"
   ],
   "id": "2911eb1e3365dcc8",
   "outputs": [
    {
     "data": {
      "text/plain": [],
      "text/html": [
       "<pre style=\"white-space:pre;overflow-x:auto;line-height:normal;font-family:Menlo,'DejaVu Sans Mono',consolas,'Courier New',monospace\"></pre>\n"
      ]
     },
     "metadata": {},
     "output_type": "display_data"
    },
    {
     "data": {
      "text/plain": [
       "\u001B[3m                                  Consolidated Statement of Income (Standardized)                                  \u001B[0m\n",
       "\u001B[3m                                  \u001B[0m\u001B[1;3mYear Ended\u001B[0m\u001B[3m \u001B[0m\u001B[3m(In millions, except per share data)\u001B[0m\u001B[3m                                  \u001B[0m\n",
       "                                                                                                                   \n",
       " \u001B[1m \u001B[0m\u001B[1m                                          \u001B[0m\u001B[1m \u001B[0m \u001B[1m \u001B[0m\u001B[1mAnnual: Dec 31, 2024\u001B[0m\u001B[1m \u001B[0m \u001B[1m \u001B[0m\u001B[1mAnnual: Dec 31, 2023\u001B[0m\u001B[1m \u001B[0m \u001B[1m \u001B[0m\u001B[1mAnnual: Dec 31, 2022\u001B[0m\u001B[1m \u001B[0m \n",
       " ───────────────────────────────────────────────────────────────────────────────────────────────────────────────── \n",
       "    Revenue                                              123,731.00             121,572.00             121,427.00  \n",
       "    Costs and Expenses:                                                                                            \n",
       "      Programming and production                          37,026.00              36,762.00              38,213.00  \n",
       "      Marketing and promotion                              8,073.00               7,971.00               8,506.00  \n",
       "      Other operating and administrative                  40,533.00              39,190.00              38,263.00  \n",
       "      Depreciation and Amortization                        8,729.00               8,854.00               8,724.00  \n",
       "      Depreciation and Amortization                        6,072.00               5,482.00               5,097.00  \n",
       "      Goodwill and long-lived asset                                \u0014                       \u0014               8,583.00  \n",
       "  impairments                                                                                                      \n",
       "      Total costs and expenses                         (100,434.00)            (98,258.00)           (107,385.00)  \n",
       "    Operating Income                                      23,297.00              23,314.00              14,041.00  \n",
       "    Interest Expense                                     (4,134.00)             (4,087.00)             (3,896.00)  \n",
       "    Nonoperating Income/Expense                            (490.00)               1,252.00               (861.00)  \n",
       "    Income Before Tax                                     18,673.00              20,478.00               9,284.00  \n",
       "    Income Tax Expense                                     2,796.00               5,371.00               4,359.00  \n",
       "    Net Income                                            15,877.00              15,107.00               4,925.00  \n",
       "    Less: Net income (loss) attributable to                  315.00                 282.00                 445.00  \n",
       "  noncontrolling interests                                                                                         \n",
       "    Net Income                                            16,192.00              15,388.00               5,370.00  \n",
       "    Earnings Per Share                                         0.00                   0.00                   0.00  \n",
       "    Earnings Per Share (Diluted)                               0.00                   0.00                   0.00  \n",
       "                                                                                                                   "
      ]
     },
     "execution_count": 3,
     "metadata": {},
     "output_type": "execute_result"
    }
   ],
   "execution_count": 3
  },
  {
   "metadata": {
    "ExecuteTime": {
     "end_time": "2025-03-30T16:51:56.501868Z",
     "start_time": "2025-03-30T16:51:56.493927Z"
    }
   },
   "cell_type": "code",
   "source": [
    "(xb.query()\n",
    " .from_statement(\"IncomeStatement\")\n",
    " .by_label(\"Total costs\")\n",
    " .to_dataframe()\n",
    " )\n"
   ],
   "id": "22d53bdb2c0812df",
   "outputs": [
    {
     "data": {
      "text/plain": [
       "                    concept                     label          value  \\\n",
       "0  us-gaap:CostsAndExpenses  Total costs and expenses  -100434000000   \n",
       "1  us-gaap:CostsAndExpenses  Total costs and expenses   -98258000000   \n",
       "2  us-gaap:CostsAndExpenses  Total costs and expenses  -107385000000   \n",
       "\n",
       "   numeric_value period_start  period_end unit_ref decimals footnotes  \\\n",
       "0  -1.004340e+11   2024-01-01  2024-12-31      usd       -6        []   \n",
       "1  -9.825800e+10   2023-01-01  2023-12-31      usd       -6        []   \n",
       "2  -1.073850e+11   2022-01-01  2022-12-31      usd       -6        []   \n",
       "\n",
       "    statement_type                                     statement_role  \n",
       "0  IncomeStatement  http://www.comcast.com/role/ConsolidatedStatem...  \n",
       "1  IncomeStatement  http://www.comcast.com/role/ConsolidatedStatem...  \n",
       "2  IncomeStatement  http://www.comcast.com/role/ConsolidatedStatem...  "
      ],
      "text/html": [
       "<div>\n",
       "<style scoped>\n",
       "    .dataframe tbody tr th:only-of-type {\n",
       "        vertical-align: middle;\n",
       "    }\n",
       "\n",
       "    .dataframe tbody tr th {\n",
       "        vertical-align: top;\n",
       "    }\n",
       "\n",
       "    .dataframe thead th {\n",
       "        text-align: right;\n",
       "    }\n",
       "</style>\n",
       "<table border=\"1\" class=\"dataframe\">\n",
       "  <thead>\n",
       "    <tr style=\"text-align: right;\">\n",
       "      <th></th>\n",
       "      <th>concept</th>\n",
       "      <th>label</th>\n",
       "      <th>value</th>\n",
       "      <th>numeric_value</th>\n",
       "      <th>period_start</th>\n",
       "      <th>period_end</th>\n",
       "      <th>unit_ref</th>\n",
       "      <th>decimals</th>\n",
       "      <th>footnotes</th>\n",
       "      <th>statement_type</th>\n",
       "      <th>statement_role</th>\n",
       "    </tr>\n",
       "  </thead>\n",
       "  <tbody>\n",
       "    <tr>\n",
       "      <th>0</th>\n",
       "      <td>us-gaap:CostsAndExpenses</td>\n",
       "      <td>Total costs and expenses</td>\n",
       "      <td>-100434000000</td>\n",
       "      <td>-1.004340e+11</td>\n",
       "      <td>2024-01-01</td>\n",
       "      <td>2024-12-31</td>\n",
       "      <td>usd</td>\n",
       "      <td>-6</td>\n",
       "      <td>[]</td>\n",
       "      <td>IncomeStatement</td>\n",
       "      <td>http://www.comcast.com/role/ConsolidatedStatem...</td>\n",
       "    </tr>\n",
       "    <tr>\n",
       "      <th>1</th>\n",
       "      <td>us-gaap:CostsAndExpenses</td>\n",
       "      <td>Total costs and expenses</td>\n",
       "      <td>-98258000000</td>\n",
       "      <td>-9.825800e+10</td>\n",
       "      <td>2023-01-01</td>\n",
       "      <td>2023-12-31</td>\n",
       "      <td>usd</td>\n",
       "      <td>-6</td>\n",
       "      <td>[]</td>\n",
       "      <td>IncomeStatement</td>\n",
       "      <td>http://www.comcast.com/role/ConsolidatedStatem...</td>\n",
       "    </tr>\n",
       "    <tr>\n",
       "      <th>2</th>\n",
       "      <td>us-gaap:CostsAndExpenses</td>\n",
       "      <td>Total costs and expenses</td>\n",
       "      <td>-107385000000</td>\n",
       "      <td>-1.073850e+11</td>\n",
       "      <td>2022-01-01</td>\n",
       "      <td>2022-12-31</td>\n",
       "      <td>usd</td>\n",
       "      <td>-6</td>\n",
       "      <td>[]</td>\n",
       "      <td>IncomeStatement</td>\n",
       "      <td>http://www.comcast.com/role/ConsolidatedStatem...</td>\n",
       "    </tr>\n",
       "  </tbody>\n",
       "</table>\n",
       "</div>"
      ]
     },
     "execution_count": 5,
     "metadata": {},
     "output_type": "execute_result"
    }
   ],
   "execution_count": 5
  },
  {
   "metadata": {
    "ExecuteTime": {
     "end_time": "2025-03-30T15:35:58.940696Z",
     "start_time": "2025-03-30T15:35:58.931705Z"
    }
   },
   "cell_type": "code",
   "source": [
    "(xb.facts.to_dataframe()\n",
    " .query(\"concept.str.match('us-gaap:Cost.*')\")\n",
    " .filter(['concept', 'label', 'value'])\n",
    " )"
   ],
   "id": "6b944be9518be8ac",
   "outputs": [
    {
     "data": {
      "text/plain": [
       "                   element_id context_ref          value unit_ref decimals  \\\n",
       "131  us-gaap:CostsAndExpenses         c-1  -100434000000      usd       -6   \n",
       "132  us-gaap:CostsAndExpenses        c-18   -98258000000      usd       -6   \n",
       "133  us-gaap:CostsAndExpenses        c-19  -107385000000      usd       -6   \n",
       "\n",
       "     numeric_value footnotes                       fact_key  \\\n",
       "131  -1.004340e+11        []   us-gaap_CostsAndExpenses_c-1   \n",
       "132  -9.825800e+10        []  us-gaap_CostsAndExpenses_c-18   \n",
       "133  -1.073850e+11        []  us-gaap_CostsAndExpenses_c-19   \n",
       "\n",
       "                      concept period_type  ...  \\\n",
       "131  us-gaap:CostsAndExpenses    duration  ...   \n",
       "132  us-gaap:CostsAndExpenses    duration  ...   \n",
       "133  us-gaap:CostsAndExpenses    duration  ...   \n",
       "\n",
       "    dim_us-gaap_DerivativeInstrumentsGainLossByHedgingRelationshipAxis  \\\n",
       "131                                                NaN                   \n",
       "132                                                NaN                   \n",
       "133                                                NaN                   \n",
       "\n",
       "    dim_srt_ScheduleOfEquityMethodInvestmentEquityMethodInvesteeNameAxis  \\\n",
       "131                                                NaN                     \n",
       "132                                                NaN                     \n",
       "133                                                NaN                     \n",
       "\n",
       "    dim_srt_ConsolidatedEntitiesAxis dim_us-gaap_FinancialInstrumentAxis  \\\n",
       "131                              NaN                                 NaN   \n",
       "132                              NaN                                 NaN   \n",
       "133                              NaN                                 NaN   \n",
       "\n",
       "    dim_srt_OwnershipAxis dim_us-gaap_PropertyPlantAndEquipmentByTypeAxis  \\\n",
       "131                   NaN                                             NaN   \n",
       "132                   NaN                                             NaN   \n",
       "133                   NaN                                             NaN   \n",
       "\n",
       "    dim_us-gaap_IndefiniteLivedIntangibleAssetsByMajorClassAxis  \\\n",
       "131                                                NaN            \n",
       "132                                                NaN            \n",
       "133                                                NaN            \n",
       "\n",
       "    dim_us-gaap_FiniteLivedIntangibleAssetsByMajorClassAxis  \\\n",
       "131                                                NaN        \n",
       "132                                                NaN        \n",
       "133                                                NaN        \n",
       "\n",
       "     dim_srt_TitleOfIndividualAxis dim_us-gaap_AwardTypeAxis  \n",
       "131                            NaN                       NaN  \n",
       "132                            NaN                       NaN  \n",
       "133                            NaN                       NaN  \n",
       "\n",
       "[3 rows x 54 columns]"
      ],
      "text/html": [
       "<div>\n",
       "<style scoped>\n",
       "    .dataframe tbody tr th:only-of-type {\n",
       "        vertical-align: middle;\n",
       "    }\n",
       "\n",
       "    .dataframe tbody tr th {\n",
       "        vertical-align: top;\n",
       "    }\n",
       "\n",
       "    .dataframe thead th {\n",
       "        text-align: right;\n",
       "    }\n",
       "</style>\n",
       "<table border=\"1\" class=\"dataframe\">\n",
       "  <thead>\n",
       "    <tr style=\"text-align: right;\">\n",
       "      <th></th>\n",
       "      <th>element_id</th>\n",
       "      <th>context_ref</th>\n",
       "      <th>value</th>\n",
       "      <th>unit_ref</th>\n",
       "      <th>decimals</th>\n",
       "      <th>numeric_value</th>\n",
       "      <th>footnotes</th>\n",
       "      <th>fact_key</th>\n",
       "      <th>concept</th>\n",
       "      <th>period_type</th>\n",
       "      <th>...</th>\n",
       "      <th>dim_us-gaap_DerivativeInstrumentsGainLossByHedgingRelationshipAxis</th>\n",
       "      <th>dim_srt_ScheduleOfEquityMethodInvestmentEquityMethodInvesteeNameAxis</th>\n",
       "      <th>dim_srt_ConsolidatedEntitiesAxis</th>\n",
       "      <th>dim_us-gaap_FinancialInstrumentAxis</th>\n",
       "      <th>dim_srt_OwnershipAxis</th>\n",
       "      <th>dim_us-gaap_PropertyPlantAndEquipmentByTypeAxis</th>\n",
       "      <th>dim_us-gaap_IndefiniteLivedIntangibleAssetsByMajorClassAxis</th>\n",
       "      <th>dim_us-gaap_FiniteLivedIntangibleAssetsByMajorClassAxis</th>\n",
       "      <th>dim_srt_TitleOfIndividualAxis</th>\n",
       "      <th>dim_us-gaap_AwardTypeAxis</th>\n",
       "    </tr>\n",
       "  </thead>\n",
       "  <tbody>\n",
       "    <tr>\n",
       "      <th>131</th>\n",
       "      <td>us-gaap:CostsAndExpenses</td>\n",
       "      <td>c-1</td>\n",
       "      <td>-100434000000</td>\n",
       "      <td>usd</td>\n",
       "      <td>-6</td>\n",
       "      <td>-1.004340e+11</td>\n",
       "      <td>[]</td>\n",
       "      <td>us-gaap_CostsAndExpenses_c-1</td>\n",
       "      <td>us-gaap:CostsAndExpenses</td>\n",
       "      <td>duration</td>\n",
       "      <td>...</td>\n",
       "      <td>NaN</td>\n",
       "      <td>NaN</td>\n",
       "      <td>NaN</td>\n",
       "      <td>NaN</td>\n",
       "      <td>NaN</td>\n",
       "      <td>NaN</td>\n",
       "      <td>NaN</td>\n",
       "      <td>NaN</td>\n",
       "      <td>NaN</td>\n",
       "      <td>NaN</td>\n",
       "    </tr>\n",
       "    <tr>\n",
       "      <th>132</th>\n",
       "      <td>us-gaap:CostsAndExpenses</td>\n",
       "      <td>c-18</td>\n",
       "      <td>-98258000000</td>\n",
       "      <td>usd</td>\n",
       "      <td>-6</td>\n",
       "      <td>-9.825800e+10</td>\n",
       "      <td>[]</td>\n",
       "      <td>us-gaap_CostsAndExpenses_c-18</td>\n",
       "      <td>us-gaap:CostsAndExpenses</td>\n",
       "      <td>duration</td>\n",
       "      <td>...</td>\n",
       "      <td>NaN</td>\n",
       "      <td>NaN</td>\n",
       "      <td>NaN</td>\n",
       "      <td>NaN</td>\n",
       "      <td>NaN</td>\n",
       "      <td>NaN</td>\n",
       "      <td>NaN</td>\n",
       "      <td>NaN</td>\n",
       "      <td>NaN</td>\n",
       "      <td>NaN</td>\n",
       "    </tr>\n",
       "    <tr>\n",
       "      <th>133</th>\n",
       "      <td>us-gaap:CostsAndExpenses</td>\n",
       "      <td>c-19</td>\n",
       "      <td>-107385000000</td>\n",
       "      <td>usd</td>\n",
       "      <td>-6</td>\n",
       "      <td>-1.073850e+11</td>\n",
       "      <td>[]</td>\n",
       "      <td>us-gaap_CostsAndExpenses_c-19</td>\n",
       "      <td>us-gaap:CostsAndExpenses</td>\n",
       "      <td>duration</td>\n",
       "      <td>...</td>\n",
       "      <td>NaN</td>\n",
       "      <td>NaN</td>\n",
       "      <td>NaN</td>\n",
       "      <td>NaN</td>\n",
       "      <td>NaN</td>\n",
       "      <td>NaN</td>\n",
       "      <td>NaN</td>\n",
       "      <td>NaN</td>\n",
       "      <td>NaN</td>\n",
       "      <td>NaN</td>\n",
       "    </tr>\n",
       "  </tbody>\n",
       "</table>\n",
       "<p>3 rows × 54 columns</p>\n",
       "</div>"
      ]
     },
     "execution_count": 13,
     "metadata": {},
     "output_type": "execute_result"
    }
   ],
   "execution_count": 13
  },
  {
   "metadata": {
    "ExecuteTime": {
     "end_time": "2025-03-29T16:55:22.171522Z",
     "start_time": "2025-03-29T16:55:22.099192Z"
    }
   },
   "cell_type": "code",
   "source": "fr = FinancialRatios(xb)",
   "id": "9f6b45926d77f0b3",
   "outputs": [],
   "execution_count": 5
  },
  {
   "metadata": {
    "ExecuteTime": {
     "end_time": "2025-03-29T16:56:31.635642Z",
     "start_time": "2025-03-29T16:56:31.631453Z"
    }
   },
   "cell_type": "code",
   "source": "fr.get_ratio_data('operating_margin')",
   "id": "9924df45eed8c76e",
   "outputs": [
    {
     "data": {
      "text/plain": [
       "                                 2022-12-31 2023-12-31 2024-12-31\n",
       "StandardConcept.OPERATING_INCOME        NaN        NaN        NaN\n",
       "StandardConcept.REVENUE                 NaN        NaN        NaN"
      ],
      "text/html": [
       "<div>\n",
       "<style scoped>\n",
       "    .dataframe tbody tr th:only-of-type {\n",
       "        vertical-align: middle;\n",
       "    }\n",
       "\n",
       "    .dataframe tbody tr th {\n",
       "        vertical-align: top;\n",
       "    }\n",
       "\n",
       "    .dataframe thead th {\n",
       "        text-align: right;\n",
       "    }\n",
       "</style>\n",
       "<table border=\"1\" class=\"dataframe\">\n",
       "  <thead>\n",
       "    <tr style=\"text-align: right;\">\n",
       "      <th></th>\n",
       "      <th>2022-12-31</th>\n",
       "      <th>2023-12-31</th>\n",
       "      <th>2024-12-31</th>\n",
       "    </tr>\n",
       "  </thead>\n",
       "  <tbody>\n",
       "    <tr>\n",
       "      <th>StandardConcept.OPERATING_INCOME</th>\n",
       "      <td>NaN</td>\n",
       "      <td>NaN</td>\n",
       "      <td>NaN</td>\n",
       "    </tr>\n",
       "    <tr>\n",
       "      <th>StandardConcept.REVENUE</th>\n",
       "      <td>NaN</td>\n",
       "      <td>NaN</td>\n",
       "      <td>NaN</td>\n",
       "    </tr>\n",
       "  </tbody>\n",
       "</table>\n",
       "</div>"
      ]
     },
     "execution_count": 7,
     "metadata": {},
     "output_type": "execute_result"
    }
   ],
   "execution_count": 7
  },
  {
   "metadata": {},
   "cell_type": "code",
   "outputs": [],
   "execution_count": null,
   "source": "",
   "id": "6d9f53d079532dfd"
  }
 ],
 "metadata": {
  "kernelspec": {
   "display_name": "Python 3",
   "language": "python",
   "name": "python3"
  },
  "language_info": {
   "codemirror_mode": {
    "name": "ipython",
    "version": 2
   },
   "file_extension": ".py",
   "mimetype": "text/x-python",
   "name": "python",
   "nbconvert_exporter": "python",
   "pygments_lexer": "ipython2",
   "version": "2.7.6"
  }
 },
 "nbformat": 4,
 "nbformat_minor": 5
}
