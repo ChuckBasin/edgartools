{
 "cells": [
  {
   "metadata": {},
   "cell_type": "markdown",
   "source": "# Fraud Analysis",
   "id": "ffd26d727ed5d0ec"
  },
  {
   "metadata": {
    "ExecuteTime": {
     "end_time": "2025-03-28T01:14:51.746633Z",
     "start_time": "2025-03-28T01:14:51.722596Z"
    }
   },
   "cell_type": "code",
   "source": [
    "from edgar import *\n",
    "from edgar.xbrl2 import *\n",
    "from edgar.xbrl2.analysis.ratios import *\n",
    "from edgar.xbrl2.analysis.metrics import *\n"
   ],
   "id": "7f96a435b6f3f207",
   "outputs": [],
   "execution_count": 1
  },
  {
   "metadata": {
    "ExecuteTime": {
     "end_time": "2025-03-28T01:14:54.231294Z",
     "start_time": "2025-03-28T01:14:52.763078Z"
    }
   },
   "cell_type": "code",
   "source": [
    "c = Company(\"CMCSA\")\n",
    "filing = c.latest(\"10-K\")\n",
    "xb = XBRL.from_filing(filing)"
   ],
   "id": "75ef07ed5909bd",
   "outputs": [],
   "execution_count": 2
  },
  {
   "metadata": {
    "ExecuteTime": {
     "end_time": "2025-03-28T01:14:55.233240Z",
     "start_time": "2025-03-28T01:14:55.155179Z"
    }
   },
   "cell_type": "code",
   "source": "fr = FinancialRatios(xb)",
   "id": "22d53bdb2c0812df",
   "outputs": [],
   "execution_count": 3
  },
  {
   "metadata": {
    "ExecuteTime": {
     "end_time": "2025-03-28T01:21:40.772702Z",
     "start_time": "2025-03-28T01:21:40.769524Z"
    }
   },
   "cell_type": "code",
   "source": "fr.profitability_ratios()",
   "id": "68069a8a3c33a177",
   "outputs": [
    {
     "data": {
      "text/plain": [
       "{}"
      ]
     },
     "execution_count": 6,
     "metadata": {},
     "output_type": "execute_result"
    }
   ],
   "execution_count": 6
  }
 ],
 "metadata": {
  "kernelspec": {
   "display_name": "Python 3",
   "language": "python",
   "name": "python3"
  },
  "language_info": {
   "codemirror_mode": {
    "name": "ipython",
    "version": 2
   },
   "file_extension": ".py",
   "mimetype": "text/x-python",
   "name": "python",
   "nbconvert_exporter": "python",
   "pygments_lexer": "ipython2",
   "version": "2.7.6"
  }
 },
 "nbformat": 4,
 "nbformat_minor": 5
}
